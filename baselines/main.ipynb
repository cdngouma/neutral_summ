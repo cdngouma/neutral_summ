{
 "cells": [
  {
   "cell_type": "markdown",
   "id": "b8d86bbe-0ab6-472b-8c30-53d935c2d687",
   "metadata": {},
   "source": [
    "This Notebook is used to generate summaries with the baselines models `TextRank` and `GPT2`"
   ]
  },
  {
   "cell_type": "code",
   "execution_count": 1,
   "id": "0a228acc-4fc4-48e9-a9ad-49981b9326c9",
   "metadata": {},
   "outputs": [
    {
     "name": "stderr",
     "output_type": "stream",
     "text": [
      "C:\\Users\\ngoum\\anaconda3\\envs\\dl-env\\lib\\site-packages\\tqdm\\auto.py:22: TqdmWarning: IProgress not found. Please update jupyter and ipywidgets. See https://ipywidgets.readthedocs.io/en/stable/user_install.html\n",
      "  from .autonotebook import tqdm as notebook_tqdm\n"
     ]
    }
   ],
   "source": [
    "import gensim\n",
    "from gensim.summarization.summarizer import summarize as textrank\n",
    "from summarizer import Summarizer, TransformerSummarizer\n",
    "\n",
    "import pandas as pd\n",
    "import re\n",
    "import math"
   ]
  },
  {
   "cell_type": "code",
   "execution_count": 54,
   "id": "62ea4faf-a234-416a-9d70-5c60b8fa5441",
   "metadata": {},
   "outputs": [
    {
     "data": {
      "text/plain": [
       "(3105, 7)"
      ]
     },
     "execution_count": 54,
     "metadata": {},
     "output_type": "execute_result"
    }
   ],
   "source": [
    "raw_data = pd.read_csv(\"./20220420_amazon_reviews_test.csv\")\n",
    "raw_data.shape"
   ]
  },
  {
   "cell_type": "code",
   "execution_count": 55,
   "id": "42a5269a-b9cc-40ca-b1eb-d6a2eb8e060a",
   "metadata": {},
   "outputs": [],
   "source": [
    "raw_data[\"num_sents\"] = raw_data[\"review\"].apply(lambda x: len(re.split(\"[\\.\\!\\?]\", str(x))))"
   ]
  },
  {
   "cell_type": "code",
   "execution_count": 56,
   "id": "26a89859-0535-4940-8266-b5f2a7362f69",
   "metadata": {},
   "outputs": [
    {
     "data": {
      "text/html": [
       "<div>\n",
       "<style scoped>\n",
       "    .dataframe tbody tr th:only-of-type {\n",
       "        vertical-align: middle;\n",
       "    }\n",
       "\n",
       "    .dataframe tbody tr th {\n",
       "        vertical-align: top;\n",
       "    }\n",
       "\n",
       "    .dataframe thead th {\n",
       "        text-align: right;\n",
       "    }\n",
       "</style>\n",
       "<table border=\"1\" class=\"dataframe\">\n",
       "  <thead>\n",
       "    <tr style=\"text-align: right;\">\n",
       "      <th></th>\n",
       "      <th>category</th>\n",
       "      <th>prod_id</th>\n",
       "      <th>rating</th>\n",
       "      <th>polarity</th>\n",
       "      <th>review</th>\n",
       "      <th>review_len</th>\n",
       "      <th>review_id</th>\n",
       "      <th>num_sents</th>\n",
       "    </tr>\n",
       "  </thead>\n",
       "  <tbody>\n",
       "    <tr>\n",
       "      <th>0</th>\n",
       "      <td>Cell_Phones_and_Accessories</td>\n",
       "      <td>B003GLIDRM</td>\n",
       "      <td>1.0</td>\n",
       "      <td>negative</td>\n",
       "      <td>It doesn't work.  The LCD has no back light tr...</td>\n",
       "      <td>30</td>\n",
       "      <td>0</td>\n",
       "      <td>4</td>\n",
       "    </tr>\n",
       "    <tr>\n",
       "      <th>1</th>\n",
       "      <td>Cell_Phones_and_Accessories</td>\n",
       "      <td>B003GLIDRM</td>\n",
       "      <td>5.0</td>\n",
       "      <td>positive</td>\n",
       "      <td>I damaged my LCD screen while replacing a brok...</td>\n",
       "      <td>54</td>\n",
       "      <td>1</td>\n",
       "      <td>5</td>\n",
       "    </tr>\n",
       "    <tr>\n",
       "      <th>2</th>\n",
       "      <td>Cell_Phones_and_Accessories</td>\n",
       "      <td>B003GLIDRM</td>\n",
       "      <td>5.0</td>\n",
       "      <td>positive</td>\n",
       "      <td>I am very pleased with this dealer and their p...</td>\n",
       "      <td>67</td>\n",
       "      <td>2</td>\n",
       "      <td>6</td>\n",
       "    </tr>\n",
       "    <tr>\n",
       "      <th>3</th>\n",
       "      <td>Cell_Phones_and_Accessories</td>\n",
       "      <td>B003GLIDRM</td>\n",
       "      <td>5.0</td>\n",
       "      <td>positive</td>\n",
       "      <td>This LCD works like a champ.  I'm very happy w...</td>\n",
       "      <td>60</td>\n",
       "      <td>3</td>\n",
       "      <td>8</td>\n",
       "    </tr>\n",
       "    <tr>\n",
       "      <th>4</th>\n",
       "      <td>Cell_Phones_and_Accessories</td>\n",
       "      <td>B003GLIDRM</td>\n",
       "      <td>5.0</td>\n",
       "      <td>positive</td>\n",
       "      <td>I ordered this item on July 8th and received i...</td>\n",
       "      <td>35</td>\n",
       "      <td>4</td>\n",
       "      <td>6</td>\n",
       "    </tr>\n",
       "  </tbody>\n",
       "</table>\n",
       "</div>"
      ],
      "text/plain": [
       "                      category     prod_id  rating  polarity  \\\n",
       "0  Cell_Phones_and_Accessories  B003GLIDRM     1.0  negative   \n",
       "1  Cell_Phones_and_Accessories  B003GLIDRM     5.0  positive   \n",
       "2  Cell_Phones_and_Accessories  B003GLIDRM     5.0  positive   \n",
       "3  Cell_Phones_and_Accessories  B003GLIDRM     5.0  positive   \n",
       "4  Cell_Phones_and_Accessories  B003GLIDRM     5.0  positive   \n",
       "\n",
       "                                              review  review_len  review_id  \\\n",
       "0  It doesn't work.  The LCD has no back light tr...          30          0   \n",
       "1  I damaged my LCD screen while replacing a brok...          54          1   \n",
       "2  I am very pleased with this dealer and their p...          67          2   \n",
       "3  This LCD works like a champ.  I'm very happy w...          60          3   \n",
       "4  I ordered this item on July 8th and received i...          35          4   \n",
       "\n",
       "   num_sents  \n",
       "0          4  \n",
       "1          5  \n",
       "2          6  \n",
       "3          8  \n",
       "4          6  "
      ]
     },
     "execution_count": 56,
     "metadata": {},
     "output_type": "execute_result"
    }
   ],
   "source": [
    "raw_data.head()"
   ]
  },
  {
   "cell_type": "code",
   "execution_count": 57,
   "id": "32974879-96e9-4e97-969a-65eaa04f20d3",
   "metadata": {},
   "outputs": [],
   "source": [
    "def concat(arr):\n",
    "    arr = arr.values.flatten().tolist()\n",
    "    text = \"\\n\".join(arr)\n",
    "    return text"
   ]
  },
  {
   "cell_type": "code",
   "execution_count": 58,
   "id": "82b22f90-ad12-43a0-a0cf-4e416b9d5ce1",
   "metadata": {},
   "outputs": [],
   "source": [
    "def count_sentences(arr):\n",
    "    max_sents = 0\n",
    "    num_sents = 0\n",
    "    for s in arr.values.flatten():\n",
    "        num_sents += len(re.split(\"[\\.\\!\\?]\", s))\n",
    "        max_sents = max(max_sents, num_sents)\n",
    "    return num_sents / arr.shape[0] / max_sents"
   ]
  },
  {
   "cell_type": "code",
   "execution_count": 59,
   "id": "4657d65b-e6f6-4a89-aae3-44edbcf0155b",
   "metadata": {},
   "outputs": [],
   "source": [
    "def gpt2_summarizer(corpus, max_length=70):\n",
    "    #corpus = [corpus]\n",
    "    gpt2_model = TransformerSummarizer(transformer_type=\"GPT2\",transformer_model_key=\"gpt2-medium\")\n",
    "    output = gpt2_model(corpus, min_length=15, max_length=max_length)\n",
    "    summary = ''.join(output)\n",
    "    return [summary]"
   ]
  },
  {
   "cell_type": "code",
   "execution_count": 60,
   "id": "ac981999-61d0-4072-8fbd-8f22e13dc1f4",
   "metadata": {},
   "outputs": [],
   "source": [
    "def textrank_summarizer(corpus, word_count=70):\n",
    "    corpus = [corpus]    \n",
    "    lst_summaries = [gensim.summarization.summarizer.summarize(txt, word_count=word_count) for txt in corpus]    \n",
    "    return lst_summaries"
   ]
  },
  {
   "cell_type": "code",
   "execution_count": 61,
   "id": "f9b0d8c6-8217-402f-8dce-4e7fbf54a4bd",
   "metadata": {
    "tags": []
   },
   "outputs": [
    {
     "name": "stderr",
     "output_type": "stream",
     "text": [
      "C:\\Users\\ngoum\\AppData\\Local\\Temp\\ipykernel_99176\\791158695.py:1: FutureWarning: ['review_len'] did not aggregate successfully. If any error is raised this will raise in a future version of pandas. Drop these columns/ops to avoid this warning.\n",
      "  df = raw_data[[\"prod_id\", \"review\", \"review_len\"]].groupby([\"prod_id\"], as_index=False).agg(concat).copy()\n"
     ]
    }
   ],
   "source": [
    "df = raw_data[[\"prod_id\", \"review\", \"review_len\"]].groupby([\"prod_id\"], as_index=False).agg(concat).copy()"
   ]
  },
  {
   "cell_type": "code",
   "execution_count": 62,
   "id": "ca9ef6a4-b899-4a15-9831-555dc13149ef",
   "metadata": {},
   "outputs": [
    {
     "data": {
      "text/html": [
       "<div>\n",
       "<style scoped>\n",
       "    .dataframe tbody tr th:only-of-type {\n",
       "        vertical-align: middle;\n",
       "    }\n",
       "\n",
       "    .dataframe tbody tr th {\n",
       "        vertical-align: top;\n",
       "    }\n",
       "\n",
       "    .dataframe thead th {\n",
       "        text-align: right;\n",
       "    }\n",
       "</style>\n",
       "<table border=\"1\" class=\"dataframe\">\n",
       "  <thead>\n",
       "    <tr style=\"text-align: right;\">\n",
       "      <th></th>\n",
       "      <th>prod_id</th>\n",
       "      <th>review</th>\n",
       "      <th>min_sents</th>\n",
       "      <th>max_sents</th>\n",
       "      <th>avg_sents</th>\n",
       "      <th>min_len</th>\n",
       "      <th>max_len</th>\n",
       "      <th>avg_len</th>\n",
       "    </tr>\n",
       "  </thead>\n",
       "  <tbody>\n",
       "    <tr>\n",
       "      <th>0</th>\n",
       "      <td>B0002VQDVM</td>\n",
       "      <td>It seems strange that Samsung would try so har...</td>\n",
       "      <td>3</td>\n",
       "      <td>15</td>\n",
       "      <td>7.800000</td>\n",
       "      <td>19</td>\n",
       "      <td>190</td>\n",
       "      <td>96.666667</td>\n",
       "    </tr>\n",
       "    <tr>\n",
       "      <th>1</th>\n",
       "      <td>B0009MYS9S</td>\n",
       "      <td>I have used this for only a week on two charge...</td>\n",
       "      <td>3</td>\n",
       "      <td>14</td>\n",
       "      <td>7.200000</td>\n",
       "      <td>14</td>\n",
       "      <td>128</td>\n",
       "      <td>68.600000</td>\n",
       "    </tr>\n",
       "    <tr>\n",
       "      <th>2</th>\n",
       "      <td>B000BI4KKM</td>\n",
       "      <td>I have really enjoyed this headset. I was very...</td>\n",
       "      <td>2</td>\n",
       "      <td>13</td>\n",
       "      <td>6.400000</td>\n",
       "      <td>17</td>\n",
       "      <td>145</td>\n",
       "      <td>64.733333</td>\n",
       "    </tr>\n",
       "    <tr>\n",
       "      <th>3</th>\n",
       "      <td>B000CQFMEQ</td>\n",
       "      <td>Okay the only problem I have with this phone i...</td>\n",
       "      <td>1</td>\n",
       "      <td>13</td>\n",
       "      <td>6.333333</td>\n",
       "      <td>22</td>\n",
       "      <td>186</td>\n",
       "      <td>88.866667</td>\n",
       "    </tr>\n",
       "    <tr>\n",
       "      <th>4</th>\n",
       "      <td>B000FYU4SO</td>\n",
       "      <td>Before this phone, I had only LG, the latest b...</td>\n",
       "      <td>7</td>\n",
       "      <td>27</td>\n",
       "      <td>11.333333</td>\n",
       "      <td>69</td>\n",
       "      <td>199</td>\n",
       "      <td>128.000000</td>\n",
       "    </tr>\n",
       "  </tbody>\n",
       "</table>\n",
       "</div>"
      ],
      "text/plain": [
       "      prod_id                                             review  min_sents  \\\n",
       "0  B0002VQDVM  It seems strange that Samsung would try so har...          3   \n",
       "1  B0009MYS9S  I have used this for only a week on two charge...          3   \n",
       "2  B000BI4KKM  I have really enjoyed this headset. I was very...          2   \n",
       "3  B000CQFMEQ  Okay the only problem I have with this phone i...          1   \n",
       "4  B000FYU4SO  Before this phone, I had only LG, the latest b...          7   \n",
       "\n",
       "   max_sents  avg_sents  min_len  max_len     avg_len  \n",
       "0         15   7.800000       19      190   96.666667  \n",
       "1         14   7.200000       14      128   68.600000  \n",
       "2         13   6.400000       17      145   64.733333  \n",
       "3         13   6.333333       22      186   88.866667  \n",
       "4         27  11.333333       69      199  128.000000  "
      ]
     },
     "execution_count": 62,
     "metadata": {},
     "output_type": "execute_result"
    }
   ],
   "source": [
    "df[\"min_sents\"] = raw_data[[\"prod_id\", \"num_sents\"]].groupby([\"prod_id\"], as_index=False).min()[\"num_sents\"]\n",
    "df[\"max_sents\"] = raw_data[[\"prod_id\", \"num_sents\"]].groupby([\"prod_id\"], as_index=False).max()[\"num_sents\"]\n",
    "df[\"avg_sents\"] = raw_data[[\"prod_id\", \"num_sents\"]].groupby([\"prod_id\"], as_index=False).mean()[\"num_sents\"]\n",
    "df[\"min_len\"] = raw_data[[\"prod_id\", \"review_len\"]].groupby([\"prod_id\"], as_index=False).min()[\"review_len\"]\n",
    "df[\"max_len\"] = raw_data[[\"prod_id\", \"review_len\"]].groupby([\"prod_id\"], as_index=False).max()[\"review_len\"]\n",
    "df[\"avg_len\"] = raw_data[[\"prod_id\", \"review_len\"]].groupby([\"prod_id\"], as_index=False).mean()[\"review_len\"]\n",
    "df.head()"
   ]
  },
  {
   "cell_type": "code",
   "execution_count": 63,
   "id": "24806ef6-47a9-49d6-8b8a-0d74efa0e187",
   "metadata": {},
   "outputs": [],
   "source": [
    "def summarizer(data, method=\"gpt\"):\n",
    "    df = []\n",
    "    for row in data.values:\n",
    "        prod_id = row[0]\n",
    "        text = row[1]\n",
    "        max_len = int(round(row[7], 0))\n",
    "        ratio = row[4] / row[3]\n",
    "        if method == \"textrank\":\n",
    "            summary = textrank_summarizer(corpus=text, word_count=70)\n",
    "        elif method == \"gpt\":\n",
    "            summary = gpt2_summarizer(corpus=text, max_length=70)\n",
    "        num_sents = len(re.split(r\"[\\.\\!\\?]\", summary[0]))\n",
    "        df.append([prod_id, summary[0], num_sents])\n",
    "    df = pd.DataFrame(df, columns=[\"prod_id\", \"summary\", \"num_sents\"])\n",
    "    return df"
   ]
  },
  {
   "cell_type": "code",
   "execution_count": 64,
   "id": "4623a72b-2353-491f-b99f-843165f4aaeb",
   "metadata": {},
   "outputs": [],
   "source": [
    "#df = df[df[\"prod_id\"] == \"B003ZHPWKS\"]\n",
    "#df.head()"
   ]
  },
  {
   "cell_type": "code",
   "execution_count": 65,
   "id": "462afe66-c56c-434c-bdcb-67ec5a77718b",
   "metadata": {
    "tags": []
   },
   "outputs": [],
   "source": [
    "summaries = summarizer(df, method=\"textrank\")"
   ]
  },
  {
   "cell_type": "code",
   "execution_count": 66,
   "id": "4a1f7def-845f-4e39-bb96-70e7c8af3398",
   "metadata": {},
   "outputs": [
    {
     "data": {
      "text/html": [
       "<div>\n",
       "<style scoped>\n",
       "    .dataframe tbody tr th:only-of-type {\n",
       "        vertical-align: middle;\n",
       "    }\n",
       "\n",
       "    .dataframe tbody tr th {\n",
       "        vertical-align: top;\n",
       "    }\n",
       "\n",
       "    .dataframe thead th {\n",
       "        text-align: right;\n",
       "    }\n",
       "</style>\n",
       "<table border=\"1\" class=\"dataframe\">\n",
       "  <thead>\n",
       "    <tr style=\"text-align: right;\">\n",
       "      <th></th>\n",
       "      <th>prod_id</th>\n",
       "      <th>summary</th>\n",
       "      <th>num_sents</th>\n",
       "    </tr>\n",
       "  </thead>\n",
       "  <tbody>\n",
       "    <tr>\n",
       "      <th>0</th>\n",
       "      <td>B0002VQDVM</td>\n",
       "      <td>It seems strange that Samsung would try so har...</td>\n",
       "      <td>7</td>\n",
       "    </tr>\n",
       "    <tr>\n",
       "      <th>1</th>\n",
       "      <td>B0009MYS9S</td>\n",
       "      <td>2nd replacement set cracked after about two we...</td>\n",
       "      <td>6</td>\n",
       "    </tr>\n",
       "    <tr>\n",
       "      <th>2</th>\n",
       "      <td>B000BI4KKM</td>\n",
       "      <td>Good design, especially the earpiece but somet...</td>\n",
       "      <td>6</td>\n",
       "    </tr>\n",
       "    <tr>\n",
       "      <th>3</th>\n",
       "      <td>B000CQFMEQ</td>\n",
       "      <td>The range on this headset is pretty good, I sa...</td>\n",
       "      <td>2</td>\n",
       "    </tr>\n",
       "    <tr>\n",
       "      <th>4</th>\n",
       "      <td>B000FYU4SO</td>\n",
       "      <td>If you don't mind HUGE lies about battery life...</td>\n",
       "      <td>4</td>\n",
       "    </tr>\n",
       "    <tr>\n",
       "      <th>...</th>\n",
       "      <td>...</td>\n",
       "      <td>...</td>\n",
       "      <td>...</td>\n",
       "    </tr>\n",
       "    <tr>\n",
       "      <th>202</th>\n",
       "      <td>B00M179WOU</td>\n",
       "      <td>I really think you need to try this book for y...</td>\n",
       "      <td>3</td>\n",
       "    </tr>\n",
       "    <tr>\n",
       "      <th>203</th>\n",
       "      <td>B00MF8BJQE</td>\n",
       "      <td>Written during a different era when a persons ...</td>\n",
       "      <td>3</td>\n",
       "    </tr>\n",
       "    <tr>\n",
       "      <th>204</th>\n",
       "      <td>B00MN06YDM</td>\n",
       "      <td>And...to know this book is loosely based on Ke...</td>\n",
       "      <td>8</td>\n",
       "    </tr>\n",
       "    <tr>\n",
       "      <th>205</th>\n",
       "      <td>B00MWDIUKU</td>\n",
       "      <td>Very helpful and informative little book.\\nGoo...</td>\n",
       "      <td>7</td>\n",
       "    </tr>\n",
       "    <tr>\n",
       "      <th>206</th>\n",
       "      <td>B00NQ7K284</td>\n",
       "      <td>I do understand that there will be at least 3 ...</td>\n",
       "      <td>11</td>\n",
       "    </tr>\n",
       "  </tbody>\n",
       "</table>\n",
       "<p>207 rows × 3 columns</p>\n",
       "</div>"
      ],
      "text/plain": [
       "        prod_id                                            summary  num_sents\n",
       "0    B0002VQDVM  It seems strange that Samsung would try so har...          7\n",
       "1    B0009MYS9S  2nd replacement set cracked after about two we...          6\n",
       "2    B000BI4KKM  Good design, especially the earpiece but somet...          6\n",
       "3    B000CQFMEQ  The range on this headset is pretty good, I sa...          2\n",
       "4    B000FYU4SO  If you don't mind HUGE lies about battery life...          4\n",
       "..          ...                                                ...        ...\n",
       "202  B00M179WOU  I really think you need to try this book for y...          3\n",
       "203  B00MF8BJQE  Written during a different era when a persons ...          3\n",
       "204  B00MN06YDM  And...to know this book is loosely based on Ke...          8\n",
       "205  B00MWDIUKU  Very helpful and informative little book.\\nGoo...          7\n",
       "206  B00NQ7K284  I do understand that there will be at least 3 ...         11\n",
       "\n",
       "[207 rows x 3 columns]"
      ]
     },
     "execution_count": 66,
     "metadata": {},
     "output_type": "execute_result"
    }
   ],
   "source": [
    "summaries"
   ]
  },
  {
   "cell_type": "code",
   "execution_count": 67,
   "id": "66085e9a-aa78-447d-af80-3b9682bccf9b",
   "metadata": {},
   "outputs": [],
   "source": [
    "summaries.to_csv(\"./textrank_summaries.csv\", index=False)"
   ]
  },
  {
   "cell_type": "code",
   "execution_count": null,
   "id": "63d1ea9f-221d-4990-9b28-aab735bc24bd",
   "metadata": {},
   "outputs": [],
   "source": []
  }
 ],
 "metadata": {
  "kernelspec": {
   "display_name": "dl-env",
   "language": "python",
   "name": "dl-env"
  },
  "language_info": {
   "codemirror_mode": {
    "name": "ipython",
    "version": 3
   },
   "file_extension": ".py",
   "mimetype": "text/x-python",
   "name": "python",
   "nbconvert_exporter": "python",
   "pygments_lexer": "ipython3",
   "version": "3.9.12"
  }
 },
 "nbformat": 4,
 "nbformat_minor": 5
}
