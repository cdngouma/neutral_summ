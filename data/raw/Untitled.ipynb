{
 "cells": [
  {
   "cell_type": "code",
   "execution_count": 1,
   "id": "80545ccf-70b2-41bd-a639-d4fa393a4911",
   "metadata": {},
   "outputs": [],
   "source": [
    "import pandas as pd\n",
    "import numpy as np"
   ]
  },
  {
   "cell_type": "markdown",
   "id": "e3711887-0205-4557-9b07-4c17e8e5badc",
   "metadata": {},
   "source": [
    "Load old data"
   ]
  },
  {
   "cell_type": "code",
   "execution_count": 2,
   "id": "f3c8a21f-0fb7-4ce9-9e73-b23a3e41e9bc",
   "metadata": {},
   "outputs": [],
   "source": [
    "old_train = pd.read_csv(\"./20220420_amazon_reviews_train.csv\")\n",
    "old_valid = pd.read_csv(\"./20220420_amazon_reviews_valid.csv\")\n",
    "old_test = pd.read_csv(\"./20220420_amazon_reviews_test.csv\")"
   ]
  },
  {
   "cell_type": "markdown",
   "id": "aba0a983-7f77-4776-a2d9-a6fc2d9f8bc3",
   "metadata": {},
   "source": [
    "Combine train and valid sets"
   ]
  },
  {
   "cell_type": "code",
   "execution_count": 3,
   "id": "b6bb9a79-de7f-49b4-ad91-87e0716d969a",
   "metadata": {},
   "outputs": [
    {
     "data": {
      "text/plain": [
       "(15115, 7)"
      ]
     },
     "execution_count": 3,
     "metadata": {},
     "output_type": "execute_result"
    }
   ],
   "source": [
    "old_data = pd.concat([old_train, old_valid])\n",
    "old_data.shape"
   ]
  },
  {
   "cell_type": "code",
   "execution_count": 4,
   "id": "dc2df9f3-dbac-43e2-b645-62065cfcbd7f",
   "metadata": {},
   "outputs": [
    {
     "data": {
      "text/html": [
       "<div>\n",
       "<style scoped>\n",
       "    .dataframe tbody tr th:only-of-type {\n",
       "        vertical-align: middle;\n",
       "    }\n",
       "\n",
       "    .dataframe tbody tr th {\n",
       "        vertical-align: top;\n",
       "    }\n",
       "\n",
       "    .dataframe thead th {\n",
       "        text-align: right;\n",
       "    }\n",
       "</style>\n",
       "<table border=\"1\" class=\"dataframe\">\n",
       "  <thead>\n",
       "    <tr style=\"text-align: right;\">\n",
       "      <th></th>\n",
       "      <th>category</th>\n",
       "      <th>prod_id</th>\n",
       "      <th>rating</th>\n",
       "      <th>polarity</th>\n",
       "      <th>review</th>\n",
       "      <th>review_len</th>\n",
       "      <th>review_id</th>\n",
       "    </tr>\n",
       "  </thead>\n",
       "  <tbody>\n",
       "    <tr>\n",
       "      <th>0</th>\n",
       "      <td>AMAZON_FASHION</td>\n",
       "      <td>B001LFP0EO</td>\n",
       "      <td>2.0</td>\n",
       "      <td>negative</td>\n",
       "      <td>The bandit wouldn't stay put...at all.  How co...</td>\n",
       "      <td>88</td>\n",
       "      <td>0</td>\n",
       "    </tr>\n",
       "    <tr>\n",
       "      <th>1</th>\n",
       "      <td>AMAZON_FASHION</td>\n",
       "      <td>B001LFP0EO</td>\n",
       "      <td>5.0</td>\n",
       "      <td>positive</td>\n",
       "      <td>I am wearing my Bandit now. It made my belly g...</td>\n",
       "      <td>39</td>\n",
       "      <td>1</td>\n",
       "    </tr>\n",
       "    <tr>\n",
       "      <th>2</th>\n",
       "      <td>AMAZON_FASHION</td>\n",
       "      <td>B001LFP0EO</td>\n",
       "      <td>1.0</td>\n",
       "      <td>negative</td>\n",
       "      <td>i was so excited to get to order this while i ...</td>\n",
       "      <td>189</td>\n",
       "      <td>2</td>\n",
       "    </tr>\n",
       "    <tr>\n",
       "      <th>3</th>\n",
       "      <td>AMAZON_FASHION</td>\n",
       "      <td>B001LFP0EO</td>\n",
       "      <td>5.0</td>\n",
       "      <td>positive</td>\n",
       "      <td>I was very skeptical about purchasing this but...</td>\n",
       "      <td>144</td>\n",
       "      <td>3</td>\n",
       "    </tr>\n",
       "    <tr>\n",
       "      <th>4</th>\n",
       "      <td>AMAZON_FASHION</td>\n",
       "      <td>B001LFP0EO</td>\n",
       "      <td>1.0</td>\n",
       "      <td>negative</td>\n",
       "      <td>I ordered the XL in the Belly Bandit because t...</td>\n",
       "      <td>112</td>\n",
       "      <td>4</td>\n",
       "    </tr>\n",
       "  </tbody>\n",
       "</table>\n",
       "</div>"
      ],
      "text/plain": [
       "         category     prod_id  rating  polarity  \\\n",
       "0  AMAZON_FASHION  B001LFP0EO     2.0  negative   \n",
       "1  AMAZON_FASHION  B001LFP0EO     5.0  positive   \n",
       "2  AMAZON_FASHION  B001LFP0EO     1.0  negative   \n",
       "3  AMAZON_FASHION  B001LFP0EO     5.0  positive   \n",
       "4  AMAZON_FASHION  B001LFP0EO     1.0  negative   \n",
       "\n",
       "                                              review  review_len  review_id  \n",
       "0  The bandit wouldn't stay put...at all.  How co...          88          0  \n",
       "1  I am wearing my Bandit now. It made my belly g...          39          1  \n",
       "2  i was so excited to get to order this while i ...         189          2  \n",
       "3  I was very skeptical about purchasing this but...         144          3  \n",
       "4  I ordered the XL in the Belly Bandit because t...         112          4  "
      ]
     },
     "execution_count": 4,
     "metadata": {},
     "output_type": "execute_result"
    }
   ],
   "source": [
    "old_data.head()"
   ]
  },
  {
   "cell_type": "code",
   "execution_count": 5,
   "id": "11a92fb6-9f00-4eb8-8d6c-4e609d2fd76e",
   "metadata": {},
   "outputs": [
    {
     "data": {
      "text/plain": [
       "Software                      962\n",
       "Home_and_Kitchen              920\n",
       "Patio_Lawn_and_Garden         905\n",
       "Pet_Supplies                  862\n",
       "Sports_and_Outdoors           860\n",
       "Musical_Instruments           858\n",
       "Tools_and_Home_Improvement    854\n",
       "Books                         847\n",
       "Electronics                   815\n",
       "Arts_Crafts_and_Sewing        807\n",
       "Automotive                    803\n",
       "All_Beauty                    802\n",
       "Industrial_and_Scientific     801\n",
       "Office_Products               800\n",
       "CDs_and_Vinyl                 563\n",
       "Grocery_and_Gourmet_Food      539\n",
       "AMAZON_FASHION                352\n",
       "Luxury_Beauty                 306\n",
       "Prime_Pantry                  303\n",
       "Clothing_Shoes_and_Jewelry    276\n",
       "Toys_and_Games                254\n",
       "Video_Games                   229\n",
       "Movies_and_TV                 224\n",
       "Appliances                    173\n",
       "Name: category, dtype: int64"
      ]
     },
     "execution_count": 5,
     "metadata": {},
     "output_type": "execute_result"
    }
   ],
   "source": [
    "old_data[\"category\"].value_counts()"
   ]
  },
  {
   "cell_type": "markdown",
   "id": "3657b75d-3d9d-42ca-8c83-997aeb093f0b",
   "metadata": {},
   "source": [
    "Extract few categories"
   ]
  },
  {
   "cell_type": "code",
   "execution_count": 6,
   "id": "7d7efa3f-d2a6-494e-a222-82052f9228f4",
   "metadata": {},
   "outputs": [
    {
     "data": {
      "text/plain": [
       "(2626, 7)"
      ]
     },
     "execution_count": 6,
     "metadata": {},
     "output_type": "execute_result"
    }
   ],
   "source": [
    "old_data = old_data.loc[old_data[\"category\"].apply(lambda x: str(x) in [\"Software\", \"Pet_Supplies\", \"All_Beauty\"])]\n",
    "old_data.shape"
   ]
  },
  {
   "cell_type": "markdown",
   "id": "2e04dd8e-7171-4016-bc3e-e7b4cf248701",
   "metadata": {},
   "source": [
    "Load new data"
   ]
  },
  {
   "cell_type": "code",
   "execution_count": 7,
   "id": "aa385cbe-8687-4dad-ab09-80412efc6766",
   "metadata": {},
   "outputs": [],
   "source": [
    "new_train = pd.read_csv(\"./20221204_amazon_reviews_train.csv\")\n",
    "new_valid = pd.read_csv(\"./20221204_amazon_reviews_valid.csv\")"
   ]
  },
  {
   "cell_type": "markdown",
   "id": "7d595744-4311-4d9e-8cb3-727cb12f25f8",
   "metadata": {},
   "source": [
    "Combine train and valid sets"
   ]
  },
  {
   "cell_type": "code",
   "execution_count": 8,
   "id": "1f09c5ae-e87a-492e-932f-9c048316a502",
   "metadata": {},
   "outputs": [
    {
     "data": {
      "text/plain": [
       "(17376, 7)"
      ]
     },
     "execution_count": 8,
     "metadata": {},
     "output_type": "execute_result"
    }
   ],
   "source": [
    "new_data = pd.concat([new_train, new_valid])\n",
    "new_data.shape"
   ]
  },
  {
   "cell_type": "code",
   "execution_count": 9,
   "id": "3cb980b7-6a87-4e66-a127-0982fff92d4c",
   "metadata": {},
   "outputs": [
    {
     "data": {
      "text/html": [
       "<div>\n",
       "<style scoped>\n",
       "    .dataframe tbody tr th:only-of-type {\n",
       "        vertical-align: middle;\n",
       "    }\n",
       "\n",
       "    .dataframe tbody tr th {\n",
       "        vertical-align: top;\n",
       "    }\n",
       "\n",
       "    .dataframe thead th {\n",
       "        text-align: right;\n",
       "    }\n",
       "</style>\n",
       "<table border=\"1\" class=\"dataframe\">\n",
       "  <thead>\n",
       "    <tr style=\"text-align: right;\">\n",
       "      <th></th>\n",
       "      <th>category</th>\n",
       "      <th>prod_id</th>\n",
       "      <th>rating</th>\n",
       "      <th>polarity</th>\n",
       "      <th>review</th>\n",
       "      <th>review_len</th>\n",
       "      <th>review_id</th>\n",
       "    </tr>\n",
       "  </thead>\n",
       "  <tbody>\n",
       "    <tr>\n",
       "      <th>0</th>\n",
       "      <td>Cell_Phones_and_Accessories</td>\n",
       "      <td>B00009PGN0</td>\n",
       "      <td>4.0</td>\n",
       "      <td>positive</td>\n",
       "      <td>I just got this, so maybe I haven't given it a...</td>\n",
       "      <td>104</td>\n",
       "      <td>0</td>\n",
       "    </tr>\n",
       "    <tr>\n",
       "      <th>1</th>\n",
       "      <td>Cell_Phones_and_Accessories</td>\n",
       "      <td>B00009PGN0</td>\n",
       "      <td>3.0</td>\n",
       "      <td>neutral</td>\n",
       "      <td>this is not really an out standing phone.that ...</td>\n",
       "      <td>36</td>\n",
       "      <td>1</td>\n",
       "    </tr>\n",
       "    <tr>\n",
       "      <th>2</th>\n",
       "      <td>Cell_Phones_and_Accessories</td>\n",
       "      <td>B00009PGN0</td>\n",
       "      <td>5.0</td>\n",
       "      <td>positive</td>\n",
       "      <td>my dad and grandfather have this phone have th...</td>\n",
       "      <td>162</td>\n",
       "      <td>2</td>\n",
       "    </tr>\n",
       "    <tr>\n",
       "      <th>3</th>\n",
       "      <td>Cell_Phones_and_Accessories</td>\n",
       "      <td>B00009PGN0</td>\n",
       "      <td>2.0</td>\n",
       "      <td>negative</td>\n",
       "      <td>I've had this phone for an extremely unfortuna...</td>\n",
       "      <td>97</td>\n",
       "      <td>3</td>\n",
       "    </tr>\n",
       "    <tr>\n",
       "      <th>4</th>\n",
       "      <td>Cell_Phones_and_Accessories</td>\n",
       "      <td>B00009PGN0</td>\n",
       "      <td>1.0</td>\n",
       "      <td>negative</td>\n",
       "      <td>I had this phone for about 5 days before I wan...</td>\n",
       "      <td>87</td>\n",
       "      <td>4</td>\n",
       "    </tr>\n",
       "  </tbody>\n",
       "</table>\n",
       "</div>"
      ],
      "text/plain": [
       "                      category     prod_id  rating  polarity  \\\n",
       "0  Cell_Phones_and_Accessories  B00009PGN0     4.0  positive   \n",
       "1  Cell_Phones_and_Accessories  B00009PGN0     3.0   neutral   \n",
       "2  Cell_Phones_and_Accessories  B00009PGN0     5.0  positive   \n",
       "3  Cell_Phones_and_Accessories  B00009PGN0     2.0  negative   \n",
       "4  Cell_Phones_and_Accessories  B00009PGN0     1.0  negative   \n",
       "\n",
       "                                              review  review_len  review_id  \n",
       "0  I just got this, so maybe I haven't given it a...         104          0  \n",
       "1  this is not really an out standing phone.that ...          36          1  \n",
       "2  my dad and grandfather have this phone have th...         162          2  \n",
       "3  I've had this phone for an extremely unfortuna...          97          3  \n",
       "4  I had this phone for about 5 days before I wan...          87          4  "
      ]
     },
     "execution_count": 9,
     "metadata": {},
     "output_type": "execute_result"
    }
   ],
   "source": [
    "new_data.head()"
   ]
  },
  {
   "cell_type": "markdown",
   "id": "5e6aec9e-cfbb-4a4e-a837-ad1dbf48193a",
   "metadata": {},
   "source": [
    "Identify old test data prod_id"
   ]
  },
  {
   "cell_type": "code",
   "execution_count": 10,
   "id": "98e65674-fe12-4637-87e2-9a6b5d247755",
   "metadata": {},
   "outputs": [],
   "source": [
    "old_test_pid = old_test[\"prod_id\"].unique()"
   ]
  },
  {
   "cell_type": "markdown",
   "id": "c0035c66-5ffe-4c73-a5bb-e2bbaefbc684",
   "metadata": {},
   "source": [
    "Remove old test prod_ids from new_data"
   ]
  },
  {
   "cell_type": "code",
   "execution_count": 11,
   "id": "f6f2f624-1bb8-4e19-bef1-bc1ddba2a6b3",
   "metadata": {},
   "outputs": [
    {
     "data": {
      "text/plain": [
       "(11490, 7)"
      ]
     },
     "execution_count": 11,
     "metadata": {},
     "output_type": "execute_result"
    }
   ],
   "source": [
    "new_data = new_data[new_data[\"prod_id\"].apply(lambda x: str(x) not in old_test_pid)]\n",
    "new_data.shape"
   ]
  },
  {
   "cell_type": "markdown",
   "id": "5878e80d-7925-4f01-8f70-6e7d4d59eb2d",
   "metadata": {},
   "source": [
    "Combine old and new data"
   ]
  },
  {
   "cell_type": "code",
   "execution_count": 12,
   "id": "b729192f-7661-4084-9dd4-423eafad6e10",
   "metadata": {},
   "outputs": [
    {
     "data": {
      "text/plain": [
       "(14116, 7)"
      ]
     },
     "execution_count": 12,
     "metadata": {},
     "output_type": "execute_result"
    }
   ],
   "source": [
    "data = pd.concat([old_data, new_data])\n",
    "data.shape"
   ]
  },
  {
   "cell_type": "code",
   "execution_count": 21,
   "id": "6d82f37a-9273-4a0d-89a6-e97bb329365d",
   "metadata": {},
   "outputs": [
    {
     "data": {
      "text/plain": [
       "0.18603003683763106"
      ]
     },
     "execution_count": 21,
     "metadata": {},
     "output_type": "execute_result"
    }
   ],
   "source": [
    "(962+862+802) / data.shape[0]"
   ]
  },
  {
   "cell_type": "markdown",
   "id": "1eeef053-4d98-4fda-bfc9-ac1283b2f238",
   "metadata": {},
   "source": [
    "Show stats"
   ]
  },
  {
   "cell_type": "code",
   "execution_count": 13,
   "id": "fb03d428-7da6-4806-a952-40f51401fc5d",
   "metadata": {},
   "outputs": [
    {
     "data": {
      "text/plain": [
       "Cell_Phones_and_Accessories    7098\n",
       "Kindle_Store                   4392\n",
       "Software                        962\n",
       "Pet_Supplies                    862\n",
       "All_Beauty                      802\n",
       "Name: category, dtype: int64"
      ]
     },
     "execution_count": 13,
     "metadata": {},
     "output_type": "execute_result"
    }
   ],
   "source": [
    "data[\"category\"].value_counts()"
   ]
  },
  {
   "cell_type": "markdown",
   "id": "9407e72e-4f66-472a-9399-1b94a5595fb4",
   "metadata": {},
   "source": [
    "Split into train and valid sets"
   ]
  },
  {
   "cell_type": "code",
   "execution_count": 22,
   "id": "34bd545c-6486-4693-925e-3e8fcb8cab4c",
   "metadata": {},
   "outputs": [
    {
     "data": {
      "text/plain": [
       "((11096, 7), (3020, 7))"
      ]
     },
     "execution_count": 22,
     "metadata": {},
     "output_type": "execute_result"
    }
   ],
   "source": [
    "train = None\n",
    "valid = None\n",
    "for catg in data[\"category\"].unique():\n",
    "    prod_ids = pd.Series(data.loc[data[\"category\"] == catg, \"prod_id\"].unique()).to_frame().sample(frac=1).values.flatten()\n",
    "    size = prod_ids.shape[0]\n",
    "    valid_revs = data.loc[data[\"prod_id\"].apply(lambda x: str(x) in prod_ids[:int(np.ceil(size*0.2))])]\n",
    "    train_revs = data.loc[data[\"prod_id\"].apply(lambda x: str(x) in prod_ids[int(np.ceil(size*0.2)):])]\n",
    "    assert valid_revs[\"prod_id\"].unique().shape[0] + train_revs[\"prod_id\"].unique().shape[0] == size\n",
    "    train = pd.concat([train, train_revs])\n",
    "    valid = pd.concat([valid, valid_revs])\n",
    "\n",
    "train.shape, valid.shape"
   ]
  },
  {
   "cell_type": "code",
   "execution_count": 23,
   "id": "b7c6c890-a164-4082-963e-3aae44d8a080",
   "metadata": {},
   "outputs": [
    {
     "data": {
      "text/html": [
       "<div>\n",
       "<style scoped>\n",
       "    .dataframe tbody tr th:only-of-type {\n",
       "        vertical-align: middle;\n",
       "    }\n",
       "\n",
       "    .dataframe tbody tr th {\n",
       "        vertical-align: top;\n",
       "    }\n",
       "\n",
       "    .dataframe thead th {\n",
       "        text-align: right;\n",
       "    }\n",
       "</style>\n",
       "<table border=\"1\" class=\"dataframe\">\n",
       "  <thead>\n",
       "    <tr style=\"text-align: right;\">\n",
       "      <th></th>\n",
       "      <th>category</th>\n",
       "      <th>prod_id</th>\n",
       "      <th>rating</th>\n",
       "      <th>polarity</th>\n",
       "      <th>review</th>\n",
       "      <th>review_len</th>\n",
       "      <th>review_id</th>\n",
       "    </tr>\n",
       "  </thead>\n",
       "  <tbody>\n",
       "    <tr>\n",
       "      <th>281</th>\n",
       "      <td>All_Beauty</td>\n",
       "      <td>B005U5KU46</td>\n",
       "      <td>5.0</td>\n",
       "      <td>positive</td>\n",
       "      <td>These are very thin, pull off easily without r...</td>\n",
       "      <td>45</td>\n",
       "      <td>0</td>\n",
       "    </tr>\n",
       "    <tr>\n",
       "      <th>282</th>\n",
       "      <td>All_Beauty</td>\n",
       "      <td>B005U5KU46</td>\n",
       "      <td>1.0</td>\n",
       "      <td>negative</td>\n",
       "      <td>sweat went right thought within almost 2 hrs o...</td>\n",
       "      <td>14</td>\n",
       "      <td>1</td>\n",
       "    </tr>\n",
       "    <tr>\n",
       "      <th>283</th>\n",
       "      <td>All_Beauty</td>\n",
       "      <td>B005U5KU46</td>\n",
       "      <td>2.0</td>\n",
       "      <td>negative</td>\n",
       "      <td>So far they haven't really worked - won't stic...</td>\n",
       "      <td>15</td>\n",
       "      <td>2</td>\n",
       "    </tr>\n",
       "    <tr>\n",
       "      <th>284</th>\n",
       "      <td>All_Beauty</td>\n",
       "      <td>B005U5KU46</td>\n",
       "      <td>5.0</td>\n",
       "      <td>positive</td>\n",
       "      <td>I have tried several brands of shields, and mo...</td>\n",
       "      <td>46</td>\n",
       "      <td>3</td>\n",
       "    </tr>\n",
       "    <tr>\n",
       "      <th>285</th>\n",
       "      <td>All_Beauty</td>\n",
       "      <td>B005U5KU46</td>\n",
       "      <td>1.0</td>\n",
       "      <td>negative</td>\n",
       "      <td>They do not stick well to the fabric. Bunch up...</td>\n",
       "      <td>12</td>\n",
       "      <td>4</td>\n",
       "    </tr>\n",
       "  </tbody>\n",
       "</table>\n",
       "</div>"
      ],
      "text/plain": [
       "       category     prod_id  rating  polarity  \\\n",
       "281  All_Beauty  B005U5KU46     5.0  positive   \n",
       "282  All_Beauty  B005U5KU46     1.0  negative   \n",
       "283  All_Beauty  B005U5KU46     2.0  negative   \n",
       "284  All_Beauty  B005U5KU46     5.0  positive   \n",
       "285  All_Beauty  B005U5KU46     1.0  negative   \n",
       "\n",
       "                                                review  review_len  review_id  \n",
       "281  These are very thin, pull off easily without r...          45          0  \n",
       "282  sweat went right thought within almost 2 hrs o...          14          1  \n",
       "283  So far they haven't really worked - won't stic...          15          2  \n",
       "284  I have tried several brands of shields, and mo...          46          3  \n",
       "285  They do not stick well to the fabric. Bunch up...          12          4  "
      ]
     },
     "execution_count": 23,
     "metadata": {},
     "output_type": "execute_result"
    }
   ],
   "source": [
    "train.head()"
   ]
  },
  {
   "cell_type": "code",
   "execution_count": 24,
   "id": "fcd530e7-89e6-4267-a8c7-030a40fa9bc5",
   "metadata": {},
   "outputs": [
    {
     "data": {
      "text/html": [
       "<div>\n",
       "<style scoped>\n",
       "    .dataframe tbody tr th:only-of-type {\n",
       "        vertical-align: middle;\n",
       "    }\n",
       "\n",
       "    .dataframe tbody tr th {\n",
       "        vertical-align: top;\n",
       "    }\n",
       "\n",
       "    .dataframe thead th {\n",
       "        text-align: right;\n",
       "    }\n",
       "</style>\n",
       "<table border=\"1\" class=\"dataframe\">\n",
       "  <thead>\n",
       "    <tr style=\"text-align: right;\">\n",
       "      <th></th>\n",
       "      <th>category</th>\n",
       "      <th>prod_id</th>\n",
       "      <th>rating</th>\n",
       "      <th>polarity</th>\n",
       "      <th>review</th>\n",
       "      <th>review_len</th>\n",
       "      <th>review_id</th>\n",
       "    </tr>\n",
       "  </thead>\n",
       "  <tbody>\n",
       "    <tr>\n",
       "      <th>323</th>\n",
       "      <td>All_Beauty</td>\n",
       "      <td>B00G6S8UY8</td>\n",
       "      <td>4.0</td>\n",
       "      <td>positive</td>\n",
       "      <td>Great fun product.  Looking forward to the nex...</td>\n",
       "      <td>16</td>\n",
       "      <td>0</td>\n",
       "    </tr>\n",
       "    <tr>\n",
       "      <th>324</th>\n",
       "      <td>All_Beauty</td>\n",
       "      <td>B00G6S8UY8</td>\n",
       "      <td>1.0</td>\n",
       "      <td>negative</td>\n",
       "      <td>What a waste of money..this product is waaaaay...</td>\n",
       "      <td>114</td>\n",
       "      <td>1</td>\n",
       "    </tr>\n",
       "    <tr>\n",
       "      <th>325</th>\n",
       "      <td>All_Beauty</td>\n",
       "      <td>B00G6S8UY8</td>\n",
       "      <td>2.0</td>\n",
       "      <td>negative</td>\n",
       "      <td>I wouldn't recommend this product.  It's just ...</td>\n",
       "      <td>13</td>\n",
       "      <td>2</td>\n",
       "    </tr>\n",
       "    <tr>\n",
       "      <th>326</th>\n",
       "      <td>All_Beauty</td>\n",
       "      <td>B00G6S8UY8</td>\n",
       "      <td>2.0</td>\n",
       "      <td>negative</td>\n",
       "      <td>pens work beautifull, but  after 3 days someti...</td>\n",
       "      <td>38</td>\n",
       "      <td>3</td>\n",
       "    </tr>\n",
       "    <tr>\n",
       "      <th>327</th>\n",
       "      <td>All_Beauty</td>\n",
       "      <td>B00G6S8UY8</td>\n",
       "      <td>2.0</td>\n",
       "      <td>negative</td>\n",
       "      <td>I was disappointed with these. They're basical...</td>\n",
       "      <td>39</td>\n",
       "      <td>4</td>\n",
       "    </tr>\n",
       "  </tbody>\n",
       "</table>\n",
       "</div>"
      ],
      "text/plain": [
       "       category     prod_id  rating  polarity  \\\n",
       "323  All_Beauty  B00G6S8UY8     4.0  positive   \n",
       "324  All_Beauty  B00G6S8UY8     1.0  negative   \n",
       "325  All_Beauty  B00G6S8UY8     2.0  negative   \n",
       "326  All_Beauty  B00G6S8UY8     2.0  negative   \n",
       "327  All_Beauty  B00G6S8UY8     2.0  negative   \n",
       "\n",
       "                                                review  review_len  review_id  \n",
       "323  Great fun product.  Looking forward to the nex...          16          0  \n",
       "324  What a waste of money..this product is waaaaay...         114          1  \n",
       "325  I wouldn't recommend this product.  It's just ...          13          2  \n",
       "326  pens work beautifull, but  after 3 days someti...          38          3  \n",
       "327  I was disappointed with these. They're basical...          39          4  "
      ]
     },
     "execution_count": 24,
     "metadata": {},
     "output_type": "execute_result"
    }
   ],
   "source": [
    "valid.head()"
   ]
  },
  {
   "cell_type": "markdown",
   "id": "6b258b3b-b2bc-44f7-8b77-b5165479b704",
   "metadata": {},
   "source": [
    "Save data"
   ]
  },
  {
   "cell_type": "code",
   "execution_count": 28,
   "id": "0fefeb45-75cf-49eb-8235-7683d2cd594e",
   "metadata": {},
   "outputs": [],
   "source": [
    "train.to_csv(\"./20221204_amazon_reviews_train.csv\", index=False)\n",
    "valid.to_csv(\"./20221204_amazon_reviews_valid.csv\", index=False)\n",
    "old_test.to_csv(\"./20221204_amazon_reviews_test.csv\", index=False)"
   ]
  },
  {
   "cell_type": "code",
   "execution_count": null,
   "id": "a9c3ef66-ca9e-4a22-b8f9-95486c4583b0",
   "metadata": {},
   "outputs": [],
   "source": []
  }
 ],
 "metadata": {
  "kernelspec": {
   "display_name": "dl-env",
   "language": "python",
   "name": "dl-env"
  },
  "language_info": {
   "codemirror_mode": {
    "name": "ipython",
    "version": 3
   },
   "file_extension": ".py",
   "mimetype": "text/x-python",
   "name": "python",
   "nbconvert_exporter": "python",
   "pygments_lexer": "ipython3",
   "version": "3.9.12"
  }
 },
 "nbformat": 4,
 "nbformat_minor": 5
}
