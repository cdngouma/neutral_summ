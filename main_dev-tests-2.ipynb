{
 "cells": [
  {
   "cell_type": "code",
   "execution_count": 1,
   "id": "5608fe95-87a4-445a-b0f1-dbb6af3f4bb1",
   "metadata": {},
   "outputs": [
    {
     "name": "stderr",
     "output_type": "stream",
     "text": [
      "C:\\Users\\ngoum\\anaconda3\\envs\\dl-env\\lib\\site-packages\\tqdm\\auto.py:22: TqdmWarning: IProgress not found. Please update jupyter and ipywidgets. See https://ipywidgets.readthedocs.io/en/stable/user_install.html\n",
      "  from .autonotebook import tqdm as notebook_tqdm\n"
     ]
    }
   ],
   "source": [
    "import pandas as pd\n",
    "import time\n",
    "\n",
    "#Personnalized libraries\n",
    "from configs.config import DatasetConfig, HP\n",
    "from data.DataLoader import build_dataloader\n",
    "from utils.Errors import loss_estimation\n",
    "from Procedures import Procedure\n",
    "from model.lm import LanguageModel\n",
    "from torch.utils.tensorboard import SummaryWriter\n",
    "\n",
    "ds_config = DatasetConfig()\n",
    "hp = HP()"
   ]
  },
  {
   "cell_type": "markdown",
   "id": "4590504c-ddf7-46d1-8f44-f55ea62fa2b4",
   "metadata": {},
   "source": [
    "# Build DataLoaders"
   ]
  },
  {
   "cell_type": "code",
   "execution_count": 2,
   "id": "6d28cdb4-43d1-4a0d-a3c6-0642369846fe",
   "metadata": {},
   "outputs": [
    {
     "name": "stderr",
     "output_type": "stream",
     "text": [
      "Loading data: 100%|█████████████████████████████████████████████████████████████████| 40/40 [00:00<00:00, 202.64item/s]\n"
     ]
    },
    {
     "name": "stdout",
     "output_type": "stream",
     "text": [
      "135 (6.32%) duplicated reviews added.\n",
      "11 imbalanced batches found.\n"
     ]
    },
    {
     "name": "stderr",
     "output_type": "stream",
     "text": [
      "Build vocabulary: 100%|███████████████████████████████████████████████████████████| 2272/2272 [00:19<00:00, 114.95it/s]"
     ]
    },
    {
     "name": "stdout",
     "output_type": "stream",
     "text": [
      "Vocabulary size: 8677\n"
     ]
    },
    {
     "name": "stderr",
     "output_type": "stream",
     "text": [
      "\n"
     ]
    },
    {
     "data": {
      "text/plain": [
       "284"
      ]
     },
     "execution_count": 2,
     "metadata": {},
     "output_type": "execute_result"
    }
   ],
   "source": [
    "# instanciate dataloader for train, valid and test\n",
    "train_iter, vocab, _ = build_dataloader(\n",
    "    file_path=ds_config.train_data, \n",
    "    vocab_size=ds_config.vocab_size,\n",
    "    vocab_min_freq=ds_config.min_freq,\n",
    "    vocab=None,\n",
    "    is_train=True,\n",
    "    shuffle_batch=False,\n",
    "    max_num_reviews=ds_config.max_num_reviews,\n",
    "    refs_path=None,\n",
    "    max_len_rev=ds_config.max_len_rev,\n",
    "    pin_memory=ds_config.pin_memory,\n",
    "    num_workers=ds_config.workers,\n",
    "    batch_size=ds_config.batch_size,\n",
    "    device=ds_config.device\n",
    ")\n",
    "\n",
    "train_size = len(train_iter)\n",
    "train_size"
   ]
  },
  {
   "cell_type": "code",
   "execution_count": 3,
   "id": "c2508f8c-49ac-43a7-9dd3-e55b2352919f",
   "metadata": {
    "tags": []
   },
   "outputs": [
    {
     "name": "stderr",
     "output_type": "stream",
     "text": [
      "Loading data: 100%|█████████████████████████████████████████████████████████████████| 10/10 [00:00<00:00, 146.55item/s]\n"
     ]
    },
    {
     "name": "stdout",
     "output_type": "stream",
     "text": [
      "43 (5.87%) duplicated reviews added.\n",
      "4 imbalanced batches found.\n"
     ]
    },
    {
     "data": {
      "text/plain": [
       "97"
      ]
     },
     "execution_count": 3,
     "metadata": {},
     "output_type": "execute_result"
    }
   ],
   "source": [
    "valid_iter, _, valid_references = build_dataloader(\n",
    "    file_path=ds_config.valid_data, \n",
    "    vocab_size=ds_config.vocab_size,\n",
    "    vocab_min_freq=ds_config.min_freq,\n",
    "    vocab=vocab,\n",
    "    is_train=False,\n",
    "    shuffle_batch=False,\n",
    "    max_num_reviews=ds_config.max_num_reviews,\n",
    "    refs_path=None,\n",
    "    max_len_rev=ds_config.max_len_rev,\n",
    "    pin_memory=ds_config.pin_memory,\n",
    "    num_workers=ds_config.workers,\n",
    "    batch_size=ds_config.batch_size,\n",
    "    device=ds_config.device\n",
    ")\n",
    "\n",
    "valid_size = len(valid_iter)\n",
    "valid_size"
   ]
  },
  {
   "cell_type": "code",
   "execution_count": 4,
   "id": "2d44b76e-df89-4172-a8dd-b871d2347047",
   "metadata": {
    "tags": []
   },
   "outputs": [
    {
     "name": "stderr",
     "output_type": "stream",
     "text": [
      "Loading data: 100%|██████████████████████████████████████████████████████████████| 207/207 [00:00<00:00, 1403.24item/s]\n"
     ]
    },
    {
     "name": "stdout",
     "output_type": "stream",
     "text": [
      "0 (0.00%) duplicated reviews added.\n",
      "0 imbalanced batches found.\n"
     ]
    },
    {
     "data": {
      "text/plain": [
       "207"
      ]
     },
     "execution_count": 4,
     "metadata": {},
     "output_type": "execute_result"
    }
   ],
   "source": [
    "test_iter, _, test_references = build_dataloader(\n",
    "    file_path=ds_config.test_data, \n",
    "    vocab_size=ds_config.vocab_size,\n",
    "    vocab_min_freq=ds_config.min_freq,\n",
    "    vocab=vocab,\n",
    "    is_train=False,\n",
    "    shuffle_batch=False,\n",
    "    max_num_reviews=15,#ds_config.max_num_reviews,\n",
    "    refs_path=None,\n",
    "    max_len_rev=ds_config.max_len_rev,\n",
    "    pin_memory=ds_config.pin_memory,\n",
    "    num_workers=ds_config.workers,\n",
    "    batch_size=ds_config.batch_size,\n",
    "    device=ds_config.device\n",
    ")\n",
    "\n",
    "test_size = len(test_iter)\n",
    "test_size"
   ]
  },
  {
   "cell_type": "markdown",
   "id": "362083f8-b6c8-48c1-b085-d330dd22ad14",
   "metadata": {},
   "source": [
    "# Train Model"
   ]
  },
  {
   "cell_type": "code",
   "execution_count": 16,
   "id": "312cfa25-5579-4fae-b20f-d938e54003e1",
   "metadata": {},
   "outputs": [
    {
     "name": "stdout",
     "output_type": "stream",
     "text": [
      "The autoreload extension is already loaded. To reload it, use:\n",
      "  %reload_ext autoreload\n"
     ]
    }
   ],
   "source": [
    "%load_ext autoreload\n",
    "%autoreload 2"
   ]
  },
  {
   "cell_type": "code",
   "execution_count": 17,
   "id": "a497f2bc-09e6-42ca-b12d-c6cbc3f1f46a",
   "metadata": {},
   "outputs": [],
   "source": [
    "from Procedures import Procedure\n",
    "from model.lm import LanguageModel\n",
    "from configs.config import DatasetConfig, HP\n",
    "\n",
    "ds_config = DatasetConfig()\n",
    "hp = HP()"
   ]
  },
  {
   "cell_type": "code",
   "execution_count": 18,
   "id": "f5c2e4de-4085-4378-9d13-9b6ffa0707b8",
   "metadata": {},
   "outputs": [],
   "source": [
    "from configs.config import follow"
   ]
  },
  {
   "cell_type": "code",
   "execution_count": 19,
   "id": "cfbfc62c-8f65-4538-9b85-793d83bcd6c0",
   "metadata": {},
   "outputs": [],
   "source": [
    "comment = follow[\"Name\"]\n",
    "writer = SummaryWriter(comment=comment)"
   ]
  },
  {
   "cell_type": "code",
   "execution_count": 20,
   "id": "fd77c0d8-c299-4a0b-a328-971ce79dd5b2",
   "metadata": {},
   "outputs": [],
   "source": [
    "procedure = Procedure(vocab, writer=writer, train_ter=train_iter, valid_iter=valid_iter)"
   ]
  },
  {
   "cell_type": "markdown",
   "id": "992860f9-de29-43da-b696-6a35eb503170",
   "metadata": {},
   "source": [
    "### Train the Language model"
   ]
  },
  {
   "cell_type": "code",
   "execution_count": 16,
   "id": "2d5f6fed-7757-493b-8ce4-03f3498357f1",
   "metadata": {
    "collapsed": true,
    "jupyter": {
     "outputs_hidden": true
    },
    "tags": []
   },
   "outputs": [
    {
     "name": "stdout",
     "output_type": "stream",
     "text": [
      "Training Language Model for 300 epochs...\n"
     ]
    },
    {
     "name": "stderr",
     "output_type": "stream",
     "text": [
      "100%|███████████████████████████████████████████████████████████████████████████| 1469/1469 [18:43<00:00,  1.31batch/s]\n",
      "100%|█████████████████████████████████████████████████████████████████████████████| 395/395 [02:05<00:00,  3.14batch/s]\n"
     ]
    },
    {
     "name": "stdout",
     "output_type": "stream",
     "text": [
      "| Epoch: 001 | Train loss: 0.682 | Valid loss: 0.668 | time: 1249.95s'\n"
     ]
    },
    {
     "name": "stderr",
     "output_type": "stream",
     "text": [
      "100%|███████████████████████████████████████████████████████████████████████████| 1469/1469 [21:48<00:00,  1.12batch/s]\n",
      "100%|█████████████████████████████████████████████████████████████████████████████| 395/395 [02:03<00:00,  3.20batch/s]\n"
     ]
    },
    {
     "name": "stdout",
     "output_type": "stream",
     "text": [
      "| Epoch: 002 | Train loss: 0.679 | Valid loss: 0.672 | time: 1432.33s'\n"
     ]
    },
    {
     "name": "stderr",
     "output_type": "stream",
     "text": [
      "100%|███████████████████████████████████████████████████████████████████████████| 1469/1469 [22:52<00:00,  1.07batch/s]\n",
      "100%|█████████████████████████████████████████████████████████████████████████████| 395/395 [01:59<00:00,  3.32batch/s]\n"
     ]
    },
    {
     "name": "stdout",
     "output_type": "stream",
     "text": [
      "| Epoch: 003 | Train loss: 0.532 | Valid loss: 0.586 | time: 1492.04s'\n"
     ]
    },
    {
     "name": "stderr",
     "output_type": "stream",
     "text": [
      "100%|███████████████████████████████████████████████████████████████████████████| 1469/1469 [16:42<00:00,  1.46batch/s]\n",
      "100%|█████████████████████████████████████████████████████████████████████████████| 395/395 [01:32<00:00,  4.29batch/s]\n"
     ]
    },
    {
     "name": "stdout",
     "output_type": "stream",
     "text": [
      "| Epoch: 004 | Train loss: 0.559 | Valid loss: 0.589 | time: 1094.94s'\n"
     ]
    },
    {
     "name": "stderr",
     "output_type": "stream",
     "text": [
      "100%|███████████████████████████████████████████████████████████████████████████| 1469/1469 [15:00<00:00,  1.63batch/s]\n",
      "100%|█████████████████████████████████████████████████████████████████████████████| 395/395 [01:37<00:00,  4.06batch/s]\n"
     ]
    },
    {
     "name": "stdout",
     "output_type": "stream",
     "text": [
      "| Epoch: 005 | Train loss: 0.561 | Valid loss: 0.591 | time: 997.88s'\n"
     ]
    },
    {
     "name": "stderr",
     "output_type": "stream",
     "text": [
      "100%|███████████████████████████████████████████████████████████████████████████| 1469/1469 [15:57<00:00,  1.53batch/s]\n",
      "100%|█████████████████████████████████████████████████████████████████████████████| 395/395 [01:37<00:00,  4.04batch/s]\n"
     ]
    },
    {
     "name": "stdout",
     "output_type": "stream",
     "text": [
      "| Epoch: 006 | Train loss: 0.557 | Valid loss: 0.565 | time: 1054.86s'\n"
     ]
    },
    {
     "name": "stderr",
     "output_type": "stream",
     "text": [
      "100%|███████████████████████████████████████████████████████████████████████████| 1469/1469 [15:29<00:00,  1.58batch/s]\n",
      "100%|█████████████████████████████████████████████████████████████████████████████| 395/395 [01:31<00:00,  4.30batch/s]\n"
     ]
    },
    {
     "name": "stdout",
     "output_type": "stream",
     "text": [
      "| Epoch: 007 | Train loss: 0.562 | Valid loss: 0.591 | time: 1021.73s'\n"
     ]
    },
    {
     "name": "stderr",
     "output_type": "stream",
     "text": [
      "100%|███████████████████████████████████████████████████████████████████████████| 1469/1469 [14:51<00:00,  1.65batch/s]\n",
      "100%|█████████████████████████████████████████████████████████████████████████████| 395/395 [01:34<00:00,  4.16batch/s]\n"
     ]
    },
    {
     "name": "stdout",
     "output_type": "stream",
     "text": [
      "| Epoch: 008 | Train loss: 0.561 | Valid loss: 0.577 | time: 986.11s'\n"
     ]
    },
    {
     "name": "stderr",
     "output_type": "stream",
     "text": [
      "100%|███████████████████████████████████████████████████████████████████████████| 1469/1469 [15:48<00:00,  1.55batch/s]\n",
      "100%|█████████████████████████████████████████████████████████████████████████████| 395/395 [01:49<00:00,  3.62batch/s]\n"
     ]
    },
    {
     "name": "stdout",
     "output_type": "stream",
     "text": [
      "| Epoch: 009 | Train loss: 0.559 | Valid loss: 0.590 | time: 1058.08s'\n"
     ]
    },
    {
     "name": "stderr",
     "output_type": "stream",
     "text": [
      "100%|███████████████████████████████████████████████████████████████████████████| 1469/1469 [16:19<00:00,  1.50batch/s]\n",
      "100%|█████████████████████████████████████████████████████████████████████████████| 395/395 [01:40<00:00,  3.94batch/s]\n"
     ]
    },
    {
     "name": "stdout",
     "output_type": "stream",
     "text": [
      "| Epoch: 010 | Train loss: 0.560 | Valid loss: 0.602 | time: 1079.76s'\n"
     ]
    },
    {
     "name": "stderr",
     "output_type": "stream",
     "text": [
      "100%|███████████████████████████████████████████████████████████████████████████| 1469/1469 [16:13<00:00,  1.51batch/s]\n",
      "100%|█████████████████████████████████████████████████████████████████████████████| 395/395 [01:41<00:00,  3.91batch/s]\n"
     ]
    },
    {
     "name": "stdout",
     "output_type": "stream",
     "text": [
      "| Epoch: 011 | Train loss: 6.944 | Valid loss: 7.117 | time: 1074.83s'\n"
     ]
    },
    {
     "name": "stderr",
     "output_type": "stream",
     "text": [
      "100%|███████████████████████████████████████████████████████████████████████████| 1469/1469 [16:24<00:00,  1.49batch/s]\n",
      "100%|█████████████████████████████████████████████████████████████████████████████| 395/395 [01:38<00:00,  4.01batch/s]\n"
     ]
    },
    {
     "name": "stdout",
     "output_type": "stream",
     "text": [
      "| Epoch: 012 | Train loss: 6.633 | Valid loss: 7.014 | time: 1083.28s'\n"
     ]
    },
    {
     "name": "stderr",
     "output_type": "stream",
     "text": [
      "100%|███████████████████████████████████████████████████████████████████████████| 1469/1469 [15:20<00:00,  1.60batch/s]\n",
      "100%|█████████████████████████████████████████████████████████████████████████████| 395/395 [01:35<00:00,  4.15batch/s]\n"
     ]
    },
    {
     "name": "stdout",
     "output_type": "stream",
     "text": [
      "| Epoch: 013 | Train loss: 6.445 | Valid loss: 6.804 | time: 1015.91s'\n"
     ]
    },
    {
     "name": "stderr",
     "output_type": "stream",
     "text": [
      "100%|███████████████████████████████████████████████████████████████████████████| 1469/1469 [15:45<00:00,  1.55batch/s]\n",
      "100%|█████████████████████████████████████████████████████████████████████████████| 395/395 [01:42<00:00,  3.85batch/s]\n"
     ]
    },
    {
     "name": "stdout",
     "output_type": "stream",
     "text": [
      "| Epoch: 014 | Train loss: 6.274 | Valid loss: 6.715 | time: 1048.07s'\n"
     ]
    },
    {
     "name": "stderr",
     "output_type": "stream",
     "text": [
      "100%|███████████████████████████████████████████████████████████████████████████| 1469/1469 [15:27<00:00,  1.58batch/s]\n",
      "100%|█████████████████████████████████████████████████████████████████████████████| 395/395 [01:31<00:00,  4.33batch/s]\n"
     ]
    },
    {
     "name": "stdout",
     "output_type": "stream",
     "text": [
      "| Epoch: 015 | Train loss: 6.103 | Valid loss: 6.603 | time: 1018.59s'\n"
     ]
    },
    {
     "name": "stderr",
     "output_type": "stream",
     "text": [
      "100%|███████████████████████████████████████████████████████████████████████████| 1469/1469 [14:52<00:00,  1.65batch/s]\n",
      "100%|█████████████████████████████████████████████████████████████████████████████| 395/395 [01:31<00:00,  4.33batch/s]\n"
     ]
    },
    {
     "name": "stdout",
     "output_type": "stream",
     "text": [
      "| Epoch: 016 | Train loss: 5.982 | Valid loss: 6.566 | time: 983.58s'\n"
     ]
    },
    {
     "name": "stderr",
     "output_type": "stream",
     "text": [
      "100%|███████████████████████████████████████████████████████████████████████████| 1469/1469 [14:52<00:00,  1.65batch/s]\n",
      "100%|█████████████████████████████████████████████████████████████████████████████| 395/395 [01:30<00:00,  4.38batch/s]\n"
     ]
    },
    {
     "name": "stdout",
     "output_type": "stream",
     "text": [
      "| Epoch: 017 | Train loss: 6.043 | Valid loss: 6.489 | time: 983.03s'\n"
     ]
    },
    {
     "name": "stderr",
     "output_type": "stream",
     "text": [
      "100%|███████████████████████████████████████████████████████████████████████████| 1469/1469 [15:44<00:00,  1.56batch/s]\n",
      "100%|█████████████████████████████████████████████████████████████████████████████| 395/395 [01:59<00:00,  3.29batch/s]\n"
     ]
    },
    {
     "name": "stdout",
     "output_type": "stream",
     "text": [
      "| Epoch: 018 | Train loss: 5.867 | Valid loss: 6.466 | time: 1064.16s'\n"
     ]
    },
    {
     "name": "stderr",
     "output_type": "stream",
     "text": [
      "100%|███████████████████████████████████████████████████████████████████████████| 1469/1469 [24:37<00:00,  1.01s/batch]\n",
      "100%|█████████████████████████████████████████████████████████████████████████████| 395/395 [02:10<00:00,  3.03batch/s]\n"
     ]
    },
    {
     "name": "stdout",
     "output_type": "stream",
     "text": [
      "| Epoch: 019 | Train loss: 5.791 | Valid loss: 6.436 | time: 1607.89s'\n"
     ]
    },
    {
     "name": "stderr",
     "output_type": "stream",
     "text": [
      "100%|███████████████████████████████████████████████████████████████████████████| 1469/1469 [20:17<00:00,  1.21batch/s]\n",
      "100%|█████████████████████████████████████████████████████████████████████████████| 395/395 [01:49<00:00,  3.62batch/s]\n"
     ]
    },
    {
     "name": "stdout",
     "output_type": "stream",
     "text": [
      "| Epoch: 020 | Train loss: 5.696 | Valid loss: 6.339 | time: 1326.75s'\n"
     ]
    },
    {
     "name": "stderr",
     "output_type": "stream",
     "text": [
      "100%|███████████████████████████████████████████████████████████████████████████| 1469/1469 [16:11<00:00,  1.51batch/s]\n",
      "100%|█████████████████████████████████████████████████████████████████████████████| 395/395 [01:46<00:00,  3.70batch/s]\n"
     ]
    },
    {
     "name": "stdout",
     "output_type": "stream",
     "text": [
      "| Epoch: 021 | Train loss: 5.702 | Valid loss: 6.334 | time: 1078.31s'\n"
     ]
    },
    {
     "name": "stderr",
     "output_type": "stream",
     "text": [
      "100%|███████████████████████████████████████████████████████████████████████████| 1469/1469 [16:30<00:00,  1.48batch/s]\n",
      "100%|█████████████████████████████████████████████████████████████████████████████| 395/395 [01:36<00:00,  4.10batch/s]\n"
     ]
    },
    {
     "name": "stdout",
     "output_type": "stream",
     "text": [
      "| Epoch: 022 | Train loss: 5.566 | Valid loss: 6.300 | time: 1086.99s'\n"
     ]
    },
    {
     "name": "stderr",
     "output_type": "stream",
     "text": [
      "100%|███████████████████████████████████████████████████████████████████████████| 1469/1469 [15:52<00:00,  1.54batch/s]\n",
      "100%|█████████████████████████████████████████████████████████████████████████████| 395/395 [01:36<00:00,  4.08batch/s]\n"
     ]
    },
    {
     "name": "stdout",
     "output_type": "stream",
     "text": [
      "| Epoch: 023 | Train loss: 5.523 | Valid loss: 6.287 | time: 1049.15s'\n"
     ]
    },
    {
     "name": "stderr",
     "output_type": "stream",
     "text": [
      "100%|███████████████████████████████████████████████████████████████████████████| 1469/1469 [15:55<00:00,  1.54batch/s]\n",
      "100%|█████████████████████████████████████████████████████████████████████████████| 395/395 [01:37<00:00,  4.07batch/s]\n"
     ]
    },
    {
     "name": "stdout",
     "output_type": "stream",
     "text": [
      "| Epoch: 024 | Train loss: 5.460 | Valid loss: 6.245 | time: 1052.97s'\n"
     ]
    },
    {
     "name": "stderr",
     "output_type": "stream",
     "text": [
      "100%|███████████████████████████████████████████████████████████████████████████| 1469/1469 [17:07<00:00,  1.43batch/s]\n",
      "100%|█████████████████████████████████████████████████████████████████████████████| 395/395 [02:12<00:00,  2.99batch/s]\n"
     ]
    },
    {
     "name": "stdout",
     "output_type": "stream",
     "text": [
      "| Epoch: 025 | Train loss: 5.427 | Valid loss: 6.215 | time: 1160.10s'\n"
     ]
    },
    {
     "name": "stderr",
     "output_type": "stream",
     "text": [
      "100%|███████████████████████████████████████████████████████████████████████████| 1469/1469 [21:37<00:00,  1.13batch/s]\n",
      "100%|█████████████████████████████████████████████████████████████████████████████| 395/395 [02:12<00:00,  2.97batch/s]\n"
     ]
    },
    {
     "name": "stdout",
     "output_type": "stream",
     "text": [
      "| Epoch: 026 | Train loss: 5.377 | Valid loss: 6.213 | time: 1430.10s'\n"
     ]
    },
    {
     "name": "stderr",
     "output_type": "stream",
     "text": [
      "100%|███████████████████████████████████████████████████████████████████████████| 1469/1469 [21:38<00:00,  1.13batch/s]\n",
      "100%|█████████████████████████████████████████████████████████████████████████████| 395/395 [02:13<00:00,  2.96batch/s]\n"
     ]
    },
    {
     "name": "stdout",
     "output_type": "stream",
     "text": [
      "| Epoch: 027 | Train loss: 5.325 | Valid loss: 6.174 | time: 1432.13s'\n"
     ]
    },
    {
     "name": "stderr",
     "output_type": "stream",
     "text": [
      "100%|███████████████████████████████████████████████████████████████████████████| 1469/1469 [21:39<00:00,  1.13batch/s]\n",
      "100%|█████████████████████████████████████████████████████████████████████████████| 395/395 [02:13<00:00,  2.97batch/s]\n"
     ]
    },
    {
     "name": "stdout",
     "output_type": "stream",
     "text": [
      "| Epoch: 028 | Train loss: 5.420 | Valid loss: 6.221 | time: 1432.87s'\n"
     ]
    },
    {
     "name": "stderr",
     "output_type": "stream",
     "text": [
      "100%|███████████████████████████████████████████████████████████████████████████| 1469/1469 [21:38<00:00,  1.13batch/s]\n",
      "100%|█████████████████████████████████████████████████████████████████████████████| 395/395 [02:13<00:00,  2.97batch/s]\n"
     ]
    },
    {
     "name": "stdout",
     "output_type": "stream",
     "text": [
      "| Epoch: 029 | Train loss: 5.368 | Valid loss: 6.274 | time: 1431.95s'\n"
     ]
    },
    {
     "name": "stderr",
     "output_type": "stream",
     "text": [
      "100%|███████████████████████████████████████████████████████████████████████████| 1469/1469 [21:39<00:00,  1.13batch/s]\n",
      "100%|█████████████████████████████████████████████████████████████████████████████| 395/395 [02:13<00:00,  2.96batch/s]\n"
     ]
    },
    {
     "name": "stdout",
     "output_type": "stream",
     "text": [
      "| Epoch: 030 | Train loss: 5.247 | Valid loss: 6.102 | time: 1432.33s'\n"
     ]
    },
    {
     "name": "stderr",
     "output_type": "stream",
     "text": [
      "100%|███████████████████████████████████████████████████████████████████████████| 1469/1469 [21:39<00:00,  1.13batch/s]\n",
      "100%|█████████████████████████████████████████████████████████████████████████████| 395/395 [02:12<00:00,  2.97batch/s]\n"
     ]
    },
    {
     "name": "stdout",
     "output_type": "stream",
     "text": [
      "| Epoch: 031 | Train loss: 5.292 | Valid loss: 6.113 | time: 1432.15s'\n"
     ]
    },
    {
     "name": "stderr",
     "output_type": "stream",
     "text": [
      "100%|███████████████████████████████████████████████████████████████████████████| 1469/1469 [21:40<00:00,  1.13batch/s]\n",
      "100%|█████████████████████████████████████████████████████████████████████████████| 395/395 [02:13<00:00,  2.97batch/s]\n"
     ]
    },
    {
     "name": "stdout",
     "output_type": "stream",
     "text": [
      "| Epoch: 032 | Train loss: 5.186 | Valid loss: 6.074 | time: 1433.47s'\n"
     ]
    },
    {
     "name": "stderr",
     "output_type": "stream",
     "text": [
      "100%|███████████████████████████████████████████████████████████████████████████| 1469/1469 [21:40<00:00,  1.13batch/s]\n",
      "100%|█████████████████████████████████████████████████████████████████████████████| 395/395 [02:13<00:00,  2.96batch/s]\n"
     ]
    },
    {
     "name": "stdout",
     "output_type": "stream",
     "text": [
      "| Epoch: 033 | Train loss: 5.157 | Valid loss: 6.074 | time: 1434.02s'\n"
     ]
    },
    {
     "name": "stderr",
     "output_type": "stream",
     "text": [
      "100%|███████████████████████████████████████████████████████████████████████████| 1469/1469 [21:40<00:00,  1.13batch/s]\n",
      "100%|█████████████████████████████████████████████████████████████████████████████| 395/395 [02:13<00:00,  2.97batch/s]\n"
     ]
    },
    {
     "name": "stdout",
     "output_type": "stream",
     "text": [
      "| Epoch: 034 | Train loss: 5.134 | Valid loss: 6.037 | time: 1434.10s'\n"
     ]
    },
    {
     "name": "stderr",
     "output_type": "stream",
     "text": [
      "100%|███████████████████████████████████████████████████████████████████████████| 1469/1469 [19:45<00:00,  1.24batch/s]\n",
      "100%|█████████████████████████████████████████████████████████████████████████████| 395/395 [01:32<00:00,  4.25batch/s]\n"
     ]
    },
    {
     "name": "stdout",
     "output_type": "stream",
     "text": [
      "| Epoch: 035 | Train loss: 5.074 | Valid loss: 6.040 | time: 1277.95s'\n"
     ]
    },
    {
     "name": "stderr",
     "output_type": "stream",
     "text": [
      "100%|███████████████████████████████████████████████████████████████████████████| 1469/1469 [15:15<00:00,  1.60batch/s]\n",
      "100%|█████████████████████████████████████████████████████████████████████████████| 395/395 [01:31<00:00,  4.34batch/s]\n"
     ]
    },
    {
     "name": "stdout",
     "output_type": "stream",
     "text": [
      "| Epoch: 036 | Train loss: 5.040 | Valid loss: 6.078 | time: 1006.93s'\n"
     ]
    },
    {
     "name": "stderr",
     "output_type": "stream",
     "text": [
      "100%|███████████████████████████████████████████████████████████████████████████| 1469/1469 [15:25<00:00,  1.59batch/s]\n",
      "100%|█████████████████████████████████████████████████████████████████████████████| 395/395 [01:32<00:00,  4.28batch/s]\n"
     ]
    },
    {
     "name": "stdout",
     "output_type": "stream",
     "text": [
      "| Epoch: 037 | Train loss: 5.129 | Valid loss: 6.070 | time: 1018.27s'\n"
     ]
    },
    {
     "name": "stderr",
     "output_type": "stream",
     "text": [
      "100%|███████████████████████████████████████████████████████████████████████████| 1469/1469 [15:47<00:00,  1.55batch/s]\n",
      "100%|█████████████████████████████████████████████████████████████████████████████| 395/395 [01:34<00:00,  4.18batch/s]\n"
     ]
    },
    {
     "name": "stdout",
     "output_type": "stream",
     "text": [
      "| Epoch: 038 | Train loss: 5.114 | Valid loss: 6.086 | time: 1042.10s'\n"
     ]
    },
    {
     "name": "stderr",
     "output_type": "stream",
     "text": [
      "100%|███████████████████████████████████████████████████████████████████████████| 1469/1469 [15:55<00:00,  1.54batch/s]\n",
      "100%|█████████████████████████████████████████████████████████████████████████████| 395/395 [01:35<00:00,  4.13batch/s]\n"
     ]
    },
    {
     "name": "stdout",
     "output_type": "stream",
     "text": [
      "| Epoch: 039 | Train loss: 5.065 | Valid loss: 6.065 | time: 1050.72s'\n"
     ]
    },
    {
     "name": "stderr",
     "output_type": "stream",
     "text": [
      "100%|███████████████████████████████████████████████████████████████████████████| 1469/1469 [16:03<00:00,  1.52batch/s]\n",
      "100%|█████████████████████████████████████████████████████████████████████████████| 395/395 [01:35<00:00,  4.12batch/s]\n"
     ]
    },
    {
     "name": "stdout",
     "output_type": "stream",
     "text": [
      "| Epoch: 040 | Train loss: 4.969 | Valid loss: 6.001 | time: 1059.64s'\n"
     ]
    },
    {
     "name": "stderr",
     "output_type": "stream",
     "text": [
      "100%|███████████████████████████████████████████████████████████████████████████| 1469/1469 [16:03<00:00,  1.53batch/s]\n",
      "100%|█████████████████████████████████████████████████████████████████████████████| 395/395 [01:36<00:00,  4.10batch/s]\n"
     ]
    },
    {
     "name": "stdout",
     "output_type": "stream",
     "text": [
      "| Epoch: 041 | Train loss: 4.921 | Valid loss: 6.059 | time: 1059.64s'\n"
     ]
    },
    {
     "name": "stderr",
     "output_type": "stream",
     "text": [
      "100%|███████████████████████████████████████████████████████████████████████████| 1469/1469 [16:05<00:00,  1.52batch/s]\n",
      "100%|█████████████████████████████████████████████████████████████████████████████| 395/395 [01:35<00:00,  4.12batch/s]\n"
     ]
    },
    {
     "name": "stdout",
     "output_type": "stream",
     "text": [
      "| Epoch: 042 | Train loss: 4.912 | Valid loss: 6.095 | time: 1061.17s'\n"
     ]
    },
    {
     "name": "stderr",
     "output_type": "stream",
     "text": [
      "100%|███████████████████████████████████████████████████████████████████████████| 1469/1469 [16:05<00:00,  1.52batch/s]\n",
      "100%|█████████████████████████████████████████████████████████████████████████████| 395/395 [01:36<00:00,  4.11batch/s]\n"
     ]
    },
    {
     "name": "stdout",
     "output_type": "stream",
     "text": [
      "| Epoch: 043 | Train loss: 4.885 | Valid loss: 6.041 | time: 1061.34s'\n"
     ]
    },
    {
     "name": "stderr",
     "output_type": "stream",
     "text": [
      "100%|███████████████████████████████████████████████████████████████████████████| 1469/1469 [54:55<00:00,  2.24s/batch]\n",
      "100%|█████████████████████████████████████████████████████████████████████████████| 395/395 [02:03<00:00,  3.20batch/s]\n"
     ]
    },
    {
     "name": "stdout",
     "output_type": "stream",
     "text": [
      "| Epoch: 044 | Train loss: 4.843 | Valid loss: 6.052 | time: 3419.29s'\n"
     ]
    },
    {
     "name": "stderr",
     "output_type": "stream",
     "text": [
      "100%|███████████████████████████████████████████████████████████████████████████| 1469/1469 [20:11<00:00,  1.21batch/s]\n",
      "100%|█████████████████████████████████████████████████████████████████████████████| 395/395 [02:03<00:00,  3.20batch/s]\n"
     ]
    },
    {
     "name": "stdout",
     "output_type": "stream",
     "text": [
      "| Epoch: 045 | Train loss: 4.819 | Valid loss: 6.077 | time: 1335.00s'\n"
     ]
    },
    {
     "name": "stderr",
     "output_type": "stream",
     "text": [
      "100%|███████████████████████████████████████████████████████████████████████████| 1469/1469 [19:43<00:00,  1.24batch/s]\n",
      "100%|█████████████████████████████████████████████████████████████████████████████| 395/395 [02:17<00:00,  2.88batch/s]\n"
     ]
    },
    {
     "name": "stdout",
     "output_type": "stream",
     "text": [
      "| Epoch: 046 | Train loss: 4.800 | Valid loss: 6.063 | time: 1320.19s'\n"
     ]
    },
    {
     "name": "stderr",
     "output_type": "stream",
     "text": [
      "100%|███████████████████████████████████████████████████████████████████████████| 1469/1469 [21:00<00:00,  1.17batch/s]\n",
      "100%|█████████████████████████████████████████████████████████████████████████████| 395/395 [02:09<00:00,  3.06batch/s]\n"
     ]
    },
    {
     "name": "stdout",
     "output_type": "stream",
     "text": [
      "| Epoch: 047 | Train loss: 4.807 | Valid loss: 5.988 | time: 1390.03s'\n"
     ]
    },
    {
     "name": "stderr",
     "output_type": "stream",
     "text": [
      "100%|███████████████████████████████████████████████████████████████████████████| 1469/1469 [20:57<00:00,  1.17batch/s]\n",
      "100%|█████████████████████████████████████████████████████████████████████████████| 395/395 [02:10<00:00,  3.03batch/s]\n"
     ]
    },
    {
     "name": "stdout",
     "output_type": "stream",
     "text": [
      "| Epoch: 048 | Train loss: 4.776 | Valid loss: 6.011 | time: 1388.11s'\n"
     ]
    },
    {
     "name": "stderr",
     "output_type": "stream",
     "text": [
      "100%|███████████████████████████████████████████████████████████████████████████| 1469/1469 [20:19<00:00,  1.20batch/s]\n",
      "100%|█████████████████████████████████████████████████████████████████████████████| 395/395 [01:47<00:00,  3.68batch/s]\n"
     ]
    },
    {
     "name": "stdout",
     "output_type": "stream",
     "text": [
      "| Epoch: 049 | Train loss: 4.702 | Valid loss: 5.990 | time: 1326.48s'\n"
     ]
    },
    {
     "name": "stderr",
     "output_type": "stream",
     "text": [
      "100%|███████████████████████████████████████████████████████████████████████████| 1469/1469 [17:34<00:00,  1.39batch/s]\n",
      "100%|█████████████████████████████████████████████████████████████████████████████| 395/395 [01:30<00:00,  4.36batch/s]\n"
     ]
    },
    {
     "name": "stdout",
     "output_type": "stream",
     "text": [
      "| Epoch: 050 | Train loss: 4.656 | Valid loss: 6.014 | time: 1145.60s'\n"
     ]
    },
    {
     "name": "stderr",
     "output_type": "stream",
     "text": [
      "100%|███████████████████████████████████████████████████████████████████████████| 1469/1469 [21:00<00:00,  1.17batch/s]\n",
      "100%|█████████████████████████████████████████████████████████████████████████████| 395/395 [02:19<00:00,  2.83batch/s]\n"
     ]
    },
    {
     "name": "stdout",
     "output_type": "stream",
     "text": [
      "| Epoch: 051 | Train loss: 4.634 | Valid loss: 5.990 | time: 1400.48s'\n"
     ]
    },
    {
     "name": "stderr",
     "output_type": "stream",
     "text": [
      "100%|███████████████████████████████████████████████████████████████████████████| 1469/1469 [20:40<00:00,  1.18batch/s]\n",
      "100%|█████████████████████████████████████████████████████████████████████████████| 395/395 [02:09<00:00,  3.06batch/s]\n"
     ]
    },
    {
     "name": "stdout",
     "output_type": "stream",
     "text": [
      "| Epoch: 052 | Train loss: 4.619 | Valid loss: 5.953 | time: 1369.61s'\n"
     ]
    },
    {
     "name": "stderr",
     "output_type": "stream",
     "text": [
      "100%|███████████████████████████████████████████████████████████████████████████| 1469/1469 [20:57<00:00,  1.17batch/s]\n",
      "100%|█████████████████████████████████████████████████████████████████████████████| 395/395 [02:14<00:00,  2.93batch/s]\n"
     ]
    },
    {
     "name": "stdout",
     "output_type": "stream",
     "text": [
      "| Epoch: 053 | Train loss: 4.593 | Valid loss: 6.009 | time: 1391.74s'\n"
     ]
    },
    {
     "name": "stderr",
     "output_type": "stream",
     "text": [
      "100%|███████████████████████████████████████████████████████████████████████████| 1469/1469 [21:05<00:00,  1.16batch/s]\n",
      "100%|█████████████████████████████████████████████████████████████████████████████| 395/395 [02:14<00:00,  2.94batch/s]\n"
     ]
    },
    {
     "name": "stdout",
     "output_type": "stream",
     "text": [
      "| Epoch: 054 | Train loss: 4.598 | Valid loss: 5.996 | time: 1399.76s'\n"
     ]
    },
    {
     "name": "stderr",
     "output_type": "stream",
     "text": [
      "100%|███████████████████████████████████████████████████████████████████████████| 1469/1469 [21:10<00:00,  1.16batch/s]\n",
      "100%|█████████████████████████████████████████████████████████████████████████████| 395/395 [02:14<00:00,  2.93batch/s]\n"
     ]
    },
    {
     "name": "stdout",
     "output_type": "stream",
     "text": [
      "| Epoch: 055 | Train loss: 4.540 | Valid loss: 5.986 | time: 1405.65s'\n"
     ]
    },
    {
     "name": "stderr",
     "output_type": "stream",
     "text": [
      "100%|███████████████████████████████████████████████████████████████████████████| 1469/1469 [21:00<00:00,  1.17batch/s]\n",
      "100%|█████████████████████████████████████████████████████████████████████████████| 395/395 [02:05<00:00,  3.16batch/s]\n"
     ]
    },
    {
     "name": "stdout",
     "output_type": "stream",
     "text": [
      "| Epoch: 056 | Train loss: 4.498 | Valid loss: 5.996 | time: 1385.65s'\n"
     ]
    },
    {
     "name": "stderr",
     "output_type": "stream",
     "text": [
      "100%|███████████████████████████████████████████████████████████████████████████| 1469/1469 [20:27<00:00,  1.20batch/s]\n",
      "100%|█████████████████████████████████████████████████████████████████████████████| 395/395 [02:20<00:00,  2.80batch/s]\n"
     ]
    },
    {
     "name": "stdout",
     "output_type": "stream",
     "text": [
      "| Epoch: 057 | Train loss: 4.715 | Valid loss: 6.013 | time: 1368.28s'\n"
     ]
    },
    {
     "name": "stderr",
     "output_type": "stream",
     "text": [
      "100%|███████████████████████████████████████████████████████████████████████████| 1469/1469 [21:01<00:00,  1.16batch/s]\n",
      "100%|█████████████████████████████████████████████████████████████████████████████| 395/395 [02:24<00:00,  2.72batch/s]\n"
     ]
    },
    {
     "name": "stdout",
     "output_type": "stream",
     "text": [
      "| Epoch: 058 | Train loss: 4.530 | Valid loss: 5.994 | time: 1406.49s'\n"
     ]
    },
    {
     "name": "stderr",
     "output_type": "stream",
     "text": [
      "100%|███████████████████████████████████████████████████████████████████████████| 1469/1469 [24:27<00:00,  1.00batch/s]\n",
      "100%|█████████████████████████████████████████████████████████████████████████████| 395/395 [02:15<00:00,  2.92batch/s]\n"
     ]
    },
    {
     "name": "stdout",
     "output_type": "stream",
     "text": [
      "| Epoch: 059 | Train loss: 4.481 | Valid loss: 5.942 | time: 1603.16s'\n"
     ]
    },
    {
     "name": "stderr",
     "output_type": "stream",
     "text": [
      "100%|███████████████████████████████████████████████████████████████████████████| 1469/1469 [27:59<00:00,  1.14s/batch]\n",
      "100%|█████████████████████████████████████████████████████████████████████████████| 395/395 [02:05<00:00,  3.15batch/s]\n"
     ]
    },
    {
     "name": "stdout",
     "output_type": "stream",
     "text": [
      "| Epoch: 060 | Train loss: 4.580 | Valid loss: 6.010 | time: 1804.78s'\n"
     ]
    },
    {
     "name": "stderr",
     "output_type": "stream",
     "text": [
      "100%|███████████████████████████████████████████████████████████████████████████| 1469/1469 [20:09<00:00,  1.21batch/s]\n",
      "100%|█████████████████████████████████████████████████████████████████████████████| 395/395 [02:06<00:00,  3.12batch/s]\n"
     ]
    },
    {
     "name": "stdout",
     "output_type": "stream",
     "text": [
      "| Epoch: 061 | Train loss: 4.555 | Valid loss: 5.943 | time: 1336.01s'\n"
     ]
    },
    {
     "name": "stderr",
     "output_type": "stream",
     "text": [
      "100%|███████████████████████████████████████████████████████████████████████████| 1469/1469 [20:09<00:00,  1.21batch/s]\n",
      "100%|█████████████████████████████████████████████████████████████████████████████| 395/395 [02:04<00:00,  3.17batch/s]\n"
     ]
    },
    {
     "name": "stdout",
     "output_type": "stream",
     "text": [
      "| Epoch: 062 | Train loss: 4.510 | Valid loss: 5.940 | time: 1333.93s'\n"
     ]
    },
    {
     "name": "stderr",
     "output_type": "stream",
     "text": [
      "100%|███████████████████████████████████████████████████████████████████████████| 1469/1469 [16:06<00:00,  1.52batch/s]\n",
      "100%|█████████████████████████████████████████████████████████████████████████████| 395/395 [01:37<00:00,  4.05batch/s]\n"
     ]
    },
    {
     "name": "stdout",
     "output_type": "stream",
     "text": [
      "| Epoch: 063 | Train loss: 4.501 | Valid loss: 5.947 | time: 1063.57s'\n"
     ]
    },
    {
     "name": "stderr",
     "output_type": "stream",
     "text": [
      "100%|███████████████████████████████████████████████████████████████████████████| 1469/1469 [16:07<00:00,  1.52batch/s]\n",
      "100%|█████████████████████████████████████████████████████████████████████████████| 395/395 [01:36<00:00,  4.11batch/s]\n"
     ]
    },
    {
     "name": "stdout",
     "output_type": "stream",
     "text": [
      "| Epoch: 064 | Train loss: 4.414 | Valid loss: 5.989 | time: 1063.82s'\n"
     ]
    },
    {
     "name": "stderr",
     "output_type": "stream",
     "text": [
      "100%|███████████████████████████████████████████████████████████████████████████| 1469/1469 [17:06<00:00,  1.43batch/s]\n",
      "100%|█████████████████████████████████████████████████████████████████████████████| 395/395 [02:07<00:00,  3.10batch/s]\n"
     ]
    },
    {
     "name": "stdout",
     "output_type": "stream",
     "text": [
      "| Epoch: 065 | Train loss: 4.478 | Valid loss: 5.958 | time: 1153.61s'\n"
     ]
    },
    {
     "name": "stderr",
     "output_type": "stream",
     "text": [
      "100%|███████████████████████████████████████████████████████████████████████████| 1469/1469 [17:17<00:00,  1.42batch/s]\n",
      "100%|█████████████████████████████████████████████████████████████████████████████| 395/395 [01:31<00:00,  4.32batch/s]\n"
     ]
    },
    {
     "name": "stdout",
     "output_type": "stream",
     "text": [
      "| Epoch: 066 | Train loss: 4.379 | Valid loss: 5.964 | time: 1128.63s'\n"
     ]
    },
    {
     "name": "stderr",
     "output_type": "stream",
     "text": [
      "100%|███████████████████████████████████████████████████████████████████████████| 1469/1469 [17:56<00:00,  1.36batch/s]\n",
      "100%|█████████████████████████████████████████████████████████████████████████████| 395/395 [01:32<00:00,  4.26batch/s]\n"
     ]
    },
    {
     "name": "stdout",
     "output_type": "stream",
     "text": [
      "| Epoch: 067 | Train loss: 4.327 | Valid loss: 5.978 | time: 1169.00s'\n"
     ]
    },
    {
     "name": "stderr",
     "output_type": "stream",
     "text": [
      "100%|███████████████████████████████████████████████████████████████████████████| 1469/1469 [15:15<00:00,  1.60batch/s]\n",
      "100%|█████████████████████████████████████████████████████████████████████████████| 395/395 [01:41<00:00,  3.91batch/s]\n"
     ]
    },
    {
     "name": "stdout",
     "output_type": "stream",
     "text": [
      "| Epoch: 068 | Train loss: 4.301 | Valid loss: 6.001 | time: 1010.46s'\n"
     ]
    },
    {
     "name": "stderr",
     "output_type": "stream",
     "text": [
      "100%|███████████████████████████████████████████████████████████████████████████| 1469/1469 [18:19<00:00,  1.34batch/s]\n",
      "100%|█████████████████████████████████████████████████████████████████████████████| 395/395 [02:13<00:00,  2.97batch/s]\n"
     ]
    },
    {
     "name": "stdout",
     "output_type": "stream",
     "text": [
      "| Epoch: 069 | Train loss: 4.296 | Valid loss: 6.004 | time: 1232.68s'\n"
     ]
    },
    {
     "name": "stderr",
     "output_type": "stream",
     "text": [
      "100%|███████████████████████████████████████████████████████████████████████████| 1469/1469 [22:06<00:00,  1.11batch/s]\n",
      "100%|█████████████████████████████████████████████████████████████████████████████| 395/395 [02:12<00:00,  2.99batch/s]\n"
     ]
    },
    {
     "name": "stdout",
     "output_type": "stream",
     "text": [
      "| Epoch: 070 | Train loss: 4.282 | Valid loss: 5.999 | time: 1458.30s'\n"
     ]
    },
    {
     "name": "stderr",
     "output_type": "stream",
     "text": [
      "100%|███████████████████████████████████████████████████████████████████████████| 1469/1469 [21:32<00:00,  1.14batch/s]\n",
      "100%|█████████████████████████████████████████████████████████████████████████████| 395/395 [02:07<00:00,  3.11batch/s]\n"
     ]
    },
    {
     "name": "stdout",
     "output_type": "stream",
     "text": [
      "| Epoch: 071 | Train loss: 4.357 | Valid loss: 5.948 | time: 1419.36s'\n"
     ]
    },
    {
     "name": "stderr",
     "output_type": "stream",
     "text": [
      "100%|███████████████████████████████████████████████████████████████████████████| 1469/1469 [18:28<00:00,  1.33batch/s]\n",
      "100%|█████████████████████████████████████████████████████████████████████████████| 395/395 [02:11<00:00,  3.00batch/s]\n"
     ]
    },
    {
     "name": "stdout",
     "output_type": "stream",
     "text": [
      "| Epoch: 072 | Train loss: 4.332 | Valid loss: 6.071 | time: 1240.21s'\n"
     ]
    },
    {
     "name": "stderr",
     "output_type": "stream",
     "text": [
      "100%|███████████████████████████████████████████████████████████████████████████| 1469/1469 [21:29<00:00,  1.14batch/s]\n",
      "100%|█████████████████████████████████████████████████████████████████████████████| 395/395 [02:11<00:00,  3.00batch/s]\n"
     ]
    },
    {
     "name": "stdout",
     "output_type": "stream",
     "text": [
      "| Epoch: 073 | Train loss: 4.320 | Valid loss: 5.971 | time: 1420.84s'\n"
     ]
    },
    {
     "name": "stderr",
     "output_type": "stream",
     "text": [
      "100%|███████████████████████████████████████████████████████████████████████████| 1469/1469 [21:30<00:00,  1.14batch/s]\n",
      "100%|█████████████████████████████████████████████████████████████████████████████| 395/395 [02:11<00:00,  2.99batch/s]\n"
     ]
    },
    {
     "name": "stdout",
     "output_type": "stream",
     "text": [
      "| Epoch: 074 | Train loss: 4.280 | Valid loss: 6.016 | time: 1422.36s'\n"
     ]
    },
    {
     "name": "stderr",
     "output_type": "stream",
     "text": [
      "100%|███████████████████████████████████████████████████████████████████████████| 1469/1469 [21:29<00:00,  1.14batch/s]\n",
      "100%|█████████████████████████████████████████████████████████████████████████████| 395/395 [02:12<00:00,  2.99batch/s]\n"
     ]
    },
    {
     "name": "stdout",
     "output_type": "stream",
     "text": [
      "| Epoch: 075 | Train loss: 4.259 | Valid loss: 5.983 | time: 1421.80s'\n"
     ]
    },
    {
     "name": "stderr",
     "output_type": "stream",
     "text": [
      "100%|███████████████████████████████████████████████████████████████████████████| 1469/1469 [21:31<00:00,  1.14batch/s]\n",
      "100%|█████████████████████████████████████████████████████████████████████████████| 395/395 [02:12<00:00,  2.99batch/s]\n"
     ]
    },
    {
     "name": "stdout",
     "output_type": "stream",
     "text": [
      "| Epoch: 076 | Train loss: 4.267 | Valid loss: 5.949 | time: 1423.69s'\n"
     ]
    },
    {
     "name": "stderr",
     "output_type": "stream",
     "text": [
      "100%|███████████████████████████████████████████████████████████████████████████| 1469/1469 [21:32<00:00,  1.14batch/s]\n",
      "100%|█████████████████████████████████████████████████████████████████████████████| 395/395 [02:12<00:00,  2.99batch/s]\n"
     ]
    },
    {
     "name": "stdout",
     "output_type": "stream",
     "text": [
      "| Epoch: 077 | Train loss: 4.259 | Valid loss: 5.934 | time: 1424.29s'\n"
     ]
    },
    {
     "name": "stderr",
     "output_type": "stream",
     "text": [
      "100%|███████████████████████████████████████████████████████████████████████████| 1469/1469 [21:30<00:00,  1.14batch/s]\n",
      "100%|█████████████████████████████████████████████████████████████████████████████| 395/395 [02:12<00:00,  2.99batch/s]\n"
     ]
    },
    {
     "name": "stdout",
     "output_type": "stream",
     "text": [
      "| Epoch: 078 | Train loss: 4.248 | Valid loss: 5.977 | time: 1422.85s'\n"
     ]
    },
    {
     "name": "stderr",
     "output_type": "stream",
     "text": [
      "100%|███████████████████████████████████████████████████████████████████████████| 1469/1469 [21:32<00:00,  1.14batch/s]\n",
      "100%|█████████████████████████████████████████████████████████████████████████████| 395/395 [02:12<00:00,  2.99batch/s]\n"
     ]
    },
    {
     "name": "stdout",
     "output_type": "stream",
     "text": [
      "| Epoch: 079 | Train loss: 4.171 | Valid loss: 6.024 | time: 1424.75s'\n"
     ]
    },
    {
     "name": "stderr",
     "output_type": "stream",
     "text": [
      "100%|███████████████████████████████████████████████████████████████████████████| 1469/1469 [21:32<00:00,  1.14batch/s]\n",
      "100%|█████████████████████████████████████████████████████████████████████████████| 395/395 [02:12<00:00,  2.98batch/s]\n"
     ]
    },
    {
     "name": "stdout",
     "output_type": "stream",
     "text": [
      "| Epoch: 080 | Train loss: 4.169 | Valid loss: 6.186 | time: 1424.99s'\n"
     ]
    },
    {
     "name": "stderr",
     "output_type": "stream",
     "text": [
      "100%|███████████████████████████████████████████████████████████████████████████| 1469/1469 [21:33<00:00,  1.14batch/s]\n",
      "100%|█████████████████████████████████████████████████████████████████████████████| 395/395 [02:12<00:00,  2.99batch/s]\n"
     ]
    },
    {
     "name": "stdout",
     "output_type": "stream",
     "text": [
      "| Epoch: 081 | Train loss: 4.161 | Valid loss: 6.070 | time: 1425.52s'\n"
     ]
    },
    {
     "name": "stderr",
     "output_type": "stream",
     "text": [
      "100%|███████████████████████████████████████████████████████████████████████████| 1469/1469 [21:10<00:00,  1.16batch/s]\n",
      "100%|█████████████████████████████████████████████████████████████████████████████| 395/395 [02:03<00:00,  3.21batch/s]\n"
     ]
    },
    {
     "name": "stdout",
     "output_type": "stream",
     "text": [
      "| Epoch: 082 | Train loss: 4.169 | Valid loss: 6.007 | time: 1393.70s'\n"
     ]
    },
    {
     "name": "stderr",
     "output_type": "stream",
     "text": [
      "100%|███████████████████████████████████████████████████████████████████████████| 1469/1469 [20:19<00:00,  1.20batch/s]\n",
      "100%|█████████████████████████████████████████████████████████████████████████████| 395/395 [02:03<00:00,  3.19batch/s]\n"
     ]
    },
    {
     "name": "stdout",
     "output_type": "stream",
     "text": [
      "| Epoch: 083 | Train loss: 4.153 | Valid loss: 6.056 | time: 1343.25s'\n"
     ]
    },
    {
     "name": "stderr",
     "output_type": "stream",
     "text": [
      "100%|███████████████████████████████████████████████████████████████████████████| 1469/1469 [20:19<00:00,  1.20batch/s]\n",
      "100%|█████████████████████████████████████████████████████████████████████████████| 395/395 [02:10<00:00,  3.02batch/s]\n"
     ]
    },
    {
     "name": "stdout",
     "output_type": "stream",
     "text": [
      "| Epoch: 084 | Train loss: 4.122 | Valid loss: 5.990 | time: 1350.85s'\n"
     ]
    },
    {
     "name": "stderr",
     "output_type": "stream",
     "text": [
      "100%|███████████████████████████████████████████████████████████████████████████| 1469/1469 [20:06<00:00,  1.22batch/s]\n",
      "100%|█████████████████████████████████████████████████████████████████████████████| 395/395 [02:02<00:00,  3.22batch/s]\n"
     ]
    },
    {
     "name": "stdout",
     "output_type": "stream",
     "text": [
      "| Epoch: 085 | Train loss: 4.114 | Valid loss: 5.943 | time: 1328.71s'\n"
     ]
    },
    {
     "name": "stderr",
     "output_type": "stream",
     "text": [
      "100%|███████████████████████████████████████████████████████████████████████████| 1469/1469 [20:10<00:00,  1.21batch/s]\n",
      "100%|█████████████████████████████████████████████████████████████████████████████| 395/395 [02:01<00:00,  3.24batch/s]\n"
     ]
    },
    {
     "name": "stdout",
     "output_type": "stream",
     "text": [
      "| Epoch: 086 | Train loss: 4.131 | Valid loss: 5.979 | time: 1332.40s'\n"
     ]
    },
    {
     "name": "stderr",
     "output_type": "stream",
     "text": [
      "100%|███████████████████████████████████████████████████████████████████████████| 1469/1469 [20:41<00:00,  1.18batch/s]\n",
      "100%|█████████████████████████████████████████████████████████████████████████████| 395/395 [02:15<00:00,  2.92batch/s]\n"
     ]
    },
    {
     "name": "stdout",
     "output_type": "stream",
     "text": [
      "| Epoch: 087 | Train loss: 4.099 | Valid loss: 5.996 | time: 1377.31s'\n"
     ]
    },
    {
     "name": "stderr",
     "output_type": "stream",
     "text": [
      "100%|███████████████████████████████████████████████████████████████████████████| 1469/1469 [22:08<00:00,  1.11batch/s]\n",
      "100%|█████████████████████████████████████████████████████████████████████████████| 395/395 [02:15<00:00,  2.93batch/s]\n"
     ]
    },
    {
     "name": "stdout",
     "output_type": "stream",
     "text": [
      "| Epoch: 088 | Train loss: 4.101 | Valid loss: 6.016 | time: 1463.38s'\n"
     ]
    },
    {
     "name": "stderr",
     "output_type": "stream",
     "text": [
      "100%|███████████████████████████████████████████████████████████████████████████| 1469/1469 [22:09<00:00,  1.11batch/s]\n",
      "100%|█████████████████████████████████████████████████████████████████████████████| 395/395 [02:15<00:00,  2.91batch/s]\n"
     ]
    },
    {
     "name": "stdout",
     "output_type": "stream",
     "text": [
      "| Epoch: 089 | Train loss: 4.064 | Valid loss: 6.071 | time: 1464.83s'\n"
     ]
    },
    {
     "name": "stderr",
     "output_type": "stream",
     "text": [
      "100%|███████████████████████████████████████████████████████████████████████████| 1469/1469 [22:10<00:00,  1.10batch/s]\n",
      "100%|█████████████████████████████████████████████████████████████████████████████| 395/395 [02:14<00:00,  2.94batch/s]\n"
     ]
    },
    {
     "name": "stdout",
     "output_type": "stream",
     "text": [
      "| Epoch: 090 | Train loss: 3.991 | Valid loss: 6.029 | time: 1464.51s'\n"
     ]
    },
    {
     "name": "stderr",
     "output_type": "stream",
     "text": [
      "100%|███████████████████████████████████████████████████████████████████████████| 1469/1469 [21:36<00:00,  1.13batch/s]\n",
      "100%|█████████████████████████████████████████████████████████████████████████████| 395/395 [02:12<00:00,  2.98batch/s]\n"
     ]
    },
    {
     "name": "stdout",
     "output_type": "stream",
     "text": [
      "| Epoch: 091 | Train loss: 4.051 | Valid loss: 6.035 | time: 1429.10s'\n"
     ]
    },
    {
     "name": "stderr",
     "output_type": "stream",
     "text": [
      "100%|███████████████████████████████████████████████████████████████████████████| 1469/1469 [21:32<00:00,  1.14batch/s]\n",
      "100%|█████████████████████████████████████████████████████████████████████████████| 395/395 [02:12<00:00,  2.99batch/s]\n"
     ]
    },
    {
     "name": "stdout",
     "output_type": "stream",
     "text": [
      "| Epoch: 092 | Train loss: 4.044 | Valid loss: 6.032 | time: 1425.04s'\n"
     ]
    },
    {
     "name": "stderr",
     "output_type": "stream",
     "text": [
      "100%|███████████████████████████████████████████████████████████████████████████| 1469/1469 [21:33<00:00,  1.14batch/s]\n",
      "100%|█████████████████████████████████████████████████████████████████████████████| 395/395 [02:12<00:00,  2.98batch/s]\n"
     ]
    },
    {
     "name": "stdout",
     "output_type": "stream",
     "text": [
      "| Epoch: 093 | Train loss: 3.975 | Valid loss: 6.007 | time: 1425.40s'\n"
     ]
    },
    {
     "name": "stderr",
     "output_type": "stream",
     "text": [
      "100%|███████████████████████████████████████████████████████████████████████████| 1469/1469 [21:31<00:00,  1.14batch/s]\n",
      "100%|█████████████████████████████████████████████████████████████████████████████| 395/395 [02:13<00:00,  2.97batch/s]\n"
     ]
    },
    {
     "name": "stdout",
     "output_type": "stream",
     "text": [
      "| Epoch: 094 | Train loss: 4.036 | Valid loss: 6.060 | time: 1424.79s'\n"
     ]
    },
    {
     "name": "stderr",
     "output_type": "stream",
     "text": [
      "100%|███████████████████████████████████████████████████████████████████████████| 1469/1469 [21:33<00:00,  1.14batch/s]\n",
      "100%|█████████████████████████████████████████████████████████████████████████████| 395/395 [02:12<00:00,  2.99batch/s]\n"
     ]
    },
    {
     "name": "stdout",
     "output_type": "stream",
     "text": [
      "| Epoch: 095 | Train loss: 4.001 | Valid loss: 6.012 | time: 1425.15s'\n"
     ]
    },
    {
     "name": "stderr",
     "output_type": "stream",
     "text": [
      "100%|███████████████████████████████████████████████████████████████████████████| 1469/1469 [21:32<00:00,  1.14batch/s]\n",
      "100%|█████████████████████████████████████████████████████████████████████████████| 395/395 [02:12<00:00,  2.98batch/s]\n"
     ]
    },
    {
     "name": "stdout",
     "output_type": "stream",
     "text": [
      "| Epoch: 096 | Train loss: 4.010 | Valid loss: 5.949 | time: 1424.92s'\n"
     ]
    },
    {
     "name": "stderr",
     "output_type": "stream",
     "text": [
      "100%|███████████████████████████████████████████████████████████████████████████| 1469/1469 [21:37<00:00,  1.13batch/s]\n",
      "100%|█████████████████████████████████████████████████████████████████████████████| 395/395 [02:12<00:00,  2.97batch/s]\n"
     ]
    },
    {
     "name": "stdout",
     "output_type": "stream",
     "text": [
      "| Epoch: 097 | Train loss: 3.971 | Valid loss: 6.087 | time: 1430.67s'\n"
     ]
    },
    {
     "name": "stderr",
     "output_type": "stream",
     "text": [
      "100%|███████████████████████████████████████████████████████████████████████████| 1469/1469 [21:43<00:00,  1.13batch/s]\n",
      "100%|█████████████████████████████████████████████████████████████████████████████| 395/395 [02:12<00:00,  2.97batch/s]\n"
     ]
    },
    {
     "name": "stdout",
     "output_type": "stream",
     "text": [
      "| Epoch: 098 | Train loss: 3.907 | Valid loss: 6.037 | time: 1436.07s'\n"
     ]
    },
    {
     "name": "stderr",
     "output_type": "stream",
     "text": [
      "100%|███████████████████████████████████████████████████████████████████████████| 1469/1469 [21:44<00:00,  1.13batch/s]\n",
      "100%|█████████████████████████████████████████████████████████████████████████████| 395/395 [02:12<00:00,  2.97batch/s]\n"
     ]
    },
    {
     "name": "stdout",
     "output_type": "stream",
     "text": [
      "| Epoch: 099 | Train loss: 3.898 | Valid loss: 6.037 | time: 1437.58s'\n"
     ]
    },
    {
     "name": "stderr",
     "output_type": "stream",
     "text": [
      "100%|███████████████████████████████████████████████████████████████████████████| 1469/1469 [21:44<00:00,  1.13batch/s]\n",
      "100%|█████████████████████████████████████████████████████████████████████████████| 395/395 [02:12<00:00,  2.97batch/s]\n"
     ]
    },
    {
     "name": "stdout",
     "output_type": "stream",
     "text": [
      "| Epoch: 100 | Train loss: 3.868 | Valid loss: 6.060 | time: 1437.60s'\n"
     ]
    },
    {
     "name": "stderr",
     "output_type": "stream",
     "text": [
      "100%|███████████████████████████████████████████████████████████████████████████| 1469/1469 [21:43<00:00,  1.13batch/s]\n",
      "100%|█████████████████████████████████████████████████████████████████████████████| 395/395 [02:13<00:00,  2.97batch/s]\n"
     ]
    },
    {
     "name": "stdout",
     "output_type": "stream",
     "text": [
      "| Epoch: 101 | Train loss: 3.860 | Valid loss: 6.018 | time: 1437.10s'\n"
     ]
    },
    {
     "name": "stderr",
     "output_type": "stream",
     "text": [
      "100%|███████████████████████████████████████████████████████████████████████████| 1469/1469 [21:46<00:00,  1.12batch/s]\n",
      "100%|█████████████████████████████████████████████████████████████████████████████| 395/395 [02:13<00:00,  2.95batch/s]\n"
     ]
    },
    {
     "name": "stdout",
     "output_type": "stream",
     "text": [
      "| Epoch: 102 | Train loss: 3.874 | Valid loss: 6.068 | time: 1439.88s'\n"
     ]
    },
    {
     "name": "stderr",
     "output_type": "stream",
     "text": [
      "100%|███████████████████████████████████████████████████████████████████████████| 1469/1469 [21:45<00:00,  1.13batch/s]\n",
      "100%|█████████████████████████████████████████████████████████████████████████████| 395/395 [02:12<00:00,  2.97batch/s]\n"
     ]
    },
    {
     "name": "stdout",
     "output_type": "stream",
     "text": [
      "| Epoch: 103 | Train loss: 3.895 | Valid loss: 6.136 | time: 1438.24s'\n"
     ]
    },
    {
     "name": "stderr",
     "output_type": "stream",
     "text": [
      "100%|███████████████████████████████████████████████████████████████████████████| 1469/1469 [21:45<00:00,  1.12batch/s]\n",
      "100%|█████████████████████████████████████████████████████████████████████████████| 395/395 [02:12<00:00,  2.97batch/s]\n"
     ]
    },
    {
     "name": "stdout",
     "output_type": "stream",
     "text": [
      "| Epoch: 104 | Train loss: 3.887 | Valid loss: 6.080 | time: 1438.78s'\n"
     ]
    },
    {
     "name": "stderr",
     "output_type": "stream",
     "text": [
      "100%|███████████████████████████████████████████████████████████████████████████| 1469/1469 [21:45<00:00,  1.12batch/s]\n",
      "100%|█████████████████████████████████████████████████████████████████████████████| 395/395 [02:12<00:00,  2.97batch/s]\n"
     ]
    },
    {
     "name": "stdout",
     "output_type": "stream",
     "text": [
      "| Epoch: 105 | Train loss: 3.856 | Valid loss: 6.089 | time: 1438.92s'\n"
     ]
    },
    {
     "name": "stderr",
     "output_type": "stream",
     "text": [
      "100%|███████████████████████████████████████████████████████████████████████████| 1469/1469 [21:44<00:00,  1.13batch/s]\n",
      "100%|█████████████████████████████████████████████████████████████████████████████| 395/395 [02:13<00:00,  2.97batch/s]\n"
     ]
    },
    {
     "name": "stdout",
     "output_type": "stream",
     "text": [
      "| Epoch: 106 | Train loss: 3.860 | Valid loss: 6.106 | time: 1437.64s'\n"
     ]
    },
    {
     "name": "stderr",
     "output_type": "stream",
     "text": [
      "100%|███████████████████████████████████████████████████████████████████████████| 1469/1469 [21:39<00:00,  1.13batch/s]\n",
      "100%|█████████████████████████████████████████████████████████████████████████████| 395/395 [02:08<00:00,  3.08batch/s]\n"
     ]
    },
    {
     "name": "stdout",
     "output_type": "stream",
     "text": [
      "| Epoch: 107 | Train loss: 3.888 | Valid loss: 6.079 | time: 1428.21s'\n"
     ]
    },
    {
     "name": "stderr",
     "output_type": "stream",
     "text": [
      "100%|███████████████████████████████████████████████████████████████████████████| 1469/1469 [18:06<00:00,  1.35batch/s]\n",
      "100%|█████████████████████████████████████████████████████████████████████████████| 395/395 [02:01<00:00,  3.26batch/s]\n"
     ]
    },
    {
     "name": "stdout",
     "output_type": "stream",
     "text": [
      "| Epoch: 108 | Train loss: 3.889 | Valid loss: 6.031 | time: 1207.39s'\n"
     ]
    },
    {
     "name": "stderr",
     "output_type": "stream",
     "text": [
      "100%|███████████████████████████████████████████████████████████████████████████| 1469/1469 [17:48<00:00,  1.38batch/s]\n",
      "100%|█████████████████████████████████████████████████████████████████████████████| 395/395 [01:41<00:00,  3.88batch/s]\n"
     ]
    },
    {
     "name": "stdout",
     "output_type": "stream",
     "text": [
      "| Epoch: 109 | Train loss: 3.892 | Valid loss: 6.129 | time: 1170.29s'\n"
     ]
    },
    {
     "name": "stderr",
     "output_type": "stream",
     "text": [
      "100%|███████████████████████████████████████████████████████████████████████████| 1469/1469 [16:28<00:00,  1.49batch/s]\n",
      "100%|█████████████████████████████████████████████████████████████████████████████| 395/395 [01:39<00:00,  3.97batch/s]\n"
     ]
    },
    {
     "name": "stdout",
     "output_type": "stream",
     "text": [
      "| Epoch: 110 | Train loss: 3.875 | Valid loss: 6.070 | time: 1088.41s'\n"
     ]
    },
    {
     "name": "stderr",
     "output_type": "stream",
     "text": [
      "100%|███████████████████████████████████████████████████████████████████████████| 1469/1469 [21:42<00:00,  1.13batch/s]\n",
      "100%|█████████████████████████████████████████████████████████████████████████████| 395/395 [02:24<00:00,  2.73batch/s]\n"
     ]
    },
    {
     "name": "stdout",
     "output_type": "stream",
     "text": [
      "| Epoch: 111 | Train loss: 3.866 | Valid loss: 6.103 | time: 1447.64s'\n"
     ]
    },
    {
     "name": "stderr",
     "output_type": "stream",
     "text": [
      "100%|███████████████████████████████████████████████████████████████████████████| 1469/1469 [16:57<00:00,  1.44batch/s]\n",
      "100%|█████████████████████████████████████████████████████████████████████████████| 395/395 [01:32<00:00,  4.25batch/s]\n"
     ]
    },
    {
     "name": "stdout",
     "output_type": "stream",
     "text": [
      "| Epoch: 112 | Train loss: 3.868 | Valid loss: 5.986 | time: 1110.13s'\n"
     ]
    },
    {
     "name": "stderr",
     "output_type": "stream",
     "text": [
      "100%|███████████████████████████████████████████████████████████████████████████| 1469/1469 [15:02<00:00,  1.63batch/s]\n",
      "100%|█████████████████████████████████████████████████████████████████████████████| 395/395 [01:31<00:00,  4.32batch/s]\n"
     ]
    },
    {
     "name": "stdout",
     "output_type": "stream",
     "text": [
      "| Epoch: 113 | Train loss: 3.861 | Valid loss: 6.097 | time: 994.22s'\n"
     ]
    },
    {
     "name": "stderr",
     "output_type": "stream",
     "text": [
      "100%|███████████████████████████████████████████████████████████████████████████| 1469/1469 [15:18<00:00,  1.60batch/s]\n",
      "100%|█████████████████████████████████████████████████████████████████████████████| 395/395 [02:16<00:00,  2.89batch/s]\n"
     ]
    },
    {
     "name": "stdout",
     "output_type": "stream",
     "text": [
      "| Epoch: 114 | Train loss: 3.840 | Valid loss: 6.121 | time: 1054.82s'\n"
     ]
    },
    {
     "name": "stderr",
     "output_type": "stream",
     "text": [
      "100%|███████████████████████████████████████████████████████████████████████████| 1469/1469 [55:30<00:00,  2.27s/batch]\n",
      "100%|█████████████████████████████████████████████████████████████████████████████| 395/395 [02:07<00:00,  3.11batch/s]\n"
     ]
    },
    {
     "name": "stdout",
     "output_type": "stream",
     "text": [
      "| Epoch: 115 | Train loss: 3.731 | Valid loss: 6.080 | time: 3461.63s'\n"
     ]
    },
    {
     "name": "stderr",
     "output_type": "stream",
     "text": [
      "100%|███████████████████████████████████████████████████████████████████████████| 1469/1469 [21:40<00:00,  1.13batch/s]\n",
      "100%|█████████████████████████████████████████████████████████████████████████████| 395/395 [02:12<00:00,  2.99batch/s]\n"
     ]
    },
    {
     "name": "stdout",
     "output_type": "stream",
     "text": [
      "| Epoch: 116 | Train loss: 3.699 | Valid loss: 6.115 | time: 1432.29s'\n"
     ]
    },
    {
     "name": "stderr",
     "output_type": "stream",
     "text": [
      "100%|███████████████████████████████████████████████████████████████████████████| 1469/1469 [21:17<00:00,  1.15batch/s]\n",
      "100%|█████████████████████████████████████████████████████████████████████████████| 395/395 [02:08<00:00,  3.08batch/s]\n"
     ]
    },
    {
     "name": "stdout",
     "output_type": "stream",
     "text": [
      "| Epoch: 117 | Train loss: 3.679 | Valid loss: 6.107 | time: 1405.49s'\n"
     ]
    },
    {
     "name": "stderr",
     "output_type": "stream",
     "text": [
      "100%|███████████████████████████████████████████████████████████████████████████| 1469/1469 [21:10<00:00,  1.16batch/s]\n",
      "100%|█████████████████████████████████████████████████████████████████████████████| 395/395 [02:07<00:00,  3.09batch/s]\n"
     ]
    },
    {
     "name": "stdout",
     "output_type": "stream",
     "text": [
      "| Epoch: 118 | Train loss: 3.676 | Valid loss: 6.113 | time: 1398.59s'\n"
     ]
    },
    {
     "name": "stderr",
     "output_type": "stream",
     "text": [
      "100%|███████████████████████████████████████████████████████████████████████████| 1469/1469 [21:38<00:00,  1.13batch/s]\n",
      "100%|█████████████████████████████████████████████████████████████████████████████| 395/395 [02:14<00:00,  2.94batch/s]\n"
     ]
    },
    {
     "name": "stdout",
     "output_type": "stream",
     "text": [
      "| Epoch: 119 | Train loss: 3.726 | Valid loss: 6.141 | time: 1432.75s'\n"
     ]
    },
    {
     "name": "stderr",
     "output_type": "stream",
     "text": [
      "100%|███████████████████████████████████████████████████████████████████████████| 1469/1469 [22:07<00:00,  1.11batch/s]\n",
      "100%|█████████████████████████████████████████████████████████████████████████████| 395/395 [02:14<00:00,  2.93batch/s]\n"
     ]
    },
    {
     "name": "stdout",
     "output_type": "stream",
     "text": [
      "| Epoch: 120 | Train loss: 3.744 | Valid loss: 6.102 | time: 1462.25s'\n"
     ]
    },
    {
     "name": "stderr",
     "output_type": "stream",
     "text": [
      "100%|███████████████████████████████████████████████████████████████████████████| 1469/1469 [22:08<00:00,  1.11batch/s]\n",
      "100%|█████████████████████████████████████████████████████████████████████████████| 395/395 [02:14<00:00,  2.93batch/s]\n"
     ]
    },
    {
     "name": "stdout",
     "output_type": "stream",
     "text": [
      "| Epoch: 121 | Train loss: 3.677 | Valid loss: 6.150 | time: 1462.73s'\n"
     ]
    },
    {
     "name": "stderr",
     "output_type": "stream",
     "text": [
      "100%|███████████████████████████████████████████████████████████████████████████| 1469/1469 [21:48<00:00,  1.12batch/s]\n",
      "100%|█████████████████████████████████████████████████████████████████████████████| 395/395 [02:11<00:00,  2.99batch/s]\n"
     ]
    },
    {
     "name": "stdout",
     "output_type": "stream",
     "text": [
      "| Epoch: 122 | Train loss: 3.738 | Valid loss: 6.120 | time: 1440.49s'\n"
     ]
    },
    {
     "name": "stderr",
     "output_type": "stream",
     "text": [
      "100%|███████████████████████████████████████████████████████████████████████████| 1469/1469 [21:39<00:00,  1.13batch/s]\n",
      "100%|█████████████████████████████████████████████████████████████████████████████| 395/395 [02:12<00:00,  2.98batch/s]\n"
     ]
    },
    {
     "name": "stdout",
     "output_type": "stream",
     "text": [
      "| Epoch: 123 | Train loss: 3.715 | Valid loss: 6.146 | time: 1432.22s'\n"
     ]
    },
    {
     "name": "stderr",
     "output_type": "stream",
     "text": [
      "100%|███████████████████████████████████████████████████████████████████████████| 1469/1469 [21:39<00:00,  1.13batch/s]\n",
      "100%|█████████████████████████████████████████████████████████████████████████████| 395/395 [02:12<00:00,  2.99batch/s]\n"
     ]
    },
    {
     "name": "stdout",
     "output_type": "stream",
     "text": [
      "| Epoch: 124 | Train loss: 3.688 | Valid loss: 6.133 | time: 1431.55s'\n"
     ]
    },
    {
     "name": "stderr",
     "output_type": "stream",
     "text": [
      "100%|███████████████████████████████████████████████████████████████████████████| 1469/1469 [21:39<00:00,  1.13batch/s]\n",
      "100%|█████████████████████████████████████████████████████████████████████████████| 395/395 [02:12<00:00,  2.99batch/s]\n"
     ]
    },
    {
     "name": "stdout",
     "output_type": "stream",
     "text": [
      "| Epoch: 125 | Train loss: 3.722 | Valid loss: 6.081 | time: 1431.60s'\n"
     ]
    },
    {
     "name": "stderr",
     "output_type": "stream",
     "text": [
      "100%|███████████████████████████████████████████████████████████████████████████| 1469/1469 [21:39<00:00,  1.13batch/s]\n",
      "100%|█████████████████████████████████████████████████████████████████████████████| 395/395 [02:12<00:00,  2.98batch/s]\n"
     ]
    },
    {
     "name": "stdout",
     "output_type": "stream",
     "text": [
      "| Epoch: 126 | Train loss: 3.837 | Valid loss: 6.044 | time: 1431.99s'\n"
     ]
    },
    {
     "name": "stderr",
     "output_type": "stream",
     "text": [
      "100%|███████████████████████████████████████████████████████████████████████████| 1469/1469 [21:40<00:00,  1.13batch/s]\n",
      "100%|█████████████████████████████████████████████████████████████████████████████| 395/395 [02:12<00:00,  2.98batch/s]\n"
     ]
    },
    {
     "name": "stdout",
     "output_type": "stream",
     "text": [
      "| Epoch: 127 | Train loss: 3.755 | Valid loss: 6.066 | time: 1433.04s'\n"
     ]
    },
    {
     "name": "stderr",
     "output_type": "stream",
     "text": [
      "100%|███████████████████████████████████████████████████████████████████████████| 1469/1469 [21:46<00:00,  1.12batch/s]\n",
      "100%|█████████████████████████████████████████████████████████████████████████████| 395/395 [02:12<00:00,  2.99batch/s]\n"
     ]
    },
    {
     "name": "stdout",
     "output_type": "stream",
     "text": [
      "| Epoch: 128 | Train loss: 3.782 | Valid loss: 6.125 | time: 1439.08s'\n"
     ]
    },
    {
     "name": "stderr",
     "output_type": "stream",
     "text": [
      "100%|███████████████████████████████████████████████████████████████████████████| 1469/1469 [20:27<00:00,  1.20batch/s]\n",
      "100%|█████████████████████████████████████████████████████████████████████████████| 395/395 [02:04<00:00,  3.17batch/s]\n"
     ]
    },
    {
     "name": "stdout",
     "output_type": "stream",
     "text": [
      "| Epoch: 129 | Train loss: 3.627 | Valid loss: 6.134 | time: 1352.47s'\n"
     ]
    },
    {
     "name": "stderr",
     "output_type": "stream",
     "text": [
      "100%|███████████████████████████████████████████████████████████████████████████| 1469/1469 [17:37<00:00,  1.39batch/s]\n",
      "100%|█████████████████████████████████████████████████████████████████████████████| 395/395 [02:04<00:00,  3.16batch/s]\n"
     ]
    },
    {
     "name": "stdout",
     "output_type": "stream",
     "text": [
      "| Epoch: 130 | Train loss: 3.762 | Valid loss: 6.064 | time: 1182.61s'\n"
     ]
    },
    {
     "name": "stderr",
     "output_type": "stream",
     "text": [
      "100%|███████████████████████████████████████████████████████████████████████████| 1469/1469 [20:10<00:00,  1.21batch/s]\n",
      "100%|█████████████████████████████████████████████████████████████████████████████| 395/395 [02:03<00:00,  3.20batch/s]\n"
     ]
    },
    {
     "name": "stdout",
     "output_type": "stream",
     "text": [
      "| Epoch: 131 | Train loss: 3.806 | Valid loss: 6.065 | time: 1333.75s'\n"
     ]
    },
    {
     "name": "stderr",
     "output_type": "stream",
     "text": [
      "100%|███████████████████████████████████████████████████████████████████████████| 1469/1469 [20:10<00:00,  1.21batch/s]\n",
      "100%|█████████████████████████████████████████████████████████████████████████████| 395/395 [02:02<00:00,  3.22batch/s]\n"
     ]
    },
    {
     "name": "stdout",
     "output_type": "stream",
     "text": [
      "| Epoch: 132 | Train loss: 3.766 | Valid loss: 6.098 | time: 1333.25s'\n"
     ]
    },
    {
     "name": "stderr",
     "output_type": "stream",
     "text": [
      "100%|███████████████████████████████████████████████████████████████████████████| 1469/1469 [20:22<00:00,  1.20batch/s]\n",
      "100%|█████████████████████████████████████████████████████████████████████████████| 395/395 [02:14<00:00,  2.93batch/s]\n"
     ]
    },
    {
     "name": "stdout",
     "output_type": "stream",
     "text": [
      "| Epoch: 133 | Train loss: 3.724 | Valid loss: 6.099 | time: 1357.16s'\n"
     ]
    },
    {
     "name": "stderr",
     "output_type": "stream",
     "text": [
      "100%|███████████████████████████████████████████████████████████████████████████| 1469/1469 [19:00<00:00,  1.29batch/s]\n",
      "100%|█████████████████████████████████████████████████████████████████████████████| 395/395 [01:50<00:00,  3.59batch/s]\n"
     ]
    },
    {
     "name": "stdout",
     "output_type": "stream",
     "text": [
      "| Epoch: 134 | Train loss: 3.713 | Valid loss: 6.157 | time: 1250.55s'\n"
     ]
    },
    {
     "name": "stderr",
     "output_type": "stream",
     "text": [
      "100%|███████████████████████████████████████████████████████████████████████████| 1469/1469 [17:49<00:00,  1.37batch/s]\n",
      "100%|█████████████████████████████████████████████████████████████████████████████| 395/395 [01:50<00:00,  3.58batch/s]\n"
     ]
    },
    {
     "name": "stdout",
     "output_type": "stream",
     "text": [
      "| Epoch: 135 | Train loss: 3.624 | Valid loss: 6.150 | time: 1179.76s'\n"
     ]
    },
    {
     "name": "stderr",
     "output_type": "stream",
     "text": [
      "100%|███████████████████████████████████████████████████████████████████████████| 1469/1469 [19:57<00:00,  1.23batch/s]\n",
      "100%|█████████████████████████████████████████████████████████████████████████████| 395/395 [02:05<00:00,  3.15batch/s]\n"
     ]
    },
    {
     "name": "stdout",
     "output_type": "stream",
     "text": [
      "| Epoch: 136 | Train loss: 3.659 | Valid loss: 6.079 | time: 1323.26s'\n"
     ]
    },
    {
     "name": "stderr",
     "output_type": "stream",
     "text": [
      "100%|███████████████████████████████████████████████████████████████████████████| 1469/1469 [20:35<00:00,  1.19batch/s]\n",
      "100%|█████████████████████████████████████████████████████████████████████████████| 395/395 [02:03<00:00,  3.20batch/s]\n"
     ]
    },
    {
     "name": "stdout",
     "output_type": "stream",
     "text": [
      "| Epoch: 137 | Train loss: 3.598 | Valid loss: 6.098 | time: 1358.68s'\n"
     ]
    },
    {
     "name": "stderr",
     "output_type": "stream",
     "text": [
      "100%|███████████████████████████████████████████████████████████████████████████| 1469/1469 [19:48<00:00,  1.24batch/s]\n",
      "100%|█████████████████████████████████████████████████████████████████████████████| 395/395 [01:40<00:00,  3.93batch/s]\n"
     ]
    },
    {
     "name": "stdout",
     "output_type": "stream",
     "text": [
      "| Epoch: 138 | Train loss: 3.583 | Valid loss: 6.152 | time: 1288.70s'\n"
     ]
    },
    {
     "name": "stderr",
     "output_type": "stream",
     "text": [
      "100%|███████████████████████████████████████████████████████████████████████████| 1469/1469 [17:13<00:00,  1.42batch/s]\n",
      "100%|█████████████████████████████████████████████████████████████████████████████| 395/395 [01:49<00:00,  3.61batch/s]\n"
     ]
    },
    {
     "name": "stdout",
     "output_type": "stream",
     "text": [
      "| Epoch: 139 | Train loss: 3.552 | Valid loss: 6.125 | time: 1142.62s'\n"
     ]
    },
    {
     "name": "stderr",
     "output_type": "stream",
     "text": [
      "100%|███████████████████████████████████████████████████████████████████████████| 1469/1469 [22:22<00:00,  1.09batch/s]\n",
      "100%|█████████████████████████████████████████████████████████████████████████████| 395/395 [02:28<00:00,  2.67batch/s]\n"
     ]
    },
    {
     "name": "stdout",
     "output_type": "stream",
     "text": [
      "| Epoch: 140 | Train loss: 3.533 | Valid loss: 6.152 | time: 1490.31s'\n"
     ]
    },
    {
     "name": "stderr",
     "output_type": "stream",
     "text": [
      "100%|███████████████████████████████████████████████████████████████████████████| 1469/1469 [21:39<00:00,  1.13batch/s]\n",
      "100%|█████████████████████████████████████████████████████████████████████████████| 395/395 [02:13<00:00,  2.95batch/s]\n"
     ]
    },
    {
     "name": "stdout",
     "output_type": "stream",
     "text": [
      "| Epoch: 141 | Train loss: 3.574 | Valid loss: 6.157 | time: 1433.53s'\n"
     ]
    },
    {
     "name": "stderr",
     "output_type": "stream",
     "text": [
      "100%|███████████████████████████████████████████████████████████████████████████| 1469/1469 [22:22<00:00,  1.09batch/s]\n",
      "100%|█████████████████████████████████████████████████████████████████████████████| 395/395 [02:15<00:00,  2.91batch/s]\n"
     ]
    },
    {
     "name": "stdout",
     "output_type": "stream",
     "text": [
      "| Epoch: 142 | Train loss: 3.526 | Valid loss: 6.192 | time: 1478.02s'\n"
     ]
    },
    {
     "name": "stderr",
     "output_type": "stream",
     "text": [
      "100%|███████████████████████████████████████████████████████████████████████████| 1469/1469 [28:47<00:00,  1.18s/batch]\n",
      "100%|█████████████████████████████████████████████████████████████████████████████| 395/395 [01:48<00:00,  3.65batch/s]\n"
     ]
    },
    {
     "name": "stdout",
     "output_type": "stream",
     "text": [
      "| Epoch: 143 | Train loss: 3.675 | Valid loss: 6.161 | time: 1835.53s'\n"
     ]
    },
    {
     "name": "stderr",
     "output_type": "stream",
     "text": [
      "100%|███████████████████████████████████████████████████████████████████████████| 1469/1469 [19:14<00:00,  1.27batch/s]\n",
      "100%|█████████████████████████████████████████████████████████████████████████████| 395/395 [02:12<00:00,  2.98batch/s]\n"
     ]
    },
    {
     "name": "stdout",
     "output_type": "stream",
     "text": [
      "| Epoch: 144 | Train loss: 3.648 | Valid loss: 6.085 | time: 1287.18s'\n"
     ]
    },
    {
     "name": "stderr",
     "output_type": "stream",
     "text": [
      "100%|███████████████████████████████████████████████████████████████████████████| 1469/1469 [21:44<00:00,  1.13batch/s]\n",
      "100%|█████████████████████████████████████████████████████████████████████████████| 395/395 [02:12<00:00,  2.98batch/s]\n"
     ]
    },
    {
     "name": "stdout",
     "output_type": "stream",
     "text": [
      "| Epoch: 145 | Train loss: 3.549 | Valid loss: 6.203 | time: 1437.12s'\n"
     ]
    },
    {
     "name": "stderr",
     "output_type": "stream",
     "text": [
      "100%|███████████████████████████████████████████████████████████████████████████| 1469/1469 [21:44<00:00,  1.13batch/s]\n",
      "100%|█████████████████████████████████████████████████████████████████████████████| 395/395 [02:12<00:00,  2.97batch/s]\n"
     ]
    },
    {
     "name": "stdout",
     "output_type": "stream",
     "text": [
      "| Epoch: 146 | Train loss: 3.530 | Valid loss: 6.220 | time: 1437.39s'\n"
     ]
    },
    {
     "name": "stderr",
     "output_type": "stream",
     "text": [
      "100%|███████████████████████████████████████████████████████████████████████████| 1469/1469 [21:45<00:00,  1.13batch/s]\n",
      "100%|█████████████████████████████████████████████████████████████████████████████| 395/395 [02:12<00:00,  2.98batch/s]\n"
     ]
    },
    {
     "name": "stdout",
     "output_type": "stream",
     "text": [
      "| Epoch: 147 | Train loss: 3.589 | Valid loss: 6.171 | time: 1438.15s'\n"
     ]
    },
    {
     "name": "stderr",
     "output_type": "stream",
     "text": [
      "100%|███████████████████████████████████████████████████████████████████████████| 1469/1469 [21:46<00:00,  1.12batch/s]\n",
      "100%|█████████████████████████████████████████████████████████████████████████████| 395/395 [02:12<00:00,  2.97batch/s]\n"
     ]
    },
    {
     "name": "stdout",
     "output_type": "stream",
     "text": [
      "| Epoch: 148 | Train loss: 3.673 | Valid loss: 6.125 | time: 1439.57s'\n"
     ]
    },
    {
     "name": "stderr",
     "output_type": "stream",
     "text": [
      "100%|███████████████████████████████████████████████████████████████████████████| 1469/1469 [21:45<00:00,  1.12batch/s]\n",
      "100%|█████████████████████████████████████████████████████████████████████████████| 395/395 [02:12<00:00,  2.99batch/s]\n"
     ]
    },
    {
     "name": "stdout",
     "output_type": "stream",
     "text": [
      "| Epoch: 149 | Train loss: 3.590 | Valid loss: 6.180 | time: 1438.24s'\n"
     ]
    },
    {
     "name": "stderr",
     "output_type": "stream",
     "text": [
      "100%|███████████████████████████████████████████████████████████████████████████| 1469/1469 [21:44<00:00,  1.13batch/s]\n",
      "100%|█████████████████████████████████████████████████████████████████████████████| 395/395 [02:12<00:00,  2.98batch/s]\n"
     ]
    },
    {
     "name": "stdout",
     "output_type": "stream",
     "text": [
      "| Epoch: 150 | Train loss: 3.587 | Valid loss: 6.212 | time: 1436.73s'\n"
     ]
    },
    {
     "name": "stderr",
     "output_type": "stream",
     "text": [
      "100%|███████████████████████████████████████████████████████████████████████████| 1469/1469 [21:44<00:00,  1.13batch/s]\n",
      "100%|█████████████████████████████████████████████████████████████████████████████| 395/395 [02:12<00:00,  2.98batch/s]\n"
     ]
    },
    {
     "name": "stdout",
     "output_type": "stream",
     "text": [
      "| Epoch: 151 | Train loss: 3.585 | Valid loss: 6.198 | time: 1437.17s'\n"
     ]
    },
    {
     "name": "stderr",
     "output_type": "stream",
     "text": [
      "100%|███████████████████████████████████████████████████████████████████████████| 1469/1469 [21:45<00:00,  1.13batch/s]\n",
      "100%|█████████████████████████████████████████████████████████████████████████████| 395/395 [02:12<00:00,  2.98batch/s]\n"
     ]
    },
    {
     "name": "stdout",
     "output_type": "stream",
     "text": [
      "| Epoch: 152 | Train loss: 3.596 | Valid loss: 6.178 | time: 1438.01s'\n"
     ]
    },
    {
     "name": "stderr",
     "output_type": "stream",
     "text": [
      "100%|███████████████████████████████████████████████████████████████████████████| 1469/1469 [21:55<00:00,  1.12batch/s]\n",
      "100%|█████████████████████████████████████████████████████████████████████████████| 395/395 [02:13<00:00,  2.97batch/s]\n"
     ]
    },
    {
     "name": "stdout",
     "output_type": "stream",
     "text": [
      "| Epoch: 153 | Train loss: 3.594 | Valid loss: 6.183 | time: 1441.20s'\n"
     ]
    },
    {
     "name": "stderr",
     "output_type": "stream",
     "text": [
      "100%|███████████████████████████████████████████████████████████████████████████| 1469/1469 [21:51<00:00,  1.12batch/s]\n",
      "100%|█████████████████████████████████████████████████████████████████████████████| 395/395 [02:12<00:00,  2.97batch/s]\n"
     ]
    },
    {
     "name": "stdout",
     "output_type": "stream",
     "text": [
      "| Epoch: 154 | Train loss: 3.571 | Valid loss: 6.185 | time: 1444.74s'\n"
     ]
    },
    {
     "name": "stderr",
     "output_type": "stream",
     "text": [
      "100%|███████████████████████████████████████████████████████████████████████████| 1469/1469 [21:52<00:00,  1.12batch/s]\n",
      "100%|█████████████████████████████████████████████████████████████████████████████| 395/395 [02:12<00:00,  2.97batch/s]\n"
     ]
    },
    {
     "name": "stdout",
     "output_type": "stream",
     "text": [
      "| Epoch: 155 | Train loss: 3.555 | Valid loss: 6.176 | time: 1445.10s'\n"
     ]
    },
    {
     "name": "stderr",
     "output_type": "stream",
     "text": [
      "100%|███████████████████████████████████████████████████████████████████████████| 1469/1469 [21:52<00:00,  1.12batch/s]\n",
      "100%|█████████████████████████████████████████████████████████████████████████████| 395/395 [02:13<00:00,  2.96batch/s]\n"
     ]
    },
    {
     "name": "stdout",
     "output_type": "stream",
     "text": [
      "| Epoch: 156 | Train loss: 3.488 | Valid loss: 6.236 | time: 1445.42s'\n"
     ]
    },
    {
     "name": "stderr",
     "output_type": "stream",
     "text": [
      "100%|███████████████████████████████████████████████████████████████████████████| 1469/1469 [21:52<00:00,  1.12batch/s]\n",
      "100%|█████████████████████████████████████████████████████████████████████████████| 395/395 [02:12<00:00,  2.97batch/s]\n"
     ]
    },
    {
     "name": "stdout",
     "output_type": "stream",
     "text": [
      "| Epoch: 157 | Train loss: 3.501 | Valid loss: 6.222 | time: 1445.61s'\n"
     ]
    },
    {
     "name": "stderr",
     "output_type": "stream",
     "text": [
      "100%|███████████████████████████████████████████████████████████████████████████| 1469/1469 [21:51<00:00,  1.12batch/s]\n",
      "100%|█████████████████████████████████████████████████████████████████████████████| 395/395 [02:13<00:00,  2.97batch/s]\n"
     ]
    },
    {
     "name": "stdout",
     "output_type": "stream",
     "text": [
      "| Epoch: 158 | Train loss: 3.496 | Valid loss: 6.248 | time: 1444.51s'\n"
     ]
    },
    {
     "name": "stderr",
     "output_type": "stream",
     "text": [
      "100%|███████████████████████████████████████████████████████████████████████████| 1469/1469 [21:52<00:00,  1.12batch/s]\n",
      "100%|█████████████████████████████████████████████████████████████████████████████| 395/395 [02:12<00:00,  2.97batch/s]\n"
     ]
    },
    {
     "name": "stdout",
     "output_type": "stream",
     "text": [
      "| Epoch: 159 | Train loss: 3.483 | Valid loss: 6.190 | time: 1445.91s'\n"
     ]
    },
    {
     "name": "stderr",
     "output_type": "stream",
     "text": [
      "100%|███████████████████████████████████████████████████████████████████████████| 1469/1469 [21:52<00:00,  1.12batch/s]\n",
      "100%|█████████████████████████████████████████████████████████████████████████████| 395/395 [02:13<00:00,  2.96batch/s]\n"
     ]
    },
    {
     "name": "stdout",
     "output_type": "stream",
     "text": [
      "| Epoch: 160 | Train loss: 3.633 | Valid loss: 6.153 | time: 1445.64s'\n"
     ]
    },
    {
     "name": "stderr",
     "output_type": "stream",
     "text": [
      "100%|███████████████████████████████████████████████████████████████████████████| 1469/1469 [21:52<00:00,  1.12batch/s]\n",
      "100%|█████████████████████████████████████████████████████████████████████████████| 395/395 [02:13<00:00,  2.96batch/s]\n"
     ]
    },
    {
     "name": "stdout",
     "output_type": "stream",
     "text": [
      "| Epoch: 161 | Train loss: 3.570 | Valid loss: 6.178 | time: 1446.09s'\n"
     ]
    },
    {
     "name": "stderr",
     "output_type": "stream",
     "text": [
      "100%|███████████████████████████████████████████████████████████████████████████| 1469/1469 [21:53<00:00,  1.12batch/s]\n",
      "100%|█████████████████████████████████████████████████████████████████████████████| 395/395 [02:13<00:00,  2.97batch/s]\n"
     ]
    },
    {
     "name": "stdout",
     "output_type": "stream",
     "text": [
      "| Epoch: 162 | Train loss: 3.563 | Valid loss: 6.168 | time: 1446.84s'\n"
     ]
    },
    {
     "name": "stderr",
     "output_type": "stream",
     "text": [
      "100%|███████████████████████████████████████████████████████████████████████████| 1469/1469 [21:52<00:00,  1.12batch/s]\n",
      "100%|█████████████████████████████████████████████████████████████████████████████| 395/395 [02:13<00:00,  2.97batch/s]\n"
     ]
    },
    {
     "name": "stdout",
     "output_type": "stream",
     "text": [
      "| Epoch: 163 | Train loss: 3.543 | Valid loss: 6.233 | time: 1445.50s'\n"
     ]
    },
    {
     "name": "stderr",
     "output_type": "stream",
     "text": [
      "100%|███████████████████████████████████████████████████████████████████████████| 1469/1469 [21:53<00:00,  1.12batch/s]\n",
      "100%|█████████████████████████████████████████████████████████████████████████████| 395/395 [02:13<00:00,  2.97batch/s]\n"
     ]
    },
    {
     "name": "stdout",
     "output_type": "stream",
     "text": [
      "| Epoch: 164 | Train loss: 3.504 | Valid loss: 6.246 | time: 1446.84s'\n"
     ]
    },
    {
     "name": "stderr",
     "output_type": "stream",
     "text": [
      "100%|███████████████████████████████████████████████████████████████████████████| 1469/1469 [21:54<00:00,  1.12batch/s]\n",
      "100%|█████████████████████████████████████████████████████████████████████████████| 395/395 [02:13<00:00,  2.97batch/s]\n"
     ]
    },
    {
     "name": "stdout",
     "output_type": "stream",
     "text": [
      "| Epoch: 165 | Train loss: 3.481 | Valid loss: 6.239 | time: 1447.32s'\n"
     ]
    },
    {
     "name": "stderr",
     "output_type": "stream",
     "text": [
      "100%|███████████████████████████████████████████████████████████████████████████| 1469/1469 [21:54<00:00,  1.12batch/s]\n",
      "100%|█████████████████████████████████████████████████████████████████████████████| 395/395 [02:13<00:00,  2.96batch/s]\n"
     ]
    },
    {
     "name": "stdout",
     "output_type": "stream",
     "text": [
      "| Epoch: 166 | Train loss: 3.394 | Valid loss: 6.220 | time: 1447.82s'\n"
     ]
    },
    {
     "name": "stderr",
     "output_type": "stream",
     "text": [
      "100%|███████████████████████████████████████████████████████████████████████████| 1469/1469 [21:50<00:00,  1.12batch/s]\n",
      "100%|█████████████████████████████████████████████████████████████████████████████| 395/395 [02:13<00:00,  2.96batch/s]\n"
     ]
    },
    {
     "name": "stdout",
     "output_type": "stream",
     "text": [
      "| Epoch: 167 | Train loss: 3.425 | Valid loss: 6.200 | time: 1443.93s'\n"
     ]
    },
    {
     "name": "stderr",
     "output_type": "stream",
     "text": [
      "100%|███████████████████████████████████████████████████████████████████████████| 1469/1469 [21:51<00:00,  1.12batch/s]\n",
      "100%|█████████████████████████████████████████████████████████████████████████████| 395/395 [02:13<00:00,  2.97batch/s]\n"
     ]
    },
    {
     "name": "stdout",
     "output_type": "stream",
     "text": [
      "| Epoch: 168 | Train loss: 3.521 | Valid loss: 6.175 | time: 1445.13s'\n"
     ]
    },
    {
     "name": "stderr",
     "output_type": "stream",
     "text": [
      "100%|███████████████████████████████████████████████████████████████████████████| 1469/1469 [21:51<00:00,  1.12batch/s]\n",
      "100%|█████████████████████████████████████████████████████████████████████████████| 395/395 [02:13<00:00,  2.96batch/s]\n"
     ]
    },
    {
     "name": "stdout",
     "output_type": "stream",
     "text": [
      "| Epoch: 169 | Train loss: 3.471 | Valid loss: 6.191 | time: 1444.80s'\n"
     ]
    },
    {
     "name": "stderr",
     "output_type": "stream",
     "text": [
      "100%|███████████████████████████████████████████████████████████████████████████| 1469/1469 [21:50<00:00,  1.12batch/s]\n",
      "100%|█████████████████████████████████████████████████████████████████████████████| 395/395 [02:13<00:00,  2.96batch/s]\n"
     ]
    },
    {
     "name": "stdout",
     "output_type": "stream",
     "text": [
      "| Epoch: 170 | Train loss: 3.447 | Valid loss: 6.264 | time: 1443.57s'\n"
     ]
    },
    {
     "name": "stderr",
     "output_type": "stream",
     "text": [
      "100%|███████████████████████████████████████████████████████████████████████████| 1469/1469 [21:50<00:00,  1.12batch/s]\n",
      "100%|█████████████████████████████████████████████████████████████████████████████| 395/395 [02:13<00:00,  2.95batch/s]\n"
     ]
    },
    {
     "name": "stdout",
     "output_type": "stream",
     "text": [
      "| Epoch: 171 | Train loss: 3.468 | Valid loss: 6.279 | time: 1444.44s'\n"
     ]
    },
    {
     "name": "stderr",
     "output_type": "stream",
     "text": [
      "100%|███████████████████████████████████████████████████████████████████████████| 1469/1469 [21:50<00:00,  1.12batch/s]\n",
      "100%|█████████████████████████████████████████████████████████████████████████████| 395/395 [02:13<00:00,  2.97batch/s]\n"
     ]
    },
    {
     "name": "stdout",
     "output_type": "stream",
     "text": [
      "| Epoch: 172 | Train loss: 3.479 | Valid loss: 6.226 | time: 1443.50s'\n"
     ]
    },
    {
     "name": "stderr",
     "output_type": "stream",
     "text": [
      "100%|███████████████████████████████████████████████████████████████████████████| 1469/1469 [21:51<00:00,  1.12batch/s]\n",
      "100%|█████████████████████████████████████████████████████████████████████████████| 395/395 [02:13<00:00,  2.96batch/s]\n"
     ]
    },
    {
     "name": "stdout",
     "output_type": "stream",
     "text": [
      "| Epoch: 173 | Train loss: 3.478 | Valid loss: 6.214 | time: 1444.48s'\n"
     ]
    },
    {
     "name": "stderr",
     "output_type": "stream",
     "text": [
      "100%|███████████████████████████████████████████████████████████████████████████| 1469/1469 [21:51<00:00,  1.12batch/s]\n",
      "100%|█████████████████████████████████████████████████████████████████████████████| 395/395 [02:13<00:00,  2.96batch/s]\n"
     ]
    },
    {
     "name": "stdout",
     "output_type": "stream",
     "text": [
      "| Epoch: 174 | Train loss: 3.477 | Valid loss: 6.240 | time: 1444.65s'\n"
     ]
    },
    {
     "name": "stderr",
     "output_type": "stream",
     "text": [
      "100%|███████████████████████████████████████████████████████████████████████████| 1469/1469 [21:50<00:00,  1.12batch/s]\n",
      "100%|█████████████████████████████████████████████████████████████████████████████| 395/395 [02:13<00:00,  2.96batch/s]\n"
     ]
    },
    {
     "name": "stdout",
     "output_type": "stream",
     "text": [
      "| Epoch: 175 | Train loss: 3.484 | Valid loss: 6.250 | time: 1444.15s'\n"
     ]
    },
    {
     "name": "stderr",
     "output_type": "stream",
     "text": [
      "100%|███████████████████████████████████████████████████████████████████████████| 1469/1469 [21:51<00:00,  1.12batch/s]\n",
      "100%|█████████████████████████████████████████████████████████████████████████████| 395/395 [02:13<00:00,  2.96batch/s]\n"
     ]
    },
    {
     "name": "stdout",
     "output_type": "stream",
     "text": [
      "| Epoch: 176 | Train loss: 3.498 | Valid loss: 6.227 | time: 1444.61s'\n"
     ]
    },
    {
     "name": "stderr",
     "output_type": "stream",
     "text": [
      "100%|███████████████████████████████████████████████████████████████████████████| 1469/1469 [21:50<00:00,  1.12batch/s]\n",
      "100%|█████████████████████████████████████████████████████████████████████████████| 395/395 [02:13<00:00,  2.96batch/s]\n"
     ]
    },
    {
     "name": "stdout",
     "output_type": "stream",
     "text": [
      "| Epoch: 177 | Train loss: 3.471 | Valid loss: 6.169 | time: 1444.16s'\n"
     ]
    },
    {
     "name": "stderr",
     "output_type": "stream",
     "text": [
      "100%|███████████████████████████████████████████████████████████████████████████| 1469/1469 [21:51<00:00,  1.12batch/s]\n",
      "100%|█████████████████████████████████████████████████████████████████████████████| 395/395 [02:13<00:00,  2.97batch/s]\n"
     ]
    },
    {
     "name": "stdout",
     "output_type": "stream",
     "text": [
      "| Epoch: 178 | Train loss: 3.450 | Valid loss: 6.157 | time: 1444.24s'\n"
     ]
    },
    {
     "name": "stderr",
     "output_type": "stream",
     "text": [
      "100%|███████████████████████████████████████████████████████████████████████████| 1469/1469 [21:51<00:00,  1.12batch/s]\n",
      "100%|█████████████████████████████████████████████████████████████████████████████| 395/395 [02:13<00:00,  2.96batch/s]\n"
     ]
    },
    {
     "name": "stdout",
     "output_type": "stream",
     "text": [
      "| Epoch: 179 | Train loss: 3.432 | Valid loss: 6.207 | time: 1444.89s'\n"
     ]
    },
    {
     "name": "stderr",
     "output_type": "stream",
     "text": [
      "100%|███████████████████████████████████████████████████████████████████████████| 1469/1469 [21:52<00:00,  1.12batch/s]\n",
      "100%|█████████████████████████████████████████████████████████████████████████████| 395/395 [02:13<00:00,  2.96batch/s]\n"
     ]
    },
    {
     "name": "stdout",
     "output_type": "stream",
     "text": [
      "| Epoch: 180 | Train loss: 3.454 | Valid loss: 6.217 | time: 1445.96s'\n"
     ]
    },
    {
     "name": "stderr",
     "output_type": "stream",
     "text": [
      "100%|███████████████████████████████████████████████████████████████████████████| 1469/1469 [21:52<00:00,  1.12batch/s]\n",
      "100%|█████████████████████████████████████████████████████████████████████████████| 395/395 [02:13<00:00,  2.95batch/s]\n"
     ]
    },
    {
     "name": "stdout",
     "output_type": "stream",
     "text": [
      "| Epoch: 181 | Train loss: 3.448 | Valid loss: 6.248 | time: 1445.91s'\n"
     ]
    },
    {
     "name": "stderr",
     "output_type": "stream",
     "text": [
      "100%|███████████████████████████████████████████████████████████████████████████| 1469/1469 [21:51<00:00,  1.12batch/s]\n",
      "100%|█████████████████████████████████████████████████████████████████████████████| 395/395 [02:13<00:00,  2.96batch/s]\n"
     ]
    },
    {
     "name": "stdout",
     "output_type": "stream",
     "text": [
      "| Epoch: 182 | Train loss: 3.415 | Valid loss: 6.240 | time: 1444.77s'\n"
     ]
    },
    {
     "name": "stderr",
     "output_type": "stream",
     "text": [
      "100%|███████████████████████████████████████████████████████████████████████████| 1469/1469 [21:51<00:00,  1.12batch/s]\n",
      "100%|█████████████████████████████████████████████████████████████████████████████| 395/395 [02:13<00:00,  2.96batch/s]\n"
     ]
    },
    {
     "name": "stdout",
     "output_type": "stream",
     "text": [
      "| Epoch: 183 | Train loss: 3.434 | Valid loss: 6.184 | time: 1444.93s'\n"
     ]
    },
    {
     "name": "stderr",
     "output_type": "stream",
     "text": [
      "100%|███████████████████████████████████████████████████████████████████████████| 1469/1469 [21:51<00:00,  1.12batch/s]\n",
      "100%|█████████████████████████████████████████████████████████████████████████████| 395/395 [02:13<00:00,  2.97batch/s]\n"
     ]
    },
    {
     "name": "stdout",
     "output_type": "stream",
     "text": [
      "| Epoch: 184 | Train loss: 3.453 | Valid loss: 6.180 | time: 1444.87s'\n"
     ]
    },
    {
     "name": "stderr",
     "output_type": "stream",
     "text": [
      "100%|███████████████████████████████████████████████████████████████████████████| 1469/1469 [21:42<00:00,  1.13batch/s]\n",
      "100%|█████████████████████████████████████████████████████████████████████████████| 395/395 [02:13<00:00,  2.96batch/s]\n"
     ]
    },
    {
     "name": "stdout",
     "output_type": "stream",
     "text": [
      "| Epoch: 185 | Train loss: 3.458 | Valid loss: 6.241 | time: 1435.86s'\n"
     ]
    },
    {
     "name": "stderr",
     "output_type": "stream",
     "text": [
      "100%|███████████████████████████████████████████████████████████████████████████| 1469/1469 [21:42<00:00,  1.13batch/s]\n",
      "100%|█████████████████████████████████████████████████████████████████████████████| 395/395 [02:13<00:00,  2.97batch/s]\n"
     ]
    },
    {
     "name": "stdout",
     "output_type": "stream",
     "text": [
      "| Epoch: 186 | Train loss: 3.391 | Valid loss: 6.287 | time: 1435.44s'\n"
     ]
    },
    {
     "name": "stderr",
     "output_type": "stream",
     "text": [
      "100%|███████████████████████████████████████████████████████████████████████████| 1469/1469 [21:42<00:00,  1.13batch/s]\n",
      "100%|█████████████████████████████████████████████████████████████████████████████| 395/395 [02:12<00:00,  2.97batch/s]\n"
     ]
    },
    {
     "name": "stdout",
     "output_type": "stream",
     "text": [
      "| Epoch: 187 | Train loss: 3.402 | Valid loss: 6.199 | time: 1435.57s'\n"
     ]
    },
    {
     "name": "stderr",
     "output_type": "stream",
     "text": [
      "100%|███████████████████████████████████████████████████████████████████████████| 1469/1469 [21:42<00:00,  1.13batch/s]\n",
      "100%|█████████████████████████████████████████████████████████████████████████████| 395/395 [02:12<00:00,  2.97batch/s]\n"
     ]
    },
    {
     "name": "stdout",
     "output_type": "stream",
     "text": [
      "| Epoch: 188 | Train loss: 3.399 | Valid loss: 6.197 | time: 1435.74s'\n"
     ]
    },
    {
     "name": "stderr",
     "output_type": "stream",
     "text": [
      "100%|███████████████████████████████████████████████████████████████████████████| 1469/1469 [21:42<00:00,  1.13batch/s]\n",
      "100%|█████████████████████████████████████████████████████████████████████████████| 395/395 [02:12<00:00,  2.98batch/s]\n"
     ]
    },
    {
     "name": "stdout",
     "output_type": "stream",
     "text": [
      "| Epoch: 189 | Train loss: 3.348 | Valid loss: 6.283 | time: 1435.16s'\n"
     ]
    },
    {
     "name": "stderr",
     "output_type": "stream",
     "text": [
      "100%|███████████████████████████████████████████████████████████████████████████| 1469/1469 [21:42<00:00,  1.13batch/s]\n",
      "100%|█████████████████████████████████████████████████████████████████████████████| 395/395 [02:13<00:00,  2.97batch/s]\n"
     ]
    },
    {
     "name": "stdout",
     "output_type": "stream",
     "text": [
      "| Epoch: 190 | Train loss: 3.428 | Valid loss: 6.262 | time: 1435.35s'\n"
     ]
    },
    {
     "name": "stderr",
     "output_type": "stream",
     "text": [
      "100%|███████████████████████████████████████████████████████████████████████████| 1469/1469 [21:42<00:00,  1.13batch/s]\n",
      "100%|█████████████████████████████████████████████████████████████████████████████| 395/395 [02:12<00:00,  2.97batch/s]\n"
     ]
    },
    {
     "name": "stdout",
     "output_type": "stream",
     "text": [
      "| Epoch: 191 | Train loss: 3.403 | Valid loss: 6.195 | time: 1435.05s'\n"
     ]
    },
    {
     "name": "stderr",
     "output_type": "stream",
     "text": [
      "100%|███████████████████████████████████████████████████████████████████████████| 1469/1469 [21:41<00:00,  1.13batch/s]\n",
      "100%|█████████████████████████████████████████████████████████████████████████████| 395/395 [02:13<00:00,  2.97batch/s]\n"
     ]
    },
    {
     "name": "stdout",
     "output_type": "stream",
     "text": [
      "| Epoch: 192 | Train loss: 3.385 | Valid loss: 6.250 | time: 1434.87s'\n"
     ]
    },
    {
     "name": "stderr",
     "output_type": "stream",
     "text": [
      "100%|███████████████████████████████████████████████████████████████████████████| 1469/1469 [21:42<00:00,  1.13batch/s]\n",
      "100%|█████████████████████████████████████████████████████████████████████████████| 395/395 [02:12<00:00,  2.97batch/s]\n"
     ]
    },
    {
     "name": "stdout",
     "output_type": "stream",
     "text": [
      "| Epoch: 193 | Train loss: 3.396 | Valid loss: 6.262 | time: 1434.87s'\n"
     ]
    },
    {
     "name": "stderr",
     "output_type": "stream",
     "text": [
      "100%|███████████████████████████████████████████████████████████████████████████| 1469/1469 [21:42<00:00,  1.13batch/s]\n",
      "100%|█████████████████████████████████████████████████████████████████████████████| 395/395 [02:12<00:00,  2.98batch/s]\n"
     ]
    },
    {
     "name": "stdout",
     "output_type": "stream",
     "text": [
      "| Epoch: 194 | Train loss: 3.372 | Valid loss: 6.241 | time: 1435.36s'\n"
     ]
    },
    {
     "name": "stderr",
     "output_type": "stream",
     "text": [
      "100%|███████████████████████████████████████████████████████████████████████████| 1469/1469 [21:42<00:00,  1.13batch/s]\n",
      "100%|█████████████████████████████████████████████████████████████████████████████| 395/395 [02:13<00:00,  2.97batch/s]\n"
     ]
    },
    {
     "name": "stdout",
     "output_type": "stream",
     "text": [
      "| Epoch: 195 | Train loss: 3.374 | Valid loss: 6.244 | time: 1435.73s'\n"
     ]
    },
    {
     "name": "stderr",
     "output_type": "stream",
     "text": [
      "100%|███████████████████████████████████████████████████████████████████████████| 1469/1469 [21:41<00:00,  1.13batch/s]\n",
      "100%|█████████████████████████████████████████████████████████████████████████████| 395/395 [02:12<00:00,  2.97batch/s]\n"
     ]
    },
    {
     "name": "stdout",
     "output_type": "stream",
     "text": [
      "| Epoch: 196 | Train loss: 3.335 | Valid loss: 6.260 | time: 1434.81s'\n"
     ]
    },
    {
     "name": "stderr",
     "output_type": "stream",
     "text": [
      "100%|███████████████████████████████████████████████████████████████████████████| 1469/1469 [21:40<00:00,  1.13batch/s]\n",
      "100%|█████████████████████████████████████████████████████████████████████████████| 395/395 [02:12<00:00,  2.98batch/s]\n"
     ]
    },
    {
     "name": "stdout",
     "output_type": "stream",
     "text": [
      "| Epoch: 197 | Train loss: 3.366 | Valid loss: 6.260 | time: 1433.48s'\n"
     ]
    },
    {
     "name": "stderr",
     "output_type": "stream",
     "text": [
      "100%|███████████████████████████████████████████████████████████████████████████| 1469/1469 [21:41<00:00,  1.13batch/s]\n",
      "100%|█████████████████████████████████████████████████████████████████████████████| 395/395 [02:12<00:00,  2.97batch/s]\n"
     ]
    },
    {
     "name": "stdout",
     "output_type": "stream",
     "text": [
      "| Epoch: 198 | Train loss: 3.326 | Valid loss: 6.265 | time: 1434.29s'\n"
     ]
    },
    {
     "name": "stderr",
     "output_type": "stream",
     "text": [
      "100%|███████████████████████████████████████████████████████████████████████████| 1469/1469 [21:41<00:00,  1.13batch/s]\n",
      "100%|█████████████████████████████████████████████████████████████████████████████| 395/395 [02:12<00:00,  2.97batch/s]\n"
     ]
    },
    {
     "name": "stdout",
     "output_type": "stream",
     "text": [
      "| Epoch: 199 | Train loss: 3.375 | Valid loss: 6.290 | time: 1434.42s'\n"
     ]
    },
    {
     "name": "stderr",
     "output_type": "stream",
     "text": [
      "100%|███████████████████████████████████████████████████████████████████████████| 1469/1469 [21:46<00:00,  1.12batch/s]\n",
      "100%|█████████████████████████████████████████████████████████████████████████████| 395/395 [02:13<00:00,  2.95batch/s]\n"
     ]
    },
    {
     "name": "stdout",
     "output_type": "stream",
     "text": [
      "| Epoch: 200 | Train loss: 3.292 | Valid loss: 6.276 | time: 1440.70s'\n"
     ]
    },
    {
     "name": "stderr",
     "output_type": "stream",
     "text": [
      "100%|███████████████████████████████████████████████████████████████████████████| 1469/1469 [21:50<00:00,  1.12batch/s]\n",
      "100%|█████████████████████████████████████████████████████████████████████████████| 395/395 [02:13<00:00,  2.96batch/s]\n"
     ]
    },
    {
     "name": "stdout",
     "output_type": "stream",
     "text": [
      "| Epoch: 201 | Train loss: 3.211 | Valid loss: 6.297 | time: 1444.02s'\n"
     ]
    },
    {
     "name": "stderr",
     "output_type": "stream",
     "text": [
      "100%|███████████████████████████████████████████████████████████████████████████| 1469/1469 [21:51<00:00,  1.12batch/s]\n",
      "100%|█████████████████████████████████████████████████████████████████████████████| 395/395 [02:13<00:00,  2.96batch/s]\n"
     ]
    },
    {
     "name": "stdout",
     "output_type": "stream",
     "text": [
      "| Epoch: 202 | Train loss: 3.199 | Valid loss: 6.306 | time: 1444.77s'\n"
     ]
    },
    {
     "name": "stderr",
     "output_type": "stream",
     "text": [
      "100%|███████████████████████████████████████████████████████████████████████████| 1469/1469 [21:50<00:00,  1.12batch/s]\n",
      "100%|█████████████████████████████████████████████████████████████████████████████| 395/395 [02:13<00:00,  2.95batch/s]\n"
     ]
    },
    {
     "name": "stdout",
     "output_type": "stream",
     "text": [
      "| Epoch: 203 | Train loss: 3.229 | Valid loss: 6.304 | time: 1444.36s'\n"
     ]
    },
    {
     "name": "stderr",
     "output_type": "stream",
     "text": [
      "100%|███████████████████████████████████████████████████████████████████████████| 1469/1469 [21:50<00:00,  1.12batch/s]\n",
      "100%|█████████████████████████████████████████████████████████████████████████████| 395/395 [02:13<00:00,  2.95batch/s]\n"
     ]
    },
    {
     "name": "stdout",
     "output_type": "stream",
     "text": [
      "| Epoch: 204 | Train loss: 3.225 | Valid loss: 6.325 | time: 1444.31s'\n"
     ]
    },
    {
     "name": "stderr",
     "output_type": "stream",
     "text": [
      "100%|███████████████████████████████████████████████████████████████████████████| 1469/1469 [21:50<00:00,  1.12batch/s]\n",
      "100%|█████████████████████████████████████████████████████████████████████████████| 395/395 [02:13<00:00,  2.95batch/s]\n"
     ]
    },
    {
     "name": "stdout",
     "output_type": "stream",
     "text": [
      "| Epoch: 205 | Train loss: 3.255 | Valid loss: 6.272 | time: 1444.34s'\n"
     ]
    },
    {
     "name": "stderr",
     "output_type": "stream",
     "text": [
      "100%|███████████████████████████████████████████████████████████████████████████| 1469/1469 [21:50<00:00,  1.12batch/s]\n",
      "100%|█████████████████████████████████████████████████████████████████████████████| 395/395 [02:13<00:00,  2.96batch/s]\n"
     ]
    },
    {
     "name": "stdout",
     "output_type": "stream",
     "text": [
      "| Epoch: 206 | Train loss: 3.238 | Valid loss: 6.282 | time: 1443.84s'\n"
     ]
    },
    {
     "name": "stderr",
     "output_type": "stream",
     "text": [
      "100%|███████████████████████████████████████████████████████████████████████████| 1469/1469 [20:21<00:00,  1.20batch/s]\n",
      "100%|█████████████████████████████████████████████████████████████████████████████| 395/395 [01:32<00:00,  4.29batch/s]\n"
     ]
    },
    {
     "name": "stdout",
     "output_type": "stream",
     "text": [
      "| Epoch: 207 | Train loss: 3.243 | Valid loss: 6.332 | time: 1313.32s'\n"
     ]
    },
    {
     "name": "stderr",
     "output_type": "stream",
     "text": [
      "100%|███████████████████████████████████████████████████████████████████████████| 1469/1469 [15:13<00:00,  1.61batch/s]\n",
      "100%|█████████████████████████████████████████████████████████████████████████████| 395/395 [01:31<00:00,  4.32batch/s]\n"
     ]
    },
    {
     "name": "stdout",
     "output_type": "stream",
     "text": [
      "| Epoch: 208 | Train loss: 3.224 | Valid loss: 6.306 | time: 1004.78s'\n"
     ]
    },
    {
     "name": "stderr",
     "output_type": "stream",
     "text": [
      "100%|███████████████████████████████████████████████████████████████████████████| 1469/1469 [15:59<00:00,  1.53batch/s]\n",
      "100%|█████████████████████████████████████████████████████████████████████████████| 395/395 [02:03<00:00,  3.19batch/s]\n"
     ]
    },
    {
     "name": "stdout",
     "output_type": "stream",
     "text": [
      "| Epoch: 209 | Train loss: 3.220 | Valid loss: 6.314 | time: 1083.65s'\n"
     ]
    },
    {
     "name": "stderr",
     "output_type": "stream",
     "text": [
      "100%|███████████████████████████████████████████████████████████████████████████| 1469/1469 [16:21<00:00,  1.50batch/s]\n",
      "100%|█████████████████████████████████████████████████████████████████████████████| 395/395 [01:31<00:00,  4.31batch/s]\n"
     ]
    },
    {
     "name": "stdout",
     "output_type": "stream",
     "text": [
      "| Epoch: 210 | Train loss: 3.288 | Valid loss: 6.244 | time: 1073.17s'\n"
     ]
    },
    {
     "name": "stderr",
     "output_type": "stream",
     "text": [
      "100%|███████████████████████████████████████████████████████████████████████████| 1469/1469 [15:09<00:00,  1.61batch/s]\n",
      "100%|█████████████████████████████████████████████████████████████████████████████| 395/395 [01:31<00:00,  4.31batch/s]\n"
     ]
    },
    {
     "name": "stdout",
     "output_type": "stream",
     "text": [
      "| Epoch: 211 | Train loss: 3.305 | Valid loss: 6.275 | time: 1001.64s'\n"
     ]
    },
    {
     "name": "stderr",
     "output_type": "stream",
     "text": [
      "100%|███████████████████████████████████████████████████████████████████████████| 1469/1469 [15:11<00:00,  1.61batch/s]\n",
      "100%|█████████████████████████████████████████████████████████████████████████████| 395/395 [01:31<00:00,  4.33batch/s]\n"
     ]
    },
    {
     "name": "stdout",
     "output_type": "stream",
     "text": [
      "| Epoch: 212 | Train loss: 3.305 | Valid loss: 6.286 | time: 1002.60s'\n"
     ]
    },
    {
     "name": "stderr",
     "output_type": "stream",
     "text": [
      "100%|███████████████████████████████████████████████████████████████████████████| 1469/1469 [15:11<00:00,  1.61batch/s]\n",
      "100%|█████████████████████████████████████████████████████████████████████████████| 395/395 [01:31<00:00,  4.32batch/s]\n"
     ]
    },
    {
     "name": "stdout",
     "output_type": "stream",
     "text": [
      "| Epoch: 213 | Train loss: 3.298 | Valid loss: 6.244 | time: 1002.63s'\n"
     ]
    },
    {
     "name": "stderr",
     "output_type": "stream",
     "text": [
      "100%|███████████████████████████████████████████████████████████████████████████| 1469/1469 [15:09<00:00,  1.62batch/s]\n",
      "100%|█████████████████████████████████████████████████████████████████████████████| 395/395 [01:31<00:00,  4.31batch/s]\n"
     ]
    },
    {
     "name": "stdout",
     "output_type": "stream",
     "text": [
      "| Epoch: 214 | Train loss: 3.291 | Valid loss: 6.250 | time: 1001.14s'\n"
     ]
    },
    {
     "name": "stderr",
     "output_type": "stream",
     "text": [
      "100%|███████████████████████████████████████████████████████████████████████████| 1469/1469 [15:10<00:00,  1.61batch/s]\n",
      "100%|█████████████████████████████████████████████████████████████████████████████| 395/395 [01:33<00:00,  4.22batch/s]\n"
     ]
    },
    {
     "name": "stdout",
     "output_type": "stream",
     "text": [
      "| Epoch: 215 | Train loss: 3.301 | Valid loss: 6.279 | time: 1004.35s'\n"
     ]
    },
    {
     "name": "stderr",
     "output_type": "stream",
     "text": [
      "100%|███████████████████████████████████████████████████████████████████████████| 1469/1469 [15:11<00:00,  1.61batch/s]\n",
      "100%|█████████████████████████████████████████████████████████████████████████████| 395/395 [01:31<00:00,  4.30batch/s]\n"
     ]
    },
    {
     "name": "stdout",
     "output_type": "stream",
     "text": [
      "| Epoch: 216 | Train loss: 3.287 | Valid loss: 6.261 | time: 1002.92s'\n"
     ]
    },
    {
     "name": "stderr",
     "output_type": "stream",
     "text": [
      "100%|███████████████████████████████████████████████████████████████████████████| 1469/1469 [15:10<00:00,  1.61batch/s]\n",
      "100%|█████████████████████████████████████████████████████████████████████████████| 395/395 [01:31<00:00,  4.32batch/s]\n"
     ]
    },
    {
     "name": "stdout",
     "output_type": "stream",
     "text": [
      "| Epoch: 217 | Train loss: 3.279 | Valid loss: 6.268 | time: 1002.39s'\n"
     ]
    },
    {
     "name": "stderr",
     "output_type": "stream",
     "text": [
      "100%|███████████████████████████████████████████████████████████████████████████| 1469/1469 [15:10<00:00,  1.61batch/s]\n",
      "100%|█████████████████████████████████████████████████████████████████████████████| 395/395 [01:32<00:00,  4.28batch/s]\n"
     ]
    },
    {
     "name": "stdout",
     "output_type": "stream",
     "text": [
      "| Epoch: 218 | Train loss: 3.308 | Valid loss: 6.272 | time: 1003.24s'\n"
     ]
    },
    {
     "name": "stderr",
     "output_type": "stream",
     "text": [
      "100%|█████████████████████████████████████████████████████████████████████████| 1469/1469 [5:15:02<00:00, 12.87s/batch]\n",
      "100%|█████████████████████████████████████████████████████████████████████████████| 395/395 [01:50<00:00,  3.59batch/s]\n"
     ]
    },
    {
     "name": "stdout",
     "output_type": "stream",
     "text": [
      "| Epoch: 219 | Train loss: 3.273 | Valid loss: 6.316 | time: 19015.61s'\n"
     ]
    },
    {
     "name": "stderr",
     "output_type": "stream",
     "text": [
      "100%|███████████████████████████████████████████████████████████████████████████| 1469/1469 [16:35<00:00,  1.48batch/s]\n",
      "100%|█████████████████████████████████████████████████████████████████████████████| 395/395 [01:41<00:00,  3.88batch/s]\n"
     ]
    },
    {
     "name": "stdout",
     "output_type": "stream",
     "text": [
      "| Epoch: 220 | Train loss: 3.252 | Valid loss: 6.324 | time: 1096.96s'\n"
     ]
    },
    {
     "name": "stderr",
     "output_type": "stream",
     "text": [
      "100%|███████████████████████████████████████████████████████████████████████████| 1469/1469 [16:19<00:00,  1.50batch/s]\n",
      "100%|█████████████████████████████████████████████████████████████████████████████| 395/395 [01:42<00:00,  3.86batch/s]\n"
     ]
    },
    {
     "name": "stdout",
     "output_type": "stream",
     "text": [
      "| Epoch: 221 | Train loss: 3.254 | Valid loss: 6.278 | time: 1081.86s'\n"
     ]
    },
    {
     "name": "stderr",
     "output_type": "stream",
     "text": [
      "100%|███████████████████████████████████████████████████████████████████████████| 1469/1469 [18:02<00:00,  1.36batch/s]\n",
      "100%|█████████████████████████████████████████████████████████████████████████████| 395/395 [02:09<00:00,  3.04batch/s]\n"
     ]
    },
    {
     "name": "stdout",
     "output_type": "stream",
     "text": [
      "| Epoch: 222 | Train loss: 3.250 | Valid loss: 6.314 | time: 1211.94s'\n"
     ]
    },
    {
     "name": "stderr",
     "output_type": "stream",
     "text": [
      "100%|███████████████████████████████████████████████████████████████████████████| 1469/1469 [17:09<00:00,  1.43batch/s]\n",
      "100%|█████████████████████████████████████████████████████████████████████████████| 395/395 [01:39<00:00,  3.97batch/s]\n"
     ]
    },
    {
     "name": "stdout",
     "output_type": "stream",
     "text": [
      "| Epoch: 223 | Train loss: 3.255 | Valid loss: 6.294 | time: 1129.03s'\n"
     ]
    },
    {
     "name": "stderr",
     "output_type": "stream",
     "text": [
      "100%|███████████████████████████████████████████████████████████████████████████| 1469/1469 [17:23<00:00,  1.41batch/s]\n",
      "100%|█████████████████████████████████████████████████████████████████████████████| 395/395 [01:42<00:00,  3.86batch/s]\n"
     ]
    },
    {
     "name": "stdout",
     "output_type": "stream",
     "text": [
      "| Epoch: 224 | Train loss: 3.262 | Valid loss: 6.343 | time: 1139.54s'\n"
     ]
    },
    {
     "name": "stderr",
     "output_type": "stream",
     "text": [
      "100%|███████████████████████████████████████████████████████████████████████████| 1469/1469 [17:05<00:00,  1.43batch/s]\n",
      "100%|█████████████████████████████████████████████████████████████████████████████| 395/395 [01:45<00:00,  3.75batch/s]\n"
     ]
    },
    {
     "name": "stdout",
     "output_type": "stream",
     "text": [
      "| Epoch: 225 | Train loss: 3.270 | Valid loss: 6.309 | time: 1130.62s'\n"
     ]
    },
    {
     "name": "stderr",
     "output_type": "stream",
     "text": [
      "100%|███████████████████████████████████████████████████████████████████████████| 1469/1469 [17:09<00:00,  1.43batch/s]\n",
      "100%|█████████████████████████████████████████████████████████████████████████████| 395/395 [01:44<00:00,  3.77batch/s]\n"
     ]
    },
    {
     "name": "stdout",
     "output_type": "stream",
     "text": [
      "| Epoch: 226 | Train loss: 3.237 | Valid loss: 6.303 | time: 1134.13s'\n"
     ]
    },
    {
     "name": "stderr",
     "output_type": "stream",
     "text": [
      "100%|███████████████████████████████████████████████████████████████████████████| 1469/1469 [17:00<00:00,  1.44batch/s]\n",
      "100%|█████████████████████████████████████████████████████████████████████████████| 395/395 [01:43<00:00,  3.81batch/s]\n"
     ]
    },
    {
     "name": "stdout",
     "output_type": "stream",
     "text": [
      "| Epoch: 227 | Train loss: 3.202 | Valid loss: 6.357 | time: 1124.28s'\n"
     ]
    },
    {
     "name": "stderr",
     "output_type": "stream",
     "text": [
      "100%|███████████████████████████████████████████████████████████████████████████| 1469/1469 [17:01<00:00,  1.44batch/s]\n",
      "100%|█████████████████████████████████████████████████████████████████████████████| 395/395 [01:44<00:00,  3.78batch/s]\n"
     ]
    },
    {
     "name": "stdout",
     "output_type": "stream",
     "text": [
      "| Epoch: 228 | Train loss: 3.201 | Valid loss: 6.356 | time: 1126.09s'\n"
     ]
    },
    {
     "name": "stderr",
     "output_type": "stream",
     "text": [
      "100%|███████████████████████████████████████████████████████████████████████████| 1469/1469 [17:19<00:00,  1.41batch/s]\n",
      "100%|█████████████████████████████████████████████████████████████████████████████| 395/395 [01:44<00:00,  3.79batch/s]\n"
     ]
    },
    {
     "name": "stdout",
     "output_type": "stream",
     "text": [
      "| Epoch: 229 | Train loss: 3.223 | Valid loss: 6.314 | time: 1143.53s'\n"
     ]
    },
    {
     "name": "stderr",
     "output_type": "stream",
     "text": [
      "100%|███████████████████████████████████████████████████████████████████████████| 1469/1469 [17:09<00:00,  1.43batch/s]\n",
      "100%|█████████████████████████████████████████████████████████████████████████████| 395/395 [01:52<00:00,  3.52batch/s]\n"
     ]
    },
    {
     "name": "stdout",
     "output_type": "stream",
     "text": [
      "| Epoch: 230 | Train loss: 3.218 | Valid loss: 6.350 | time: 1141.95s'\n"
     ]
    },
    {
     "name": "stderr",
     "output_type": "stream",
     "text": [
      "100%|███████████████████████████████████████████████████████████████████████████| 1469/1469 [17:14<00:00,  1.42batch/s]\n",
      "100%|█████████████████████████████████████████████████████████████████████████████| 395/395 [01:53<00:00,  3.47batch/s]\n"
     ]
    },
    {
     "name": "stdout",
     "output_type": "stream",
     "text": [
      "| Epoch: 231 | Train loss: 3.220 | Valid loss: 6.337 | time: 1148.29s'\n"
     ]
    },
    {
     "name": "stderr",
     "output_type": "stream",
     "text": [
      "100%|███████████████████████████████████████████████████████████████████████████| 1469/1469 [21:19<00:00,  1.15batch/s]\n",
      "100%|█████████████████████████████████████████████████████████████████████████████| 395/395 [01:54<00:00,  3.46batch/s]\n"
     ]
    },
    {
     "name": "stdout",
     "output_type": "stream",
     "text": [
      "| Epoch: 232 | Train loss: 3.235 | Valid loss: 6.311 | time: 1393.73s'\n"
     ]
    },
    {
     "name": "stderr",
     "output_type": "stream",
     "text": [
      "100%|███████████████████████████████████████████████████████████████████████████| 1469/1469 [22:59<00:00,  1.06batch/s]\n",
      "100%|█████████████████████████████████████████████████████████████████████████████| 395/395 [01:55<00:00,  3.43batch/s]\n"
     ]
    },
    {
     "name": "stdout",
     "output_type": "stream",
     "text": [
      "| Epoch: 233 | Train loss: 3.248 | Valid loss: 6.313 | time: 1495.00s'\n"
     ]
    },
    {
     "name": "stderr",
     "output_type": "stream",
     "text": [
      "100%|███████████████████████████████████████████████████████████████████████████| 1469/1469 [35:05<00:00,  1.43s/batch]\n",
      "100%|█████████████████████████████████████████████████████████████████████████████| 395/395 [02:05<00:00,  3.15batch/s]\n"
     ]
    },
    {
     "name": "stdout",
     "output_type": "stream",
     "text": [
      "| Epoch: 234 | Train loss: 3.196 | Valid loss: 6.322 | time: 2230.61s'\n"
     ]
    },
    {
     "name": "stderr",
     "output_type": "stream",
     "text": [
      "100%|███████████████████████████████████████████████████████████████████████████| 1469/1469 [18:12<00:00,  1.34batch/s]\n",
      "100%|█████████████████████████████████████████████████████████████████████████████| 395/395 [01:35<00:00,  4.12batch/s]\n"
     ]
    },
    {
     "name": "stdout",
     "output_type": "stream",
     "text": [
      "| Epoch: 235 | Train loss: 3.220 | Valid loss: 6.319 | time: 1188.70s'\n"
     ]
    },
    {
     "name": "stderr",
     "output_type": "stream",
     "text": [
      "100%|███████████████████████████████████████████████████████████████████████████| 1469/1469 [16:11<00:00,  1.51batch/s]\n",
      "100%|█████████████████████████████████████████████████████████████████████████████| 395/395 [01:54<00:00,  3.44batch/s]\n"
     ]
    },
    {
     "name": "stdout",
     "output_type": "stream",
     "text": [
      "| Epoch: 236 | Train loss: 3.174 | Valid loss: 6.366 | time: 1086.53s'\n"
     ]
    },
    {
     "name": "stderr",
     "output_type": "stream",
     "text": [
      "100%|███████████████████████████████████████████████████████████████████████████| 1469/1469 [17:10<00:00,  1.43batch/s]\n",
      "100%|█████████████████████████████████████████████████████████████████████████████| 395/395 [01:39<00:00,  3.97batch/s]\n"
     ]
    },
    {
     "name": "stdout",
     "output_type": "stream",
     "text": [
      "| Epoch: 237 | Train loss: 3.209 | Valid loss: 6.310 | time: 1129.97s'\n"
     ]
    },
    {
     "name": "stderr",
     "output_type": "stream",
     "text": [
      "100%|███████████████████████████████████████████████████████████████████████████| 1469/1469 [20:02<00:00,  1.22batch/s]\n",
      "100%|█████████████████████████████████████████████████████████████████████████████| 395/395 [02:15<00:00,  2.92batch/s]\n"
     ]
    },
    {
     "name": "stdout",
     "output_type": "stream",
     "text": [
      "| Epoch: 238 | Train loss: 3.185 | Valid loss: 6.325 | time: 1338.00s'\n"
     ]
    },
    {
     "name": "stderr",
     "output_type": "stream",
     "text": [
      "100%|███████████████████████████████████████████████████████████████████████████| 1469/1469 [20:43<00:00,  1.18batch/s]\n",
      "100%|█████████████████████████████████████████████████████████████████████████████| 395/395 [02:10<00:00,  3.03batch/s]\n"
     ]
    },
    {
     "name": "stdout",
     "output_type": "stream",
     "text": [
      "| Epoch: 239 | Train loss: 3.163 | Valid loss: 6.350 | time: 1373.60s'\n"
     ]
    },
    {
     "name": "stderr",
     "output_type": "stream",
     "text": [
      "100%|███████████████████████████████████████████████████████████████████████████| 1469/1469 [21:05<00:00,  1.16batch/s]\n",
      "100%|█████████████████████████████████████████████████████████████████████████████| 395/395 [02:10<00:00,  3.04batch/s]\n"
     ]
    },
    {
     "name": "stdout",
     "output_type": "stream",
     "text": [
      "| Epoch: 240 | Train loss: 3.200 | Valid loss: 6.329 | time: 1395.95s'\n"
     ]
    },
    {
     "name": "stderr",
     "output_type": "stream",
     "text": [
      "100%|███████████████████████████████████████████████████████████████████████████| 1469/1469 [21:10<00:00,  1.16batch/s]\n",
      "100%|█████████████████████████████████████████████████████████████████████████████| 395/395 [02:10<00:00,  3.03batch/s]\n"
     ]
    },
    {
     "name": "stdout",
     "output_type": "stream",
     "text": [
      "| Epoch: 241 | Train loss: 3.223 | Valid loss: 6.298 | time: 1400.87s'\n"
     ]
    },
    {
     "name": "stderr",
     "output_type": "stream",
     "text": [
      "100%|███████████████████████████████████████████████████████████████████████████| 1469/1469 [21:11<00:00,  1.16batch/s]\n",
      "100%|█████████████████████████████████████████████████████████████████████████████| 395/395 [02:10<00:00,  3.03batch/s]\n"
     ]
    },
    {
     "name": "stdout",
     "output_type": "stream",
     "text": [
      "| Epoch: 242 | Train loss: 3.216 | Valid loss: 6.301 | time: 1402.09s'\n"
     ]
    },
    {
     "name": "stderr",
     "output_type": "stream",
     "text": [
      "100%|███████████████████████████████████████████████████████████████████████████| 1469/1469 [21:11<00:00,  1.16batch/s]\n",
      "100%|█████████████████████████████████████████████████████████████████████████████| 395/395 [02:10<00:00,  3.04batch/s]\n"
     ]
    },
    {
     "name": "stdout",
     "output_type": "stream",
     "text": [
      "| Epoch: 243 | Train loss: 3.110 | Valid loss: 6.338 | time: 1401.71s'\n"
     ]
    },
    {
     "name": "stderr",
     "output_type": "stream",
     "text": [
      "100%|███████████████████████████████████████████████████████████████████████████| 1469/1469 [21:10<00:00,  1.16batch/s]\n",
      "100%|█████████████████████████████████████████████████████████████████████████████| 395/395 [02:10<00:00,  3.03batch/s]\n"
     ]
    },
    {
     "name": "stdout",
     "output_type": "stream",
     "text": [
      "| Epoch: 244 | Train loss: 3.080 | Valid loss: 6.370 | time: 1400.98s'\n"
     ]
    },
    {
     "name": "stderr",
     "output_type": "stream",
     "text": [
      "100%|███████████████████████████████████████████████████████████████████████████| 1469/1469 [21:13<00:00,  1.15batch/s]\n",
      "100%|█████████████████████████████████████████████████████████████████████████████| 395/395 [02:09<00:00,  3.04batch/s]\n"
     ]
    },
    {
     "name": "stdout",
     "output_type": "stream",
     "text": [
      "| Epoch: 245 | Train loss: 3.225 | Valid loss: 6.359 | time: 1403.77s'\n"
     ]
    },
    {
     "name": "stderr",
     "output_type": "stream",
     "text": [
      "100%|███████████████████████████████████████████████████████████████████████████| 1469/1469 [21:12<00:00,  1.15batch/s]\n",
      "100%|█████████████████████████████████████████████████████████████████████████████| 395/395 [02:10<00:00,  3.02batch/s]\n"
     ]
    },
    {
     "name": "stdout",
     "output_type": "stream",
     "text": [
      "| Epoch: 246 | Train loss: 3.197 | Valid loss: 6.327 | time: 1403.32s'\n"
     ]
    },
    {
     "name": "stderr",
     "output_type": "stream",
     "text": [
      "100%|███████████████████████████████████████████████████████████████████████████| 1469/1469 [21:14<00:00,  1.15batch/s]\n",
      "100%|█████████████████████████████████████████████████████████████████████████████| 395/395 [02:10<00:00,  3.02batch/s]\n"
     ]
    },
    {
     "name": "stdout",
     "output_type": "stream",
     "text": [
      "| Epoch: 247 | Train loss: 3.187 | Valid loss: 6.306 | time: 1404.92s'\n"
     ]
    },
    {
     "name": "stderr",
     "output_type": "stream",
     "text": [
      "100%|███████████████████████████████████████████████████████████████████████████| 1469/1469 [21:11<00:00,  1.16batch/s]\n",
      "100%|█████████████████████████████████████████████████████████████████████████████| 395/395 [02:10<00:00,  3.02batch/s]\n"
     ]
    },
    {
     "name": "stdout",
     "output_type": "stream",
     "text": [
      "| Epoch: 248 | Train loss: 3.142 | Valid loss: 6.354 | time: 1401.72s'\n"
     ]
    },
    {
     "name": "stderr",
     "output_type": "stream",
     "text": [
      "100%|███████████████████████████████████████████████████████████████████████████| 1469/1469 [21:11<00:00,  1.16batch/s]\n",
      "100%|█████████████████████████████████████████████████████████████████████████████| 395/395 [02:10<00:00,  3.02batch/s]\n"
     ]
    },
    {
     "name": "stdout",
     "output_type": "stream",
     "text": [
      "| Epoch: 249 | Train loss: 3.168 | Valid loss: 6.318 | time: 1402.06s'\n"
     ]
    },
    {
     "name": "stderr",
     "output_type": "stream",
     "text": [
      "100%|███████████████████████████████████████████████████████████████████████████| 1469/1469 [21:13<00:00,  1.15batch/s]\n",
      "100%|█████████████████████████████████████████████████████████████████████████████| 395/395 [02:10<00:00,  3.02batch/s]\n"
     ]
    },
    {
     "name": "stdout",
     "output_type": "stream",
     "text": [
      "| Epoch: 250 | Train loss: 3.187 | Valid loss: 6.318 | time: 1404.56s'\n"
     ]
    },
    {
     "name": "stderr",
     "output_type": "stream",
     "text": [
      "100%|███████████████████████████████████████████████████████████████████████████| 1469/1469 [21:12<00:00,  1.15batch/s]\n",
      "100%|█████████████████████████████████████████████████████████████████████████████| 395/395 [02:10<00:00,  3.03batch/s]\n"
     ]
    },
    {
     "name": "stdout",
     "output_type": "stream",
     "text": [
      "| Epoch: 251 | Train loss: 3.171 | Valid loss: 6.347 | time: 1403.06s'\n"
     ]
    },
    {
     "name": "stderr",
     "output_type": "stream",
     "text": [
      "100%|███████████████████████████████████████████████████████████████████████████| 1469/1469 [21:10<00:00,  1.16batch/s]\n",
      "100%|█████████████████████████████████████████████████████████████████████████████| 395/395 [02:10<00:00,  3.04batch/s]\n"
     ]
    },
    {
     "name": "stdout",
     "output_type": "stream",
     "text": [
      "| Epoch: 252 | Train loss: 3.157 | Valid loss: 6.324 | time: 1400.14s'\n"
     ]
    },
    {
     "name": "stderr",
     "output_type": "stream",
     "text": [
      "100%|███████████████████████████████████████████████████████████████████████████| 1469/1469 [21:09<00:00,  1.16batch/s]\n",
      "100%|█████████████████████████████████████████████████████████████████████████████| 395/395 [02:09<00:00,  3.04batch/s]\n"
     ]
    },
    {
     "name": "stdout",
     "output_type": "stream",
     "text": [
      "| Epoch: 253 | Train loss: 3.152 | Valid loss: 6.403 | time: 1398.99s'\n"
     ]
    },
    {
     "name": "stderr",
     "output_type": "stream",
     "text": [
      "100%|███████████████████████████████████████████████████████████████████████████| 1469/1469 [21:08<00:00,  1.16batch/s]\n",
      "100%|█████████████████████████████████████████████████████████████████████████████| 395/395 [02:09<00:00,  3.04batch/s]\n"
     ]
    },
    {
     "name": "stdout",
     "output_type": "stream",
     "text": [
      "| Epoch: 254 | Train loss: 3.137 | Valid loss: 6.387 | time: 1398.81s'\n"
     ]
    },
    {
     "name": "stderr",
     "output_type": "stream",
     "text": [
      "100%|███████████████████████████████████████████████████████████████████████████| 1469/1469 [21:09<00:00,  1.16batch/s]\n",
      "100%|█████████████████████████████████████████████████████████████████████████████| 395/395 [02:10<00:00,  3.02batch/s]\n"
     ]
    },
    {
     "name": "stdout",
     "output_type": "stream",
     "text": [
      "| Epoch: 255 | Train loss: 3.176 | Valid loss: 6.329 | time: 1400.65s'\n"
     ]
    },
    {
     "name": "stderr",
     "output_type": "stream",
     "text": [
      "100%|███████████████████████████████████████████████████████████████████████████| 1469/1469 [21:11<00:00,  1.16batch/s]\n",
      "100%|█████████████████████████████████████████████████████████████████████████████| 395/395 [02:11<00:00,  3.01batch/s]\n"
     ]
    },
    {
     "name": "stdout",
     "output_type": "stream",
     "text": [
      "| Epoch: 256 | Train loss: 3.142 | Valid loss: 6.335 | time: 1402.74s'\n"
     ]
    },
    {
     "name": "stderr",
     "output_type": "stream",
     "text": [
      "100%|███████████████████████████████████████████████████████████████████████████| 1469/1469 [21:08<00:00,  1.16batch/s]\n",
      "100%|█████████████████████████████████████████████████████████████████████████████| 395/395 [02:10<00:00,  3.03batch/s]\n"
     ]
    },
    {
     "name": "stdout",
     "output_type": "stream",
     "text": [
      "| Epoch: 257 | Train loss: 3.118 | Valid loss: 6.399 | time: 1398.39s'\n"
     ]
    },
    {
     "name": "stderr",
     "output_type": "stream",
     "text": [
      "100%|███████████████████████████████████████████████████████████████████████████| 1469/1469 [21:05<00:00,  1.16batch/s]\n",
      "100%|█████████████████████████████████████████████████████████████████████████████| 395/395 [02:09<00:00,  3.05batch/s]\n"
     ]
    },
    {
     "name": "stdout",
     "output_type": "stream",
     "text": [
      "| Epoch: 258 | Train loss: 3.133 | Valid loss: 6.335 | time: 1394.95s'\n"
     ]
    },
    {
     "name": "stderr",
     "output_type": "stream",
     "text": [
      "100%|███████████████████████████████████████████████████████████████████████████| 1469/1469 [21:04<00:00,  1.16batch/s]\n",
      "100%|█████████████████████████████████████████████████████████████████████████████| 395/395 [02:09<00:00,  3.05batch/s]\n"
     ]
    },
    {
     "name": "stdout",
     "output_type": "stream",
     "text": [
      "| Epoch: 259 | Train loss: 3.126 | Valid loss: 6.321 | time: 1394.24s'\n"
     ]
    },
    {
     "name": "stderr",
     "output_type": "stream",
     "text": [
      "100%|███████████████████████████████████████████████████████████████████████████| 1469/1469 [21:05<00:00,  1.16batch/s]\n",
      "100%|█████████████████████████████████████████████████████████████████████████████| 395/395 [02:09<00:00,  3.05batch/s]\n"
     ]
    },
    {
     "name": "stdout",
     "output_type": "stream",
     "text": [
      "| Epoch: 260 | Train loss: 3.135 | Valid loss: 6.390 | time: 1394.90s'\n"
     ]
    },
    {
     "name": "stderr",
     "output_type": "stream",
     "text": [
      "100%|███████████████████████████████████████████████████████████████████████████| 1469/1469 [21:05<00:00,  1.16batch/s]\n",
      "100%|█████████████████████████████████████████████████████████████████████████████| 395/395 [02:10<00:00,  3.03batch/s]\n"
     ]
    },
    {
     "name": "stdout",
     "output_type": "stream",
     "text": [
      "| Epoch: 261 | Train loss: 3.137 | Valid loss: 6.378 | time: 1395.60s'\n"
     ]
    },
    {
     "name": "stderr",
     "output_type": "stream",
     "text": [
      "100%|███████████████████████████████████████████████████████████████████████████| 1469/1469 [21:05<00:00,  1.16batch/s]\n",
      "100%|█████████████████████████████████████████████████████████████████████████████| 395/395 [02:10<00:00,  3.03batch/s]\n"
     ]
    },
    {
     "name": "stdout",
     "output_type": "stream",
     "text": [
      "| Epoch: 262 | Train loss: 3.106 | Valid loss: 6.519 | time: 1395.66s'\n"
     ]
    },
    {
     "name": "stderr",
     "output_type": "stream",
     "text": [
      "100%|███████████████████████████████████████████████████████████████████████████| 1469/1469 [21:05<00:00,  1.16batch/s]\n",
      "100%|█████████████████████████████████████████████████████████████████████████████| 395/395 [02:10<00:00,  3.04batch/s]\n"
     ]
    },
    {
     "name": "stdout",
     "output_type": "stream",
     "text": [
      "| Epoch: 263 | Train loss: 3.080 | Valid loss: 6.372 | time: 1395.53s'\n"
     ]
    },
    {
     "name": "stderr",
     "output_type": "stream",
     "text": [
      "100%|███████████████████████████████████████████████████████████████████████████| 1469/1469 [21:05<00:00,  1.16batch/s]\n",
      "100%|█████████████████████████████████████████████████████████████████████████████| 395/395 [02:09<00:00,  3.05batch/s]\n"
     ]
    },
    {
     "name": "stdout",
     "output_type": "stream",
     "text": [
      "| Epoch: 264 | Train loss: 3.100 | Valid loss: 6.394 | time: 1395.18s'\n"
     ]
    },
    {
     "name": "stderr",
     "output_type": "stream",
     "text": [
      "100%|███████████████████████████████████████████████████████████████████████████| 1469/1469 [21:04<00:00,  1.16batch/s]\n",
      "100%|█████████████████████████████████████████████████████████████████████████████| 395/395 [02:09<00:00,  3.05batch/s]\n"
     ]
    },
    {
     "name": "stdout",
     "output_type": "stream",
     "text": [
      "| Epoch: 265 | Train loss: 3.100 | Valid loss: 6.382 | time: 1394.02s'\n"
     ]
    },
    {
     "name": "stderr",
     "output_type": "stream",
     "text": [
      "100%|███████████████████████████████████████████████████████████████████████████| 1469/1469 [21:05<00:00,  1.16batch/s]\n",
      "100%|█████████████████████████████████████████████████████████████████████████████| 395/395 [02:09<00:00,  3.04batch/s]\n"
     ]
    },
    {
     "name": "stdout",
     "output_type": "stream",
     "text": [
      "| Epoch: 266 | Train loss: 3.100 | Valid loss: 6.375 | time: 1395.29s'\n"
     ]
    },
    {
     "name": "stderr",
     "output_type": "stream",
     "text": [
      "100%|███████████████████████████████████████████████████████████████████████████| 1469/1469 [21:05<00:00,  1.16batch/s]\n",
      "100%|█████████████████████████████████████████████████████████████████████████████| 395/395 [02:09<00:00,  3.05batch/s]\n"
     ]
    },
    {
     "name": "stdout",
     "output_type": "stream",
     "text": [
      "| Epoch: 267 | Train loss: 3.115 | Valid loss: 6.386 | time: 1394.84s'\n"
     ]
    },
    {
     "name": "stderr",
     "output_type": "stream",
     "text": [
      "100%|███████████████████████████████████████████████████████████████████████████| 1469/1469 [19:19<00:00,  1.27batch/s]\n",
      "100%|█████████████████████████████████████████████████████████████████████████████| 395/395 [01:38<00:00,  4.01batch/s]\n"
     ]
    },
    {
     "name": "stdout",
     "output_type": "stream",
     "text": [
      "| Epoch: 268 | Train loss: 3.092 | Valid loss: 6.368 | time: 1258.22s'\n"
     ]
    },
    {
     "name": "stderr",
     "output_type": "stream",
     "text": [
      "100%|███████████████████████████████████████████████████████████████████████████| 1469/1469 [17:08<00:00,  1.43batch/s]\n",
      "100%|█████████████████████████████████████████████████████████████████████████████| 395/395 [01:56<00:00,  3.38batch/s]\n"
     ]
    },
    {
     "name": "stdout",
     "output_type": "stream",
     "text": [
      "| Epoch: 269 | Train loss: 3.094 | Valid loss: 6.333 | time: 1145.72s'\n"
     ]
    },
    {
     "name": "stderr",
     "output_type": "stream",
     "text": [
      "100%|███████████████████████████████████████████████████████████████████████████| 1469/1469 [17:31<00:00,  1.40batch/s]\n",
      "100%|█████████████████████████████████████████████████████████████████████████████| 395/395 [01:42<00:00,  3.86batch/s]\n"
     ]
    },
    {
     "name": "stdout",
     "output_type": "stream",
     "text": [
      "| Epoch: 270 | Train loss: 3.093 | Valid loss: 6.345 | time: 1153.58s'\n"
     ]
    },
    {
     "name": "stderr",
     "output_type": "stream",
     "text": [
      "100%|███████████████████████████████████████████████████████████████████████████| 1469/1469 [16:41<00:00,  1.47batch/s]\n",
      "100%|█████████████████████████████████████████████████████████████████████████████| 395/395 [01:41<00:00,  3.88batch/s]\n"
     ]
    },
    {
     "name": "stdout",
     "output_type": "stream",
     "text": [
      "| Epoch: 271 | Train loss: 3.089 | Valid loss: 6.372 | time: 1103.33s'\n"
     ]
    },
    {
     "name": "stderr",
     "output_type": "stream",
     "text": [
      "100%|███████████████████████████████████████████████████████████████████████████| 1469/1469 [16:42<00:00,  1.47batch/s]\n",
      "100%|█████████████████████████████████████████████████████████████████████████████| 395/395 [01:41<00:00,  3.88batch/s]\n"
     ]
    },
    {
     "name": "stdout",
     "output_type": "stream",
     "text": [
      "| Epoch: 272 | Train loss: 3.077 | Valid loss: 6.399 | time: 1104.07s'\n"
     ]
    },
    {
     "name": "stderr",
     "output_type": "stream",
     "text": [
      "100%|█████████████████████████████████████████████████████████████████████████| 1469/1469 [1:51:00<00:00,  4.53s/batch]\n",
      "100%|█████████████████████████████████████████████████████████████████████████████| 395/395 [01:27<00:00,  4.51batch/s]\n"
     ]
    },
    {
     "name": "stdout",
     "output_type": "stream",
     "text": [
      "| Epoch: 273 | Train loss: 3.042 | Valid loss: 6.391 | time: 6748.64s'\n"
     ]
    },
    {
     "name": "stderr",
     "output_type": "stream",
     "text": [
      "100%|███████████████████████████████████████████████████████████████████████████| 1469/1469 [16:27<00:00,  1.49batch/s]\n",
      "100%|█████████████████████████████████████████████████████████████████████████████| 395/395 [01:42<00:00,  3.86batch/s]\n"
     ]
    },
    {
     "name": "stdout",
     "output_type": "stream",
     "text": [
      "| Epoch: 274 | Train loss: 3.050 | Valid loss: 6.381 | time: 1090.20s'\n"
     ]
    },
    {
     "name": "stderr",
     "output_type": "stream",
     "text": [
      "100%|███████████████████████████████████████████████████████████████████████████| 1469/1469 [16:44<00:00,  1.46batch/s]\n",
      "100%|█████████████████████████████████████████████████████████████████████████████| 395/395 [02:14<00:00,  2.94batch/s]\n"
     ]
    },
    {
     "name": "stdout",
     "output_type": "stream",
     "text": [
      "| Epoch: 275 | Train loss: 3.093 | Valid loss: 6.374 | time: 1138.55s'\n"
     ]
    },
    {
     "name": "stderr",
     "output_type": "stream",
     "text": [
      "100%|███████████████████████████████████████████████████████████████████████████| 1469/1469 [21:39<00:00,  1.13batch/s]\n",
      "100%|█████████████████████████████████████████████████████████████████████████████| 395/395 [02:12<00:00,  2.97batch/s]\n"
     ]
    },
    {
     "name": "stdout",
     "output_type": "stream",
     "text": [
      "| Epoch: 276 | Train loss: 3.101 | Valid loss: 6.389 | time: 1432.55s'\n"
     ]
    },
    {
     "name": "stderr",
     "output_type": "stream",
     "text": [
      "100%|███████████████████████████████████████████████████████████████████████████| 1469/1469 [21:40<00:00,  1.13batch/s]\n",
      "100%|█████████████████████████████████████████████████████████████████████████████| 395/395 [02:12<00:00,  2.97batch/s]\n"
     ]
    },
    {
     "name": "stdout",
     "output_type": "stream",
     "text": [
      "| Epoch: 277 | Train loss: 3.101 | Valid loss: 6.413 | time: 1433.23s'\n"
     ]
    },
    {
     "name": "stderr",
     "output_type": "stream",
     "text": [
      "100%|███████████████████████████████████████████████████████████████████████████| 1469/1469 [21:40<00:00,  1.13batch/s]\n",
      "100%|█████████████████████████████████████████████████████████████████████████████| 395/395 [02:12<00:00,  2.97batch/s]\n"
     ]
    },
    {
     "name": "stdout",
     "output_type": "stream",
     "text": [
      "| Epoch: 278 | Train loss: 3.095 | Valid loss: 6.382 | time: 1432.90s'\n"
     ]
    },
    {
     "name": "stderr",
     "output_type": "stream",
     "text": [
      "100%|███████████████████████████████████████████████████████████████████████████| 1469/1469 [21:40<00:00,  1.13batch/s]\n",
      "100%|█████████████████████████████████████████████████████████████████████████████| 395/395 [02:12<00:00,  2.97batch/s]\n"
     ]
    },
    {
     "name": "stdout",
     "output_type": "stream",
     "text": [
      "| Epoch: 279 | Train loss: 3.081 | Valid loss: 6.384 | time: 1433.15s'\n"
     ]
    },
    {
     "name": "stderr",
     "output_type": "stream",
     "text": [
      "100%|███████████████████████████████████████████████████████████████████████████| 1469/1469 [21:40<00:00,  1.13batch/s]\n",
      "100%|█████████████████████████████████████████████████████████████████████████████| 395/395 [02:13<00:00,  2.96batch/s]\n"
     ]
    },
    {
     "name": "stdout",
     "output_type": "stream",
     "text": [
      "| Epoch: 280 | Train loss: 3.086 | Valid loss: 6.345 | time: 1433.81s'\n"
     ]
    },
    {
     "name": "stderr",
     "output_type": "stream",
     "text": [
      "100%|███████████████████████████████████████████████████████████████████████████| 1469/1469 [21:41<00:00,  1.13batch/s]\n",
      "100%|█████████████████████████████████████████████████████████████████████████████| 395/395 [02:13<00:00,  2.97batch/s]\n"
     ]
    },
    {
     "name": "stdout",
     "output_type": "stream",
     "text": [
      "| Epoch: 281 | Train loss: 3.088 | Valid loss: 6.371 | time: 1434.62s'\n"
     ]
    },
    {
     "name": "stderr",
     "output_type": "stream",
     "text": [
      "100%|███████████████████████████████████████████████████████████████████████████| 1469/1469 [21:08<00:00,  1.16batch/s]\n",
      "100%|█████████████████████████████████████████████████████████████████████████████| 395/395 [02:14<00:00,  2.94batch/s]\n"
     ]
    },
    {
     "name": "stdout",
     "output_type": "stream",
     "text": [
      "| Epoch: 282 | Train loss: 3.079 | Valid loss: 6.364 | time: 1403.00s'\n"
     ]
    },
    {
     "name": "stderr",
     "output_type": "stream",
     "text": [
      "100%|███████████████████████████████████████████████████████████████████████████| 1469/1469 [21:10<00:00,  1.16batch/s]\n",
      "100%|█████████████████████████████████████████████████████████████████████████████| 395/395 [02:22<00:00,  2.78batch/s]\n"
     ]
    },
    {
     "name": "stdout",
     "output_type": "stream",
     "text": [
      "| Epoch: 283 | Train loss: 3.105 | Valid loss: 6.362 | time: 1412.37s'\n"
     ]
    },
    {
     "name": "stderr",
     "output_type": "stream",
     "text": [
      "100%|███████████████████████████████████████████████████████████████████████████| 1469/1469 [21:12<00:00,  1.15batch/s]\n",
      "100%|█████████████████████████████████████████████████████████████████████████████| 395/395 [02:10<00:00,  3.03batch/s]\n"
     ]
    },
    {
     "name": "stdout",
     "output_type": "stream",
     "text": [
      "| Epoch: 284 | Train loss: 3.043 | Valid loss: 6.400 | time: 1402.94s'\n"
     ]
    },
    {
     "name": "stderr",
     "output_type": "stream",
     "text": [
      "100%|███████████████████████████████████████████████████████████████████████████| 1469/1469 [22:46<00:00,  1.07batch/s]\n",
      "100%|█████████████████████████████████████████████████████████████████████████████| 395/395 [02:18<00:00,  2.85batch/s]\n"
     ]
    },
    {
     "name": "stdout",
     "output_type": "stream",
     "text": [
      "| Epoch: 285 | Train loss: 3.030 | Valid loss: 6.419 | time: 1505.71s'\n"
     ]
    },
    {
     "name": "stderr",
     "output_type": "stream",
     "text": [
      "100%|███████████████████████████████████████████████████████████████████████████| 1469/1469 [25:23<00:00,  1.04s/batch]\n",
      "100%|█████████████████████████████████████████████████████████████████████████████| 395/395 [02:10<00:00,  3.02batch/s]\n"
     ]
    },
    {
     "name": "stdout",
     "output_type": "stream",
     "text": [
      "| Epoch: 286 | Train loss: 3.062 | Valid loss: 6.425 | time: 1654.35s'\n"
     ]
    },
    {
     "name": "stderr",
     "output_type": "stream",
     "text": [
      "100%|███████████████████████████████████████████████████████████████████████████| 1469/1469 [21:05<00:00,  1.16batch/s]\n",
      "100%|█████████████████████████████████████████████████████████████████████████████| 395/395 [02:17<00:00,  2.88batch/s]\n"
     ]
    },
    {
     "name": "stdout",
     "output_type": "stream",
     "text": [
      "| Epoch: 287 | Train loss: 3.048 | Valid loss: 6.426 | time: 1402.81s'\n"
     ]
    },
    {
     "name": "stderr",
     "output_type": "stream",
     "text": [
      "100%|███████████████████████████████████████████████████████████████████████████| 1469/1469 [22:11<00:00,  1.10batch/s]\n",
      "100%|█████████████████████████████████████████████████████████████████████████████| 395/395 [02:27<00:00,  2.68batch/s]\n"
     ]
    },
    {
     "name": "stdout",
     "output_type": "stream",
     "text": [
      "| Epoch: 288 | Train loss: 3.102 | Valid loss: 6.390 | time: 1478.90s'\n"
     ]
    },
    {
     "name": "stderr",
     "output_type": "stream",
     "text": [
      "100%|███████████████████████████████████████████████████████████████████████████| 1469/1469 [21:11<00:00,  1.16batch/s]\n",
      "100%|█████████████████████████████████████████████████████████████████████████████| 395/395 [02:11<00:00,  3.01batch/s]\n"
     ]
    },
    {
     "name": "stdout",
     "output_type": "stream",
     "text": [
      "| Epoch: 289 | Train loss: 3.068 | Valid loss: 6.374 | time: 1402.32s'\n"
     ]
    },
    {
     "name": "stderr",
     "output_type": "stream",
     "text": [
      "100%|███████████████████████████████████████████████████████████████████████████| 1469/1469 [20:48<00:00,  1.18batch/s]\n",
      "100%|█████████████████████████████████████████████████████████████████████████████| 395/395 [02:10<00:00,  3.02batch/s]\n"
     ]
    },
    {
     "name": "stdout",
     "output_type": "stream",
     "text": [
      "| Epoch: 290 | Train loss: 3.059 | Valid loss: 6.387 | time: 1378.89s'\n"
     ]
    },
    {
     "name": "stderr",
     "output_type": "stream",
     "text": [
      "100%|█████████████████████████████████████████████████████████████████████████| 1469/1469 [1:45:07<00:00,  4.29s/batch]\n",
      "100%|█████████████████████████████████████████████████████████████████████████████| 395/395 [02:15<00:00,  2.92batch/s]\n"
     ]
    },
    {
     "name": "stdout",
     "output_type": "stream",
     "text": [
      "| Epoch: 291 | Train loss: 3.059 | Valid loss: 6.361 | time: 6443.37s'\n"
     ]
    },
    {
     "name": "stderr",
     "output_type": "stream",
     "text": [
      "100%|███████████████████████████████████████████████████████████████████████████| 1469/1469 [21:54<00:00,  1.12batch/s]\n",
      "100%|█████████████████████████████████████████████████████████████████████████████| 395/395 [02:15<00:00,  2.92batch/s]\n"
     ]
    },
    {
     "name": "stdout",
     "output_type": "stream",
     "text": [
      "| Epoch: 292 | Train loss: 3.034 | Valid loss: 6.364 | time: 1449.69s'\n"
     ]
    },
    {
     "name": "stderr",
     "output_type": "stream",
     "text": [
      "100%|███████████████████████████████████████████████████████████████████████████| 1469/1469 [21:53<00:00,  1.12batch/s]\n",
      "100%|█████████████████████████████████████████████████████████████████████████████| 395/395 [02:14<00:00,  2.93batch/s]\n"
     ]
    },
    {
     "name": "stdout",
     "output_type": "stream",
     "text": [
      "| Epoch: 293 | Train loss: 3.055 | Valid loss: 6.325 | time: 1448.31s'\n"
     ]
    },
    {
     "name": "stderr",
     "output_type": "stream",
     "text": [
      "100%|███████████████████████████████████████████████████████████████████████████| 1469/1469 [21:49<00:00,  1.12batch/s]\n",
      "100%|█████████████████████████████████████████████████████████████████████████████| 395/395 [02:15<00:00,  2.92batch/s]\n"
     ]
    },
    {
     "name": "stdout",
     "output_type": "stream",
     "text": [
      "| Epoch: 294 | Train loss: 3.025 | Valid loss: 6.471 | time: 1444.72s'\n"
     ]
    },
    {
     "name": "stderr",
     "output_type": "stream",
     "text": [
      "100%|███████████████████████████████████████████████████████████████████████████| 1469/1469 [21:49<00:00,  1.12batch/s]\n",
      "100%|█████████████████████████████████████████████████████████████████████████████| 395/395 [02:14<00:00,  2.93batch/s]\n"
     ]
    },
    {
     "name": "stdout",
     "output_type": "stream",
     "text": [
      "| Epoch: 295 | Train loss: 3.078 | Valid loss: 6.402 | time: 1444.54s'\n"
     ]
    },
    {
     "name": "stderr",
     "output_type": "stream",
     "text": [
      "100%|███████████████████████████████████████████████████████████████████████████| 1469/1469 [19:18<00:00,  1.27batch/s]\n",
      "100%|█████████████████████████████████████████████████████████████████████████████| 395/395 [01:55<00:00,  3.41batch/s]\n"
     ]
    },
    {
     "name": "stdout",
     "output_type": "stream",
     "text": [
      "| Epoch: 296 | Train loss: 3.063 | Valid loss: 6.372 | time: 1274.63s'\n"
     ]
    },
    {
     "name": "stderr",
     "output_type": "stream",
     "text": [
      "100%|███████████████████████████████████████████████████████████████████████████| 1469/1469 [27:12<00:00,  1.11s/batch]\n",
      "100%|█████████████████████████████████████████████████████████████████████████████| 395/395 [02:10<00:00,  3.03batch/s]\n"
     ]
    },
    {
     "name": "stdout",
     "output_type": "stream",
     "text": [
      "| Epoch: 297 | Train loss: 3.024 | Valid loss: 6.389 | time: 1762.56s'\n"
     ]
    },
    {
     "name": "stderr",
     "output_type": "stream",
     "text": [
      "100%|███████████████████████████████████████████████████████████████████████████| 1469/1469 [20:51<00:00,  1.17batch/s]\n",
      "100%|█████████████████████████████████████████████████████████████████████████████| 395/395 [01:44<00:00,  3.76batch/s]\n"
     ]
    },
    {
     "name": "stdout",
     "output_type": "stream",
     "text": [
      "| Epoch: 298 | Train loss: 3.082 | Valid loss: 6.347 | time: 1356.63s'\n"
     ]
    },
    {
     "name": "stderr",
     "output_type": "stream",
     "text": [
      "100%|███████████████████████████████████████████████████████████████████████████| 1469/1469 [19:54<00:00,  1.23batch/s]\n",
      "100%|█████████████████████████████████████████████████████████████████████████████| 395/395 [02:14<00:00,  2.95batch/s]\n"
     ]
    },
    {
     "name": "stdout",
     "output_type": "stream",
     "text": [
      "| Epoch: 299 | Train loss: 3.059 | Valid loss: 6.386 | time: 1328.73s'\n"
     ]
    },
    {
     "name": "stderr",
     "output_type": "stream",
     "text": [
      "100%|███████████████████████████████████████████████████████████████████████████| 1469/1469 [20:48<00:00,  1.18batch/s]\n",
      "100%|█████████████████████████████████████████████████████████████████████████████| 395/395 [02:07<00:00,  3.11batch/s]"
     ]
    },
    {
     "name": "stdout",
     "output_type": "stream",
     "text": [
      "| Epoch: 300 | Train loss: 3.023 | Valid loss: 6.391 | time: 1375.35s'\n"
     ]
    },
    {
     "name": "stderr",
     "output_type": "stream",
     "text": [
      "\n"
     ]
    }
   ],
   "source": [
    "procedure.train_lm()"
   ]
  },
  {
   "cell_type": "code",
   "execution_count": 44,
   "id": "098cf239-441f-4f78-9556-29916cea8b48",
   "metadata": {
    "tags": []
   },
   "outputs": [
    {
     "name": "stdout",
     "output_type": "stream",
     "text": [
      "Loading Language Model from ./outputs/fullLM.batch_8_docs.180_epochs.Htilt.lr0.0001.pt\n"
     ]
    }
   ],
   "source": [
    "reviews = procedure.generate(itr=train_iter, lm_path=\"./outputs/fullLM.batch_8_docs.180_epochs.Htilt.lr0.0001.pt\", batch_idx=[1,2,3,4,5,6,7,8,9,10])"
   ]
  },
  {
   "cell_type": "markdown",
   "id": "4acadbdd-77f9-4e09-a523-02f82c825e1c",
   "metadata": {},
   "source": [
    "#### Save the reconstructed reviews"
   ]
  },
  {
   "cell_type": "code",
   "execution_count": 45,
   "id": "82998312-0fef-4e4b-a27f-c885aa2b76b0",
   "metadata": {},
   "outputs": [],
   "source": [
    "def match(og, rec):\n",
    "    x = set(og.split())\n",
    "    y = set(rec.split())\n",
    "    z = x.intersection(y)\n",
    "    return round(100 * len(z) / len(x), 2)\n",
    "\n",
    "df = []\n",
    "\n",
    "for rev in reviews:\n",
    "    pid, rec_rev, og_rev = rev\n",
    "    df.append({\n",
    "        \"dataset\": \"train\",\n",
    "        \"prod_id\": pid,\n",
    "        \"original\": og_rev,\n",
    "        \"reconstructed\": rec_rev,\n",
    "        \"% match\": match(og_rev, rec_rev)\n",
    "    })\n",
    "\n",
    "df = pd.DataFrame(df)\n",
    "df.to_csv(\"./lm_180epochs.reconst_reviews_train.full.csv\", index=False)"
   ]
  },
  {
   "cell_type": "markdown",
   "id": "344bd730-a1e5-4e9f-9d91-aeb12a444a49",
   "metadata": {},
   "source": [
    "### Train the summarizer"
   ]
  },
  {
   "cell_type": "code",
   "execution_count": 21,
   "id": "daba61e7-f23a-4e7b-ae2e-debc09186c82",
   "metadata": {
    "tags": []
   },
   "outputs": [
    {
     "name": "stdout",
     "output_type": "stream",
     "text": [
      "Loading Language Model from ./outputs/baseLM..batch_8_docs.300_epochs.baseH.lr0.0001.pt\n",
      "Training Summarizer for 0 epochs...\n"
     ]
    }
   ],
   "source": [
    "procedure.train(lm_path=\"./outputs/baseLM..batch_8_docs.300_epochs.baseH.lr0.0001.pt\")"
   ]
  },
  {
   "cell_type": "code",
   "execution_count": 32,
   "id": "4b8f9c75-6140-4dd2-8124-9bacce490ea8",
   "metadata": {},
   "outputs": [
    {
     "data": {
      "text/plain": [
       "292"
      ]
     },
     "execution_count": 32,
     "metadata": {},
     "output_type": "execute_result"
    }
   ],
   "source": [
    "#len(list(range(0, 1460, 5)))"
   ]
  },
  {
   "cell_type": "code",
   "execution_count": 25,
   "id": "8a604241-5a84-4131-99ff-5a1774d4af06",
   "metadata": {
    "tags": []
   },
   "outputs": [
    {
     "name": "stdout",
     "output_type": "stream",
     "text": [
      "Loading summarizer from outputs/summ.fullLM.batch_8_docs.lm_lr0.0001.0_epochs.dec_baseH.sum_baseH.lr1e-05.v3.pt\n"
     ]
    },
    {
     "name": "stderr",
     "output_type": "stream",
     "text": [
      "100%|██████████████████████████████████████████████████████████████████████████████| 284/284 [1:28:50<00:00, 18.77s/it]"
     ]
    },
    {
     "name": "stdout",
     "output_type": "stream",
     "text": [
      "completed after 5330.724611 seconds\n"
     ]
    },
    {
     "name": "stderr",
     "output_type": "stream",
     "text": [
      "\n"
     ]
    }
   ],
   "source": [
    "summaries, hiddens, mean_hiddens = procedure.generate_summaries(itr=train_iter, batch_idx=None, path=\"outputs/summ.fullLM.batch_8_docs.lm_lr0.0001.0_epochs.dec_baseH.sum_baseH.lr1e-05.v3.pt\")"
   ]
  },
  {
   "cell_type": "markdown",
   "id": "a38cde24-c907-4edc-b915-468e02fadb81",
   "metadata": {},
   "source": [
    "#### Save the generated summaries"
   ]
  },
  {
   "cell_type": "code",
   "execution_count": 27,
   "id": "d4931267-be6a-4a10-958f-af682ce85b97",
   "metadata": {},
   "outputs": [],
   "source": [
    "df = []\n",
    "for e in summaries:\n",
    "    prod_id = e[0]\n",
    "    summary = e[1][0]\n",
    "    df.append({\n",
    "        \"dataset\": \"train\",\n",
    "        #\"model\": \"full AE. Rec w/ H_tilt. Finetune w/ Hhat. Cos sim w/ H. Gen w/ Hhat\", \n",
    "        \"prod_id\": prod_id, \n",
    "        \"summary\": summary\n",
    "    })\n",
    "df = pd.DataFrame(df)\n",
    "df.to_csv(\"./outputs/train_300epochs.summaries_v5_20221227__baseLM.no_finetuning.greedy_dec.gumbel.mini.v3.csv\", index=False)"
   ]
  },
  {
   "cell_type": "code",
   "execution_count": 26,
   "id": "ab3ccc7e-08fd-4b00-ba7a-a405d56c5a20",
   "metadata": {},
   "outputs": [],
   "source": [
    "#torch.save(model.state_dict(), \"saved_model.pt\")"
   ]
  },
  {
   "cell_type": "code",
   "execution_count": 28,
   "id": "8edddfea-ff20-41ee-b0f2-e7547c2771cf",
   "metadata": {},
   "outputs": [
    {
     "data": {
      "text/plain": [
       "<All keys matched successfully>"
      ]
     },
     "execution_count": 28,
     "metadata": {},
     "output_type": "execute_result"
    }
   ],
   "source": [
    "#model.load_state_dict(torch.load(\"saved_model.pt\"))"
   ]
  },
  {
   "cell_type": "code",
   "execution_count": null,
   "id": "0a8fcf4e-e5f9-49cb-b0b6-5905c41f4811",
   "metadata": {},
   "outputs": [],
   "source": [
    "#! tensorboard --logdir=runs"
   ]
  },
  {
   "cell_type": "code",
   "execution_count": null,
   "id": "9a8bca3f-558b-466c-a2c5-5ad7e96ece29",
   "metadata": {},
   "outputs": [],
   "source": []
  }
 ],
 "metadata": {
  "kernelspec": {
   "display_name": "dl-env",
   "language": "python",
   "name": "dl-env"
  },
  "language_info": {
   "codemirror_mode": {
    "name": "ipython",
    "version": 3
   },
   "file_extension": ".py",
   "mimetype": "text/x-python",
   "name": "python",
   "nbconvert_exporter": "python",
   "pygments_lexer": "ipython3",
   "version": "3.9.12"
  }
 },
 "nbformat": 4,
 "nbformat_minor": 5
}
