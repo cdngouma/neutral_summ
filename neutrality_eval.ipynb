{
 "cells": [
  {
   "cell_type": "code",
   "execution_count": 1,
   "id": "ef25b9ee-9a23-4ed5-a27b-dc3ff6fb05e3",
   "metadata": {},
   "outputs": [
    {
     "name": "stderr",
     "output_type": "stream",
     "text": [
      "[nltk_data] Downloading package sentiwordnet to\n",
      "[nltk_data]     C:\\Users\\ngoum\\AppData\\Roaming\\nltk_data...\n",
      "[nltk_data]   Package sentiwordnet is already up-to-date!\n",
      "[nltk_data] Downloading package wordnet to\n",
      "[nltk_data]     C:\\Users\\ngoum\\AppData\\Roaming\\nltk_data...\n",
      "[nltk_data]   Package wordnet is already up-to-date!\n",
      "[nltk_data] Downloading package omw-1.4 to\n",
      "[nltk_data]     C:\\Users\\ngoum\\AppData\\Roaming\\nltk_data...\n",
      "[nltk_data]   Package omw-1.4 is already up-to-date!\n",
      "[nltk_data] Downloading package punkt to\n",
      "[nltk_data]     C:\\Users\\ngoum\\AppData\\Roaming\\nltk_data...\n",
      "[nltk_data]   Package punkt is already up-to-date!\n",
      "[nltk_data] Downloading package averaged_perceptron_tagger to\n",
      "[nltk_data]     C:\\Users\\ngoum\\AppData\\Roaming\\nltk_data...\n",
      "[nltk_data]   Package averaged_perceptron_tagger is already up-to-\n",
      "[nltk_data]       date!\n"
     ]
    }
   ],
   "source": [
    "import pandas as pd\n",
    "import nltk\n",
    "from nltk.corpus import sentiwordnet as swn\n",
    "from nltk.corpus import stopwords\n",
    "from nltk.tokenize import word_tokenize as tokenizer\n",
    "\n",
    "nltk.download('sentiwordnet')\n",
    "nltk.download('wordnet')\n",
    "nltk.download('omw-1.4')\n",
    "nltk.download('punkt')\n",
    "nltk.download('averaged_perceptron_tagger')\n",
    "\n",
    "import string\n",
    "import re"
   ]
  },
  {
   "cell_type": "code",
   "execution_count": 2,
   "id": "a427dc02-b949-42bc-8cdb-5a1c6cbcfebb",
   "metadata": {},
   "outputs": [],
   "source": [
    "stop_words = set(stopwords.words('english'))"
   ]
  },
  {
   "cell_type": "code",
   "execution_count": 3,
   "id": "9391d351-0d49-438a-86a0-f9e054ec1c13",
   "metadata": {},
   "outputs": [],
   "source": [
    "def senti_lookup(word):\n",
    "    synsets = list(swn.senti_synsets(word))\n",
    "    avg_pos, avg_neg, avg_obj = 0.0, 0.0, 0.0\n",
    "    size = len(synsets)\n",
    "    if size == 0:\n",
    "        raise Error(f\"'{word}' not found.\")\n",
    "    \n",
    "    for synset in synsets:\n",
    "        pos, neg, obj = synset.pos_score(), synset.neg_score(), synset.obj_score()\n",
    "        avg_pos += pos/size\n",
    "        avg_neg += neg/size\n",
    "        avg_obj += obj/size\n",
    "    \n",
    "    return round(avg_pos, 5), round(avg_obj, 5), round(avg_neg, 5)"
   ]
  },
  {
   "cell_type": "code",
   "execution_count": 34,
   "id": "ed7a43d4-4ba7-4587-8583-67a9bb1cf46a",
   "metadata": {
    "tags": []
   },
   "outputs": [],
   "source": [
    "def tokenize(sentence):\n",
    "    INVALID_POS = [\"CC\", \"CD\", \"DT\", \"EX\", \"IN\", \"LS\", \"PDT\", \"POS\", \"PRP\", \"PRP$\", \"RP\", \"TO\", \"WDT\", \"WP\", \"WRB\"]\n",
    "    sentence = re.sub(f\"[{re.escape(string.punctuation)}\\…]+\", \" \", sentence)\n",
    "    # Filter common words\n",
    "    tokens = nltk.pos_tag(sentence.split())\n",
    "    tokens_ = tokens\n",
    "    tokens = [tok for (tok, pos) in tokens if tok.lower() not in stop_words and pos not in INVALID_POS]\n",
    "    return tokens"
   ]
  },
  {
   "cell_type": "code",
   "execution_count": 10,
   "id": "3a95ad2f-4cdc-4baa-9310-1924be4c1d10",
   "metadata": {},
   "outputs": [],
   "source": [
    "def calc_metrics_1(text):\n",
    "    def eval_neutrality(pos, obj, neg):\n",
    "        THRESHOLD = 0.5\n",
    "        if obj >= THRESHOLD:\n",
    "            return 1\n",
    "        return 0\n",
    "    \n",
    "    def eval_objectivity(pos, obj, neg):\n",
    "        GAP_THRESHOLD = 0.65\n",
    "        OBJ_THRESHOLD = 0.65\n",
    "        gap = abs(pos - neg) / max(pos, neg)\n",
    "        if obj <= OBJ_THRESHOLD and gap >= GAP_THRESHOLD:\n",
    "            return 1\n",
    "        return 0\n",
    "\n",
    "    tokens = tokenize(text)\n",
    "    size = len(tokens)\n",
    "    n_neutral = 0\n",
    "    n_biased = 0\n",
    "    for token in tokens:\n",
    "        try:\n",
    "            pos, obj, neg = senti_lookup(token)\n",
    "            n_neutral += eval_neutrality(pos, obj, neg)\n",
    "            n_biased += eval_objectivity(pos, obj, neg)\n",
    "        except:\n",
    "            pass\n",
    "    \n",
    "    neu_score = n_neutral / size\n",
    "    obj_score = 1.0 - (n_biased / size)\n",
    "    \n",
    "    return round(neu_score, 5), round(obj_score, 5)"
   ]
  },
  {
   "cell_type": "code",
   "execution_count": 38,
   "id": "cf19b261-b93d-44d7-85cf-5155588f9e92",
   "metadata": {},
   "outputs": [],
   "source": [
    "def calc_metrics_2(text):\n",
    "    neu_score = 0.0\n",
    "    obj_score = 0.0\n",
    "    sentences = re.split(f\"[{re.escape(string.punctuation)}\\…]+\", text)\n",
    "    for sent in sentences:\n",
    "        tokens = tokenize(text)\n",
    "        size = max(len(tokens), 1)\n",
    "        avg_pos, avg_obj, avg_neg = 0.0, 0.0, 0.0\n",
    "    \n",
    "        for token in tokens:\n",
    "            try:\n",
    "                pos, obj, neg = senti_lookup(token)\n",
    "                avg_pos += pos\n",
    "                avg_obj += obj\n",
    "                avg_neg += neg\n",
    "            except:\n",
    "                pass\n",
    "    \n",
    "        avg_pos = avg_pos / size\n",
    "        avg_obj = avg_obj / size\n",
    "        avg_neg = avg_neg / size\n",
    "    \n",
    "        # Neutrality test\n",
    "        if avg_obj >= avg_pos and avg_obj >= avg_neg:\n",
    "            neu_score += 1.0\n",
    "    \n",
    "        # Objectivity test\n",
    "        THRESHOLD = 0.1\n",
    "        if abs(avg_pos - avg_neg) <= THRESHOLD:\n",
    "            obj_score += 1.0\n",
    "    \n",
    "    neu_score = neu_score / len(sentences)\n",
    "    obj_score = obj_score / len(sentences)\n",
    "    \n",
    "    return round(neu_score, 5), round(obj_score, 5)"
   ]
  },
  {
   "cell_type": "code",
   "execution_count": 7,
   "id": "168323b8-c0f2-4c7e-8eda-c0dee4bd77fb",
   "metadata": {},
   "outputs": [],
   "source": [
    "def calc_scores(corpus, method):\n",
    "    '''\n",
    "    corpus: list of summaries\n",
    "    method: m-1 or m-2\n",
    "    '''\n",
    "    avg_neu_score = 0\n",
    "    avg_obj_score = 0\n",
    "    corpus_size = corpus.shape[0]\n",
    "    for text in corpus:\n",
    "        if method == \"m-1\":\n",
    "            neu_score, obj_score = calc_metrics_1(text)\n",
    "        elif method == \"m-2\":\n",
    "            neu_score, obj_score = calc_metrics_2(text)\n",
    "        else:\n",
    "            raise Error(f\"{method} is not supported. Try either 'm-1' or 'm-2'\")\n",
    "            \n",
    "        avg_neu_score += neu_score / corpus_size\n",
    "        avg_obj_score += obj_score / corpus_size\n",
    "    \n",
    "    return round(avg_neu_score, 5), round(avg_obj_score, 5)"
   ]
  },
  {
   "cell_type": "code",
   "execution_count": 23,
   "id": "323251ad-42c6-4e0b-8e27-558da386a913",
   "metadata": {},
   "outputs": [],
   "source": [
    "def evaluate(path, method, is_ref=False):\n",
    "    data = pd.read_csv(path)\n",
    "    avg_neu_score = 0\n",
    "    avg_obj_score = 0\n",
    "    if is_ref:\n",
    "        for col in [\"summ_1\", \"summ_2\", \"summ_3\"]:\n",
    "            corpus = data[col].values\n",
    "            neu_score, obj_score = calc_scores(corpus, method)\n",
    "            avg_neu_score += neu_score/3\n",
    "            avg_obj_score += obj_score/3\n",
    "    else:\n",
    "        corpus = data[\"summary\"].values\n",
    "        avg_neu_score, avg_obj_score = calc_scores(corpus, method)\n",
    "    \n",
    "    return round(avg_neu_score, 5), round(avg_obj_score, 5)"
   ]
  },
  {
   "cell_type": "code",
   "execution_count": 47,
   "id": "a9561d7c-9949-426f-976b-54746be5071e",
   "metadata": {},
   "outputs": [
    {
     "data": {
      "text/plain": [
       "(0.87019, 0.93351)"
      ]
     },
     "execution_count": 47,
     "metadata": {},
     "output_type": "execute_result"
    }
   ],
   "source": [
    "evaluate(path=\"./outputs/test_summaries_v4_20221129__Htilt.H.Hhat.Hhat.csv\", method=\"m-1\")"
   ]
  },
  {
   "cell_type": "code",
   "execution_count": 54,
   "id": "7ec85e1a-acaa-492d-9285-308a035532dc",
   "metadata": {
    "tags": []
   },
   "outputs": [
    {
     "data": {
      "text/plain": [
       "(1.0, 0.71981)"
      ]
     },
     "execution_count": 54,
     "metadata": {},
     "output_type": "execute_result"
    }
   ],
   "source": [
    "evaluate(path=\"./outputs/meansum_summaries.csv\", method=\"m-2\")"
   ]
  },
  {
   "cell_type": "code",
   "execution_count": null,
   "id": "bbd3a907-949e-4f55-8c7d-84d3d9295f13",
   "metadata": {},
   "outputs": [],
   "source": []
  }
 ],
 "metadata": {
  "kernelspec": {
   "display_name": "dl-env",
   "language": "python",
   "name": "dl-env"
  },
  "language_info": {
   "codemirror_mode": {
    "name": "ipython",
    "version": 3
   },
   "file_extension": ".py",
   "mimetype": "text/x-python",
   "name": "python",
   "nbconvert_exporter": "python",
   "pygments_lexer": "ipython3",
   "version": "3.9.12"
  }
 },
 "nbformat": 4,
 "nbformat_minor": 5
}
