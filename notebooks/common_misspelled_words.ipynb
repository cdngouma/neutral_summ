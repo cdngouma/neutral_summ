{
 "cells": [
  {
   "cell_type": "markdown",
   "id": "448657fc-e9b6-4756-af81-ec7c6cef4fd2",
   "metadata": {},
   "source": [
    "# Common Misspelled English Words\n",
    "\n",
    "In this notebook, we build a dictionary of common misspelled English words."
   ]
  },
  {
   "cell_type": "code",
   "execution_count": 1,
   "id": "6d17c300-2e8b-4f51-b83f-80d53394f1f4",
   "metadata": {},
   "outputs": [],
   "source": [
    "import pandas as pd\n",
    "import json\n",
    "import re"
   ]
  },
  {
   "cell_type": "code",
   "execution_count": 2,
   "id": "2396caa6-18ec-440b-adef-6f9d69ec8f3b",
   "metadata": {},
   "outputs": [],
   "source": [
    "list1_path = \"./misspelled_lst1.txt\"\n",
    "list2_path = \"./misspelled_wiki.txt\"\n",
    "list3_path = \"./misspelled_lst.txt\""
   ]
  },
  {
   "cell_type": "code",
   "execution_count": 3,
   "id": "b65956b4-1249-4918-804c-a51d88b0c34c",
   "metadata": {},
   "outputs": [
    {
     "name": "stdout",
     "output_type": "stream",
     "text": [
      "Added 81 words\n"
     ]
    }
   ],
   "source": [
    "# Load list of mispelled words\n",
    "count = 0\n",
    "misspelled_dict = dict()\n",
    "with open(\"./misspelled_lst1.txt\", \"r\") as f:\n",
    "    PATTERN = \"([a-zA-Z]+) (\\([a-zA-Z ]+\\))\"\n",
    "    for line in f:\n",
    "        match = re.search(PATTERN, line.strip())\n",
    "        if match:\n",
    "            misspelled = match.group(1).strip()\n",
    "            correct = re.sub(\"\\(|\\)\", \"\", match.group(2)).strip()\n",
    "            misspelled_dict[misspelled] = correct\n",
    "            count += 1\n",
    "        else:\n",
    "            print(line)\n",
    "            \n",
    "print(f\"Added {count} words\")"
   ]
  },
  {
   "cell_type": "code",
   "execution_count": 4,
   "id": "5afc5a33-0073-4d1c-84c3-54c6242670e0",
   "metadata": {},
   "outputs": [
    {
     "name": "stdout",
     "output_type": "stream",
     "text": [
      "A–B \n",
      "C–D \n",
      "E–H \n",
      "I–K \n",
      "jewelry  – jewelery \n",
      "L–O \n",
      "P–Q \n",
      "R–S \n",
      "T-Z \n",
      "Added 210 words\n"
     ]
    }
   ],
   "source": [
    "# Load list of misspelled words\n",
    "count = 0\n",
    "#misspelled_dict = dict()\n",
    "with open(\"./misspelled_wiki.txt\", \"r\") as f:\n",
    "    PATTERN = \"([a-zA-Z]+) – ([a-zA-Z ,]+)\"\n",
    "    for line in f:\n",
    "        # Remove content between parenthesis and references ([])\n",
    "        line = re.sub(\"\\[\\d+\\]|\\(.+\\)\", \"\", re.sub(\"( |\\s|\\t)+\", \" \", line))\n",
    "        match = re.search(PATTERN, line.strip())\n",
    "        if match:\n",
    "            misspelled = re.split(\" |,\", match.group(2))\n",
    "            correct = match.group(1).strip()\n",
    "            for m in misspelled:\n",
    "                if m != \"\" and m not in misspelled_dict:\n",
    "                    misspelled_dict[m] = correct\n",
    "                    count += 1\n",
    "        else:\n",
    "            print(line)\n",
    "            \n",
    "print(f\"Added {count} words\")"
   ]
  },
  {
   "cell_type": "code",
   "execution_count": 8,
   "id": "c7574afc-0569-46a8-93e6-f602ecfdf65a",
   "metadata": {},
   "outputs": [
    {
     "data": {
      "text/plain": [
       "291"
      ]
     },
     "execution_count": 8,
     "metadata": {},
     "output_type": "execute_result"
    }
   ],
   "source": [
    "len(misspelled_dict)"
   ]
  },
  {
   "cell_type": "code",
   "execution_count": 5,
   "id": "178a2d60-89f1-47f4-90ed-6aa68afe3c97",
   "metadata": {},
   "outputs": [
    {
     "name": "stdout",
     "output_type": "stream",
     "text": [
      "Added 54\n"
     ]
    }
   ],
   "source": [
    "with open(\"./misspelled_lst2.json\", \"r\") as f:\n",
    "    count = len(misspelled_dict)\n",
    "    data = json.loads(f.read())\n",
    "    misspelled_dict = {**misspelled_dict, **data}\n",
    "    print(f\"Added {len(misspelled_dict) - count}\")"
   ]
  },
  {
   "cell_type": "code",
   "execution_count": 9,
   "id": "bed6b477-57cc-45b6-9f21-8bb2996157c5",
   "metadata": {},
   "outputs": [
    {
     "name": "stdout",
     "output_type": "stream",
     "text": [
      "Added 31\n"
     ]
    }
   ],
   "source": [
    "with open(\"./exagerations.json\", \"r\") as f:\n",
    "    count = len(misspelled_dict)\n",
    "    data = json.loads(f.read())\n",
    "    misspelled_dict = {**misspelled_dict, **data}\n",
    "    print(f\"Added {len(misspelled_dict) - count}\")"
   ]
  },
  {
   "cell_type": "code",
   "execution_count": 10,
   "id": "181bd7eb-aacf-4162-906f-8e382ba408c2",
   "metadata": {},
   "outputs": [
    {
     "data": {
      "text/plain": [
       "376"
      ]
     },
     "execution_count": 10,
     "metadata": {},
     "output_type": "execute_result"
    }
   ],
   "source": [
    "len(misspelled_dict)"
   ]
  },
  {
   "cell_type": "code",
   "execution_count": 12,
   "id": "93228170-bdfb-4f58-800d-61aacfc5bd4c",
   "metadata": {},
   "outputs": [],
   "source": [
    "with open(\"./eng_misspelled_dict.json\", \"w\") as fd:\n",
    "    json.dump(misspelled_dict, fd)"
   ]
  },
  {
   "cell_type": "code",
   "execution_count": null,
   "id": "2af6bf64-a489-49d8-b596-e2c661d405d6",
   "metadata": {},
   "outputs": [],
   "source": []
  }
 ],
 "metadata": {
  "kernelspec": {
   "display_name": "workenv",
   "language": "python",
   "name": "workenv"
  },
  "language_info": {
   "codemirror_mode": {
    "name": "ipython",
    "version": 3
   },
   "file_extension": ".py",
   "mimetype": "text/x-python",
   "name": "python",
   "nbconvert_exporter": "python",
   "pygments_lexer": "ipython3",
   "version": "3.7.11"
  }
 },
 "nbformat": 4,
 "nbformat_minor": 5
}
