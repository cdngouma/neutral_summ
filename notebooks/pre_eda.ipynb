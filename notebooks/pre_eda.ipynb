{
 "cells": [
  {
   "cell_type": "markdown",
   "id": "c5446eaa-7716-4469-842d-3f28e686be32",
   "metadata": {},
   "source": [
    "# Amazon Reviews Dataset (2018) Analysis"
   ]
  },
  {
   "cell_type": "markdown",
   "id": "624ed932-8ede-44f3-a0bf-9e6744b70bce",
   "metadata": {},
   "source": [
    "The goal of this notebook is to quickly get an understanding of the [Amazon reviews dataset](https://jmcauley.ucsd.edu/data/amazon/). As the number of reviews per category can easily reach tens of millions, we aim at understanding the distribution of reviews and ratings in the dataset in order to implement a good strategy to build 3 datasets of reviews: a `train` set, `valid` set, and `test` set. We want the `train` dataset to have about 800 reviews per category and each review only have either a `Positive` sentiment or `Negative` sentiment. Both `valid` and `test` datasets would contain around 200 reviews each and only consider `Neutral` reviews. For each dataset, we aim at having 10 to 15 reviews per products where there is an uniform distribution of rating scores."
   ]
  },
  {
   "cell_type": "markdown",
   "id": "e36e63bb-f47a-4035-972f-f98f5cadf6ab",
   "metadata": {},
   "source": [
    "## Dataset description"
   ]
  },
  {
   "cell_type": "markdown",
   "id": "d1532465-34c8-4cd7-8ba6-e77e806148cd",
   "metadata": {},
   "source": [
    "This dataset contains product reviews and metadata from Amazon, including 142.8 million reviews spanning May 1996 - July 2014. For the task of text summarization, we will only use product reviews data. This dataset contains informations related to each reviews within the following 12 columns:\n",
    "* **reviewerID**: ID of the reviewer, e.g. A2SUAM1J3GNN3B\n",
    "* **asin**: ID of the product, e.g. 0000013714\n",
    "* **reviewerName**: name of the reviewer\n",
    "* **helpful**: helpfulness rating of the review, e.g. 2/3\n",
    "* **reviewText**: text of the review\n",
    "* **overall**: rating of the product\n",
    "* **summary**: summary of the review\n",
    "* **unixReviewTime**: time of the review (unix time)\n",
    "* **reviewTime**: time of the review (raw)\n",
    "* **vote**: helpfulness votes\n",
    "* **verified**: review status\n",
    "* **style**"
   ]
  },
  {
   "cell_type": "markdown",
   "id": "901c0482-b140-44cb-b116-db8692fc1b8f",
   "metadata": {},
   "source": [
    "## Analysis Summary"
   ]
  },
  {
   "cell_type": "markdown",
   "id": "4f571000-a9d2-4dc8-bbdc-778c03f753c6",
   "metadata": {},
   "source": [
    "For this quick analysis of the Amazon reviews dataset, we only downloaded data from 7 (out of 29) of all categories. The sample dataset contains 3,025,691 reviews from 285,381 different products. The goal of this analysis was to implement a strategy to extract a sample of around 1,000 reviews for each category of products contained in the full Amazon reviews dataset whilst ensuring a uniform distribution over ratings for each product. Some of our findings are summarized can be follows:\n",
    "* Considering the task of text summarization, some attributes of the Amazon reviews dataset are not very useful. For this task, we are more fucused on textual data (i.e. the reviews). Therefore, we only consider the columns `overall` (rating),  `asin` (product ID), `reviewText` (review text). The columns `reviewerID` and `reviewTime` would be useful to sort and remove duplicated reviews from the final dataset.\n",
    "\n",
    "* About 97% of all reviews contained in this sample dataset have a length of between 1 and 200 words. Our analysis showed that reviews having less than 8 words are less precise and do not contain much useful information. Because of this, we filter out reviews having less than 8 words or more than 200 words.\n",
    "\n",
    "* Our analysis also showed that, after filtering out reviews based on length, 97% of products have between 1 and 56 reviews while around 10% have at least 10 reviews. Given that we want a uniform distribution of ratings for each product, it would be appropriate to have at least 2 reviews per rating hence at least 10 reviews per product.\n",
    "\n",
    "* Based on amazon.com labelling of the star system and the method used in the Yelp and IMDb datasets to infer sentiment from rating scores, the can map `Positive` reviews to the scores 4 and 5, `Neutral` reviews to the score 3, and `Negative` reviews to the scores 1 and 2.\n",
    "\n",
    "Our extraction program will, therefore, consist of 3 filtering stages: (1) filter out reviews having a length outside the bounds of 8-200 words, (2) filter out products having less than 10 reviews, and (3) if building the training set, discard neutral reviews and keep them for the valid/test datasets."
   ]
  },
  {
   "cell_type": "markdown",
   "id": "d12dbb48-bde9-4a76-8ac2-7ea35c2aaeb7",
   "metadata": {
    "tags": []
   },
   "source": [
    "## Download data"
   ]
  },
  {
   "cell_type": "code",
   "execution_count": 1,
   "id": "1422d7c8-08f8-4bc6-afea-7854400e03e1",
   "metadata": {},
   "outputs": [],
   "source": [
    "import gzip\n",
    "import requests\n",
    "import io\n",
    "import json\n",
    "\n",
    "import pandas as pd\n",
    "import numpy as np\n",
    "import datetime\n",
    "\n",
    "import re\n",
    "\n",
    "import matplotlib.pyplot as plt\n",
    "import seaborn as sns"
   ]
  },
  {
   "cell_type": "code",
   "execution_count": 2,
   "id": "dde90648-1143-450f-8d82-8f7a5c6253dd",
   "metadata": {},
   "outputs": [],
   "source": [
    "import time"
   ]
  },
  {
   "cell_type": "code",
   "execution_count": 3,
   "id": "010798ad-3386-4bba-8928-7a169b847374",
   "metadata": {},
   "outputs": [],
   "source": [
    "sns.set()\n",
    "%matplotlib inline"
   ]
  },
  {
   "cell_type": "code",
   "execution_count": 4,
   "id": "2c394919-3657-41ee-b5b8-dc522a661187",
   "metadata": {},
   "outputs": [],
   "source": [
    "def get_gzipped_json(category, save=False):\n",
    "    category = \"_\".join(category.split(\" \"))\n",
    "    url = f\"http://deepyeti.ucsd.edu/jianmo/amazon/categoryFiles/{category}.json.gz\" \n",
    "    print('Downloading Amazon reviews from: {}'.format(url))\n",
    "    # Download and unzip file\n",
    "    decompressed = gzip.decompress(requests.get(url).content)\n",
    "    \n",
    "    df = dict()\n",
    "    with io.StringIO(decompressed.decode()) as file:\n",
    "        for i,line in enumerate(file):\n",
    "            df[i] = json.loads(line.strip())\n",
    "        df = pd.DataFrame.from_dict(df, orient='index')\n",
    "    \n",
    "    # Add category column\n",
    "    df[\"category\"] = re.sub(\"\\_\", \" \", category)\n",
    "    \n",
    "    if save:\n",
    "        df.to_csv(f\"./{category.lower()}.csv\", index=False)\n",
    "    \n",
    "    return df"
   ]
  },
  {
   "cell_type": "code",
   "execution_count": 5,
   "id": "180216f1-1bcd-4706-a0a2-57526f8d31b4",
   "metadata": {},
   "outputs": [],
   "source": [
    "def download_and_combine(categories):\n",
    "    dataset = None\n",
    "    for cat in categories:\n",
    "        df = get_gzipped_json(cat)\n",
    "        if dataset is None:\n",
    "            dataset = df\n",
    "        else:\n",
    "            dataset = pd.concat([dataset, df])\n",
    "    \n",
    "    return dataset"
   ]
  },
  {
   "cell_type": "markdown",
   "id": "7dddc74a-5fae-4302-9159-33ed4fe4ea99",
   "metadata": {},
   "source": [
    "For this short analysis, we only retrieve a few categories having the smallest number of reviews."
   ]
  },
  {
   "cell_type": "code",
   "execution_count": 6,
   "id": "82631ab5-de6f-4f04-93bf-91b626257709",
   "metadata": {},
   "outputs": [],
   "source": [
    "categories = [\"All Beauty\", \"Gift Cards\", \"Magazine Subscriptions\", \"Software\", \"Appliances\", \"AMAZON FASHION\", \"Prime Pantry\"]"
   ]
  },
  {
   "cell_type": "code",
   "execution_count": 7,
   "id": "92e04713-b67a-46b8-b3e8-d32425a15cfc",
   "metadata": {},
   "outputs": [
    {
     "name": "stdout",
     "output_type": "stream",
     "text": [
      "Downloading Amazon reviews from: http://deepyeti.ucsd.edu/jianmo/amazon/categoryFiles/All_Beauty.json.gz\n",
      "Downloading Amazon reviews from: http://deepyeti.ucsd.edu/jianmo/amazon/categoryFiles/Gift_Cards.json.gz\n",
      "Downloading Amazon reviews from: http://deepyeti.ucsd.edu/jianmo/amazon/categoryFiles/Magazine_Subscriptions.json.gz\n",
      "Downloading Amazon reviews from: http://deepyeti.ucsd.edu/jianmo/amazon/categoryFiles/Software.json.gz\n",
      "Downloading Amazon reviews from: http://deepyeti.ucsd.edu/jianmo/amazon/categoryFiles/Appliances.json.gz\n",
      "Downloading Amazon reviews from: http://deepyeti.ucsd.edu/jianmo/amazon/categoryFiles/AMAZON_FASHION.json.gz\n",
      "Downloading Amazon reviews from: http://deepyeti.ucsd.edu/jianmo/amazon/categoryFiles/Prime_Pantry.json.gz\n"
     ]
    }
   ],
   "source": [
    "raw_df = download_and_combine(categories)"
   ]
  },
  {
   "cell_type": "markdown",
   "id": "5e2ad10b-0d8d-4ddb-834a-d72fcd3198dc",
   "metadata": {},
   "source": [
    "## Preleminary Analysis"
   ]
  },
  {
   "cell_type": "code",
   "execution_count": 8,
   "id": "1946c6e1-7c10-444e-b5ef-2d8ce147f8b6",
   "metadata": {},
   "outputs": [
    {
     "name": "stdout",
     "output_type": "stream",
     "text": [
      "Our sample dataset contains 3025691 reviews of products from 7 different categories\n"
     ]
    }
   ],
   "source": [
    "print(f\"Our sample dataset contains {raw_df.shape[0]} reviews of products from {len(categories)} different categories\")"
   ]
  },
  {
   "cell_type": "code",
   "execution_count": 9,
   "id": "35039ae6-26e4-42d6-b90a-fd09bc57b568",
   "metadata": {},
   "outputs": [
    {
     "data": {
      "text/html": [
       "<div>\n",
       "<style scoped>\n",
       "    .dataframe tbody tr th:only-of-type {\n",
       "        vertical-align: middle;\n",
       "    }\n",
       "\n",
       "    .dataframe tbody tr th {\n",
       "        vertical-align: top;\n",
       "    }\n",
       "\n",
       "    .dataframe thead th {\n",
       "        text-align: right;\n",
       "    }\n",
       "</style>\n",
       "<table border=\"1\" class=\"dataframe\">\n",
       "  <thead>\n",
       "    <tr style=\"text-align: right;\">\n",
       "      <th></th>\n",
       "      <th>overall</th>\n",
       "      <th>verified</th>\n",
       "      <th>reviewTime</th>\n",
       "      <th>reviewerID</th>\n",
       "      <th>asin</th>\n",
       "      <th>reviewerName</th>\n",
       "      <th>reviewText</th>\n",
       "      <th>summary</th>\n",
       "      <th>unixReviewTime</th>\n",
       "      <th>vote</th>\n",
       "      <th>style</th>\n",
       "      <th>image</th>\n",
       "      <th>category</th>\n",
       "    </tr>\n",
       "  </thead>\n",
       "  <tbody>\n",
       "    <tr>\n",
       "      <th>0</th>\n",
       "      <td>1.0</td>\n",
       "      <td>True</td>\n",
       "      <td>02 19, 2015</td>\n",
       "      <td>A1V6B6TNIC10QE</td>\n",
       "      <td>0143026860</td>\n",
       "      <td>theodore j bigham</td>\n",
       "      <td>great</td>\n",
       "      <td>One Star</td>\n",
       "      <td>1424304000</td>\n",
       "      <td>NaN</td>\n",
       "      <td>NaN</td>\n",
       "      <td>NaN</td>\n",
       "      <td>All Beauty</td>\n",
       "    </tr>\n",
       "    <tr>\n",
       "      <th>1</th>\n",
       "      <td>4.0</td>\n",
       "      <td>True</td>\n",
       "      <td>12 18, 2014</td>\n",
       "      <td>A2F5GHSXFQ0W6J</td>\n",
       "      <td>0143026860</td>\n",
       "      <td>Mary K. Byke</td>\n",
       "      <td>My  husband wanted to reading about the Negro ...</td>\n",
       "      <td>... to reading about the Negro Baseball and th...</td>\n",
       "      <td>1418860800</td>\n",
       "      <td>NaN</td>\n",
       "      <td>NaN</td>\n",
       "      <td>NaN</td>\n",
       "      <td>All Beauty</td>\n",
       "    </tr>\n",
       "    <tr>\n",
       "      <th>2</th>\n",
       "      <td>4.0</td>\n",
       "      <td>True</td>\n",
       "      <td>08 10, 2014</td>\n",
       "      <td>A1572GUYS7DGSR</td>\n",
       "      <td>0143026860</td>\n",
       "      <td>David G</td>\n",
       "      <td>This book was very informative, covering all a...</td>\n",
       "      <td>Worth the Read</td>\n",
       "      <td>1407628800</td>\n",
       "      <td>NaN</td>\n",
       "      <td>NaN</td>\n",
       "      <td>NaN</td>\n",
       "      <td>All Beauty</td>\n",
       "    </tr>\n",
       "    <tr>\n",
       "      <th>3</th>\n",
       "      <td>5.0</td>\n",
       "      <td>True</td>\n",
       "      <td>03 11, 2013</td>\n",
       "      <td>A1PSGLFK1NSVO</td>\n",
       "      <td>0143026860</td>\n",
       "      <td>TamB</td>\n",
       "      <td>I am already a baseball fan and knew a bit abo...</td>\n",
       "      <td>Good Read</td>\n",
       "      <td>1362960000</td>\n",
       "      <td>NaN</td>\n",
       "      <td>NaN</td>\n",
       "      <td>NaN</td>\n",
       "      <td>All Beauty</td>\n",
       "    </tr>\n",
       "    <tr>\n",
       "      <th>4</th>\n",
       "      <td>5.0</td>\n",
       "      <td>True</td>\n",
       "      <td>12 25, 2011</td>\n",
       "      <td>A6IKXKZMTKGSC</td>\n",
       "      <td>0143026860</td>\n",
       "      <td>shoecanary</td>\n",
       "      <td>This was a good story of the Black leagues. I ...</td>\n",
       "      <td>More than facts, a good story read!</td>\n",
       "      <td>1324771200</td>\n",
       "      <td>5</td>\n",
       "      <td>NaN</td>\n",
       "      <td>NaN</td>\n",
       "      <td>All Beauty</td>\n",
       "    </tr>\n",
       "    <tr>\n",
       "      <th>5</th>\n",
       "      <td>5.0</td>\n",
       "      <td>False</td>\n",
       "      <td>02 26, 2010</td>\n",
       "      <td>A36NF437WZLQ9E</td>\n",
       "      <td>0143026860</td>\n",
       "      <td>W. Powell</td>\n",
       "      <td>Today I gave a book about the Negro Leagues of...</td>\n",
       "      <td>The Gift of Black Baseball</td>\n",
       "      <td>1267142400</td>\n",
       "      <td>4</td>\n",
       "      <td>NaN</td>\n",
       "      <td>NaN</td>\n",
       "      <td>All Beauty</td>\n",
       "    </tr>\n",
       "    <tr>\n",
       "      <th>6</th>\n",
       "      <td>4.0</td>\n",
       "      <td>False</td>\n",
       "      <td>03 7, 2001</td>\n",
       "      <td>A10Q8NIFOVOHFV</td>\n",
       "      <td>0143026860</td>\n",
       "      <td>Robert S. Clay Jr.</td>\n",
       "      <td>The story of race relations in American histor...</td>\n",
       "      <td>Baseball, America, and racism.</td>\n",
       "      <td>983923200</td>\n",
       "      <td>14</td>\n",
       "      <td>NaN</td>\n",
       "      <td>NaN</td>\n",
       "      <td>All Beauty</td>\n",
       "    </tr>\n",
       "    <tr>\n",
       "      <th>7</th>\n",
       "      <td>1.0</td>\n",
       "      <td>True</td>\n",
       "      <td>04 10, 2017</td>\n",
       "      <td>A26PO1B2Q2G1CS</td>\n",
       "      <td>014789302X</td>\n",
       "      <td>Jacqueline Diaz</td>\n",
       "      <td>I didn't like this product it smudged all unde...</td>\n",
       "      <td>One Star</td>\n",
       "      <td>1491782400</td>\n",
       "      <td>NaN</td>\n",
       "      <td>NaN</td>\n",
       "      <td>NaN</td>\n",
       "      <td>All Beauty</td>\n",
       "    </tr>\n",
       "    <tr>\n",
       "      <th>8</th>\n",
       "      <td>5.0</td>\n",
       "      <td>True</td>\n",
       "      <td>01 3, 2017</td>\n",
       "      <td>AQ812VYVTC2RJ</td>\n",
       "      <td>014789302X</td>\n",
       "      <td>Khadijah Ali-Evans</td>\n",
       "      <td>I simply love the product. I appreciate print ...</td>\n",
       "      <td>Five Stars</td>\n",
       "      <td>1483401600</td>\n",
       "      <td>NaN</td>\n",
       "      <td>NaN</td>\n",
       "      <td>NaN</td>\n",
       "      <td>All Beauty</td>\n",
       "    </tr>\n",
       "    <tr>\n",
       "      <th>9</th>\n",
       "      <td>1.0</td>\n",
       "      <td>True</td>\n",
       "      <td>11 19, 2016</td>\n",
       "      <td>AMACNEW14ADMX</td>\n",
       "      <td>014789302X</td>\n",
       "      <td>rabiyaa123</td>\n",
       "      <td>it burns your eyes when u put it on  and very ...</td>\n",
       "      <td>i do not recommend.</td>\n",
       "      <td>1479513600</td>\n",
       "      <td>3</td>\n",
       "      <td>NaN</td>\n",
       "      <td>NaN</td>\n",
       "      <td>All Beauty</td>\n",
       "    </tr>\n",
       "  </tbody>\n",
       "</table>\n",
       "</div>"
      ],
      "text/plain": [
       "   overall  verified   reviewTime      reviewerID        asin  \\\n",
       "0      1.0      True  02 19, 2015  A1V6B6TNIC10QE  0143026860   \n",
       "1      4.0      True  12 18, 2014  A2F5GHSXFQ0W6J  0143026860   \n",
       "2      4.0      True  08 10, 2014  A1572GUYS7DGSR  0143026860   \n",
       "3      5.0      True  03 11, 2013   A1PSGLFK1NSVO  0143026860   \n",
       "4      5.0      True  12 25, 2011   A6IKXKZMTKGSC  0143026860   \n",
       "5      5.0     False  02 26, 2010  A36NF437WZLQ9E  0143026860   \n",
       "6      4.0     False   03 7, 2001  A10Q8NIFOVOHFV  0143026860   \n",
       "7      1.0      True  04 10, 2017  A26PO1B2Q2G1CS  014789302X   \n",
       "8      5.0      True   01 3, 2017   AQ812VYVTC2RJ  014789302X   \n",
       "9      1.0      True  11 19, 2016   AMACNEW14ADMX  014789302X   \n",
       "\n",
       "         reviewerName                                         reviewText  \\\n",
       "0   theodore j bigham                                              great   \n",
       "1        Mary K. Byke  My  husband wanted to reading about the Negro ...   \n",
       "2             David G  This book was very informative, covering all a...   \n",
       "3                TamB  I am already a baseball fan and knew a bit abo...   \n",
       "4          shoecanary  This was a good story of the Black leagues. I ...   \n",
       "5           W. Powell  Today I gave a book about the Negro Leagues of...   \n",
       "6  Robert S. Clay Jr.  The story of race relations in American histor...   \n",
       "7     Jacqueline Diaz  I didn't like this product it smudged all unde...   \n",
       "8  Khadijah Ali-Evans  I simply love the product. I appreciate print ...   \n",
       "9          rabiyaa123  it burns your eyes when u put it on  and very ...   \n",
       "\n",
       "                                             summary  unixReviewTime vote  \\\n",
       "0                                           One Star      1424304000  NaN   \n",
       "1  ... to reading about the Negro Baseball and th...      1418860800  NaN   \n",
       "2                                     Worth the Read      1407628800  NaN   \n",
       "3                                          Good Read      1362960000  NaN   \n",
       "4                More than facts, a good story read!      1324771200    5   \n",
       "5                         The Gift of Black Baseball      1267142400    4   \n",
       "6                     Baseball, America, and racism.       983923200   14   \n",
       "7                                           One Star      1491782400  NaN   \n",
       "8                                         Five Stars      1483401600  NaN   \n",
       "9                                i do not recommend.      1479513600    3   \n",
       "\n",
       "  style image    category  \n",
       "0   NaN   NaN  All Beauty  \n",
       "1   NaN   NaN  All Beauty  \n",
       "2   NaN   NaN  All Beauty  \n",
       "3   NaN   NaN  All Beauty  \n",
       "4   NaN   NaN  All Beauty  \n",
       "5   NaN   NaN  All Beauty  \n",
       "6   NaN   NaN  All Beauty  \n",
       "7   NaN   NaN  All Beauty  \n",
       "8   NaN   NaN  All Beauty  \n",
       "9   NaN   NaN  All Beauty  "
      ]
     },
     "execution_count": 9,
     "metadata": {},
     "output_type": "execute_result"
    }
   ],
   "source": [
    "raw_df.head(10)"
   ]
  },
  {
   "cell_type": "code",
   "execution_count": 10,
   "id": "22f014fb-2ea8-450e-a54c-35b6f8a1cf7d",
   "metadata": {},
   "outputs": [
    {
     "data": {
      "text/plain": [
       "overall                 0\n",
       "verified                0\n",
       "reviewTime              0\n",
       "reviewerID              0\n",
       "asin                    0\n",
       "reviewerName          211\n",
       "reviewText           2595\n",
       "summary              1123\n",
       "unixReviewTime          0\n",
       "vote              2628617\n",
       "style             2122084\n",
       "image             2973618\n",
       "category                0\n",
       "dtype: int64"
      ]
     },
     "execution_count": 10,
     "metadata": {},
     "output_type": "execute_result"
    }
   ],
   "source": [
    "raw_df.isna().sum()"
   ]
  },
  {
   "cell_type": "markdown",
   "id": "34ced503-4eee-43a5-82ff-defd0dc2f582",
   "metadata": {},
   "source": [
    "### Remove obsolete columns"
   ]
  },
  {
   "cell_type": "markdown",
   "id": "841c9d92-a956-4a7a-99e0-b74c35c5affc",
   "metadata": {},
   "source": [
    "The dataset we are building is aimed at the task of text summarization. Because of this, some of the columns included would not be of much use and we can also identify redundant attributes such as `unixReviewTime`."
   ]
  },
  {
   "cell_type": "code",
   "execution_count": 11,
   "id": "8f79f70a-8531-4f22-bd43-8c412ececea5",
   "metadata": {},
   "outputs": [],
   "source": [
    "raw_df = raw_df.drop(columns=[\"reviewerName\", \"unixReviewTime\", \"image\"])"
   ]
  },
  {
   "cell_type": "markdown",
   "id": "9f03e6a0-1ea7-4214-8f1b-1faea92fca8d",
   "metadata": {},
   "source": [
    "### Remove rows with missing review texts\n",
    "Before proceeding to an exploration of each attribute of the dataset, we remove all rows with missing `reviewText` as they would be useless."
   ]
  },
  {
   "cell_type": "code",
   "execution_count": 12,
   "id": "985d7f36-f95b-40d7-9c64-b2bf7902eadd",
   "metadata": {},
   "outputs": [],
   "source": [
    "raw_df = raw_df[~raw_df[\"reviewText\"].isna()]"
   ]
  },
  {
   "cell_type": "code",
   "execution_count": 13,
   "id": "641128fc-ad03-451f-9932-7258ba51852a",
   "metadata": {},
   "outputs": [],
   "source": [
    "%load_ext autoreload\n",
    "%autoreload 2"
   ]
  },
  {
   "cell_type": "code",
   "execution_count": 14,
   "id": "45992cf2-d0b6-42ed-9c0c-3b5c90094dc4",
   "metadata": {},
   "outputs": [],
   "source": [
    "df = raw_df.copy()"
   ]
  },
  {
   "cell_type": "markdown",
   "id": "6bffe069-5dbe-4a94-8161-b46daea24a75",
   "metadata": {},
   "source": [
    "### category"
   ]
  },
  {
   "cell_type": "code",
   "execution_count": 15,
   "id": "8a29b7a3-4484-4a40-9c0f-56b4cf021e6d",
   "metadata": {},
   "outputs": [
    {
     "data": {
      "text/plain": [
       "AMAZON FASHION            882403\n",
       "Appliances                602453\n",
       "Prime Pantry              471233\n",
       "Software                  459370\n",
       "All Beauty                370946\n",
       "Gift Cards                147035\n",
       "Magazine Subscriptions     89656\n",
       "Name: category, dtype: int64"
      ]
     },
     "execution_count": 15,
     "metadata": {},
     "output_type": "execute_result"
    }
   ],
   "source": [
    "# Show number of reviews per category\n",
    "df[\"category\"].value_counts()"
   ]
  },
  {
   "cell_type": "markdown",
   "id": "841c342c-8d08-4501-9800-176e62380b6b",
   "metadata": {},
   "source": [
    "### verified"
   ]
  },
  {
   "cell_type": "code",
   "execution_count": 16,
   "id": "55c5cfc9-8389-49ec-9bd1-e4b6aba5b04b",
   "metadata": {},
   "outputs": [
    {
     "data": {
      "text/plain": [
       "True     86.06\n",
       "False    13.94\n",
       "Name: verified, dtype: float64"
      ]
     },
     "execution_count": 16,
     "metadata": {},
     "output_type": "execute_result"
    }
   ],
   "source": [
    "round(100 * df[\"verified\"].value_counts() / df.shape[0], 2)"
   ]
  },
  {
   "cell_type": "markdown",
   "id": "1b479d4d-6882-4e5f-906f-754ae9403df0",
   "metadata": {},
   "source": [
    "### reviewerID"
   ]
  },
  {
   "cell_type": "code",
   "execution_count": 17,
   "id": "c361e96d-1fef-4fcd-853c-fd2612cca1be",
   "metadata": {},
   "outputs": [
    {
     "name": "stdout",
     "output_type": "stream",
     "text": [
      "There is a total of 2195065 unique reviewers.\n"
     ]
    }
   ],
   "source": [
    "print(f\"There is a total of {df['reviewerID'].unique().shape[0]} unique reviewers.\")"
   ]
  },
  {
   "cell_type": "markdown",
   "id": "16bd9676-1477-416c-96ea-0134c7d2d4cd",
   "metadata": {},
   "source": [
    "### vote"
   ]
  },
  {
   "cell_type": "code",
   "execution_count": 18,
   "id": "6897e616-821f-49b2-ad5d-5516c76c09c3",
   "metadata": {},
   "outputs": [
    {
     "name": "stdout",
     "output_type": "stream",
     "text": [
      "%86.88 of reviews do not have an helpfulness score\n"
     ]
    }
   ],
   "source": [
    "print(f'%{(100 * raw_df[\"vote\"].isna().sum() / raw_df.shape[0]):.2f} of reviews do not have an helpfulness score')"
   ]
  },
  {
   "cell_type": "markdown",
   "id": "480e766d-c871-4cf0-bb31-6da011c55deb",
   "metadata": {},
   "source": [
    "### style"
   ]
  },
  {
   "cell_type": "code",
   "execution_count": 19,
   "id": "d06774d7-a20e-4cb2-a8e8-caa2904a565c",
   "metadata": {},
   "outputs": [
    {
     "data": {
      "text/plain": [
       "['nan',\n",
       " \"{'Format:': ' Hardcover'}\",\n",
       " \"{'Size:': ' 44 oz'}\",\n",
       " \"{'Size:': ' 300'}\",\n",
       " \"{'Size:': ' 3 pack'}\",\n",
       " \"{'Size:': ' 3'}\",\n",
       " \"{'Size:': ' 45 Oz'}\",\n",
       " \"{'Size:': ' Color48'}\",\n",
       " \"{'Size:': ' 6.25 Inches'}\",\n",
       " \"{'Size:': ' Color42'}\",\n",
       " \"{'Size:': ' 86-pc'}\",\n",
       " \"{'Size:': ' 19 Peice'}\",\n",
       " \"{'Size:': ' Penta'}\",\n",
       " \"{'Size:': ' Color46'}\",\n",
       " \"{'Size:': ' Ikat Sphere Pear'}\",\n",
       " \"{'Size:': ' 3 Years'}\",\n",
       " \"{'Size:': ' Color47'}\",\n",
       " \"{'Size:': ' 3500'}\",\n",
       " \"{'Size:': ' 98 Feet'}\",\n",
       " \"{'Size:': ' Large, Vintage Black'}\"]"
      ]
     },
     "execution_count": 19,
     "metadata": {},
     "output_type": "execute_result"
    }
   ],
   "source": [
    "df[\"style\"] = df[\"style\"].astype(str)\n",
    "df[\"style\"].unique().tolist()[:20]"
   ]
  },
  {
   "cell_type": "markdown",
   "id": "8a850a8b-e6e0-49c1-a280-512ae4d46302",
   "metadata": {},
   "source": [
    "### summary"
   ]
  },
  {
   "cell_type": "markdown",
   "id": "86595f0f-b844-4e45-96ad-f0316284b828",
   "metadata": {},
   "source": [
    "The column `summary` does not appear to be a summary of all reviews associated with a given product. Therefore, it cannot be used as reference summary in the text summarization task. Moreover, we can also notice that `summary` contains relatively useless texts such as `!!!!`, `:)`, `$$$`, `5 star`, etc."
   ]
  },
  {
   "cell_type": "code",
   "execution_count": 22,
   "id": "326e1358-d7ad-432c-b69d-ac628ae49a60",
   "metadata": {},
   "outputs": [
    {
     "data": {
      "text/plain": [
       "['One Star',\n",
       " \"... to reading about the Negro Baseball and this a great addition to his library Our library doesn't haveinformation so ...\",\n",
       " 'Worth the Read',\n",
       " 'Good Read',\n",
       " 'More than facts, a good story read!',\n",
       " 'The Gift of Black Baseball',\n",
       " 'Baseball, America, and racism.',\n",
       " 'Five Stars',\n",
       " 'i do not recommend.',\n",
       " 'Two Stars',\n",
       " 'Nice quality, love the compact packaging',\n",
       " 'Gorgeous!',\n",
       " 'Mesmerizing Illustrations',\n",
       " 'Inspiring',\n",
       " 'A must have for any art fanatics',\n",
       " 'Waited so long.',\n",
       " 'cute!',\n",
       " 'Fun twist to the old favorite, Bingo.',\n",
       " 'ADORABLE Cards!',\n",
       " 'Send a smile to someone you love!',\n",
       " 'HUUUUGE!',\n",
       " 'Thomas Kinkade Angel of Glory Illuminated figurine',\n",
       " 'This is the perfect tick removal tool.',\n",
       " 'Akatsuki Pride',\n",
       " 'Great product',\n",
       " 'Wonderful stand for my brush and razor',\n",
       " 'But I bent it just a little and it fits fine now.',\n",
       " 'good fit and finish',\n",
       " 'Excellent',\n",
       " 'Very wobbly stand...']"
      ]
     },
     "execution_count": 22,
     "metadata": {},
     "output_type": "execute_result"
    }
   ],
   "source": [
    "summaries = df[\"summary\"].unique().tolist()\n",
    "summaries[:30]"
   ]
  },
  {
   "cell_type": "markdown",
   "id": "450f710a-68c3-47c1-9335-dcbab03869ac",
   "metadata": {},
   "source": [
    "### reviewText"
   ]
  },
  {
   "cell_type": "code",
   "execution_count": 23,
   "id": "726833d2-1fc6-40ed-b65d-5fe4f0dc5139",
   "metadata": {},
   "outputs": [],
   "source": [
    "def filter_reviews(text):\n",
    "    # If the text does not contain any alphanumeric character, then return blank\n",
    "    # This should get rid of reviews such as \"!!!!!\", \":)\", \"~~\", etc.\n",
    "    if not re.search(\"[a-zA-Z]+\", text):\n",
    "        return None\n",
    "    return text"
   ]
  },
  {
   "cell_type": "code",
   "execution_count": 24,
   "id": "19a46795-16cd-4dc6-85f1-4514e31d15a3",
   "metadata": {},
   "outputs": [],
   "source": [
    "def get_lengths(text):\n",
    "    return len(text.split())"
   ]
  },
  {
   "cell_type": "code",
   "execution_count": 25,
   "id": "7877b2f2-6414-4b61-b099-80101307aa1a",
   "metadata": {},
   "outputs": [],
   "source": [
    "# Remove text having no alphanumeric characters\n",
    "df[\"reviewText\"] = df[\"reviewText\"].apply(filter_reviews)"
   ]
  },
  {
   "cell_type": "markdown",
   "id": "3e9c0a2d-3a78-4c55-b4bb-ea438b275217",
   "metadata": {},
   "source": [
    "Add information about the length of reviews texts"
   ]
  },
  {
   "cell_type": "code",
   "execution_count": 26,
   "id": "6d18e5a8-9837-4514-89d2-c175e758d57d",
   "metadata": {},
   "outputs": [],
   "source": [
    "# Add sequence lengths\n",
    "df[\"review_len\"] = df[\"reviewText\"].apply(lambda x: len(str(x).split()))"
   ]
  },
  {
   "cell_type": "code",
   "execution_count": 27,
   "id": "a5b55a12-8cb4-4fdf-b8ae-0da50d260a5b",
   "metadata": {},
   "outputs": [
    {
     "data": {
      "text/plain": [
       "count    3023096.000000\n",
       "mean          37.941292\n",
       "std           68.823854\n",
       "min            1.000000\n",
       "25%            7.000000\n",
       "50%           19.000000\n",
       "75%           41.000000\n",
       "max         5118.000000\n",
       "Name: review_len, dtype: object"
      ]
     },
     "execution_count": 27,
     "metadata": {},
     "output_type": "execute_result"
    }
   ],
   "source": [
    "df[\"review_len\"].describe().apply(lambda x: format(x, 'f'))"
   ]
  },
  {
   "cell_type": "markdown",
   "id": "9ce3d5d7-b283-4561-9298-86f5fc5762df",
   "metadata": {},
   "source": [
    "#### Analysis of review lengths"
   ]
  },
  {
   "cell_type": "code",
   "execution_count": 28,
   "id": "51454e28-d2e2-43a5-a605-7cb28d605d82",
   "metadata": {},
   "outputs": [],
   "source": [
    "review_lengths = df[\"review_len\"].values"
   ]
  },
  {
   "cell_type": "markdown",
   "id": "c827cbad-b91b-45fe-ac07-563ca5630301",
   "metadata": {},
   "source": [
    "As the distribution of the review lengths is difficult to see with the original data, we apply a log function to the data in order to make it clearer."
   ]
  },
  {
   "cell_type": "code",
   "execution_count": 29,
   "id": "5011a17b-04e1-4c81-b0da-e71bbd86332a",
   "metadata": {},
   "outputs": [
    {
     "data": {
      "image/png": "[encoded data removed]",
      "text/plain": [
       "<Figure size 1008x288 with 2 Axes>"
      ]
     },
     "metadata": {
      "needs_background": "light"
     },
     "output_type": "display_data"
    }
   ],
   "source": [
    "fig, axes = plt.subplots(figsize=(14, 4), ncols=2, nrows=1)\n",
    "axes[0].set_title(\"Log distribution of review lengths\")\n",
    "axes[0].set_xlabel(\"Log of review lengths\")\n",
    "axes[1].set_title(\"Log distribution of review lengths\")\n",
    "axes[1].set_xlabel(\"Log of review lengths\")\n",
    "sns.histplot(x=np.log(1 + review_lengths), bins=30, ax=axes[0])\n",
    "sns.boxplot(x=np.log(1 + review_lengths), ax=axes[1])\n",
    "plt.show()"
   ]
  },
  {
   "cell_type": "code",
   "execution_count": 30,
   "id": "0f1cbf62-f342-4dd3-8244-584635c54d6f",
   "metadata": {},
   "outputs": [
    {
     "data": {
      "text/plain": [
       "[1.0, 201.0]"
      ]
     },
     "execution_count": 30,
     "metadata": {},
     "output_type": "execute_result"
    }
   ],
   "source": [
    "# Compute confidence interval\n",
    "conf_interval = pd.Series(review_lengths).quantile([0.025, 0.975]).values.tolist()\n",
    "conf_interval"
   ]
  },
  {
   "cell_type": "code",
   "execution_count": 31,
   "id": "ebe2b52f-fb89-4b0a-9864-4a513e16ffad",
   "metadata": {},
   "outputs": [
    {
     "name": "stdout",
     "output_type": "stream",
     "text": [
      "%97.52 of reviews have between 1.0 and 201.0 words\n",
      "%27.54 of reviews have between 1.0 and 8 words\n",
      "%69.98 (2115540) of reviews have between 8 and 201.0 words\n",
      "%54.45 (1646100) of reviews have between 15 and 201.0 words\n",
      "%10.03 (303353) of reviews have between 75 and 201.0 words\n",
      "%2.48 of reviews have more than 201.0 words\n"
     ]
    }
   ],
   "source": [
    "print(f'%{(100 * df[(df[\"review_len\"] >= conf_interval[0]) & (df[\"review_len\"] <= conf_interval[1])].shape[0] / df.shape[0]):.2f} '\n",
    "      + f'of reviews have between {conf_interval[0]} and {conf_interval[1]} words')\n",
    "\n",
    "print(f'%{(100 * df[(df[\"review_len\"] >= conf_interval[0]) & (df[\"review_len\"] < 8)].shape[0] / df.shape[0]):.2f} '\n",
    "      + f'of reviews have between {conf_interval[0]} and {8} words')\n",
    "\n",
    "print(f'%{(100 * df[(df[\"review_len\"] >= 8) & (df[\"review_len\"] <= conf_interval[1])].shape[0] / df.shape[0]):.2f} '\n",
    "      + f'({df[(df[\"review_len\"] >= 8) & (df[\"review_len\"] <= conf_interval[1])].shape[0]}) '\n",
    "      + f'of reviews have between {8} and {conf_interval[1]} words')\n",
    "\n",
    "print(f'%{(100 * df[(df[\"review_len\"] >= 15) & (df[\"review_len\"] <= conf_interval[1])].shape[0] / df.shape[0]):.2f} '\n",
    "      + f'({df[(df[\"review_len\"] >= 15) & (df[\"review_len\"] <= conf_interval[1])].shape[0]}) '\n",
    "      + f'of reviews have between {15} and {conf_interval[1]} words')\n",
    "\n",
    "print(f'%{(100 * df[(df[\"review_len\"] >= 75) & (df[\"review_len\"] <= conf_interval[1])].shape[0] / df.shape[0]):.2f} '\n",
    "      + f'({df[(df[\"review_len\"] >= 75) & (df[\"review_len\"] <= conf_interval[1])].shape[0]}) '\n",
    "      + f'of reviews have between {75} and {conf_interval[1]} words')\n",
    "\n",
    "print(f'%{(100 * df[(df[\"review_len\"] > conf_interval[1])].shape[0] / df.shape[0]):.2f} '\n",
    "      + f'of reviews have more than {conf_interval[1]} words')"
   ]
  },
  {
   "cell_type": "markdown",
   "id": "bf8e7952-38cc-4a62-be43-cc090a1d816d",
   "metadata": {},
   "source": [
    "The majority of reviews have a length of between 1 and 201 words. However, as shown below, reviews having fewer words are less precise and can be quite generic."
   ]
  },
  {
   "cell_type": "code",
   "execution_count": 32,
   "id": "2e204af2-f8ca-417d-b062-ca3b9ba3057b",
   "metadata": {},
   "outputs": [
    {
     "data": {
      "text/plain": [
       "['Great', 'Delicious!', 'great', 'yum', 'good', 'great', 'Yum!', 'Yum!']"
      ]
     },
     "execution_count": 32,
     "metadata": {},
     "output_type": "execute_result"
    }
   ],
   "source": [
    "df.loc[df[\"review_len\"] == 1, \"reviewText\"].tail(8).values.tolist()"
   ]
  },
  {
   "cell_type": "code",
   "execution_count": 33,
   "id": "3c9018ec-1a87-4d1b-8737-04f47186a6df",
   "metadata": {},
   "outputs": [
    {
     "data": {
      "text/plain": [
       "['My favorite item',\n",
       " 'Kids love this',\n",
       " 'Really great stuff.',\n",
       " 'Love this cereal!',\n",
       " 'Exactly as described!',\n",
       " 'These are delicious!',\n",
       " 'They are yummy!',\n",
       " 'Oh so good.']"
      ]
     },
     "execution_count": 33,
     "metadata": {},
     "output_type": "execute_result"
    }
   ],
   "source": [
    "df.loc[df[\"review_len\"] == 3, \"reviewText\"].tail(8).values.tolist()"
   ]
  },
  {
   "cell_type": "code",
   "execution_count": 34,
   "id": "3797b0b2-1a5b-4888-b773-14e97a9b8d3e",
   "metadata": {},
   "outputs": [
    {
     "data": {
      "text/plain": [
       "['Great product. Thank you :)',\n",
       " 'Love love love this cereal!',\n",
       " 'good product but over priced',\n",
       " \"Eh. Didn't taste that good.\",\n",
       " 'I love these very much',\n",
       " 'husband likes these very well',\n",
       " 'Love the combo of flavors',\n",
       " 'Great.  Ordered 4 more boxes.']"
      ]
     },
     "execution_count": 34,
     "metadata": {},
     "output_type": "execute_result"
    }
   ],
   "source": [
    "df.loc[df[\"review_len\"] == 5, \"reviewText\"].tail(8).values.tolist()"
   ]
  },
  {
   "cell_type": "markdown",
   "id": "55b444e2-9c27-4e06-8e2c-472668a2bed2",
   "metadata": {},
   "source": [
    "At 6 words, the reviews start showing more information about specific aspects of the product but still a bit generic."
   ]
  },
  {
   "cell_type": "code",
   "execution_count": 35,
   "id": "c2f3a546-34a4-41e5-a895-c0321c91187e",
   "metadata": {},
   "outputs": [
    {
     "data": {
      "text/plain": [
       "['THESAME WITH THIS HVE TO TRY',\n",
       " 'Healthy tasty cracker great with hummus',\n",
       " 'pretty good for a diet snack',\n",
       " 'My kiddo thought they were Oreos....WTF??',\n",
       " 'everyone in the family likes them',\n",
       " 'They kids love them great snacks',\n",
       " 'Meh, not as good as original',\n",
       " 'Simply delicious!  Crispy, bite sized goodies!',\n",
       " 'These are just the best crackers.',\n",
       " 'Just right size for lunch box.',\n",
       " 'It taste good and shipped fast',\n",
       " 'I love the kind of cookies.',\n",
       " 'Perfect for hospital snack after delivery.',\n",
       " \"These are so good. I'm addicted\",\n",
       " 'Great taste but smaller than expected.']"
      ]
     },
     "execution_count": 35,
     "metadata": {},
     "output_type": "execute_result"
    }
   ],
   "source": [
    "df.loc[df[\"review_len\"] == 6, \"reviewText\"].tail(15).values.tolist()"
   ]
  },
  {
   "cell_type": "markdown",
   "id": "4a210ad9-6ef1-4328-af32-529f4404c131",
   "metadata": {},
   "source": [
    "At 7 words, the review are more specific and provide useful information about certain aspects of the product."
   ]
  },
  {
   "cell_type": "code",
   "execution_count": 36,
   "id": "2dfb60eb-9baa-443c-afbd-993ee51bfeb8",
   "metadata": {},
   "outputs": [
    {
     "data": {
      "text/plain": [
       "['perfect size for diabetics supplies and medication',\n",
       " 'Alright, but they are not that sharp',\n",
       " 'Very happy with the purchase. Good quality.',\n",
       " 'Not what I expected.  They are good.',\n",
       " 'Arrived stale and went into the trash.',\n",
       " 'grand-kids say thank you. they loved them.',\n",
       " 'Hear are one of my favorite snacks.',\n",
       " 'They are ok. The kiddos like them.',\n",
       " 'One of my favorite, buttery flavored crackers',\n",
       " \"I like the added m and m's.\",\n",
       " 'They were totally hard.  What a disappointment.',\n",
       " 'Exactly as described. Fresh.  Arrived on time.',\n",
       " 'Tasty!\\nNice flavor.  Goes great with hummus.',\n",
       " 'Not tasty at all, and definitely over-priced',\n",
       " 'perfect tasty pick-up for breakfast or snack']"
      ]
     },
     "execution_count": 36,
     "metadata": {},
     "output_type": "execute_result"
    }
   ],
   "source": [
    "df.loc[df[\"review_len\"] == 7, \"reviewText\"].tail(15).values.tolist()"
   ]
  },
  {
   "cell_type": "markdown",
   "id": "a2530aac-957b-4b44-8019-b089d95db786",
   "metadata": {},
   "source": [
    "However, at 8 words, we can observe that the reviews are written in full sentences and not just a list of words."
   ]
  },
  {
   "cell_type": "code",
   "execution_count": 37,
   "id": "73d3f59d-4722-408a-9366-fb515e6a2710",
   "metadata": {},
   "outputs": [
    {
     "data": {
      "text/plain": [
       "['they are smaller than they use to be',\n",
       " 'Good taste and flavor. I will buy again.',\n",
       " 'Wrong ones thought they were the chip version.',\n",
       " 'Got these for my husband.  He loves them.',\n",
       " 'I think everyone knows how these taste? Yummy',\n",
       " 'the children loved them, they where also fresh',\n",
       " \"Wasn't quite the flavor that I was expecting.\",\n",
       " 'Great Value, 16 for the price of 8',\n",
       " 'Best tasty small crackers, but a bit expensive.',\n",
       " 'G O N E - kids loved them',\n",
       " 'good for you. Has a good taste Soft',\n",
       " 'I really enjoyed the taste of these bars.',\n",
       " 'I love kind bars they are great snacks.',\n",
       " 'it goes along with the other kind bars',\n",
       " 'How can you beat it...chocolate and nuts, yum.']"
      ]
     },
     "execution_count": 37,
     "metadata": {},
     "output_type": "execute_result"
    }
   ],
   "source": [
    "df.loc[df[\"review_len\"] == 8, \"reviewText\"].tail(15).values.tolist()"
   ]
  },
  {
   "cell_type": "code",
   "execution_count": 38,
   "id": "11302c49-d432-4ae8-b3c1-3318b0965e32",
   "metadata": {},
   "outputs": [
    {
     "data": {
      "text/plain": [
       "[\"My Malti Poo Puppy  loves this so much I have to pick up his dish or he won't stop eating!\",\n",
       " 'My doxie loves these.  I cut them into smaller strips for her so she can have a treat every night.',\n",
       " 'Neither of my two cats like this food. I feel like it is marketed for humans not for the cats.',\n",
       " 'my dogs love, but they literally bite them through and swallow whole like a hungry person does a snickers bar',\n",
       " 'My dog would not eat this food at all. Even mixed with other, more enticing brands she picks around this.',\n",
       " 'Great product to keep personal or office records. A+++. Will buy more soon in future. Product description as is. Nice',\n",
       " 'Push pins are needed for any office.  Comes in a nice plastic container.  They work!  What more can you say.',\n",
       " 'The cookies themselves were great and the price was amazing so I bought 2 but they were received mostly broken.',\n",
       " \"They didn't taste as good as they sounded, I love apple filling, but these did not really appeal to me.\",\n",
       " \"I love these crackers.  None of the stores near me carry them so I'm grateful I found them on Amazon!\",\n",
       " \"Absolutely love their new snack size packaging! Now when my kids eat a package it's not such a big deal.\",\n",
       " 'This is my favorite good-for-me cereal. I love the taste and alternate between it and oatmeal with fruit for breakfast.',\n",
       " \"These are hotter than I thought. I enjoyed it. But it's a surprising breakfast the first time you have them.\",\n",
       " 'Excellent. Only complaint is they stick to the wrapper and are hard to remove. But taste and nutrition are great.',\n",
       " 'a favorite of the whole family. love the little bit of salty flavor  just tops of an already good bar']"
      ]
     },
     "execution_count": 38,
     "metadata": {},
     "output_type": "execute_result"
    }
   ],
   "source": [
    "df.loc[df[\"review_len\"] == 20, \"reviewText\"].tail(15).values.tolist()"
   ]
  },
  {
   "cell_type": "code",
   "execution_count": 39,
   "id": "fcb19c3c-7150-4c43-aba7-5b73f90f25d7",
   "metadata": {},
   "outputs": [
    {
     "data": {
      "text/plain": [
       "['The combination of honey Dijon mustard and almonds was something I could not envision so out of curiosity I ordered a can. Somehow it works  I think because rather than just adding a strong mustard flavor to the nuts, a more subtle concoction of seasonings was created that while distinct, is not overpowering. So, the almond flavor is still present, just simply seasoned with a mix that alludes to honey Dijon rather than screams it.\\n\\nI often eat almonds as a snack because, unlike chips and most crackers, there is at least some nutritional value involved. A one ounce 170 calorie serving size is 28 nuts and often half that quantity is a satisfying amount. Each serving has 15 grams of fat (1 saturated), 2 grams of sugar, 3 grams fiber, 6 grams protein and 115 mg sodium.\\n\\nA little sweet and a little salty, but not too much of either, this variety pairs well with sharp cheese, fruit and cold drinks. A simple apple and a few nuts made for an excellent snack. The best before date on the can I received from prime pantry is 31 months in the future making this a convenient food to keep on-hand.',\n",
       " 'I enjoy my coffee, usually in the mornings. I usually go for a medium roast but I do have dark roasts on occasion, and espresso when I need the coffee hit. I hadnt heard of Lavazza before receiving a bag for review so I was eager to dig in and find out what its all about. Its good coffee, but not as strong as I would expect from an espresso.\\n\\nIt is definitely an espresso grind, being almost powdery right out of the bag. Its fresh too - as soon as you open the bag you can smell the coffee and it smells great. So far, so good.\\n\\nI measured some out and put it in the coffee maker and set about making a cup of espresso. It smelled right while it was brewing and when it was done I had a nice cup of espresso - except that it was not as strong as I was expecting (or as strong as other espressos I have tried). Its good, but somewhat weak for espresso, and in that regard its a little disappointing. Subsequent cups yielded the same.\\n\\nThis is good espresso, but I would stop short of saying its great.',\n",
       " \"This popcorn is super delicious. My daughter couldn't get enough of it. The tub comes with 3 bags of popcorn (normal size), 3 packs of butter sauce (one of mine was busted so watch out for this) and 3 packs of cheddar powder. I loved this set up as I had control over how much butter or cheddar powder we used. I found the cheddar powder to be a little fake tasting. Not as delicious as using a pack of Kraft cheddar powder but it's still pretty good. The directions say to pop the popcorn, put it in the tub, pour the butter on, pour the cheddar powder on and then shake it up. I found the bag of popcorn made more than would fit in the tub. So what we did was fill the tub about half full pouring the butter and cheddar powder on as you pour the popcorn in. Then mix, pour into bowls and then repeat until you get through the entire bag of popcorn and fixins. I gave 4 stars for the pour instructions that basically gave us 1 out of 3 bags of not very good cheddar popcorn. But I would buy this again.\"]"
      ]
     },
     "execution_count": 39,
     "metadata": {},
     "output_type": "execute_result"
    }
   ],
   "source": [
    "df.loc[df[\"review_len\"] == 200, \"reviewText\"].tail(3).values.tolist()"
   ]
  },
  {
   "cell_type": "markdown",
   "id": "e2a583be-3971-4b4d-9d97-d596f9282552",
   "metadata": {},
   "source": [
    "#### Filtering reviews and products"
   ]
  },
  {
   "cell_type": "markdown",
   "id": "02d3e1a3-ff8d-4726-9cb4-468dc4f302c2",
   "metadata": {},
   "source": [
    "Our analysis suggests that the more words used, the more information is found in the review. The reviews are written in more complete sentences and are related to a specific aspect of a product. As the goal of a text summarization is to produce a short but very informative summary of multiple document, we need a lot of useful information from the reviews. On the other, a very few percentage (%2.5) of reviews have more than 200 words. Although longer reviews may contain more information, a too large review can also introduce redundant information or noise. \n",
    "\n",
    "It is to be noted that the data used in this notebook is only a small subset of the full Amazon reviews datatset (2018). The [Amazon Reviews Guidelines](https://www.amazon.ca/gp/help/customer/display.html?nodeId=201929830) suggests a good review to have between 75 and 500 words. As our analysis indicates that there are very few reviews longer than 200 words, we can set the upper limit to 200."
   ]
  },
  {
   "cell_type": "code",
   "execution_count": 40,
   "id": "e003d54e-0c3b-41e5-9247-e1ccf8c3a485",
   "metadata": {},
   "outputs": [],
   "source": [
    "# Extract number of reviews per product where each review has at least 8 words\n",
    "reviews_len_counts = df.loc[df[\"review_len\"] >= 8, [\"asin\", \"category\", \"reviewText\"]]\\\n",
    "                        .groupby([\"category\", \"asin\"], as_index=False).agg(\"count\")\\\n",
    "                        .rename(columns={\"reviewText\": \"counts\"})"
   ]
  },
  {
   "cell_type": "code",
   "execution_count": 41,
   "id": "09a154f7-c049-46f2-8e83-e7b15cf53ac1",
   "metadata": {},
   "outputs": [
    {
     "data": {
      "text/plain": [
       "count    241546.000000\n",
       "mean          9.069126\n",
       "std          63.862305\n",
       "min           1.000000\n",
       "25%           1.000000\n",
       "50%           2.000000\n",
       "75%           4.000000\n",
       "max        7780.000000\n",
       "Name: counts, dtype: float64"
      ]
     },
     "execution_count": 41,
     "metadata": {},
     "output_type": "execute_result"
    }
   ],
   "source": [
    "reviews_len_counts[\"counts\"].describe()"
   ]
  },
  {
   "cell_type": "code",
   "execution_count": 42,
   "id": "9107bb1e-dac2-4ba0-a839-49cb0e0b7d5d",
   "metadata": {},
   "outputs": [
    {
     "data": {
      "image/png": "[encoded data removed]",
      "text/plain": [
       "<Figure size 1008x288 with 2 Axes>"
      ]
     },
     "metadata": {
      "needs_background": "light"
     },
     "output_type": "display_data"
    },
    {
     "data": {
      "text/plain": [
       "[1.0, 56.0]"
      ]
     },
     "execution_count": 42,
     "metadata": {},
     "output_type": "execute_result"
    }
   ],
   "source": [
    "fig, axes = plt.subplots(figsize=(14, 4), ncols=2, nrows=1)\n",
    "axes[0].set_title(\"Log distribution of number of reviews (at least 8 words long)\\n per product\")\n",
    "axes[0].set_xlabel(\"Log of number of reviews\")\n",
    "axes[1].set_title(\"Log distribution of number of reviews (at least 8 words long)\\n per product\")\n",
    "axes[1].set_xlabel(\"Log of number of reviews\")\n",
    "sns.histplot(x=np.log(1 + reviews_len_counts[\"counts\"]), bins=30, ax=axes[0])\n",
    "sns.boxplot(x=np.log(1 + reviews_len_counts[\"counts\"]), ax=axes[1])\n",
    "plt.show()\n",
    "\n",
    "# Compute confidence interval\n",
    "conf_interval = pd.Series(reviews_len_counts[\"counts\"]).quantile([0.025, 0.975]).values.tolist()\n",
    "conf_interval"
   ]
  },
  {
   "cell_type": "code",
   "execution_count": 43,
   "id": "a1448337-2906-4842-b103-66902c3c8f6d",
   "metadata": {},
   "outputs": [
    {
     "name": "stdout",
     "output_type": "stream",
     "text": [
      "%97.53 of products have between 1.0 and 56.0 reviews\n",
      "%16.88 (40783) of products have between 6 and 56.0 reviews\n",
      "%10.05 (24286) of products have between 10 and 56.0 reviews\n"
     ]
    }
   ],
   "source": [
    "print(f'%{(100 * reviews_len_counts[(reviews_len_counts[\"counts\"] >= conf_interval[0]) & (reviews_len_counts[\"counts\"] <= conf_interval[1])].shape[0] / reviews_len_counts.shape[0]):.2f} '\n",
    "      + f'of products have between {conf_interval[0]} and {conf_interval[1]} reviews')\n",
    "\n",
    "print(f'%{(100 * reviews_len_counts[(reviews_len_counts[\"counts\"] >= 6) & (reviews_len_counts[\"counts\"] <= conf_interval[1])].shape[0] / reviews_len_counts.shape[0]):.2f} '\n",
    "      + f'({reviews_len_counts[(reviews_len_counts[\"counts\"] >= 6) & (reviews_len_counts[\"counts\"] <= conf_interval[1])].shape[0]}) '\n",
    "      + f'of products have between {6} and {conf_interval[1]} reviews')\n",
    "\n",
    "print(f'%{(100 * reviews_len_counts[(reviews_len_counts[\"counts\"] >= 10) & (reviews_len_counts[\"counts\"] <= conf_interval[1])].shape[0] / reviews_len_counts.shape[0]):.2f} '\n",
    "      + f'({reviews_len_counts[(reviews_len_counts[\"counts\"] >= 10) & (reviews_len_counts[\"counts\"] <= conf_interval[1])].shape[0]}) '\n",
    "      + f'of products have between {10} and {conf_interval[1]} reviews')"
   ]
  },
  {
   "cell_type": "code",
   "execution_count": 44,
   "id": "f88e2e51-9aec-441d-8b79-d13ec8d3cb6f",
   "metadata": {},
   "outputs": [
    {
     "data": {
      "text/html": [
       "<div>\n",
       "<style scoped>\n",
       "    .dataframe tbody tr th:only-of-type {\n",
       "        vertical-align: middle;\n",
       "    }\n",
       "\n",
       "    .dataframe tbody tr th {\n",
       "        vertical-align: top;\n",
       "    }\n",
       "\n",
       "    .dataframe thead th {\n",
       "        text-align: right;\n",
       "    }\n",
       "</style>\n",
       "<table border=\"1\" class=\"dataframe\">\n",
       "  <thead>\n",
       "    <tr style=\"text-align: right;\">\n",
       "      <th></th>\n",
       "      <th>category</th>\n",
       "      <th>num_products</th>\n",
       "    </tr>\n",
       "  </thead>\n",
       "  <tbody>\n",
       "    <tr>\n",
       "      <th>0</th>\n",
       "      <td>AMAZON FASHION</td>\n",
       "      <td>8396</td>\n",
       "    </tr>\n",
       "    <tr>\n",
       "      <th>1</th>\n",
       "      <td>All Beauty</td>\n",
       "      <td>3086</td>\n",
       "    </tr>\n",
       "    <tr>\n",
       "      <th>2</th>\n",
       "      <td>Appliances</td>\n",
       "      <td>3990</td>\n",
       "    </tr>\n",
       "    <tr>\n",
       "      <th>3</th>\n",
       "      <td>Gift Cards</td>\n",
       "      <td>487</td>\n",
       "    </tr>\n",
       "    <tr>\n",
       "      <th>4</th>\n",
       "      <td>Magazine Subscriptions</td>\n",
       "      <td>644</td>\n",
       "    </tr>\n",
       "    <tr>\n",
       "      <th>5</th>\n",
       "      <td>Prime Pantry</td>\n",
       "      <td>4294</td>\n",
       "    </tr>\n",
       "    <tr>\n",
       "      <th>6</th>\n",
       "      <td>Software</td>\n",
       "      <td>3389</td>\n",
       "    </tr>\n",
       "  </tbody>\n",
       "</table>\n",
       "</div>"
      ],
      "text/plain": [
       "                 category  num_products\n",
       "0          AMAZON FASHION          8396\n",
       "1              All Beauty          3086\n",
       "2              Appliances          3990\n",
       "3              Gift Cards           487\n",
       "4  Magazine Subscriptions           644\n",
       "5            Prime Pantry          4294\n",
       "6                Software          3389"
      ]
     },
     "execution_count": 44,
     "metadata": {},
     "output_type": "execute_result"
    }
   ],
   "source": [
    "reviews_len_counts.loc[(reviews_len_counts[\"counts\"] >= 10) & (reviews_len_counts[\"counts\"] <= 56), [\"category\", \"asin\"]].groupby(\"category\", as_index=False).agg(\"count\").rename(columns={\"asin\": \"num_products\"})"
   ]
  },
  {
   "cell_type": "markdown",
   "id": "2da7631a-d903-45e4-8ead-6afce6a14f3f",
   "metadata": {},
   "source": [
    "After filtering out reviews having less than 8 words or more than 200 words, we are left with. Considering that our goal is to have about 1,000 reviews per category and a uniform distribution of ratings for each product, we need to extract a maximum number of reviews for each product. Our analysis shows that around 10% of products have at least 10 reviews--which corresponds to 24,286 products. Moreover, looking at each category, we can observe that the category with the smallest number of products has 487 products in total. \n",
    "\n",
    "With at least 10 reviews per product, this number is more than enough to reach our goal. Therefore, we can filter out all products having less than 10 reviews as well as all reviews having less than 8 words or more than 200 words."
   ]
  },
  {
   "cell_type": "code",
   "execution_count": 45,
   "id": "cb8457a7-8d11-430a-b367-5027e38e9a1e",
   "metadata": {},
   "outputs": [
    {
     "data": {
      "text/plain": [
       "3023096"
      ]
     },
     "execution_count": 45,
     "metadata": {},
     "output_type": "execute_result"
    }
   ],
   "source": [
    "df.shape[0]"
   ]
  },
  {
   "cell_type": "code",
   "execution_count": 46,
   "id": "01092dd8-6cce-47af-9314-12cc50fa3449",
   "metadata": {},
   "outputs": [
    {
     "data": {
      "text/plain": [
       "2114802"
      ]
     },
     "execution_count": 46,
     "metadata": {},
     "output_type": "execute_result"
    }
   ],
   "source": [
    "# Filter based on review lengths\n",
    "df = df[(df[\"review_len\"] >= 8) & (df[\"review_len\"] <= 200)]\n",
    "df = df.reset_index(drop=True)\n",
    "df.shape[0]"
   ]
  },
  {
   "cell_type": "markdown",
   "id": "b2d72f99-b997-4a35-87c3-c06f55506813",
   "metadata": {},
   "source": [
    "### overall (ratings)"
   ]
  },
  {
   "cell_type": "code",
   "execution_count": 47,
   "id": "8aa99c0c-7105-4f4f-ad9a-3ffbaab270e6",
   "metadata": {},
   "outputs": [
    {
     "data": {
      "text/plain": [
       "count    2114802.000000\n",
       "mean           3.935254\n",
       "std            1.456964\n",
       "min            1.000000\n",
       "25%            3.000000\n",
       "50%            5.000000\n",
       "75%            5.000000\n",
       "max            5.000000\n",
       "Name: overall, dtype: object"
      ]
     },
     "execution_count": 47,
     "metadata": {},
     "output_type": "execute_result"
    }
   ],
   "source": [
    "df[\"overall\"].describe().apply(lambda x: format(x, 'f'))"
   ]
  },
  {
   "cell_type": "code",
   "execution_count": 48,
   "id": "a750e469-c6ab-49ec-a9c0-2e665a4b1b28",
   "metadata": {},
   "outputs": [
    {
     "data": {
      "image/png": "[encoded data removed]",
      "text/plain": [
       "<Figure size 432x288 with 1 Axes>"
      ]
     },
     "metadata": {
      "needs_background": "light"
     },
     "output_type": "display_data"
    }
   ],
   "source": [
    "df[\"overall\"].hist(bins=5)\n",
    "plt.show()"
   ]
  },
  {
   "cell_type": "code",
   "execution_count": 49,
   "id": "296339e9-01b9-4e63-ab45-5a13f3471fee",
   "metadata": {},
   "outputs": [
    {
     "data": {
      "text/html": [
       "<div>\n",
       "<style scoped>\n",
       "    .dataframe tbody tr th:only-of-type {\n",
       "        vertical-align: middle;\n",
       "    }\n",
       "\n",
       "    .dataframe tbody tr th {\n",
       "        vertical-align: top;\n",
       "    }\n",
       "\n",
       "    .dataframe thead th {\n",
       "        text-align: right;\n",
       "    }\n",
       "</style>\n",
       "<table border=\"1\" class=\"dataframe\">\n",
       "  <thead>\n",
       "    <tr style=\"text-align: right;\">\n",
       "      <th></th>\n",
       "      <th>overall</th>\n",
       "      <th>counts</th>\n",
       "    </tr>\n",
       "  </thead>\n",
       "  <tbody>\n",
       "    <tr>\n",
       "      <th>0</th>\n",
       "      <td>1.0</td>\n",
       "      <td>287857</td>\n",
       "    </tr>\n",
       "    <tr>\n",
       "      <th>1</th>\n",
       "      <td>2.0</td>\n",
       "      <td>133275</td>\n",
       "    </tr>\n",
       "    <tr>\n",
       "      <th>2</th>\n",
       "      <td>3.0</td>\n",
       "      <td>190519</td>\n",
       "    </tr>\n",
       "    <tr>\n",
       "      <th>3</th>\n",
       "      <td>4.0</td>\n",
       "      <td>319435</td>\n",
       "    </tr>\n",
       "    <tr>\n",
       "      <th>4</th>\n",
       "      <td>5.0</td>\n",
       "      <td>1183716</td>\n",
       "    </tr>\n",
       "  </tbody>\n",
       "</table>\n",
       "</div>"
      ],
      "text/plain": [
       "   overall   counts\n",
       "0      1.0   287857\n",
       "1      2.0   133275\n",
       "2      3.0   190519\n",
       "3      4.0   319435\n",
       "4      5.0  1183716"
      ]
     },
     "execution_count": 49,
     "metadata": {},
     "output_type": "execute_result"
    }
   ],
   "source": [
    "df[[\"overall\", \"reviewText\"]].groupby(\"overall\", as_index=False).agg(\"count\").rename(columns={\"reviewText\": \"counts\"})"
   ]
  },
  {
   "cell_type": "markdown",
   "id": "d118a588-219d-4453-97fe-0d49ab81f094",
   "metadata": {},
   "source": [
    "### polarity (review sentiment)"
   ]
  },
  {
   "cell_type": "markdown",
   "id": "f0297f6c-3736-4b3f-873b-b5be4f12dbf2",
   "metadata": {},
   "source": [
    "We take some inspiration from the [Yelp](https://proceedings.neurips.cc/paper/2015/file/250cf8b51c773f3f8dc8b4be867a9a02-Paper.pdf) and [IMDb](https://ai.stanford.edu/~ang/papers/acl11-WordVectorsSentimentAnalysis.pdf) datasets to create a sentiment column. Both of these datatsets map a certain interval of rating scores to a given sentiment. For instance, [IMDb](https://ai.stanford.edu/~ang/papers/acl11-WordVectorsSentimentAnalysis.pdf) considers a review to be potitive if its score is $>=7$ and negative if it is $<=4$ on a scale of $1$ to $10$. Similarily, based on the paper, [Yelp](https://proceedings.neurips.cc/paper/2015/file/250cf8b51c773f3f8dc8b4be867a9a02-Paper.pdf) uses a scale of $1$ to $4$ where scores $1$ and $2$ are associated with negative sentiment and $3$ and $4$ are positive. If we scale the scores to $[0.0, 1.0]$, this would be $[0.0, 0.33]$ (`Positive`) and $[0.67, 1.0]$ (`Negative`). Furthermore, we can notice by using Amazon.com that the different stars numbers are labeled on the website:\n",
    "* 1 stars: Very bad\n",
    "* 2 stars: Bad\n",
    "* 3 stars: Okay\n",
    "* 4 stars: Good\n",
    "* 5 stars: Very Good\n",
    "\n",
    "Based on this information, we can safely discard reviews with 3 stars (neutral) and map ratings scores $1$ to $2$ to `Negative` sentiment and $4$ and $5$ to `Positive` sentiment."
   ]
  },
  {
   "cell_type": "code",
   "execution_count": 53,
   "id": "c064a5a9-c835-45bc-a03e-5a2aaf1adf48",
   "metadata": {},
   "outputs": [],
   "source": [
    "MAX_RATING = 5.0\n",
    "MIN_RATING = 1.0\n",
    "\n",
    "def infer_sentiment(rating):\n",
    "    MIN_POSITIVE = 0.67\n",
    "    MAX_NEGATIVE = 0.33\n",
    "    # Scale rating\n",
    "    rating = (float(rating) - MIN_RATING) / (MAX_RATING - MIN_RATING)\n",
    "    \n",
    "    sentiment = \"neutral\"\n",
    "    \n",
    "    if rating <= MAX_NEGATIVE:\n",
    "        sentiment = \"negative\"\n",
    "    elif rating >= MIN_POSITIVE:\n",
    "        sentiment = \"positive\"\n",
    "        \n",
    "    return sentiment"
   ]
  },
  {
   "cell_type": "code",
   "execution_count": 54,
   "id": "ad38ac62-e5e7-4e90-88b1-e359dfa20f5e",
   "metadata": {},
   "outputs": [],
   "source": [
    "df[\"polarity\"] = df[\"overall\"].apply(infer_sentiment)"
   ]
  },
  {
   "cell_type": "code",
   "execution_count": 55,
   "id": "fba8e6eb-b2db-4652-b255-fcf3efb5ba60",
   "metadata": {},
   "outputs": [
    {
     "data": {
      "text/html": [
       "<div>\n",
       "<style scoped>\n",
       "    .dataframe tbody tr th:only-of-type {\n",
       "        vertical-align: middle;\n",
       "    }\n",
       "\n",
       "    .dataframe tbody tr th {\n",
       "        vertical-align: top;\n",
       "    }\n",
       "\n",
       "    .dataframe thead th {\n",
       "        text-align: right;\n",
       "    }\n",
       "</style>\n",
       "<table border=\"1\" class=\"dataframe\">\n",
       "  <thead>\n",
       "    <tr style=\"text-align: right;\">\n",
       "      <th></th>\n",
       "      <th>overall</th>\n",
       "      <th>verified</th>\n",
       "      <th>reviewTime</th>\n",
       "      <th>reviewerID</th>\n",
       "      <th>asin</th>\n",
       "      <th>reviewText</th>\n",
       "      <th>summary</th>\n",
       "      <th>vote</th>\n",
       "      <th>style</th>\n",
       "      <th>category</th>\n",
       "      <th>review_len</th>\n",
       "      <th>polarity</th>\n",
       "    </tr>\n",
       "  </thead>\n",
       "  <tbody>\n",
       "    <tr>\n",
       "      <th>0</th>\n",
       "      <td>4.0</td>\n",
       "      <td>True</td>\n",
       "      <td>12 18, 2014</td>\n",
       "      <td>A2F5GHSXFQ0W6J</td>\n",
       "      <td>0143026860</td>\n",
       "      <td>My  husband wanted to reading about the Negro ...</td>\n",
       "      <td>... to reading about the Negro Baseball and th...</td>\n",
       "      <td>NaN</td>\n",
       "      <td>nan</td>\n",
       "      <td>All Beauty</td>\n",
       "      <td>29</td>\n",
       "      <td>positive</td>\n",
       "    </tr>\n",
       "    <tr>\n",
       "      <th>1</th>\n",
       "      <td>4.0</td>\n",
       "      <td>True</td>\n",
       "      <td>08 10, 2014</td>\n",
       "      <td>A1572GUYS7DGSR</td>\n",
       "      <td>0143026860</td>\n",
       "      <td>This book was very informative, covering all a...</td>\n",
       "      <td>Worth the Read</td>\n",
       "      <td>NaN</td>\n",
       "      <td>nan</td>\n",
       "      <td>All Beauty</td>\n",
       "      <td>10</td>\n",
       "      <td>positive</td>\n",
       "    </tr>\n",
       "    <tr>\n",
       "      <th>2</th>\n",
       "      <td>5.0</td>\n",
       "      <td>True</td>\n",
       "      <td>03 11, 2013</td>\n",
       "      <td>A1PSGLFK1NSVO</td>\n",
       "      <td>0143026860</td>\n",
       "      <td>I am already a baseball fan and knew a bit abo...</td>\n",
       "      <td>Good Read</td>\n",
       "      <td>NaN</td>\n",
       "      <td>nan</td>\n",
       "      <td>All Beauty</td>\n",
       "      <td>23</td>\n",
       "      <td>positive</td>\n",
       "    </tr>\n",
       "    <tr>\n",
       "      <th>3</th>\n",
       "      <td>5.0</td>\n",
       "      <td>True</td>\n",
       "      <td>12 25, 2011</td>\n",
       "      <td>A6IKXKZMTKGSC</td>\n",
       "      <td>0143026860</td>\n",
       "      <td>This was a good story of the Black leagues. I ...</td>\n",
       "      <td>More than facts, a good story read!</td>\n",
       "      <td>5</td>\n",
       "      <td>nan</td>\n",
       "      <td>All Beauty</td>\n",
       "      <td>67</td>\n",
       "      <td>positive</td>\n",
       "    </tr>\n",
       "    <tr>\n",
       "      <th>4</th>\n",
       "      <td>1.0</td>\n",
       "      <td>True</td>\n",
       "      <td>04 10, 2017</td>\n",
       "      <td>A26PO1B2Q2G1CS</td>\n",
       "      <td>014789302X</td>\n",
       "      <td>I didn't like this product it smudged all unde...</td>\n",
       "      <td>One Star</td>\n",
       "      <td>NaN</td>\n",
       "      <td>nan</td>\n",
       "      <td>All Beauty</td>\n",
       "      <td>14</td>\n",
       "      <td>negative</td>\n",
       "    </tr>\n",
       "    <tr>\n",
       "      <th>5</th>\n",
       "      <td>5.0</td>\n",
       "      <td>True</td>\n",
       "      <td>01 3, 2017</td>\n",
       "      <td>AQ812VYVTC2RJ</td>\n",
       "      <td>014789302X</td>\n",
       "      <td>I simply love the product. I appreciate print ...</td>\n",
       "      <td>Five Stars</td>\n",
       "      <td>NaN</td>\n",
       "      <td>nan</td>\n",
       "      <td>All Beauty</td>\n",
       "      <td>13</td>\n",
       "      <td>positive</td>\n",
       "    </tr>\n",
       "    <tr>\n",
       "      <th>6</th>\n",
       "      <td>1.0</td>\n",
       "      <td>True</td>\n",
       "      <td>11 19, 2016</td>\n",
       "      <td>AMACNEW14ADMX</td>\n",
       "      <td>014789302X</td>\n",
       "      <td>it burns your eyes when u put it on  and very ...</td>\n",
       "      <td>i do not recommend.</td>\n",
       "      <td>3</td>\n",
       "      <td>nan</td>\n",
       "      <td>All Beauty</td>\n",
       "      <td>36</td>\n",
       "      <td>negative</td>\n",
       "    </tr>\n",
       "    <tr>\n",
       "      <th>7</th>\n",
       "      <td>2.0</td>\n",
       "      <td>True</td>\n",
       "      <td>11 10, 2016</td>\n",
       "      <td>A5FS4FVWR77O6</td>\n",
       "      <td>014789302X</td>\n",
       "      <td>smaller versions, not full size as shown in pics</td>\n",
       "      <td>Two Stars</td>\n",
       "      <td>NaN</td>\n",
       "      <td>nan</td>\n",
       "      <td>All Beauty</td>\n",
       "      <td>9</td>\n",
       "      <td>negative</td>\n",
       "    </tr>\n",
       "    <tr>\n",
       "      <th>8</th>\n",
       "      <td>4.0</td>\n",
       "      <td>True</td>\n",
       "      <td>08 5, 2016</td>\n",
       "      <td>A3CKVF2ZR1CBO0</td>\n",
       "      <td>014789302X</td>\n",
       "      <td>purchased for vending resale at bellydance wee...</td>\n",
       "      <td>Nice quality, love the compact packaging</td>\n",
       "      <td>5</td>\n",
       "      <td>nan</td>\n",
       "      <td>All Beauty</td>\n",
       "      <td>26</td>\n",
       "      <td>positive</td>\n",
       "    </tr>\n",
       "    <tr>\n",
       "      <th>9</th>\n",
       "      <td>5.0</td>\n",
       "      <td>True</td>\n",
       "      <td>07 29, 2016</td>\n",
       "      <td>A3IFT6SR16SAYU</td>\n",
       "      <td>014789302X</td>\n",
       "      <td>I love it and it arrived on time</td>\n",
       "      <td>Five Stars</td>\n",
       "      <td>NaN</td>\n",
       "      <td>nan</td>\n",
       "      <td>All Beauty</td>\n",
       "      <td>8</td>\n",
       "      <td>positive</td>\n",
       "    </tr>\n",
       "  </tbody>\n",
       "</table>\n",
       "</div>"
      ],
      "text/plain": [
       "   overall  verified   reviewTime      reviewerID        asin  \\\n",
       "0      4.0      True  12 18, 2014  A2F5GHSXFQ0W6J  0143026860   \n",
       "1      4.0      True  08 10, 2014  A1572GUYS7DGSR  0143026860   \n",
       "2      5.0      True  03 11, 2013   A1PSGLFK1NSVO  0143026860   \n",
       "3      5.0      True  12 25, 2011   A6IKXKZMTKGSC  0143026860   \n",
       "4      1.0      True  04 10, 2017  A26PO1B2Q2G1CS  014789302X   \n",
       "5      5.0      True   01 3, 2017   AQ812VYVTC2RJ  014789302X   \n",
       "6      1.0      True  11 19, 2016   AMACNEW14ADMX  014789302X   \n",
       "7      2.0      True  11 10, 2016   A5FS4FVWR77O6  014789302X   \n",
       "8      4.0      True   08 5, 2016  A3CKVF2ZR1CBO0  014789302X   \n",
       "9      5.0      True  07 29, 2016  A3IFT6SR16SAYU  014789302X   \n",
       "\n",
       "                                          reviewText  \\\n",
       "0  My  husband wanted to reading about the Negro ...   \n",
       "1  This book was very informative, covering all a...   \n",
       "2  I am already a baseball fan and knew a bit abo...   \n",
       "3  This was a good story of the Black leagues. I ...   \n",
       "4  I didn't like this product it smudged all unde...   \n",
       "5  I simply love the product. I appreciate print ...   \n",
       "6  it burns your eyes when u put it on  and very ...   \n",
       "7   smaller versions, not full size as shown in pics   \n",
       "8  purchased for vending resale at bellydance wee...   \n",
       "9                   I love it and it arrived on time   \n",
       "\n",
       "                                             summary vote style    category  \\\n",
       "0  ... to reading about the Negro Baseball and th...  NaN   nan  All Beauty   \n",
       "1                                     Worth the Read  NaN   nan  All Beauty   \n",
       "2                                          Good Read  NaN   nan  All Beauty   \n",
       "3                More than facts, a good story read!    5   nan  All Beauty   \n",
       "4                                           One Star  NaN   nan  All Beauty   \n",
       "5                                         Five Stars  NaN   nan  All Beauty   \n",
       "6                                i do not recommend.    3   nan  All Beauty   \n",
       "7                                          Two Stars  NaN   nan  All Beauty   \n",
       "8           Nice quality, love the compact packaging    5   nan  All Beauty   \n",
       "9                                         Five Stars  NaN   nan  All Beauty   \n",
       "\n",
       "   review_len  polarity  \n",
       "0          29  positive  \n",
       "1          10  positive  \n",
       "2          23  positive  \n",
       "3          67  positive  \n",
       "4          14  negative  \n",
       "5          13  positive  \n",
       "6          36  negative  \n",
       "7           9  negative  \n",
       "8          26  positive  \n",
       "9           8  positive  "
      ]
     },
     "execution_count": 55,
     "metadata": {},
     "output_type": "execute_result"
    }
   ],
   "source": [
    "df.head(10)"
   ]
  },
  {
   "cell_type": "code",
   "execution_count": 56,
   "id": "b8d529e1-ae96-41c4-8074-4b605f30cff0",
   "metadata": {},
   "outputs": [
    {
     "data": {
      "text/plain": [
       "<AxesSubplot:>"
      ]
     },
     "execution_count": 56,
     "metadata": {},
     "output_type": "execute_result"
    },
    {
     "data": {
      "image/png": "[encoded data removed]",
      "text/plain": [
       "<Figure size 432x288 with 1 Axes>"
      ]
     },
     "metadata": {
      "needs_background": "light"
     },
     "output_type": "display_data"
    }
   ],
   "source": [
    "df[\"polarity\"].hist(bins=3)"
   ]
  },
  {
   "cell_type": "markdown",
   "id": "807adbcf-dcb4-4081-b249-8c1fec81b548",
   "metadata": {},
   "source": [
    "### asin (product ID)"
   ]
  },
  {
   "cell_type": "code",
   "execution_count": 57,
   "id": "5b945a6e-3b13-4b84-877d-38ff7b64c69d",
   "metadata": {},
   "outputs": [
    {
     "name": "stdout",
     "output_type": "stream",
     "text": [
      "There is a total of 239538 unique products after filtering.\n"
     ]
    }
   ],
   "source": [
    "print(f\"There is a total of {df['asin'].unique().shape[0]} unique products after filtering.\")"
   ]
  },
  {
   "cell_type": "markdown",
   "id": "78fa13bf-c96c-4e52-85fe-9b4023256fdc",
   "metadata": {},
   "source": [
    "Number of products for each category"
   ]
  },
  {
   "cell_type": "code",
   "execution_count": 58,
   "id": "40b3e1d4-3974-48b5-bf24-2a3adbbdc3ae",
   "metadata": {},
   "outputs": [
    {
     "name": "stdout",
     "output_type": "stream",
     "text": [
      "All Beauty: 27873\n",
      "Gift Cards: 1472\n",
      "Magazine Subscriptions: 2288\n",
      "Software: 20008\n",
      "Appliances: 24934\n",
      "AMAZON FASHION: 152571\n",
      "Prime Pantry: 10392\n"
     ]
    }
   ],
   "source": [
    "for cat in df[\"category\"].unique():\n",
    "    print(f\"{cat}: {df.loc[df['category'] == cat, 'asin'].unique().shape[0]}\")"
   ]
  },
  {
   "cell_type": "markdown",
   "id": "8d9e831c-2363-42f0-9ced-f20ea02d28b2",
   "metadata": {},
   "source": [
    "Number of reviews per products"
   ]
  },
  {
   "cell_type": "code",
   "execution_count": 59,
   "id": "b1ddd7b3-382f-465e-841b-2708603092f0",
   "metadata": {},
   "outputs": [
    {
     "data": {
      "text/plain": [
       "count    239538.000000\n",
       "mean          8.828670\n",
       "std          61.988925\n",
       "min           1.000000\n",
       "25%           1.000000\n",
       "50%           2.000000\n",
       "75%           4.000000\n",
       "max        7388.000000\n",
       "Name: asin, dtype: float64"
      ]
     },
     "execution_count": 59,
     "metadata": {},
     "output_type": "execute_result"
    }
   ],
   "source": [
    "df[\"asin\"].value_counts().describe()"
   ]
  },
  {
   "cell_type": "code",
   "execution_count": null,
   "id": "d5bf07da-d0c7-44c2-bad8-c5136f838ac2",
   "metadata": {},
   "outputs": [],
   "source": []
  }
 ],
 "metadata": {
  "kernelspec": {
   "display_name": "dl-env",
   "language": "python",
   "name": "dl-env"
  },
  "language_info": {
   "codemirror_mode": {
    "name": "ipython",
    "version": 3
   },
   "file_extension": ".py",
   "mimetype": "text/x-python",
   "name": "python",
   "nbconvert_exporter": "python",
   "pygments_lexer": "ipython3",
   "version": "3.9.12"
  }
 },
 "nbformat": 4,
 "nbformat_minor": 5
}
