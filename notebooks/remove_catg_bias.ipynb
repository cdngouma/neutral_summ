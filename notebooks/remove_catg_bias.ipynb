{
 "cells": [
  {
   "cell_type": "code",
   "execution_count": 12,
   "id": "41866155-efb9-4a93-89a6-3e656a535ea8",
   "metadata": {},
   "outputs": [],
   "source": [
    "import numpy as np\n",
    "import scipy\n",
    "import pandas as pd\n",
    "import matplotlib.pyplot as plt\n",
    "import seaborn as sns\n",
    "%matplotlib inline"
   ]
  },
  {
   "cell_type": "markdown",
   "id": "3ebb7b9b-ebc5-4a26-b920-86b3a1893c61",
   "metadata": {},
   "source": [
    "## Import data"
   ]
  },
  {
   "cell_type": "code",
   "execution_count": 2,
   "id": "fd46b921-a9ca-401a-a50c-4d48f44d3c44",
   "metadata": {},
   "outputs": [
    {
     "data": {
      "text/plain": [
       "(10595, 7)"
      ]
     },
     "execution_count": 2,
     "metadata": {},
     "output_type": "execute_result"
    }
   ],
   "source": [
    "raw_train = pd.read_csv(\"../data/raw/20220420_amazon_reviews_train.csv\")\n",
    "raw_train.shape"
   ]
  },
  {
   "cell_type": "code",
   "execution_count": 42,
   "id": "166d7596-5cdd-4059-9ebd-f26739a3fd43",
   "metadata": {},
   "outputs": [
    {
     "data": {
      "text/html": [
       "<div>\n",
       "<style scoped>\n",
       "    .dataframe tbody tr th:only-of-type {\n",
       "        vertical-align: middle;\n",
       "    }\n",
       "\n",
       "    .dataframe tbody tr th {\n",
       "        vertical-align: top;\n",
       "    }\n",
       "\n",
       "    .dataframe thead th {\n",
       "        text-align: right;\n",
       "    }\n",
       "</style>\n",
       "<table border=\"1\" class=\"dataframe\">\n",
       "  <thead>\n",
       "    <tr style=\"text-align: right;\">\n",
       "      <th></th>\n",
       "      <th>prod_id</th>\n",
       "      <th>polarity</th>\n",
       "      <th>review</th>\n",
       "    </tr>\n",
       "  </thead>\n",
       "  <tbody>\n",
       "    <tr>\n",
       "      <th>31</th>\n",
       "      <td>B00002NAOH</td>\n",
       "      <td>positive</td>\n",
       "      <td>4</td>\n",
       "    </tr>\n",
       "    <tr>\n",
       "      <th>206</th>\n",
       "      <td>B000NY6P7K</td>\n",
       "      <td>negative</td>\n",
       "      <td>3</td>\n",
       "    </tr>\n",
       "    <tr>\n",
       "      <th>274</th>\n",
       "      <td>B001BDJ2Q8</td>\n",
       "      <td>negative</td>\n",
       "      <td>4</td>\n",
       "    </tr>\n",
       "    <tr>\n",
       "      <th>306</th>\n",
       "      <td>B001PMC8T8</td>\n",
       "      <td>negative</td>\n",
       "      <td>4</td>\n",
       "    </tr>\n",
       "    <tr>\n",
       "      <th>438</th>\n",
       "      <td>B00HGAD9VE</td>\n",
       "      <td>negative</td>\n",
       "      <td>4</td>\n",
       "    </tr>\n",
       "    <tr>\n",
       "      <th>466</th>\n",
       "      <td>B00QZPGZ3A</td>\n",
       "      <td>negative</td>\n",
       "      <td>4</td>\n",
       "    </tr>\n",
       "    <tr>\n",
       "      <th>484</th>\n",
       "      <td>B00XZYLRHS</td>\n",
       "      <td>negative</td>\n",
       "      <td>4</td>\n",
       "    </tr>\n",
       "  </tbody>\n",
       "</table>\n",
       "</div>"
      ],
      "text/plain": [
       "        prod_id  polarity  review\n",
       "31   B00002NAOH  positive       4\n",
       "206  B000NY6P7K  negative       3\n",
       "274  B001BDJ2Q8  negative       4\n",
       "306  B001PMC8T8  negative       4\n",
       "438  B00HGAD9VE  negative       4\n",
       "466  B00QZPGZ3A  negative       4\n",
       "484  B00XZYLRHS  negative       4"
      ]
     },
     "execution_count": 42,
     "metadata": {},
     "output_type": "execute_result"
    }
   ],
   "source": [
    "t = raw_train.groupby([\"prod_id\", \"polarity\"], as_index=False).agg(\"count\")[[\"prod_id\", \"polarity\", \"review\"]]\n",
    "t[t[\"review\"] < 5]"
   ]
  },
  {
   "cell_type": "code",
   "execution_count": 36,
   "id": "934f9bb5-2318-4d3b-a7f8-2c6a8b179826",
   "metadata": {},
   "outputs": [],
   "source": [
    "import random"
   ]
  },
  {
   "cell_type": "code",
   "execution_count": 37,
   "id": "39fdda4a-fb17-4aa8-b2f3-b81c4f501ae2",
   "metadata": {},
   "outputs": [
    {
     "data": {
      "text/plain": [
       "0"
      ]
     },
     "execution_count": 37,
     "metadata": {},
     "output_type": "execute_result"
    }
   ],
   "source": [
    "random.randint(0, 0)"
   ]
  },
  {
   "cell_type": "code",
   "execution_count": 3,
   "id": "8eb76fb1-105c-480a-a484-1fbeb96f7f1a",
   "metadata": {},
   "outputs": [
    {
     "data": {
      "text/plain": [
       "(4525, 7)"
      ]
     },
     "execution_count": 3,
     "metadata": {},
     "output_type": "execute_result"
    }
   ],
   "source": [
    "raw_valid = pd.read_csv(\"../data/raw/20220420_amazon_reviews_valid.csv\")\n",
    "raw_valid.shape"
   ]
  },
  {
   "cell_type": "code",
   "execution_count": 4,
   "id": "aa265d3c-6baa-40fd-b03e-4b8720768c5e",
   "metadata": {},
   "outputs": [
    {
     "data": {
      "text/plain": [
       "(3105, 7)"
      ]
     },
     "execution_count": 4,
     "metadata": {},
     "output_type": "execute_result"
    }
   ],
   "source": [
    "raw_test = pd.read_csv(\"../data/raw/20220420_amazon_reviews_test.csv\")\n",
    "raw_test.shape"
   ]
  },
  {
   "cell_type": "markdown",
   "id": "be3473ed-dee1-469c-bcec-820766029442",
   "metadata": {},
   "source": [
    "#### Combine `train` and `valid`"
   ]
  },
  {
   "cell_type": "code",
   "execution_count": 8,
   "id": "e364ac31-70e7-4b6d-8138-c0ef90b15fb5",
   "metadata": {},
   "outputs": [
    {
     "data": {
      "text/plain": [
       "(15120, 7)"
      ]
     },
     "execution_count": 8,
     "metadata": {},
     "output_type": "execute_result"
    }
   ],
   "source": [
    "raw_train_valid = pd.concat([raw_train, raw_valid])\n",
    "raw_train_valid.shape"
   ]
  },
  {
   "cell_type": "markdown",
   "id": "343d25a6-b1dc-4e2d-b268-368ba289cca2",
   "metadata": {},
   "source": [
    "## Analysis of `category` attribute"
   ]
  },
  {
   "cell_type": "code",
   "execution_count": 9,
   "id": "eb71f44e-7c24-4228-92f2-b91777876c00",
   "metadata": {},
   "outputs": [],
   "source": [
    "df = raw_train_valid.copy()"
   ]
  },
  {
   "cell_type": "code",
   "execution_count": 18,
   "id": "6dd7eea4-1116-4d63-8962-f5e42317a595",
   "metadata": {},
   "outputs": [
    {
     "name": "stdout",
     "output_type": "stream",
     "text": [
      "24 categories\n"
     ]
    }
   ],
   "source": [
    "print(f\"{df['category'].unique().shape[0]} categories\")"
   ]
  },
  {
   "cell_type": "code",
   "execution_count": 25,
   "id": "ef4c0748-1392-4386-a964-25915f3554c0",
   "metadata": {},
   "outputs": [
    {
     "data": {
      "text/plain": [
       "Software                      962\n",
       "Home_and_Kitchen              920\n",
       "Patio_Lawn_and_Garden         905\n",
       "Musical_Instruments           863\n",
       "Pet_Supplies                  862\n",
       "Sports_and_Outdoors           860\n",
       "Tools_and_Home_Improvement    854\n",
       "Books                         847\n",
       "Electronics                   815\n",
       "Arts_Crafts_and_Sewing        807\n",
       "Automotive                    803\n",
       "All_Beauty                    802\n",
       "Industrial_and_Scientific     801\n",
       "Office_Products               800\n",
       "CDs_and_Vinyl                 563\n",
       "Grocery_and_Gourmet_Food      539\n",
       "AMAZON_FASHION                352\n",
       "Luxury_Beauty                 306\n",
       "Prime_Pantry                  303\n",
       "Clothing_Shoes_and_Jewelry    276\n",
       "Toys_and_Games                254\n",
       "Video_Games                   229\n",
       "Movies_and_TV                 224\n",
       "Appliances                    173\n",
       "Name: category, dtype: int64"
      ]
     },
     "execution_count": 25,
     "metadata": {},
     "output_type": "execute_result"
    }
   ],
   "source": [
    "df[\"category\"].value_counts()"
   ]
  },
  {
   "cell_type": "code",
   "execution_count": 35,
   "id": "1499d5fd-124a-4887-91c9-9a65bbcbfc86",
   "metadata": {},
   "outputs": [],
   "source": [
    "catg_count = df[\"category\"].value_counts().to_frame().reset_index().rename(columns={\"category\":\"count\", \"index\":\"category\"})"
   ]
  },
  {
   "cell_type": "code",
   "execution_count": 141,
   "id": "813bae3f-5c1d-4769-9d11-6dfae2ab984b",
   "metadata": {},
   "outputs": [
    {
     "data": {
      "text/plain": [
       "<AxesSubplot:ylabel='Frequency'>"
      ]
     },
     "execution_count": 141,
     "metadata": {},
     "output_type": "execute_result"
    },
    {
     "data": {
      "image/png": "[encoded data removed]",
      "text/plain": [
       "<Figure size 432x288 with 1 Axes>"
      ]
     },
     "metadata": {
      "needs_background": "light"
     },
     "output_type": "display_data"
    }
   ],
   "source": [
    "df[\"category\"].value_counts().plot(kind='hist')"
   ]
  },
  {
   "cell_type": "code",
   "execution_count": 86,
   "id": "f830308f-6d9d-4cc5-a061-66e8e45bc9a6",
   "metadata": {},
   "outputs": [
    {
     "name": "stdout",
     "output_type": "stream",
     "text": [
      "66.67% of categories have at least 500 reviews.\n",
      "33.33% of categories have less than 500 reviews.\n"
     ]
    }
   ],
   "source": [
    "print(f\"{round(100 * catg_count[catg_count['count'] >= 500].shape[0] / catg_count.shape[0], 2)}% of categories have at least 500 reviews.\")\n",
    "print(f\"{round(100 * catg_count[catg_count['count'] < 400].shape[0] / catg_count.shape[0], 2)}% of categories have less than 500 reviews.\")"
   ]
  },
  {
   "cell_type": "code",
   "execution_count": 85,
   "id": "feb0a9a5-601a-4040-a4d4-8118a62952e1",
   "metadata": {},
   "outputs": [
    {
     "name": "stdout",
     "output_type": "stream",
     "text": [
      "86.0% (13003) of reviews are from categories having at least 500 reviews.\n",
      "78.71% (11901) of reviews are from categories having at least 800 reviews.\n",
      "7.29% (1102) of reviews are from categories having between 500 and 800 reviews.\n",
      "--------------------------------------------------------------------------------\n",
      "14.0% of reviews are from categories having less than 400 reviews.\n",
      "7.65% of reviews are from categories having less than 300 reviews.\n"
     ]
    }
   ],
   "source": [
    "print(f\"{round(100 * catg_count.loc[catg_count['count'] >= 500, 'count'].sum() / catg_count['count'].sum(), 2)}% ({catg_count.loc[catg_count['count'] >= 500, 'count'].sum()}) of reviews are from categories having at least 500 reviews.\")\n",
    "print(f\"{round(100 * catg_count.loc[catg_count['count'] >= 800, 'count'].sum() / catg_count['count'].sum(), 2)}% ({catg_count.loc[catg_count['count'] >= 800, 'count'].sum()}) of reviews are from categories having at least 800 reviews.\")\n",
    "print(f\"{round(100 * catg_count.loc[(catg_count['count'] < 800) & (catg_count['count'] >= 500), 'count'].sum() / catg_count['count'].sum(), 2)}% ({catg_count.loc[(catg_count['count'] < 800) & (catg_count['count'] >= 500), 'count'].sum()}) of reviews are from categories having between 500 and 800 reviews.\")\n",
    "print(\"-\"*80)\n",
    "print(f\"{round(100 * catg_count.loc[catg_count['count'] < 400, 'count'].sum() / catg_count['count'].sum(), 2)}% of reviews are from categories having less than 400 reviews.\")\n",
    "print(f\"{round(100 * catg_count.loc[catg_count['count'] < 300, 'count'].sum() / catg_count['count'].sum(), 2)}% of reviews are from categories having less than 300 reviews.\")"
   ]
  },
  {
   "cell_type": "code",
   "execution_count": 27,
   "id": "69d96f82-a1d0-4c4e-896b-afb939fbf7db",
   "metadata": {},
   "outputs": [
    {
     "data": {
      "text/plain": [
       "<AxesSubplot:>"
      ]
     },
     "execution_count": 27,
     "metadata": {},
     "output_type": "execute_result"
    },
    {
     "data": {
      "image/png": "[encoded data removed]",
      "text/plain": [
       "<Figure size 432x288 with 1 Axes>"
      ]
     },
     "metadata": {
      "needs_background": "light"
     },
     "output_type": "display_data"
    }
   ],
   "source": [
    "df[\"category\"].value_counts().plot.bar()"
   ]
  },
  {
   "cell_type": "markdown",
   "id": "4119f617-e062-4a92-8fd4-ce81326977cb",
   "metadata": {},
   "source": [
    "#### Categories with less than 800 total reviews"
   ]
  },
  {
   "cell_type": "code",
   "execution_count": 91,
   "id": "6a2aef7d-55aa-458f-aa0f-c5f36276c5d6",
   "metadata": {},
   "outputs": [
    {
     "data": {
      "text/plain": [
       "14                 CDs_and_Vinyl\n",
       "15      Grocery_and_Gourmet_Food\n",
       "16                AMAZON_FASHION\n",
       "17                 Luxury_Beauty\n",
       "18                  Prime_Pantry\n",
       "19    Clothing_Shoes_and_Jewelry\n",
       "20                Toys_and_Games\n",
       "21                   Video_Games\n",
       "22                 Movies_and_TV\n",
       "23                    Appliances\n",
       "Name: category, dtype: object"
      ]
     },
     "execution_count": 91,
     "metadata": {},
     "output_type": "execute_result"
    }
   ],
   "source": [
    "catg_count.loc[catg_count['count'] < 800, 'category']"
   ]
  },
  {
   "cell_type": "markdown",
   "id": "8ad9ac50-084a-4582-b435-f78baaef460f",
   "metadata": {},
   "source": [
    "#### Categories with at least 800 total reviews"
   ]
  },
  {
   "cell_type": "code",
   "execution_count": 93,
   "id": "a9895b03-540d-4b66-9e65-18f18e5db61d",
   "metadata": {},
   "outputs": [
    {
     "data": {
      "text/plain": [
       "0                       Software\n",
       "1               Home_and_Kitchen\n",
       "2          Patio_Lawn_and_Garden\n",
       "3            Musical_Instruments\n",
       "4                   Pet_Supplies\n",
       "5            Sports_and_Outdoors\n",
       "6     Tools_and_Home_Improvement\n",
       "7                          Books\n",
       "8                    Electronics\n",
       "9         Arts_Crafts_and_Sewing\n",
       "10                    Automotive\n",
       "11                    All_Beauty\n",
       "12     Industrial_and_Scientific\n",
       "13               Office_Products\n",
       "Name: category, dtype: object"
      ]
     },
     "execution_count": 93,
     "metadata": {},
     "output_type": "execute_result"
    }
   ],
   "source": [
    "catg_count.loc[catg_count['count'] >= 800, 'category']"
   ]
  },
  {
   "cell_type": "markdown",
   "id": "392e8227-d464-41d2-8d16-43fba2a5540c",
   "metadata": {},
   "source": [
    "## Build new `train`/`valid` sets"
   ]
  },
  {
   "cell_type": "code",
   "execution_count": 98,
   "id": "6e8f1331-b215-4b42-82b6-d8c6f8b7d282",
   "metadata": {},
   "outputs": [
    {
     "data": {
      "text/plain": [
       "(11901, 7)"
      ]
     },
     "execution_count": 98,
     "metadata": {},
     "output_type": "execute_result"
    }
   ],
   "source": [
    "new_train_valid = df[df[\"category\"].apply(lambda x: str(x) in catg_count.loc[catg_count['count'] >= 800, 'category'].values)]\n",
    "new_train_valid.shape"
   ]
  },
  {
   "cell_type": "code",
   "execution_count": 99,
   "id": "8d6a4e6d-3c3c-4502-8adf-6743db99a59e",
   "metadata": {},
   "outputs": [
    {
     "data": {
      "text/html": [
       "<div>\n",
       "<style scoped>\n",
       "    .dataframe tbody tr th:only-of-type {\n",
       "        vertical-align: middle;\n",
       "    }\n",
       "\n",
       "    .dataframe tbody tr th {\n",
       "        vertical-align: top;\n",
       "    }\n",
       "\n",
       "    .dataframe thead th {\n",
       "        text-align: right;\n",
       "    }\n",
       "</style>\n",
       "<table border=\"1\" class=\"dataframe\">\n",
       "  <thead>\n",
       "    <tr style=\"text-align: right;\">\n",
       "      <th></th>\n",
       "      <th>category</th>\n",
       "      <th>prod_id</th>\n",
       "      <th>rating</th>\n",
       "      <th>polarity</th>\n",
       "      <th>review</th>\n",
       "      <th>review_len</th>\n",
       "      <th>review_id</th>\n",
       "    </tr>\n",
       "  </thead>\n",
       "  <tbody>\n",
       "    <tr>\n",
       "      <th>281</th>\n",
       "      <td>All_Beauty</td>\n",
       "      <td>B005U5KU46</td>\n",
       "      <td>5.0</td>\n",
       "      <td>positive</td>\n",
       "      <td>These are very thin, pull off easily without r...</td>\n",
       "      <td>45</td>\n",
       "      <td>0</td>\n",
       "    </tr>\n",
       "    <tr>\n",
       "      <th>282</th>\n",
       "      <td>All_Beauty</td>\n",
       "      <td>B005U5KU46</td>\n",
       "      <td>1.0</td>\n",
       "      <td>negative</td>\n",
       "      <td>sweat went right thought within almost 2 hrs o...</td>\n",
       "      <td>14</td>\n",
       "      <td>1</td>\n",
       "    </tr>\n",
       "    <tr>\n",
       "      <th>283</th>\n",
       "      <td>All_Beauty</td>\n",
       "      <td>B005U5KU46</td>\n",
       "      <td>2.0</td>\n",
       "      <td>negative</td>\n",
       "      <td>So far they haven't really worked - won't stic...</td>\n",
       "      <td>15</td>\n",
       "      <td>2</td>\n",
       "    </tr>\n",
       "    <tr>\n",
       "      <th>284</th>\n",
       "      <td>All_Beauty</td>\n",
       "      <td>B005U5KU46</td>\n",
       "      <td>5.0</td>\n",
       "      <td>positive</td>\n",
       "      <td>I have tried several brands of shields, and mo...</td>\n",
       "      <td>46</td>\n",
       "      <td>3</td>\n",
       "    </tr>\n",
       "    <tr>\n",
       "      <th>285</th>\n",
       "      <td>All_Beauty</td>\n",
       "      <td>B005U5KU46</td>\n",
       "      <td>1.0</td>\n",
       "      <td>negative</td>\n",
       "      <td>They do not stick well to the fabric. Bunch up...</td>\n",
       "      <td>12</td>\n",
       "      <td>4</td>\n",
       "    </tr>\n",
       "  </tbody>\n",
       "</table>\n",
       "</div>"
      ],
      "text/plain": [
       "       category     prod_id  rating  polarity  \\\n",
       "281  All_Beauty  B005U5KU46     5.0  positive   \n",
       "282  All_Beauty  B005U5KU46     1.0  negative   \n",
       "283  All_Beauty  B005U5KU46     2.0  negative   \n",
       "284  All_Beauty  B005U5KU46     5.0  positive   \n",
       "285  All_Beauty  B005U5KU46     1.0  negative   \n",
       "\n",
       "                                                review  review_len  review_id  \n",
       "281  These are very thin, pull off easily without r...          45          0  \n",
       "282  sweat went right thought within almost 2 hrs o...          14          1  \n",
       "283  So far they haven't really worked - won't stic...          15          2  \n",
       "284  I have tried several brands of shields, and mo...          46          3  \n",
       "285  They do not stick well to the fabric. Bunch up...          12          4  "
      ]
     },
     "execution_count": 99,
     "metadata": {},
     "output_type": "execute_result"
    }
   ],
   "source": [
    "new_train_valid.head()"
   ]
  },
  {
   "cell_type": "markdown",
   "id": "7f95c8ea-ce8c-4f72-9cbe-b77ab91dc7b8",
   "metadata": {},
   "source": [
    "## Exploratory analysis"
   ]
  },
  {
   "cell_type": "code",
   "execution_count": 100,
   "id": "7d4410e7-46c4-410b-84ef-30f82821a3a8",
   "metadata": {},
   "outputs": [],
   "source": [
    "new_df = new_train_valid.copy()"
   ]
  },
  {
   "cell_type": "code",
   "execution_count": 101,
   "id": "988b5319-dba7-440e-a9e7-7f70691a14c6",
   "metadata": {},
   "outputs": [
    {
     "name": "stdout",
     "output_type": "stream",
     "text": [
      "<class 'pandas.core.frame.DataFrame'>\n",
      "Int64Index: 11901 entries, 281 to 4412\n",
      "Data columns (total 7 columns):\n",
      " #   Column      Non-Null Count  Dtype  \n",
      "---  ------      --------------  -----  \n",
      " 0   category    11901 non-null  object \n",
      " 1   prod_id     11901 non-null  object \n",
      " 2   rating      11901 non-null  float64\n",
      " 3   polarity    11901 non-null  object \n",
      " 4   review      11901 non-null  object \n",
      " 5   review_len  11901 non-null  int64  \n",
      " 6   review_id   11901 non-null  int64  \n",
      "dtypes: float64(1), int64(2), object(4)\n",
      "memory usage: 743.8+ KB\n"
     ]
    }
   ],
   "source": [
    "new_df.info()"
   ]
  },
  {
   "cell_type": "markdown",
   "id": "d81f1a1d-da71-4d08-b93d-beb5b3f999c0",
   "metadata": {},
   "source": [
    "### category"
   ]
  },
  {
   "cell_type": "markdown",
   "id": "d182473f-6b6f-46f2-8a24-d0fcf8663d34",
   "metadata": {},
   "source": [
    "#### Number of reviews per category"
   ]
  },
  {
   "cell_type": "code",
   "execution_count": 102,
   "id": "2fae1395-08ac-42a7-87ea-9ef242ae68cf",
   "metadata": {},
   "outputs": [
    {
     "data": {
      "text/plain": [
       "Software                      962\n",
       "Home_and_Kitchen              920\n",
       "Patio_Lawn_and_Garden         905\n",
       "Musical_Instruments           863\n",
       "Pet_Supplies                  862\n",
       "Sports_and_Outdoors           860\n",
       "Tools_and_Home_Improvement    854\n",
       "Books                         847\n",
       "Electronics                   815\n",
       "Arts_Crafts_and_Sewing        807\n",
       "Automotive                    803\n",
       "All_Beauty                    802\n",
       "Industrial_and_Scientific     801\n",
       "Office_Products               800\n",
       "Name: category, dtype: int64"
      ]
     },
     "execution_count": 102,
     "metadata": {},
     "output_type": "execute_result"
    }
   ],
   "source": [
    "new_df[\"category\"].value_counts()"
   ]
  },
  {
   "cell_type": "markdown",
   "id": "951da4a5-8d6a-4b33-8534-ca0007966a5b",
   "metadata": {},
   "source": [
    "### prod_id"
   ]
  },
  {
   "cell_type": "code",
   "execution_count": 118,
   "id": "f603af3b-7139-4d8e-a273-474a0a85a0ab",
   "metadata": {},
   "outputs": [
    {
     "name": "stdout",
     "output_type": "stream",
     "text": [
      "293 produts\n"
     ]
    }
   ],
   "source": [
    "print(f\"{new_df['prod_id'].unique().shape[0]} produts\")"
   ]
  },
  {
   "cell_type": "markdown",
   "id": "0c8a3bb7-e79d-4309-add1-d0836e6c0c52",
   "metadata": {},
   "source": [
    "#### Number of products per category"
   ]
  },
  {
   "cell_type": "code",
   "execution_count": 123,
   "id": "d1692677-0c24-493e-adda-77081bd54d72",
   "metadata": {},
   "outputs": [
    {
     "data": {
      "text/html": [
       "<div>\n",
       "<style scoped>\n",
       "    .dataframe tbody tr th:only-of-type {\n",
       "        vertical-align: middle;\n",
       "    }\n",
       "\n",
       "    .dataframe tbody tr th {\n",
       "        vertical-align: top;\n",
       "    }\n",
       "\n",
       "    .dataframe thead th {\n",
       "        text-align: right;\n",
       "    }\n",
       "</style>\n",
       "<table border=\"1\" class=\"dataframe\">\n",
       "  <thead>\n",
       "    <tr style=\"text-align: right;\">\n",
       "      <th></th>\n",
       "      <th>category</th>\n",
       "      <th>num_products</th>\n",
       "    </tr>\n",
       "  </thead>\n",
       "  <tbody>\n",
       "    <tr>\n",
       "      <th>0</th>\n",
       "      <td>All_Beauty</td>\n",
       "      <td>22</td>\n",
       "    </tr>\n",
       "    <tr>\n",
       "      <th>1</th>\n",
       "      <td>Arts_Crafts_and_Sewing</td>\n",
       "      <td>16</td>\n",
       "    </tr>\n",
       "    <tr>\n",
       "      <th>2</th>\n",
       "      <td>Automotive</td>\n",
       "      <td>25</td>\n",
       "    </tr>\n",
       "    <tr>\n",
       "      <th>3</th>\n",
       "      <td>Books</td>\n",
       "      <td>14</td>\n",
       "    </tr>\n",
       "    <tr>\n",
       "      <th>4</th>\n",
       "      <td>Electronics</td>\n",
       "      <td>27</td>\n",
       "    </tr>\n",
       "    <tr>\n",
       "      <th>5</th>\n",
       "      <td>Home_and_Kitchen</td>\n",
       "      <td>16</td>\n",
       "    </tr>\n",
       "    <tr>\n",
       "      <th>6</th>\n",
       "      <td>Industrial_and_Scientific</td>\n",
       "      <td>27</td>\n",
       "    </tr>\n",
       "    <tr>\n",
       "      <th>7</th>\n",
       "      <td>Musical_Instruments</td>\n",
       "      <td>29</td>\n",
       "    </tr>\n",
       "    <tr>\n",
       "      <th>8</th>\n",
       "      <td>Office_Products</td>\n",
       "      <td>25</td>\n",
       "    </tr>\n",
       "    <tr>\n",
       "      <th>9</th>\n",
       "      <td>Patio_Lawn_and_Garden</td>\n",
       "      <td>16</td>\n",
       "    </tr>\n",
       "    <tr>\n",
       "      <th>10</th>\n",
       "      <td>Pet_Supplies</td>\n",
       "      <td>13</td>\n",
       "    </tr>\n",
       "    <tr>\n",
       "      <th>11</th>\n",
       "      <td>Software</td>\n",
       "      <td>20</td>\n",
       "    </tr>\n",
       "    <tr>\n",
       "      <th>12</th>\n",
       "      <td>Sports_and_Outdoors</td>\n",
       "      <td>23</td>\n",
       "    </tr>\n",
       "    <tr>\n",
       "      <th>13</th>\n",
       "      <td>Tools_and_Home_Improvement</td>\n",
       "      <td>20</td>\n",
       "    </tr>\n",
       "  </tbody>\n",
       "</table>\n",
       "</div>"
      ],
      "text/plain": [
       "                      category  num_products\n",
       "0                   All_Beauty            22\n",
       "1       Arts_Crafts_and_Sewing            16\n",
       "2                   Automotive            25\n",
       "3                        Books            14\n",
       "4                  Electronics            27\n",
       "5             Home_and_Kitchen            16\n",
       "6    Industrial_and_Scientific            27\n",
       "7          Musical_Instruments            29\n",
       "8              Office_Products            25\n",
       "9        Patio_Lawn_and_Garden            16\n",
       "10                Pet_Supplies            13\n",
       "11                    Software            20\n",
       "12         Sports_and_Outdoors            23\n",
       "13  Tools_and_Home_Improvement            20"
      ]
     },
     "execution_count": 123,
     "metadata": {},
     "output_type": "execute_result"
    }
   ],
   "source": [
    "new_df[[\"category\", \"prod_id\"]].groupby([\"category\", \"prod_id\"], as_index=False).agg(\"count\").groupby([\"category\"], as_index=False).agg(\"count\").rename(columns={\"prod_id\":\"num_products\"})"
   ]
  },
  {
   "cell_type": "markdown",
   "id": "f82dc0ac-4f59-40ee-8fe5-2cae6daddbc0",
   "metadata": {
    "tags": []
   },
   "source": [
    "#### Number of reviews per product"
   ]
  },
  {
   "cell_type": "code",
   "execution_count": 205,
   "id": "41a4232f-46d4-4865-8b30-920e328c4b8e",
   "metadata": {},
   "outputs": [],
   "source": [
    "revs_per_prods = new_df.groupby([\"prod_id\"], as_index=False).count().rename(columns={\"review\":\"num_reviews\"})[\"num_reviews\"]"
   ]
  },
  {
   "cell_type": "code",
   "execution_count": 206,
   "id": "76d75dcd-18c1-474a-b125-32941f15cf58",
   "metadata": {},
   "outputs": [
    {
     "data": {
      "text/plain": [
       "<AxesSubplot:ylabel='Frequency'>"
      ]
     },
     "execution_count": 206,
     "metadata": {},
     "output_type": "execute_result"
    },
    {
     "data": {
      "image/png": "[encoded data removed]",
      "text/plain": [
       "<Figure size 432x288 with 1 Axes>"
      ]
     },
     "metadata": {
      "needs_background": "light"
     },
     "output_type": "display_data"
    }
   ],
   "source": [
    "revs_per_prods.plot.hist()"
   ]
  },
  {
   "cell_type": "code",
   "execution_count": 207,
   "id": "7dbae757-5ccd-4e86-9555-c5c4e9795380",
   "metadata": {},
   "outputs": [
    {
     "data": {
      "text/plain": [
       "count    293.000000\n",
       "mean      40.617747\n",
       "std       43.973731\n",
       "min        5.000000\n",
       "25%       16.000000\n",
       "50%       22.000000\n",
       "75%       45.000000\n",
       "max      252.000000\n",
       "Name: num_reviews, dtype: float64"
      ]
     },
     "execution_count": 207,
     "metadata": {},
     "output_type": "execute_result"
    }
   ],
   "source": [
    "revs_per_prods.describe()"
   ]
  },
  {
   "cell_type": "code",
   "execution_count": 223,
   "id": "2898b9b6-7852-4ecf-aada-459f2baf8be9",
   "metadata": {},
   "outputs": [
    {
     "name": "stdout",
     "output_type": "stream",
     "text": [
      "23.55% of products have 15 reviews or less\n",
      "78.16% of products have 50 reviews or less\n",
      "91.13% of products have 100 reviews or less\n",
      "94.88% of products have 150 reviews or less\n",
      "98.63% of products have 200 reviews or less\n"
     ]
    }
   ],
   "source": [
    "print(f\"{round(100*revs_per_prods[revs_per_prods <= 15].shape[0]/revs_per_prods.shape[0], 2)}% of products have 15 reviews or less\")\n",
    "print(f\"{round(100*revs_per_prods[revs_per_prods <= 50].shape[0]/revs_per_prods.shape[0], 2)}% of products have 50 reviews or less\")\n",
    "print(f\"{round(100*revs_per_prods[revs_per_prods <= 100].shape[0]/revs_per_prods.shape[0], 2)}% of products have 100 reviews or less\")\n",
    "print(f\"{round(100*revs_per_prods[revs_per_prods <= 150].shape[0]/revs_per_prods.shape[0], 2)}% of products have 150 reviews or less\")\n",
    "print(f\"{round(100*revs_per_prods[revs_per_prods <= 200].shape[0]/revs_per_prods.shape[0], 2)}% of products have 200 reviews or less\")"
   ]
  },
  {
   "cell_type": "code",
   "execution_count": 222,
   "id": "5f495b31-e7e3-491f-82d5-0ca0c9dae0f1",
   "metadata": {},
   "outputs": [
    {
     "data": {
      "text/plain": [
       "<AxesSubplot:ylabel='Frequency'>"
      ]
     },
     "execution_count": 222,
     "metadata": {},
     "output_type": "execute_result"
    },
    {
     "data": {
      "image/png": "[encoded data removed]",
      "text/plain": [
       "<Figure size 432x288 with 1 Axes>"
      ]
     },
     "metadata": {
      "needs_background": "light"
     },
     "output_type": "display_data"
    }
   ],
   "source": [
    "revs_per_prods[revs_per_prods < 15].plot.hist()"
   ]
  },
  {
   "cell_type": "code",
   "execution_count": 225,
   "id": "59db821d-ba71-4028-8e8c-f1da260bd892",
   "metadata": {},
   "outputs": [
    {
     "name": "stdout",
     "output_type": "stream",
     "text": [
      "14.68% (43) of products have 15 reviews or less\n",
      "0.34% (1) of products have 15 reviews or less\n"
     ]
    }
   ],
   "source": [
    "print(f\"{round(100*revs_per_prods[revs_per_prods < 15].shape[0]/revs_per_prods.shape[0], 2)}% ({revs_per_prods[revs_per_prods < 15].shape[0]}) of products have 15 reviews or less\")\n",
    "print(f\"{round(100*revs_per_prods[revs_per_prods < 10].shape[0]/revs_per_prods.shape[0], 2)}% ({revs_per_prods[revs_per_prods < 10].shape[0]}) of products have 15 reviews or less\")"
   ]
  },
  {
   "cell_type": "code",
   "execution_count": 235,
   "id": "6cbbb82a-ba63-465e-aad2-712aec7d184e",
   "metadata": {},
   "outputs": [],
   "source": [
    "OUTLIER_PRODID = new_df[\"prod_id\"].value_counts()[new_df[\"prod_id\"].value_counts() < 10].index.values"
   ]
  },
  {
   "cell_type": "code",
   "execution_count": 239,
   "id": "61df2282-7189-4526-b549-bf1d3b645247",
   "metadata": {},
   "outputs": [
    {
     "data": {
      "text/html": [
       "<div>\n",
       "<style scoped>\n",
       "    .dataframe tbody tr th:only-of-type {\n",
       "        vertical-align: middle;\n",
       "    }\n",
       "\n",
       "    .dataframe tbody tr th {\n",
       "        vertical-align: top;\n",
       "    }\n",
       "\n",
       "    .dataframe thead th {\n",
       "        text-align: right;\n",
       "    }\n",
       "</style>\n",
       "<table border=\"1\" class=\"dataframe\">\n",
       "  <thead>\n",
       "    <tr style=\"text-align: right;\">\n",
       "      <th></th>\n",
       "      <th>category</th>\n",
       "      <th>prod_id</th>\n",
       "      <th>rating</th>\n",
       "      <th>polarity</th>\n",
       "      <th>review</th>\n",
       "      <th>review_len</th>\n",
       "      <th>review_id</th>\n",
       "    </tr>\n",
       "  </thead>\n",
       "  <tbody>\n",
       "    <tr>\n",
       "      <th>2954</th>\n",
       "      <td>Musical_Instruments</td>\n",
       "      <td>B00RJTXU3E</td>\n",
       "      <td>1.0</td>\n",
       "      <td>negative</td>\n",
       "      <td>For the same price, plus a couple of dollars m...</td>\n",
       "      <td>77</td>\n",
       "      <td>0</td>\n",
       "    </tr>\n",
       "    <tr>\n",
       "      <th>2955</th>\n",
       "      <td>Musical_Instruments</td>\n",
       "      <td>B00RJTXU3E</td>\n",
       "      <td>2.0</td>\n",
       "      <td>negative</td>\n",
       "      <td>A little too flimsy for my mic. My AT-2020 jus...</td>\n",
       "      <td>27</td>\n",
       "      <td>1</td>\n",
       "    </tr>\n",
       "    <tr>\n",
       "      <th>2956</th>\n",
       "      <td>Musical_Instruments</td>\n",
       "      <td>B00RJTXU3E</td>\n",
       "      <td>5.0</td>\n",
       "      <td>positive</td>\n",
       "      <td>Exactly as advertised.  Nothing fancy. Great S...</td>\n",
       "      <td>9</td>\n",
       "      <td>2</td>\n",
       "    </tr>\n",
       "    <tr>\n",
       "      <th>2957</th>\n",
       "      <td>Musical_Instruments</td>\n",
       "      <td>B00RJTXU3E</td>\n",
       "      <td>4.0</td>\n",
       "      <td>positive</td>\n",
       "      <td>The shock mount works great.  I was surprised ...</td>\n",
       "      <td>30</td>\n",
       "      <td>3</td>\n",
       "    </tr>\n",
       "    <tr>\n",
       "      <th>2958</th>\n",
       "      <td>Musical_Instruments</td>\n",
       "      <td>B00RJTXU3E</td>\n",
       "      <td>5.0</td>\n",
       "      <td>positive</td>\n",
       "      <td>Superior workmanship and great price. Works we...</td>\n",
       "      <td>15</td>\n",
       "      <td>4</td>\n",
       "    </tr>\n",
       "  </tbody>\n",
       "</table>\n",
       "</div>"
      ],
      "text/plain": [
       "                 category     prod_id  rating  polarity  \\\n",
       "2954  Musical_Instruments  B00RJTXU3E     1.0  negative   \n",
       "2955  Musical_Instruments  B00RJTXU3E     2.0  negative   \n",
       "2956  Musical_Instruments  B00RJTXU3E     5.0  positive   \n",
       "2957  Musical_Instruments  B00RJTXU3E     4.0  positive   \n",
       "2958  Musical_Instruments  B00RJTXU3E     5.0  positive   \n",
       "\n",
       "                                                 review  review_len  review_id  \n",
       "2954  For the same price, plus a couple of dollars m...          77          0  \n",
       "2955  A little too flimsy for my mic. My AT-2020 jus...          27          1  \n",
       "2956  Exactly as advertised.  Nothing fancy. Great S...           9          2  \n",
       "2957  The shock mount works great.  I was surprised ...          30          3  \n",
       "2958  Superior workmanship and great price. Works we...          15          4  "
      ]
     },
     "execution_count": 239,
     "metadata": {},
     "output_type": "execute_result"
    }
   ],
   "source": [
    "OUTLIER_PRODS = new_df[new_df[\"prod_id\"].apply(lambda x: str(x) in OUTLIER_PRODID)]\n",
    "OUTLIER_PRODS"
   ]
  },
  {
   "cell_type": "code",
   "execution_count": 244,
   "id": "dc378ebc-969a-40f7-bb6a-0cd883aef2f0",
   "metadata": {},
   "outputs": [
    {
     "data": {
      "text/plain": [
       "(11896, 7)"
      ]
     },
     "execution_count": 244,
     "metadata": {},
     "output_type": "execute_result"
    }
   ],
   "source": [
    "# Remove products having less than 10 reviews\n",
    "new_df = new_df[new_df[\"prod_id\"].apply(lambda x: str(x) not in OUTLIER_PRODID)]\n",
    "new_df.shape"
   ]
  },
  {
   "cell_type": "markdown",
   "id": "a2f69209-79f2-4bf2-96af-a94547998f4b",
   "metadata": {},
   "source": [
    "### rating"
   ]
  },
  {
   "cell_type": "markdown",
   "id": "2c27e3f5-cdce-45a4-b0f0-f831b419a1e4",
   "metadata": {},
   "source": [
    "#### Overall distribution of ratings"
   ]
  },
  {
   "cell_type": "code",
   "execution_count": 135,
   "id": "400ee5cb-322c-4d5b-bbcc-8b28011621ec",
   "metadata": {},
   "outputs": [
    {
     "data": {
      "text/plain": [
       "<AxesSubplot:>"
      ]
     },
     "execution_count": 135,
     "metadata": {},
     "output_type": "execute_result"
    },
    {
     "data": {
      "image/png": "[encoded data removed]",
      "text/plain": [
       "<Figure size 432x288 with 1 Axes>"
      ]
     },
     "metadata": {
      "needs_background": "light"
     },
     "output_type": "display_data"
    }
   ],
   "source": [
    "new_df[\"rating\"].value_counts().sort_index().plot.bar()"
   ]
  },
  {
   "cell_type": "markdown",
   "id": "a5c2453b-cea7-4d64-a770-94bdc2e780c7",
   "metadata": {},
   "source": [
    "#### Average rating per product"
   ]
  },
  {
   "cell_type": "code",
   "execution_count": 140,
   "id": "24b47819-053a-43eb-9585-c5238f0466b4",
   "metadata": {},
   "outputs": [
    {
     "data": {
      "text/plain": [
       "<AxesSubplot:title={'center':'average rating'}, ylabel='Frequency'>"
      ]
     },
     "execution_count": 140,
     "metadata": {},
     "output_type": "execute_result"
    },
    {
     "data": {
      "image/png": "[encoded data removed]",
      "text/plain": [
       "<Figure size 432x288 with 1 Axes>"
      ]
     },
     "metadata": {
      "needs_background": "light"
     },
     "output_type": "display_data"
    }
   ],
   "source": [
    "new_df[[\"prod_id\", \"rating\"]].groupby([\"prod_id\"], as_index=False).mean().plot(kind='hist', title=\"average rating\")"
   ]
  },
  {
   "cell_type": "markdown",
   "id": "bd96e29e-01d9-49dc-b7e6-aaabc440b372",
   "metadata": {},
   "source": [
    "Overall, the average rating of product is close to 3.0 (which is considered `neutral`)"
   ]
  },
  {
   "cell_type": "markdown",
   "id": "edd11262-034d-42af-9a79-6b7381f856c5",
   "metadata": {},
   "source": [
    "### polarity"
   ]
  },
  {
   "cell_type": "markdown",
   "id": "e1c195ba-509b-4c78-9c34-bc8fb0c09344",
   "metadata": {},
   "source": [
    "#### Overall polarity distribution"
   ]
  },
  {
   "cell_type": "code",
   "execution_count": 143,
   "id": "04c70274-3ece-4802-bca4-f2f6e18727e9",
   "metadata": {},
   "outputs": [
    {
     "data": {
      "text/plain": [
       "<AxesSubplot:>"
      ]
     },
     "execution_count": 143,
     "metadata": {},
     "output_type": "execute_result"
    },
    {
     "data": {
      "image/png": "[encoded data removed]",
      "text/plain": [
       "<Figure size 432x288 with 1 Axes>"
      ]
     },
     "metadata": {
      "needs_background": "light"
     },
     "output_type": "display_data"
    }
   ],
   "source": [
    "new_df[\"polarity\"].value_counts().plot.bar()"
   ]
  },
  {
   "cell_type": "markdown",
   "id": "d1c33936-4a67-47da-a193-e301f3e80c61",
   "metadata": {},
   "source": [
    "Overall there are nearly as many `positive` reviews than `negative` reviews in the dataset"
   ]
  },
  {
   "cell_type": "markdown",
   "id": "70a61110-6d1f-4bff-996a-1cbd58dbea45",
   "metadata": {},
   "source": [
    "#### Average `positive`/`negative` ratio"
   ]
  },
  {
   "cell_type": "code",
   "execution_count": 168,
   "id": "9927a642-9bac-410a-a0d3-629eee1cbfcd",
   "metadata": {},
   "outputs": [],
   "source": [
    "def calc_polarity_ratio():\n",
    "    all_ = new_df.groupby([\"prod_id\"], as_index=False).count().sort_values(by=\"prod_id\")[[\"prod_id\", \"polarity\"]]\n",
    "    positive = new_df[new_df[\"polarity\"] == \"positive\"].groupby([\"prod_id\"], as_index=False).count().sort_values(by=\"prod_id\")[[\"prod_id\", \"polarity\"]]\n",
    "    negative = new_df[new_df[\"polarity\"] == \"negative\"].groupby([\"prod_id\"], as_index=False).count().sort_values(by=\"prod_id\")[[\"prod_id\", \"polarity\"]]\n",
    "    all_[\"ratio\"] = (positive[\"polarity\"]/all_[\"polarity\"]) / (negative[\"polarity\"]/all_[\"polarity\"])\n",
    "    return all_[[\"prod_id\", \"ratio\"]]"
   ]
  },
  {
   "cell_type": "code",
   "execution_count": 169,
   "id": "08b19304-a1eb-4da2-9ffa-c68116544ae5",
   "metadata": {},
   "outputs": [],
   "source": [
    "polarity_ratio = calc_polarity_ratio()"
   ]
  },
  {
   "cell_type": "code",
   "execution_count": 192,
   "id": "e853e69a-4fc9-4013-a6f3-d838975784a4",
   "metadata": {},
   "outputs": [
    {
     "data": {
      "text/plain": [
       "<AxesSubplot:title={'center':'positive/negative decimal ratio'}, ylabel='Frequency'>"
      ]
     },
     "execution_count": 192,
     "metadata": {},
     "output_type": "execute_result"
    },
    {
     "data": {
      "image/png": "[encoded data removed]",
      "text/plain": [
       "<Figure size 432x288 with 1 Axes>"
      ]
     },
     "metadata": {
      "needs_background": "light"
     },
     "output_type": "display_data"
    }
   ],
   "source": [
    "polarity_ratio.plot(kind='hist', title=\"positive/negative decimal ratio\")"
   ]
  },
  {
   "cell_type": "code",
   "execution_count": 189,
   "id": "865a1a5d-a87f-444c-aa8f-f23a5e0ffc7c",
   "metadata": {},
   "outputs": [
    {
     "data": {
      "text/plain": [
       "((11, 4), (1, 2))"
      ]
     },
     "execution_count": 189,
     "metadata": {},
     "output_type": "execute_result"
    }
   ],
   "source": [
    "(2.75).as_integer_ratio(), (0.5).as_integer_ratio()"
   ]
  },
  {
   "cell_type": "markdown",
   "id": "c576f07c-36d7-4e84-b7ca-eb6aa247b300",
   "metadata": {},
   "source": [
    "The closer the value is to 0, the smaller the `positive`/`negative`ratio is.\n",
    "\n",
    "* `2.75` corresponds to ratio of 11 `positive` to 4 `negative`\n",
    "* `0.50` corresponds to ratio of 1 `positive` to 2 `negative`\n",
    "\n",
    "Overall, there is about the same number of `positive` reviews ans `negative` reviews for each product."
   ]
  },
  {
   "cell_type": "markdown",
   "id": "0a12f856-1479-4e9b-883a-527cc84185a6",
   "metadata": {},
   "source": [
    "### review_len"
   ]
  },
  {
   "cell_type": "markdown",
   "id": "85aff06a-16fa-438d-a166-78454a3676f5",
   "metadata": {},
   "source": [
    "#### Distribution of review lengths"
   ]
  },
  {
   "cell_type": "code",
   "execution_count": 193,
   "id": "b4df139d-a56c-4b1f-8918-db9cc8e8b673",
   "metadata": {},
   "outputs": [
    {
     "data": {
      "text/plain": [
       "<AxesSubplot:ylabel='Frequency'>"
      ]
     },
     "execution_count": 193,
     "metadata": {},
     "output_type": "execute_result"
    },
    {
     "data": {
      "image/png": "[encoded data removed]",
      "text/plain": [
       "<Figure size 432x288 with 1 Axes>"
      ]
     },
     "metadata": {
      "needs_background": "light"
     },
     "output_type": "display_data"
    }
   ],
   "source": [
    "new_df[\"review_len\"].plot.hist()"
   ]
  },
  {
   "cell_type": "code",
   "execution_count": 194,
   "id": "f1cbb311-27ec-41a6-86f8-1832df85a6f9",
   "metadata": {},
   "outputs": [
    {
     "data": {
      "text/plain": [
       "count    11901.000000\n",
       "mean        51.545080\n",
       "std         42.351095\n",
       "min          8.000000\n",
       "25%         21.000000\n",
       "50%         36.000000\n",
       "75%         69.000000\n",
       "max        205.000000\n",
       "Name: review_len, dtype: float64"
      ]
     },
     "execution_count": 194,
     "metadata": {},
     "output_type": "execute_result"
    }
   ],
   "source": [
    "new_df[\"review_len\"].describe()"
   ]
  },
  {
   "cell_type": "markdown",
   "id": "0f5ecc28-51a6-42b2-891f-33285c29d82b",
   "metadata": {},
   "source": [
    "## Create `train` and `valid` sets"
   ]
  },
  {
   "cell_type": "code",
   "execution_count": 251,
   "id": "4a66d93a-e0e0-470a-b27b-4641ea8432ce",
   "metadata": {},
   "outputs": [],
   "source": [
    "all_categories = new_df[\"category\"].unique()"
   ]
  },
  {
   "cell_type": "code",
   "execution_count": 276,
   "id": "64f02ad6-f00a-41e6-bef5-6e6d7bcc60f6",
   "metadata": {},
   "outputs": [],
   "source": [
    "new_train = None\n",
    "new_valid = None\n",
    "train_ratio = 0.85\n",
    "for catg in all_categories:\n",
    "    data = new_df[new_df[\"category\"] == catg].copy()\n",
    "    prod_ids = pd.Series(data[\"prod_id\"].unique()).to_frame().sample(frac=1, random_state=42).values\n",
    "    num_prods = prod_ids.shape[0]\n",
    "    # Update train dataset \n",
    "    train_data = data[data[\"prod_id\"].apply(lambda x: str(x) in prod_ids[:int(round(train_ratio*num_prods, 0))])]\n",
    "    new_train = pd.concat([train_data, new_train])\n",
    "    # Update valid dataset\n",
    "    valid_data = data[data[\"prod_id\"].apply(lambda x: str(x) in prod_ids[int(round(train_ratio*num_prods, 0)):])]\n",
    "    new_valid = pd.concat([valid_data, new_valid])\n",
    "\n",
    "new_train = new_train.sort_values(by=[\"category\", \"prod_id\"])\n",
    "new_valid = new_valid.sort_values(by=[\"category\", \"prod_id\"])\n",
    "\n",
    "assert new_train.shape[0] + new_valid.shape[0] == new_df.shape[0]\n",
    "assert np.intersect1d(new_train[\"prod_id\"].unique(), new_valid[\"prod_id\"].unique()).shape[0] == 0"
   ]
  },
  {
   "cell_type": "code",
   "execution_count": 277,
   "id": "54623baa-196a-428d-b31c-b6fea43f08bb",
   "metadata": {},
   "outputs": [
    {
     "data": {
      "text/plain": [
       "(80.38, 19.62)"
      ]
     },
     "execution_count": 277,
     "metadata": {},
     "output_type": "execute_result"
    }
   ],
   "source": [
    "round(100 * new_train.shape[0]/new_df.shape[0],2), round(100 * new_valid.shape[0]/new_df.shape[0], 2)"
   ]
  },
  {
   "cell_type": "code",
   "execution_count": 293,
   "id": "446dad17-b791-4a35-a5bf-65f550e1e5cd",
   "metadata": {},
   "outputs": [
    {
     "data": {
      "text/plain": [
       "(9562, 7)"
      ]
     },
     "execution_count": 293,
     "metadata": {},
     "output_type": "execute_result"
    }
   ],
   "source": [
    "new_train.shape"
   ]
  },
  {
   "cell_type": "code",
   "execution_count": 278,
   "id": "568309bc-a721-477b-a06f-727b42c1ce15",
   "metadata": {},
   "outputs": [
    {
     "data": {
      "text/html": [
       "<div>\n",
       "<style scoped>\n",
       "    .dataframe tbody tr th:only-of-type {\n",
       "        vertical-align: middle;\n",
       "    }\n",
       "\n",
       "    .dataframe tbody tr th {\n",
       "        vertical-align: top;\n",
       "    }\n",
       "\n",
       "    .dataframe thead th {\n",
       "        text-align: right;\n",
       "    }\n",
       "</style>\n",
       "<table border=\"1\" class=\"dataframe\">\n",
       "  <thead>\n",
       "    <tr style=\"text-align: right;\">\n",
       "      <th></th>\n",
       "      <th>category</th>\n",
       "      <th>prod_id</th>\n",
       "      <th>rating</th>\n",
       "      <th>polarity</th>\n",
       "      <th>review</th>\n",
       "      <th>review_len</th>\n",
       "      <th>review_id</th>\n",
       "    </tr>\n",
       "  </thead>\n",
       "  <tbody>\n",
       "    <tr>\n",
       "      <th>281</th>\n",
       "      <td>All_Beauty</td>\n",
       "      <td>B005U5KU46</td>\n",
       "      <td>5.0</td>\n",
       "      <td>positive</td>\n",
       "      <td>These are very thin, pull off easily without r...</td>\n",
       "      <td>45</td>\n",
       "      <td>0</td>\n",
       "    </tr>\n",
       "    <tr>\n",
       "      <th>282</th>\n",
       "      <td>All_Beauty</td>\n",
       "      <td>B005U5KU46</td>\n",
       "      <td>1.0</td>\n",
       "      <td>negative</td>\n",
       "      <td>sweat went right thought within almost 2 hrs o...</td>\n",
       "      <td>14</td>\n",
       "      <td>1</td>\n",
       "    </tr>\n",
       "    <tr>\n",
       "      <th>283</th>\n",
       "      <td>All_Beauty</td>\n",
       "      <td>B005U5KU46</td>\n",
       "      <td>2.0</td>\n",
       "      <td>negative</td>\n",
       "      <td>So far they haven't really worked - won't stic...</td>\n",
       "      <td>15</td>\n",
       "      <td>2</td>\n",
       "    </tr>\n",
       "    <tr>\n",
       "      <th>284</th>\n",
       "      <td>All_Beauty</td>\n",
       "      <td>B005U5KU46</td>\n",
       "      <td>5.0</td>\n",
       "      <td>positive</td>\n",
       "      <td>I have tried several brands of shields, and mo...</td>\n",
       "      <td>46</td>\n",
       "      <td>3</td>\n",
       "    </tr>\n",
       "    <tr>\n",
       "      <th>285</th>\n",
       "      <td>All_Beauty</td>\n",
       "      <td>B005U5KU46</td>\n",
       "      <td>1.0</td>\n",
       "      <td>negative</td>\n",
       "      <td>They do not stick well to the fabric. Bunch up...</td>\n",
       "      <td>12</td>\n",
       "      <td>4</td>\n",
       "    </tr>\n",
       "  </tbody>\n",
       "</table>\n",
       "</div>"
      ],
      "text/plain": [
       "       category     prod_id  rating  polarity  \\\n",
       "281  All_Beauty  B005U5KU46     5.0  positive   \n",
       "282  All_Beauty  B005U5KU46     1.0  negative   \n",
       "283  All_Beauty  B005U5KU46     2.0  negative   \n",
       "284  All_Beauty  B005U5KU46     5.0  positive   \n",
       "285  All_Beauty  B005U5KU46     1.0  negative   \n",
       "\n",
       "                                                review  review_len  review_id  \n",
       "281  These are very thin, pull off easily without r...          45          0  \n",
       "282  sweat went right thought within almost 2 hrs o...          14          1  \n",
       "283  So far they haven't really worked - won't stic...          15          2  \n",
       "284  I have tried several brands of shields, and mo...          46          3  \n",
       "285  They do not stick well to the fabric. Bunch up...          12          4  "
      ]
     },
     "execution_count": 278,
     "metadata": {},
     "output_type": "execute_result"
    }
   ],
   "source": [
    "new_train.head()"
   ]
  },
  {
   "cell_type": "code",
   "execution_count": 294,
   "id": "ba77036f-e811-4ef8-8591-d46aba1328d8",
   "metadata": {},
   "outputs": [
    {
     "data": {
      "text/plain": [
       "(2334, 7)"
      ]
     },
     "execution_count": 294,
     "metadata": {},
     "output_type": "execute_result"
    }
   ],
   "source": [
    "new_valid.shape"
   ]
  },
  {
   "cell_type": "code",
   "execution_count": 279,
   "id": "52d17994-956b-449a-8fd9-f32ec5a7f7e3",
   "metadata": {},
   "outputs": [
    {
     "data": {
      "text/html": [
       "<div>\n",
       "<style scoped>\n",
       "    .dataframe tbody tr th:only-of-type {\n",
       "        vertical-align: middle;\n",
       "    }\n",
       "\n",
       "    .dataframe tbody tr th {\n",
       "        vertical-align: top;\n",
       "    }\n",
       "\n",
       "    .dataframe thead th {\n",
       "        text-align: right;\n",
       "    }\n",
       "</style>\n",
       "<table border=\"1\" class=\"dataframe\">\n",
       "  <thead>\n",
       "    <tr style=\"text-align: right;\">\n",
       "      <th></th>\n",
       "      <th>category</th>\n",
       "      <th>prod_id</th>\n",
       "      <th>rating</th>\n",
       "      <th>polarity</th>\n",
       "      <th>review</th>\n",
       "      <th>review_len</th>\n",
       "      <th>review_id</th>\n",
       "    </tr>\n",
       "  </thead>\n",
       "  <tbody>\n",
       "    <tr>\n",
       "      <th>71</th>\n",
       "      <td>All_Beauty</td>\n",
       "      <td>B00J2AJ3U2</td>\n",
       "      <td>4.0</td>\n",
       "      <td>positive</td>\n",
       "      <td>I USE THIS ON MY SUN DAMAGE BROWN SPOTS ON MY ...</td>\n",
       "      <td>29</td>\n",
       "      <td>0</td>\n",
       "    </tr>\n",
       "    <tr>\n",
       "      <th>72</th>\n",
       "      <td>All_Beauty</td>\n",
       "      <td>B00J2AJ3U2</td>\n",
       "      <td>1.0</td>\n",
       "      <td>negative</td>\n",
       "      <td>Did not work for me. I finished 1 bottle and s...</td>\n",
       "      <td>13</td>\n",
       "      <td>1</td>\n",
       "    </tr>\n",
       "    <tr>\n",
       "      <th>73</th>\n",
       "      <td>All_Beauty</td>\n",
       "      <td>B00J2AJ3U2</td>\n",
       "      <td>4.0</td>\n",
       "      <td>positive</td>\n",
       "      <td>This cream has a nice light citrus scent and i...</td>\n",
       "      <td>67</td>\n",
       "      <td>2</td>\n",
       "    </tr>\n",
       "    <tr>\n",
       "      <th>74</th>\n",
       "      <td>All_Beauty</td>\n",
       "      <td>B00J2AJ3U2</td>\n",
       "      <td>1.0</td>\n",
       "      <td>negative</td>\n",
       "      <td>does not seem to work.  no visible difference ...</td>\n",
       "      <td>33</td>\n",
       "      <td>3</td>\n",
       "    </tr>\n",
       "    <tr>\n",
       "      <th>75</th>\n",
       "      <td>All_Beauty</td>\n",
       "      <td>B00J2AJ3U2</td>\n",
       "      <td>5.0</td>\n",
       "      <td>positive</td>\n",
       "      <td>Works great for lightening those liver spots a...</td>\n",
       "      <td>20</td>\n",
       "      <td>4</td>\n",
       "    </tr>\n",
       "  </tbody>\n",
       "</table>\n",
       "</div>"
      ],
      "text/plain": [
       "      category     prod_id  rating  polarity  \\\n",
       "71  All_Beauty  B00J2AJ3U2     4.0  positive   \n",
       "72  All_Beauty  B00J2AJ3U2     1.0  negative   \n",
       "73  All_Beauty  B00J2AJ3U2     4.0  positive   \n",
       "74  All_Beauty  B00J2AJ3U2     1.0  negative   \n",
       "75  All_Beauty  B00J2AJ3U2     5.0  positive   \n",
       "\n",
       "                                               review  review_len  review_id  \n",
       "71  I USE THIS ON MY SUN DAMAGE BROWN SPOTS ON MY ...          29          0  \n",
       "72  Did not work for me. I finished 1 bottle and s...          13          1  \n",
       "73  This cream has a nice light citrus scent and i...          67          2  \n",
       "74  does not seem to work.  no visible difference ...          33          3  \n",
       "75  Works great for lightening those liver spots a...          20          4  "
      ]
     },
     "execution_count": 279,
     "metadata": {},
     "output_type": "execute_result"
    }
   ],
   "source": [
    "new_valid.head()"
   ]
  },
  {
   "cell_type": "markdown",
   "id": "ca33497f-e8ac-4fd6-90d1-fabcfe5056cb",
   "metadata": {},
   "source": [
    "#### Save datasets"
   ]
  },
  {
   "cell_type": "code",
   "execution_count": 280,
   "id": "80c2e3c4-2f17-4cdc-9c77-1618c30599bb",
   "metadata": {},
   "outputs": [],
   "source": [
    "new_train.to_csv(\"../data/raw/20221020_amazon_reviews_train.v2.csv\", index=False)\n",
    "new_valid.to_csv(\"../data/raw/20221020_amazon_reviews_valid.v2.csv\", index=False)"
   ]
  }
 ],
 "metadata": {
  "kernelspec": {
   "display_name": "dl-env",
   "language": "python",
   "name": "dl-env"
  },
  "language_info": {
   "codemirror_mode": {
    "name": "ipython",
    "version": 3
   },
   "file_extension": ".py",
   "mimetype": "text/x-python",
   "name": "python",
   "nbconvert_exporter": "python",
   "pygments_lexer": "ipython3",
   "version": "3.9.12"
  }
 },
 "nbformat": 4,
 "nbformat_minor": 5
}
