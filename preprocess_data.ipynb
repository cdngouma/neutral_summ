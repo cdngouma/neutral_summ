{
 "cells": [
  {
   "cell_type": "code",
   "execution_count": 4,
   "id": "513ca82a-42c5-4193-a11d-1397c8490fb1",
   "metadata": {},
   "outputs": [],
   "source": [
    "import preprocess_data as preprocess\n",
    "import pandas as pd"
   ]
  },
  {
   "cell_type": "code",
   "execution_count": null,
   "id": "a86bb44c-a852-4633-b6fc-145be56dbf34",
   "metadata": {},
   "outputs": [],
   "source": [
    "#preprocess.preprocess(\"./data/raw/20220420_amazon_reviews_train.csv\")\n",
    "#preprocess.preprocess(\"./data/raw/20220420_amazon_reviews_valid.csv\")\n",
    "#preprocess.preprocess(\"./data/raw/20220420_amazon_reviews_test.csv\")"
   ]
  },
  {
   "cell_type": "code",
   "execution_count": 3,
   "id": "e4b4e8be-76db-43f0-9ad1-2e7a34dcb059",
   "metadata": {},
   "outputs": [
    {
     "name": "stdout",
     "output_type": "stream",
     "text": [
      "Processing data at './data/raw/20221204_amazon_reviews_train.csv'\n",
      "Completed after 16.76 seconds\n",
      "Processing data at './data/raw/20221204_amazon_reviews_valid.csv'\n",
      "Completed after 4.61 seconds\n",
      "Processing data at './data/raw/20221204_amazon_reviews_test.csv'\n",
      "Completed after 4.36 seconds\n"
     ]
    }
   ],
   "source": [
    "preprocess.preprocess(\"./data/raw/20221204_amazon_reviews_train.csv\")\n",
    "preprocess.preprocess(\"./data/raw/20221204_amazon_reviews_valid.csv\")\n",
    "preprocess.preprocess(\"./data/raw/20221204_amazon_reviews_test.csv\")"
   ]
  },
  {
   "cell_type": "markdown",
   "id": "3572ead0-29cf-4721-8b91-7d3277d12658",
   "metadata": {},
   "source": [
    "## Create mini datasets"
   ]
  },
  {
   "cell_type": "code",
   "execution_count": 2,
   "id": "20b3e999-b021-4cc9-bcd7-096fe3bd64c0",
   "metadata": {},
   "outputs": [],
   "source": [
    "def sample(in_path, num_prod):\n",
    "    df = pd.read_csv(in_path)\n",
    "    prods = pd.Series(df[\"prod_id\"].unique()).to_frame().sample(n=num_prod, random_state=42).values.flatten().tolist()\n",
    "    df = df[df[\"prod_id\"].apply(lambda x: str(x) in prods)]\n",
    "    print(f\"num products: {len(prods)}\")\n",
    "    return df"
   ]
  },
  {
   "cell_type": "code",
   "execution_count": 11,
   "id": "79a616ec-505c-4960-bd17-47f52ae40759",
   "metadata": {},
   "outputs": [
    {
     "name": "stdout",
     "output_type": "stream",
     "text": [
      "num products: 130\n",
      "num products: 40\n",
      "num products: 33\n",
      "num products: 10\n"
     ]
    }
   ],
   "source": [
    "df = sample(\"./data/processed/20221204_amazon_reviews_train.csv\", 130)\n",
    "df.to_csv(\"data/processed/train.medium.csv\")\n",
    "\n",
    "df = sample(\"./data/processed/20221204_amazon_reviews_train.csv\", 40)\n",
    "df.to_csv(\"./data/processed/train.min.csv\")\n",
    "\n",
    "df = sample(\"./data/processed/20221204_amazon_reviews_valid.csv\", 33)\n",
    "df.to_csv(\"./data/processed/valid.medium.csv\")\n",
    "\n",
    "df = sample(\"./data/processed/20221204_amazon_reviews_valid.csv\", 10)\n",
    "df.to_csv(\"./data/processed/valid.min.csv\")\n",
    "\n",
    "#df = sample(\"./data/processed/20221204_amazon_reviews_test.csv\", 20)\n",
    "#df.to_csv(\"./data/processed/test.csv\")\n",
    "\n",
    "#df = sample(\"./data/processed/20221204_amazon_reviews_test.csv\", 10)\n",
    "#df.to_csv(\"./data/processed/test.min.csv\")"
   ]
  },
  {
   "cell_type": "code",
   "execution_count": 10,
   "id": "e73a7f04-2643-4173-80c1-a44eec0b1478",
   "metadata": {},
   "outputs": [
    {
     "data": {
      "text/plain": [
       "32.5"
      ]
     },
     "execution_count": 10,
     "metadata": {},
     "output_type": "execute_result"
    }
   ],
   "source": [
    "10/40*130"
   ]
  },
  {
   "cell_type": "code",
   "execution_count": 49,
   "id": "d9c0f947-e083-4e99-9df6-6e195ca90a77",
   "metadata": {},
   "outputs": [],
   "source": [
    "df = pd.read_csv(\"./lm_300epochs.reconst_reviews_train.csv\")"
   ]
  },
  {
   "cell_type": "code",
   "execution_count": 45,
   "id": "88dcc6f1-b501-454e-bf42-f7f3a5135d4b",
   "metadata": {},
   "outputs": [
    {
     "data": {
      "text/html": [
       "<div>\n",
       "<style scoped>\n",
       "    .dataframe tbody tr th:only-of-type {\n",
       "        vertical-align: middle;\n",
       "    }\n",
       "\n",
       "    .dataframe tbody tr th {\n",
       "        vertical-align: top;\n",
       "    }\n",
       "\n",
       "    .dataframe thead th {\n",
       "        text-align: right;\n",
       "    }\n",
       "</style>\n",
       "<table border=\"1\" class=\"dataframe\">\n",
       "  <thead>\n",
       "    <tr style=\"text-align: right;\">\n",
       "      <th></th>\n",
       "      <th>dataset</th>\n",
       "      <th>prod_id</th>\n",
       "      <th>original</th>\n",
       "      <th>reconstructed</th>\n",
       "      <th>% match</th>\n",
       "    </tr>\n",
       "  </thead>\n",
       "  <tbody>\n",
       "    <tr>\n",
       "      <th>0</th>\n",
       "      <td>test</td>\n",
       "      <td>B005U5KU46</td>\n",
       "      <td>these shields were too flimsy did not sick and...</td>\n",
       "      <td>i got this book to read about it and the of th...</td>\n",
       "      <td>21.43</td>\n",
       "    </tr>\n",
       "    <tr>\n",
       "      <th>1</th>\n",
       "      <td>test</td>\n",
       "      <td>B005U5KU46</td>\n",
       "      <td>great product i used these for a series of int...</td>\n",
       "      <td>the book is great and i will hear more from th...</td>\n",
       "      <td>23.33</td>\n",
       "    </tr>\n",
       "    <tr>\n",
       "      <th>2</th>\n",
       "      <td>test</td>\n",
       "      <td>B005U5KU46</td>\n",
       "      <td>the shields are made to be more flexible so st...</td>\n",
       "      <td>i was expecting it in the mail and it is very ...</td>\n",
       "      <td>20.00</td>\n",
       "    </tr>\n",
       "    <tr>\n",
       "      <th>3</th>\n",
       "      <td>test</td>\n",
       "      <td>B005U5KU46</td>\n",
       "      <td>they did the job but part of the pads were sti...</td>\n",
       "      <td>loved this book of those who are already into ...</td>\n",
       "      <td>18.18</td>\n",
       "    </tr>\n",
       "    <tr>\n",
       "      <th>4</th>\n",
       "      <td>test</td>\n",
       "      <td>B005U5KU46</td>\n",
       "      <td>these are very thin pull off easily without re...</td>\n",
       "      <td>the book of reading this book it is a great re...</td>\n",
       "      <td>24.39</td>\n",
       "    </tr>\n",
       "    <tr>\n",
       "      <th>...</th>\n",
       "      <td>...</td>\n",
       "      <td>...</td>\n",
       "      <td>...</td>\n",
       "      <td>...</td>\n",
       "      <td>...</td>\n",
       "    </tr>\n",
       "    <tr>\n",
       "      <th>75</th>\n",
       "      <td>test</td>\n",
       "      <td>B00H4EEK1K</td>\n",
       "      <td>when i received it it was the holidays and it ...</td>\n",
       "      <td>loved this book of those who are already into ...</td>\n",
       "      <td>20.83</td>\n",
       "    </tr>\n",
       "    <tr>\n",
       "      <th>76</th>\n",
       "      <td>test</td>\n",
       "      <td>B00H4EEK1K</td>\n",
       "      <td>brightfast shipping fits on my 10 tablet perfe...</td>\n",
       "      <td>the book of reading this book it is a great re...</td>\n",
       "      <td>17.39</td>\n",
       "    </tr>\n",
       "    <tr>\n",
       "      <th>77</th>\n",
       "      <td>test</td>\n",
       "      <td>B00H4EEK1K</td>\n",
       "      <td>case is fine amazon did not send bonus gift st...</td>\n",
       "      <td>i got this book and thought it was a good read...</td>\n",
       "      <td>16.67</td>\n",
       "    </tr>\n",
       "    <tr>\n",
       "      <th>78</th>\n",
       "      <td>test</td>\n",
       "      <td>B00H4EEK1K</td>\n",
       "      <td>these covers were perfect for my kids they are...</td>\n",
       "      <td>i really enjoyed this book and thought it was ...</td>\n",
       "      <td>30.43</td>\n",
       "    </tr>\n",
       "    <tr>\n",
       "      <th>79</th>\n",
       "      <td>test</td>\n",
       "      <td>B00H4EEK1K</td>\n",
       "      <td>it is ok but the little holding elastic bands ...</td>\n",
       "      <td>the book of this book is that i was looking fo...</td>\n",
       "      <td>29.41</td>\n",
       "    </tr>\n",
       "  </tbody>\n",
       "</table>\n",
       "<p>80 rows × 5 columns</p>\n",
       "</div>"
      ],
      "text/plain": [
       "   dataset     prod_id                                           original  \\\n",
       "0     test  B005U5KU46  these shields were too flimsy did not sick and...   \n",
       "1     test  B005U5KU46  great product i used these for a series of int...   \n",
       "2     test  B005U5KU46  the shields are made to be more flexible so st...   \n",
       "3     test  B005U5KU46  they did the job but part of the pads were sti...   \n",
       "4     test  B005U5KU46  these are very thin pull off easily without re...   \n",
       "..     ...         ...                                                ...   \n",
       "75    test  B00H4EEK1K  when i received it it was the holidays and it ...   \n",
       "76    test  B00H4EEK1K  brightfast shipping fits on my 10 tablet perfe...   \n",
       "77    test  B00H4EEK1K  case is fine amazon did not send bonus gift st...   \n",
       "78    test  B00H4EEK1K  these covers were perfect for my kids they are...   \n",
       "79    test  B00H4EEK1K  it is ok but the little holding elastic bands ...   \n",
       "\n",
       "                                        reconstructed  % match  \n",
       "0   i got this book to read about it and the of th...    21.43  \n",
       "1   the book is great and i will hear more from th...    23.33  \n",
       "2   i was expecting it in the mail and it is very ...    20.00  \n",
       "3   loved this book of those who are already into ...    18.18  \n",
       "4   the book of reading this book it is a great re...    24.39  \n",
       "..                                                ...      ...  \n",
       "75  loved this book of those who are already into ...    20.83  \n",
       "76  the book of reading this book it is a great re...    17.39  \n",
       "77  i got this book and thought it was a good read...    16.67  \n",
       "78  i really enjoyed this book and thought it was ...    30.43  \n",
       "79  the book of this book is that i was looking fo...    29.41  \n",
       "\n",
       "[80 rows x 5 columns]"
      ]
     },
     "execution_count": 45,
     "metadata": {},
     "output_type": "execute_result"
    }
   ],
   "source": [
    "df"
   ]
  },
  {
   "cell_type": "code",
   "execution_count": 50,
   "id": "0671e14a-7a3b-494e-93fb-8dd07933b832",
   "metadata": {},
   "outputs": [
    {
     "data": {
      "text/plain": [
       "count    80.000000\n",
       "mean     30.420625\n",
       "std      10.906651\n",
       "min       0.000000\n",
       "25%      24.890000\n",
       "50%      31.820000\n",
       "75%      35.290000\n",
       "max      61.540000\n",
       "Name: % match, dtype: float64"
      ]
     },
     "execution_count": 50,
     "metadata": {},
     "output_type": "execute_result"
    }
   ],
   "source": [
    "df[\"% match\"].describe()"
   ]
  },
  {
   "cell_type": "code",
   "execution_count": 48,
   "id": "1346cefb-d391-45bc-ba80-e53b73d27eee",
   "metadata": {},
   "outputs": [
    {
     "data": {
      "text/plain": [
       "count    80.000000\n",
       "mean     26.679375\n",
       "std      10.106458\n",
       "min       0.000000\n",
       "25%      20.000000\n",
       "50%      25.000000\n",
       "75%      33.330000\n",
       "max      62.500000\n",
       "Name: % match, dtype: float64"
      ]
     },
     "execution_count": 48,
     "metadata": {},
     "output_type": "execute_result"
    }
   ],
   "source": [
    "df[\"% match\"].describe()"
   ]
  },
  {
   "cell_type": "code",
   "execution_count": 46,
   "id": "1582683c-14ea-496f-b7ee-da4ccbf55f71",
   "metadata": {},
   "outputs": [
    {
     "data": {
      "text/plain": [
       "count    80.000000\n",
       "mean     22.467375\n",
       "std       7.980974\n",
       "min       7.140000\n",
       "25%      17.210000\n",
       "50%      21.585000\n",
       "75%      27.270000\n",
       "max      50.000000\n",
       "Name: % match, dtype: float64"
      ]
     },
     "execution_count": 46,
     "metadata": {},
     "output_type": "execute_result"
    }
   ],
   "source": [
    "df[\"% match\"].describe()"
   ]
  },
  {
   "cell_type": "code",
   "execution_count": 41,
   "id": "0012d75d-8d51-4490-a0e7-7028b394f270",
   "metadata": {},
   "outputs": [],
   "source": [
    "def match(og, rec):\n",
    "    x = set(og.split())\n",
    "    y = set(rec.split())\n",
    "    z = x.intersection(y)\n",
    "    return round(100 * len(z) / len(x), 2)"
   ]
  },
  {
   "cell_type": "code",
   "execution_count": 42,
   "id": "3de9da67-ae6e-4eff-b534-b63c87e3f723",
   "metadata": {},
   "outputs": [],
   "source": [
    "df[\"% match\"] = df.apply(lambda x: match(x[\"original\"], x[\"reconstructed\"]), axis=1)"
   ]
  },
  {
   "cell_type": "code",
   "execution_count": 43,
   "id": "b0118e91-227d-4df5-8e7b-c372d26d41dd",
   "metadata": {},
   "outputs": [],
   "source": [
    "df.to_csv(\"lm_180epochs.reconst_reviews_test.csv\", index=False)"
   ]
  },
  {
   "cell_type": "code",
   "execution_count": null,
   "id": "6dd275ca-73ca-4f74-bd55-85d0a3d04fe9",
   "metadata": {},
   "outputs": [],
   "source": []
  }
 ],
 "metadata": {
  "kernelspec": {
   "display_name": "dl-env",
   "language": "python",
   "name": "dl-env"
  },
  "language_info": {
   "codemirror_mode": {
    "name": "ipython",
    "version": 3
   },
   "file_extension": ".py",
   "mimetype": "text/x-python",
   "name": "python",
   "nbconvert_exporter": "python",
   "pygments_lexer": "ipython3",
   "version": "3.9.12"
  }
 },
 "nbformat": 4,
 "nbformat_minor": 5
}
